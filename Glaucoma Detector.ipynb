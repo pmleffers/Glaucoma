{
 "cells": [
  {
   "cell_type": "code",
   "execution_count": 1,
   "metadata": {},
   "outputs": [],
   "source": [
    "from IPython.display import HTML\n",
    "from IPython.display import Image"
   ]
  },
  {
   "cell_type": "markdown",
   "metadata": {},
   "source": [
    "Retinal images\n",
    "----------"
   ]
  },
  {
   "cell_type": "markdown",
   "metadata": {},
   "source": [
    "<img src='glaucomapicture.jpg' width=\"300\" height=\"300\" align=\"left\">"
   ]
  },
  {
   "cell_type": "code",
   "execution_count": 2,
   "metadata": {},
   "outputs": [
    {
     "data": {
      "text/html": [
       "<script>\n",
       "  function code_toggle() {\n",
       "    if (code_shown){\n",
       "      $('div.input').hide('500');\n",
       "      $('#toggleButton').val('Show Code')\n",
       "    } else {\n",
       "      $('div.input').show('500');\n",
       "      $('#toggleButton').val('Hide Code')\n",
       "    }\n",
       "    code_shown = !code_shown\n",
       "  }\n",
       "\n",
       "  $( document ).ready(function(){\n",
       "    code_shown=false;\n",
       "    $('div.input').hide()\n",
       "  });\n",
       "</script>\n",
       "<form action=\"javascript:code_toggle()\"><input type=\"submit\" id=\"toggleButton\" value=\"Show Code\"></form>"
      ],
      "text/plain": [
       "<IPython.core.display.HTML object>"
      ]
     },
     "execution_count": 2,
     "metadata": {},
     "output_type": "execute_result"
    }
   ],
   "source": [
    "HTML('''<script>\n",
    "  function code_toggle() {\n",
    "    if (code_shown){\n",
    "      $('div.input').hide('500');\n",
    "      $('#toggleButton').val('Show Code')\n",
    "    } else {\n",
    "      $('div.input').show('500');\n",
    "      $('#toggleButton').val('Hide Code')\n",
    "    }\n",
    "    code_shown = !code_shown\n",
    "  }\n",
    "\n",
    "  $( document ).ready(function(){\n",
    "    code_shown=false;\n",
    "    $('div.input').hide()\n",
    "  });\n",
    "</script>\n",
    "<form action=\"javascript:code_toggle()\"><input type=\"submit\" id=\"toggleButton\" value=\"Show Code\"></form>''')"
   ]
  },
  {
   "cell_type": "markdown",
   "metadata": {},
   "source": [
    "Project: Glaucoma Detection\n",
    "======="
   ]
  },
  {
   "cell_type": "markdown",
   "metadata": {},
   "source": [
    "**By: Pieter Leffers**"
   ]
  },
  {
   "cell_type": "markdown",
   "metadata": {},
   "source": [
    "*Starting Date: March 1, 2019*\n",
    "\n",
    "*Completion Date: -, 2019*\n",
    "\n",
    "*Last Updated: April 30, 2019*"
   ]
  },
  {
   "cell_type": "markdown",
   "metadata": {},
   "source": [
    "**Project Description**\n",
    "--------"
   ]
  },
  {
   "cell_type": "markdown",
   "metadata": {},
   "source": [
    "According to the  American Optometric Association, Glaucoma is a general term for a number of eye conditions that progressively damage the optic nerve,consequently causing vision loss. Diagnosis of glaucoma is complex, but is often associated with elevated intraocular pressure, optic nerve damage, and reduction in visual acuity and visual field. Vision loss from glaucoma is permanent, but progression may be slowed or halted through early diagnosis and treatment.\n",
    "\n",
    " \n",
    " \n",
    " \n",
    " American Optometric Association. Glossary of Common Eye & Vision Conditions website.\n",
    "https://www.aoa.org/patients-and-public/eye-and-vision-problems/glossary-of-eye-and-vision-conditions. Accessed June 7, 2018."
   ]
  },
  {
   "cell_type": "markdown",
   "metadata": {},
   "source": [
    "**Data Source: **\n"
   ]
  },
  {
   "cell_type": "markdown",
   "metadata": {},
   "source": [
    "For this project I will use data gathered from the Harvard Dataverse collected and uploaded by Ungsoo Kim. The retinal image dataset consists of 788 ‘normal control’ images, 289 ‘early stage’ images, and 467 ‘advanced stage’ images.The images are already preprocessed, (scaled to 800 pixels and cropped so the nerve endings are of 240 pixels) thus ready to be used for machine learning tasks. However, this dataset will present itself particularly challenging as the number of retinal images needed for this task are less than desirable; thus representing a real-world problem of its own.\n",
    "\n",
    "The data was originally collected from Kim's Eye Hospital. The images have already been pre-processed and fixed to a size of 800 pixels, centered on the optic nerve, and cropped to a size of 240 pixels.\n",
    "\n",
    "The data is hosted on the Harvard Dataverse and can be downloaded at:\n",
    "*Kim, Ungsoo, 2018, \"Machine learn for glaucoma\", https://doi.org/10.7910/DVN/1YRRAC, Harvard Dataverse, V1 *\n"
   ]
  },
  {
   "cell_type": "markdown",
   "metadata": {},
   "source": [
    "**Note:** I will need to keep in mind folder structure in the future since I will be porting to sagemaker with a Dockerfile and the folder structure for Sagemaker is particularly important."
   ]
  },
  {
   "cell_type": "markdown",
   "metadata": {},
   "source": [
    "*Setup Folder Tree*"
   ]
  },
  {
   "cell_type": "markdown",
   "metadata": {},
   "source": [
    "    sage\n",
    "    ├── Dockerfile\n",
    "    ├── local_test\n",
    "    │  ├── predict.sh\n",
    "    │  ├── train.sh\n",
    "    │  ├── serve.sh\n",
    "    │  └── test_dir => /opt/ml in container\n",
    "    │      ├── input\n",
    "    │      │   ├── config\n",
    "    │      │   └── data\n",
    "    │      │       └── training\n",
    "    │      ├── model\n",
    "    │      └── output\n",
    "    └── program\n",
    "        ├── (some scripts...)\n",
    "        ├── train\n",
    "        └── serve"
   ]
  },
  {
   "cell_type": "markdown",
   "metadata": {},
   "source": [
    "**Import Packages**"
   ]
  },
  {
   "cell_type": "code",
   "execution_count": 116,
   "metadata": {},
   "outputs": [
    {
     "name": "stdout",
     "output_type": "stream",
     "text": [
      "Matplotlib Version: 2.2.2\n",
      "OpenCV Version: 4.0.0\n"
     ]
    }
   ],
   "source": [
    "import random\n",
    "import shutil\n",
    "import numpy as np\n",
    "import os\n",
    "import imgaug\n",
    "import cv2\n",
    "import os\n",
    "import matplotlib\n",
    "import matplotlib.pyplot as plt\n",
    "import random\n",
    "from imgaug import augmenters as iaa\n",
    "import imageio\n",
    "import imgaug as ia\n",
    "\n",
    "%matplotlib inline\n",
    "\n",
    "ver=cv2.__version__\n",
    "print('Matplotlib Version: {}'.format(matplotlib.__version__))\n",
    "if float(ver[0])==3 and float(ver[-3:])<4.2:\n",
    "    print('Please update OpenCV. This requires a minimum of OpenCV 3.4.2')\n",
    "    print('Your current version is: ',cv2.__version__)\n",
    "elif float(ver[0])>3:\n",
    "    print('OpenCV Version:',cv2.__version__) \n",
    "else:\n",
    "    print('OpenCV Version:',cv2.__version__)"
   ]
  },
  {
   "cell_type": "markdown",
   "metadata": {},
   "source": [
    "*Make folders*"
   ]
  },
  {
   "cell_type": "code",
   "execution_count": 117,
   "metadata": {},
   "outputs": [
    {
     "name": "stdout",
     "output_type": "stream",
     "text": [
      "Directory  ./local_test  Created \n",
      "Directory  ./program  Created \n",
      "Directory  ./local_test/test_dir  Created \n",
      "Directory  ./local_test/test_dir/input  Created \n",
      "Directory  ./local_test/test_dir/input/config  Created \n",
      "Directory  ./local_test/test_dir/input/data  Created \n",
      "Directory  ./local_test/test_dir/input/data/training  Created \n",
      "Directory  ./local_test/test_dir/input/data/training/augmentation  Created \n",
      "Directory  ./local_test/test_dir/model  Created \n",
      "Directory  ./local_test/test_dir/output  Created \n",
      "Directory  ./local_test/program  Created \n",
      "Directory  ./local_test/program/train  Created \n",
      "Directory  ./local_test/program/serve  Created \n",
      "Directory  ./local_test/test_dir/input/data/images  Created \n"
     ]
    }
   ],
   "source": [
    "DirList=['./local_test','./program',\\\n",
    "         './local_test/test_dir',\\\n",
    "         './local_test/test_dir/input',\\\n",
    "         './local_test/test_dir/input/config',\\\n",
    "         './local_test/test_dir/input/data',\\\n",
    "         './local_test/test_dir/input/data/training',\\\n",
    "         './local_test/test_dir/input/data/training/augmentation',\\\n",
    "         './local_test/test_dir/model',\\\n",
    "         './local_test/test_dir/output',\\\n",
    "         './local_test/program',\n",
    "         './local_test/program/train',\n",
    "         './local_test/program/serve',\\\n",
    "         './local_test/test_dir/input/data/images']#can add more folders I want to create in this process\n",
    "for i in DirList:\n",
    "    try:\n",
    "        # Create target Directory\n",
    "        os.mkdir(i)\n",
    "        print(\"Directory \" ,i,  \" Created \") \n",
    "    except:\n",
    "        print(\"Directory \" ,i,  \" already exists\")"
   ]
  },
  {
   "cell_type": "markdown",
   "metadata": {},
   "source": [
    "*Pull Data*"
   ]
  },
  {
   "cell_type": "code",
   "execution_count": 118,
   "metadata": {
    "scrolled": true
   },
   "outputs": [],
   "source": [
    "#Takes a couple of hours to download\n",
    "#!wget https://dataverse.harvard.edu/api/access/datafile/:persistentId?persistentId=doi:10.7910/DVN/1YRRAC/OGRSQO"
   ]
  },
  {
   "cell_type": "markdown",
   "metadata": {},
   "source": [
    "*Extract Data*"
   ]
  },
  {
   "cell_type": "markdown",
   "metadata": {},
   "source": [
    "*I am supressing the output in order to conserve space. I have printed the first 5 lines of the output to give you an idea of what is happening.*"
   ]
  },
  {
   "cell_type": "code",
   "execution_count": 119,
   "metadata": {},
   "outputs": [],
   "source": [
    "%%capture captured\n",
    "!unzip processed_data.zip -d ./local_test/test_dir/input/data/images"
   ]
  },
  {
   "cell_type": "code",
   "execution_count": 120,
   "metadata": {},
   "outputs": [],
   "source": [
    "file_out=captured.stdout"
   ]
  },
  {
   "cell_type": "code",
   "execution_count": 121,
   "metadata": {},
   "outputs": [
    {
     "name": "stdout",
     "output_type": "stream",
     "text": [
      "Archive:  processed_data.zip\r\n",
      "  inflating: ./local_test/test_dir/input/data/images/data_description.txt  \r\n",
      "   creating: ./local_test/test_dir/input/data/images/advanced_glaucoma/\r\n",
      "  inflating: ./local_test/test_dir/input/data/images/advanced_glaucoma/1.png  \r\n",
      "  inflating: ./local_test/test_dir/input/data/images/advanced_glaucoma/10.png  \r\n",
      "  inflating: ./local_test/test_dir/input/data/images/advanced_glaucoma/100.png \n"
     ]
    }
   ],
   "source": [
    "print(file_out[:420])"
   ]
  },
  {
   "cell_type": "markdown",
   "metadata": {},
   "source": [
    "*Setup Training, Testing, and Validation Folders*"
   ]
  },
  {
   "cell_type": "code",
   "execution_count": 122,
   "metadata": {},
   "outputs": [],
   "source": [
    "!mv ./local_test/test_dir/input/data/images/advanced_glaucoma/* ./local_test/test_dir/input/data/images/early_glaucoma\n",
    "!mv ./local_test/test_dir/input/data/images/early_glaucoma ./local_test/test_dir/input/data/images/cases\n",
    "!mv ./local_test/test_dir/input/data/images/normal_control ./local_test/test_dir/input/data/images/controls\n",
    "!rm -r ./local_test/test_dir/input/data/images/advanced_glaucoma/"
   ]
  },
  {
   "cell_type": "markdown",
   "metadata": {},
   "source": [
    "Setup Data Structure\n",
    "--------"
   ]
  },
  {
   "cell_type": "code",
   "execution_count": 123,
   "metadata": {},
   "outputs": [],
   "source": [
    "#Create training, testing, validation function, as well as a percentage for data augmentation of each\n",
    "\n",
    "# the path to the original images\n",
    "input_data_folder = \"local_test/test_dir/input/data/images\"\n",
    "# new directory that will contain our images after computing the training and testing split\n",
    "data_folder_name = \"local_test/test_dir/input/data/training\"\n",
    "\n",
    "# define the percentage of the data that will be used training\n",
    "training_percent = 0.8\n",
    "\n",
    "# the amount of validation data will be a percentage of the *training* data\n",
    "validation_percent = 0.1\n",
    "\n",
    "#the amount of augmentation needed for images\n",
    "augment_percent = 0.2"
   ]
  },
  {
   "cell_type": "markdown",
   "metadata": {},
   "source": [
    "The two functions below were pulled from imgauge github page because I couldn't import them from the library."
   ]
  },
  {
   "cell_type": "code",
   "execution_count": 124,
   "metadata": {},
   "outputs": [],
   "source": [
    "def do_assert(condition, message=\"Assertion failed.\"):\n",
    "    \"\"\"\n",
    "    Function that behaves equally to an `assert` statement, but raises an\n",
    "    Exception.\n",
    "    This is added because `assert` statements are removed in optimized code.\n",
    "    It replaces `assert` statements throughout the library that should be\n",
    "    kept even in optimized code.\n",
    "    Parameters\n",
    "    ----------\n",
    "    condition : bool\n",
    "        If False, an exception is raised.\n",
    "    message : str, optional\n",
    "        Error message.\n",
    "    \"\"\"\n",
    "    if not condition:\n",
    "        raise AssertionError(str(message))\n",
    "\n",
    "IMSHOW_BACKEND_DEFAULT = \"matplotlib\"\n",
    "def imshow(image, backend=IMSHOW_BACKEND_DEFAULT):\n",
    "    \"\"\"\n",
    "    Shows an image in a window.\n",
    "    dtype support::\n",
    "        * ``uint8``: yes; not tested\n",
    "        * ``uint16``: ?\n",
    "        * ``uint32``: ?\n",
    "        * ``uint64``: ?\n",
    "        * ``int8``: ?\n",
    "        * ``int16``: ?\n",
    "        * ``int32``: ?\n",
    "        * ``int64``: ?\n",
    "        * ``float16``: ?\n",
    "        * ``float32``: ?\n",
    "        * ``float64``: ?\n",
    "        * ``float128``: ?\n",
    "        * ``bool``: ?\n",
    "    Parameters\n",
    "    ----------\n",
    "    image : (H,W,3) ndarray\n",
    "        Image to show.\n",
    "    backend : {'matplotlib', 'cv2'}, optional\n",
    "        Library to use to show the image. May be either matplotlib or OpenCV ('cv2').\n",
    "        OpenCV tends to be faster, but apparently causes more technical issues.\n",
    "    \"\"\"\n",
    "    do_assert(backend in [\"matplotlib\", \"cv2\"], \"Expected backend 'matplotlib' or 'cv2', got %s.\" % (backend,))\n",
    "\n",
    "    if backend == \"cv2\":\n",
    "        image_bgr = image\n",
    "        if image.ndim == 3 and image.shape[2] in [3, 4]:\n",
    "            image_bgr = image[..., 0:3][..., ::-1]\n",
    "\n",
    "        win_name = \"imgaug-default-window\"\n",
    "        cv2.namedWindow(win_name, cv2.WINDOW_NORMAL)\n",
    "        cv2.imshow(win_name, image_bgr)\n",
    "        cv2.waitKey(0)\n",
    "        cv2.destroyWindow(win_name)\n",
    "    else:\n",
    "        # import only when necessary (faster startup; optional dependency; less fragile -- see issue #225)\n",
    "        import matplotlib.pyplot as plt\n",
    "\n",
    "        dpi = 96\n",
    "        h, w = image.shape[0] / dpi, image.shape[1] / dpi\n",
    "        w = max(w, 6)  # if the figure is too narrow, the footer may appear and make the fig suddenly wider (ugly)\n",
    "        fig, ax = plt.subplots(figsize=(w, h), dpi=dpi)\n",
    "        fig.canvas.set_window_title(\"imgaug.imshow(%s)\" % (image.shape,))\n",
    "        ax.imshow(image, cmap=\"gray\")  # cmap is only activate for grayscale images\n",
    "plt.show()"
   ]
  },
  {
   "cell_type": "markdown",
   "metadata": {},
   "source": [
    "Build Training, Testing, and Validation Datasets\n",
    "---------"
   ]
  },
  {
   "cell_type": "markdown",
   "metadata": {},
   "source": [
    "Here I have created a class object so that I may consider creating a library for my needs. For the time being it is convenient to be able to simply execute the functions below with a single command. Since I was already planning on going through the trouble of supplementing images in the training set with image augmentation I decided to fold it into the same procedure as creating the training, testing, and validation sets. "
   ]
  },
  {
   "cell_type": "code",
   "execution_count": 125,
   "metadata": {},
   "outputs": [],
   "source": [
    "class preprocess_data(object):\n",
    "\n",
    "    def create_train_test_val(data_folder_name):\n",
    "        '''\n",
    "        Points to the folders specified. \n",
    "        '''\n",
    "        # setup the training, validation, and testing directories\n",
    "        training_folder = os.path.sep.join([data_folder_name, \"training\"])\n",
    "        validation_folder = os.path.sep.join([data_folder_name, \"validation\"])\n",
    "        testing_folder  = os.path.sep.join([data_folder_name, \"testing\"])\n",
    "        return training_folder,validation_folder,testing_folder\n",
    "\n",
    "    def list_images(data_folder, contains=None):\n",
    "        # import the necessary packages\n",
    "        image_types = (\".jpg\", \".jpeg\", \".png\", \".bmp\", \".tif\", \".tiff\")\n",
    "        # return the set of files that are valid\n",
    "        return preprocess_data.list_files(data_folder, valid_extensions=image_types, contains=contains)\n",
    "\n",
    "    def list_files(data_folder, valid_extensions=None, contains=None):\n",
    "        # loop over the directory structure\n",
    "        for (root_directory, directory_names, filenames) in os.walk(data_folder):\n",
    "            # loop over the filenames in the current directory\n",
    "            for filename in filenames:\n",
    "                # if the contains string is not none and the filename does not contain\n",
    "                # the supplied string, then ignore the file\n",
    "                if contains is not None and filename.find(contains) == -1:\n",
    "                    continue\n",
    "\n",
    "                # determine the file extension of the current file\n",
    "                extension = filename[filename.rfind(\".\"):].lower()\n",
    "\n",
    "                # check to see if the file is an image and should be processed\n",
    "                if valid_extensions is None or extension.endswith(valid_extensions):\n",
    "                    # construct the path to the image and yield it\n",
    "                    image_paths = os.path.join(root_directory, filename)\n",
    "                    yield image_paths\n",
    "\n",
    "    def images_augment(augment_percent,training_paths):\n",
    "        aug_num=int(len(training_paths) * augment_percent)\n",
    "        for image_iter in training_paths[:aug_num]:\n",
    "            filename,extension = (os.path.splitext(os.path.basename(image_iter)))\n",
    "            path,fullname=os.path.split(image_iter) \n",
    "            label=(os.path.basename(os.path.normpath(path)))\n",
    "            path='./local_test/test_dir/input/data/training/augmentation'\n",
    "            imread_image = imageio.imread(image_iter)\n",
    "            random_num=random.randint(0,360)\n",
    "            rotate = iaa.Affine(rotate=(-random_num, random_num))\n",
    "            image_aug = rotate.augment_image(imread_image)\n",
    "            #imshow(image_aug)\n",
    "            imageio.imwrite(path+'/'+label+'_aug_'+str(random_num)+'.png',image_aug)\n",
    "        return aug_num\n",
    "\n",
    "    def setup_folders(training_percent,validation_percent,augment_percent):\n",
    "        training_folder,validation_folder,testing_folder=preprocess_data.create_train_test_val(data_folder_name)\n",
    "        # grab the paths to all input images in the original input directory and shuffle them\n",
    "        image_paths = list(preprocess_data.list_images(input_data_folder))\n",
    "        random.shuffle(image_paths)\n",
    "\n",
    "        # training and testing split\n",
    "        comparison = int(len(image_paths) * training_percent)\n",
    "        training_paths = image_paths[:comparison]\n",
    "        testing_paths = image_paths[comparison:]\n",
    "\n",
    "        # using part of the training data for validation\n",
    "        comparison = int(len(training_paths) * validation_percent)\n",
    "        validation_paths = training_paths[:comparison]\n",
    "        training_paths = training_paths[comparison:]  \n",
    "\n",
    "        print('Images selected for training folder: ',len(training_paths))\n",
    "        print('Images selected for testing folder: ',len(testing_paths))\n",
    "        print('Images selected for validation folder: ',len(validation_paths))\n",
    "\n",
    "        # define the datasets that we'll be building\n",
    "        datasets = [(\"training\", training_paths, training_folder),\n",
    "                    (\"validation\", validation_paths, validation_folder),\n",
    "                    (\"testing\", testing_paths, testing_folder)]\n",
    "        \n",
    "        # loop over the datasets\n",
    "        for (data_type, image_paths, output_folder) in datasets:\n",
    "            # show which data split we are creating\n",
    "            print(\"\\nbuilding \"+data_type+\" collection . . .\\n\")\n",
    "\n",
    "            # if the output base output directory does not exist, create it\n",
    "            if not os.path.exists(output_folder):\n",
    "                print(\"creating \"+data_type+\" directory . . .\")\n",
    "                os.makedirs(output_folder)\n",
    "\n",
    "            # loop over the input image paths\n",
    "            for path in image_paths:\n",
    "                # extract the filename of the input image along with its corresponding class label\n",
    "                filename = path.split(os.path.sep)[-1]\n",
    "                label = path.split(os.path.sep)[-2]\n",
    "                # build the path to the label directory\n",
    "                label_paths = os.path.sep.join([output_folder, label])\n",
    "\n",
    "                # if the label output directory does not exist, create it\n",
    "                if not os.path.exists(label_paths):\n",
    "                    print(\"creating \"+data_type+\" directory . . .\")\n",
    "                    os.makedirs(label_paths)\n",
    "\n",
    "                # construct the path to the destination image and then copy the image itself\n",
    "                p = os.path.sep.join([label_paths, filename])\n",
    "                shutil.copy2(path, p) #Identical to copy() except that copy2() also attempts to preserve file metadata.\n",
    "                \n",
    "        aug_num=preprocess_data.images_augment(augment_percent,training_paths)\n",
    "        # return the total number of image paths in training, validation, and testing directories\n",
    "        training_total = len(list(preprocess_data.list_images(training_folder)))\n",
    "        validation_total = len(list(preprocess_data.list_images(validation_folder)))\n",
    "        testing_total = len(list(preprocess_data.list_images(testing_folder)))\n",
    "        total_images=training_total+validation_total+testing_total\n",
    "        print('\\nTraining Images: ',training_total,'\\nValidation Images: ',\n",
    "              validation_total,'\\nTesting Images: ',testing_total,\n",
    "              '\\nTotal Images Selected: ',total_images,'\\nAugmented Images Added: ',aug_num)\n",
    "        \n",
    "        return training_paths"
   ]
  },
  {
   "cell_type": "code",
   "execution_count": 126,
   "metadata": {},
   "outputs": [
    {
     "name": "stdout",
     "output_type": "stream",
     "text": [
      "Images selected for training folder:  904\n",
      "Images selected for testing folder:  251\n",
      "Images selected for validation folder:  100\n",
      "\n",
      "building training collection . . .\n",
      "\n",
      "creating training directory . . .\n",
      "creating training directory . . .\n",
      "creating training directory . . .\n",
      "\n",
      "building validation collection . . .\n",
      "\n",
      "creating validation directory . . .\n",
      "creating validation directory . . .\n",
      "creating validation directory . . .\n",
      "\n",
      "building testing collection . . .\n",
      "\n",
      "creating testing directory . . .\n",
      "creating testing directory . . .\n",
      "creating testing directory . . .\n",
      "\n",
      "Training Images:  904 \n",
      "Validation Images:  100 \n",
      "Testing Images:  251 \n",
      "Total Images Selected:  1255 \n",
      "Augmented Images Added:  180\n"
     ]
    }
   ],
   "source": [
    "training_path=preprocess_data.setup_folders(training_percent,validation_percent,augment_percent)"
   ]
  },
  {
   "cell_type": "markdown",
   "metadata": {},
   "source": [
    "I have created 180 images to help supplement my lack of images in the training folder. The reason it is merely 180 images and not more images is to avoid the augmented images being too statistically representative within the image dataset and thereby biasing the results. Below is a simple representation of the function I'm using within the class object above. "
   ]
  },
  {
   "cell_type": "code",
   "execution_count": 129,
   "metadata": {},
   "outputs": [
    {
     "name": "stdout",
     "output_type": "stream",
     "text": [
      "Augmented batch:\n"
     ]
    },
    {
     "data": {
      "image/png": "[encoded data removed]",
      "text/plain": [
       "<Figure size 960x240 with 1 Axes>"
      ]
     },
     "metadata": {},
     "output_type": "display_data"
    }
   ],
   "source": [
    "image = imageio.imread(\"local_test/test_dir/input/data/images/cases/6.png\")\n",
    "random_num=random.randint(0,360)\n",
    "rotate = iaa.Affine(rotate=(-random_num, random_num))\n",
    "images = [image, image, image, image]\n",
    "images_aug = rotate.augment_images(images)\n",
    "\n",
    "print(\"Augmented batch:\")\n",
    "imshow(np.hstack(images_aug))"
   ]
  },
  {
   "cell_type": "markdown",
   "metadata": {},
   "source": [
    "Define Model Structure\n",
    "====="
   ]
  },
  {
   "cell_type": "markdown",
   "metadata": {},
   "source": [
    "For classification of retinal images I have chosen to use a ResNet model as described by Kaiming He, Xiangyu Zhang, Shaoqing Ren, Jian Sun in <a href=\"https://arxiv.org/pdf/1512.03385.pdf\" target=\"_blank\">***Deep Residual Learning for Image Recognition (2015)***</a> and Adrian Rosebrock in <a href=\"http://www.i-element.org/PDF/C12-3.pdf\" target=\"_blank\">***Deep Learning for Computer Vision with Python (2017)***</a>. \n",
    "\n",
    "For an excellent explanation of the ResNet model, checkout Gracelyn Shi's Medium blog post:\n",
    "https://towardsdatascience.com/implementing-a-resnet-model-from-scratch-971be7193718\n",
    "\n",
    "**Why use a Residual Network (ResNet) model?**\n",
    "\n",
    "In traditional Deep Neural Networks during training you typically run into problems during backpropagation while using gradient descent optimization; where the data is fed from the final layers back into the first initial activation layers. As the loss function (error) with respect to the weights becomes updated certain activation functions such as the sigmoid function, constrain the input space between 0 and 1. Since the gradient in a Neural Network is a product of the gradients preceeding it, multiplying two smaller numbers returns an even smaller number. The small change in the gradient causes training times to be painfully slow, prone to error, and adding a large number of layers to become too costly and prohibitive.\n",
    "\n",
    "\n",
    "\n",
    "*Backpropagation:*\n",
    "\n",
    "    Moving from later stages and fed back through the Neural Network to the initial layers."
   ]
  },
  {
   "cell_type": "markdown",
   "metadata": {},
   "source": [
    "Residual Networks provide a convenient solution to the **'vanishing gradient'** problem. By skipping (shortcut) the training of one or more layers and creating a **residual block**.\n"
   ]
  },
  {
   "cell_type": "markdown",
   "metadata": {},
   "source": [
    "<img src='relu.png' width=\"300\" height=\"300\" align=\"left\">"
   ]
  },
  {
   "cell_type": "code",
   "execution_count": 130,
   "metadata": {},
   "outputs": [],
   "source": [
    "from IPython.display import display, Math, Latex"
   ]
  },
  {
   "cell_type": "code",
   "execution_count": 131,
   "metadata": {},
   "outputs": [],
   "source": [
    "#H(x) = F(x) + x, where F(x) = W2*relu(W1*x+b1)+b2"
   ]
  },
  {
   "cell_type": "code",
   "execution_count": 132,
   "metadata": {},
   "outputs": [
    {
     "data": {
      "text/latex": [
       "$$\\begin{align*}& H_{(x)}= F_{(x)} + x  \\newline& \\mathrm{Where:} \\newline&  F_{(x)}=W_{(2)}*\\mathrm{relu}*(W_{(1)}*x+b_{(1)})+b_{(2)}\\end{align*}$$"
      ],
      "text/plain": [
       "<IPython.core.display.Math object>"
      ]
     },
     "execution_count": 132,
     "metadata": {},
     "output_type": "execute_result"
    }
   ],
   "source": [
    "Math(r'\\begin{align*}& H_{(x)}= F_{(x)} + x  \\newline& \\mathrm{Where:} \\newline&  F_{(x)}=W_{(2)}*\\mathrm{relu}*(W_{(1)}*x+b_{(1)})+b_{(2)}\\end{align*}')\n",
    "\n"
   ]
  },
  {
   "cell_type": "markdown",
   "metadata": {},
   "source": [
    "Model Architecture Map\n",
    "-----"
   ]
  },
  {
   "cell_type": "markdown",
   "metadata": {},
   "source": [
    "With the application of Batch Normalization, Activation Function, and Convolutional Layers along with shortcuts. We can now create a network as deep as we desire."
   ]
  },
  {
   "cell_type": "markdown",
   "metadata": {},
   "source": [
    "<img src='resnet_structure.jpg' width=\"500\" height=\"500\" align=\"left\">"
   ]
  },
  {
   "cell_type": "code",
   "execution_count": 38,
   "metadata": {},
   "outputs": [],
   "source": [
    "#https://www.learnopencv.com/image-classification-using-convolutional-neural-networks-in-keras/"
   ]
  },
  {
   "cell_type": "code",
   "execution_count": 133,
   "metadata": {},
   "outputs": [],
   "source": [
    "def residual_module(input_data, kernel, stride, axis, reduce=False, reg_lambda=0.0001, epsilon=0.00002, momentum=0.9):\n",
    "    shortcut = input_data\n",
    "    bn1 = BatchNormalization(axis=axis, epsilon=epsilon, momentum=momentum)(input_data)\n",
    "    act1 = Activation(\"relu\")(bn1)\n",
    "    conv1 = Conv2D(int(kernel * 0.25), (1, 1), use_bias=False,kernel_regularizer=l2(reg_lambda))(act1)\n",
    "\n",
    "    bn2 = BatchNormalization(axis=axis, epsilon=epsilon,momentum=momentum)(conv1)\n",
    "    act2 = Activation(\"relu\")(bn2)\n",
    "    conv2 = Conv2D(int(kernel * 0.25), (3, 3), strides=stride, padding=\"same\", use_bias=False, kernel_regularizer=l2(reg_lambda))(act2)\n",
    "\n",
    "    bn3 = BatchNormalization(axis=axis, epsilon=epsilon, momentum=momentum)(conv2)\n",
    "    act3 = Activation(\"relu\")(bn3)\n",
    "    conv3 = Conv2D(kernel, (1, 1), use_bias=False, kernel_regularizer=l2(reg_lambda))(act3)\n",
    "\n",
    "    if reduce: \n",
    "        shortcut = Conv2D(kernel, (1, 1), strides=stride, use_bias=False, kernel_regularizer=l2(reg_lambda))(act1)\n",
    "\n",
    "    x = add([conv3, shortcut])\n",
    "    return x"
   ]
  },
  {
   "cell_type": "markdown",
   "metadata": {},
   "source": [
    "Build Model Structure\n",
    "====="
   ]
  },
  {
   "cell_type": "code",
   "execution_count": 134,
   "metadata": {},
   "outputs": [],
   "source": [
    "def build(width, height, depth, classes, stages, filters, reg_lambda=0.0001, epsilon=0.00002, momentum=0.9):\n",
    "    input_shape = (height, width, depth)\n",
    "    axis = -1\n",
    "\n",
    "    if K.image_data_format() == \"channels_first\":\n",
    "        input_shape = (depth, height, width)\n",
    "        channel_dimension = 1\n",
    "\n",
    "    inputs = Input(shape=input_shape)\n",
    "    x = BatchNormalization(axis=axis, epsilon=epsilon,momentum=momentum)(inputs)\n",
    "    x = Conv2D(filters[0], (5, 5), use_bias=False,padding=\"same\", kernel_regularizer=l2(reg_lambda))(x)\n",
    "    x = BatchNormalization(axis=axis, epsilon=epsilon,momentum=momentum)(x)\n",
    "    x = Activation(\"relu\")(x)\n",
    "    x = ZeroPadding2D((1, 1))(x)\n",
    "    x = MaxPooling2D((3, 3), strides=(2, 2))(x)\n",
    "\n",
    "    for i in range(0, len(stages)):\n",
    "        stride = (1, 1) if i == 0 else (2, 2)\n",
    "        x = residual_module(x, filters[i + 1], stride,axis, reduce=True, epsilon=epsilon, momentum=momentum)\n",
    "\n",
    "        for j in range(0, stages[i] - 1):\n",
    "            x = residual_module(x, filters[i + 1],(1, 1), axis, epsilon=epsilon, momentum=momentum)\n",
    "\n",
    "    x = BatchNormalization(axis=axis, epsilon=epsilon,momentum=momentum)(x)\n",
    "    x = Activation(\"relu\")(x)\n",
    "    x = AveragePooling2D((8, 8))(x)\n",
    "    x = Flatten()(x)\n",
    "    x = Dense(classes, kernel_regularizer=l2(reg_lambda))(x)\n",
    "    x = Activation(\"softmax\")(x)\n",
    "\n",
    "    model = Model(inputs, x, name=\"resnet\")\n",
    "    return model\n"
   ]
  },
  {
   "cell_type": "markdown",
   "metadata": {},
   "source": [
    "________________________"
   ]
  },
  {
   "cell_type": "markdown",
   "metadata": {},
   "source": [
    "**Define Structure:** *Tried to provide some explanation in cell below*"
   ]
  },
  {
   "cell_type": "code",
   "execution_count": 47,
   "metadata": {},
   "outputs": [
    {
     "data": {
      "text/html": [
       "<script>\n",
       "code_show=true; \n",
       "function code_toggle() {\n",
       "    if (code_show){\n",
       "        $('div.cell.code_cell.rendered.selected div.input').hide();\n",
       "    } else {\n",
       "        $('div.cell.code_cell.rendered.selected div.input').show();\n",
       "    }\n",
       "    code_show = !code_show\n",
       "} \n",
       "$( document ).ready(code_toggle);\n",
       "</script>\n",
       "To show/hide this cell's raw code input, click <a href=\"javascript:code_toggle()\">here</a>."
      ],
      "text/plain": [
       "<IPython.core.display.HTML object>"
      ]
     },
     "metadata": {},
     "output_type": "display_data"
    }
   ],
   "source": [
    "tag = HTML('''<script>\n",
    "code_show=true; \n",
    "function code_toggle() {\n",
    "    if (code_show){\n",
    "        $('div.cell.code_cell.rendered.selected div.input').hide();\n",
    "    } else {\n",
    "        $('div.cell.code_cell.rendered.selected div.input').show();\n",
    "    }\n",
    "    code_show = !code_show\n",
    "} \n",
    "$( document ).ready(code_toggle);\n",
    "</script>\n",
    "To show/hide this cell's raw code input, click <a href=\"javascript:code_toggle()\">here</a>.''')\n",
    "display(tag)\n",
    "\n",
    "############### Explanation ##################\n",
    "#https://www.coursera.org/lecture/convolutional-neural-networks/why-resnets-work-XAKNO\n",
    "#https://www.coursera.org/lecture/convolutional-neural-networks/resnets-HAhz9      \n",
    "\n",
    "#Jargon:\n",
    "    #'Relu': Rectified Linear Unit (algorithmic threshold for activation layer)\n",
    "    #Stride: Amount of shift of the filter moving from one part of the image to another\n",
    "\n",
    "#input for function: \n",
    "    #data=the data to be pass in the model\n",
    "    #kernel: number of filters that will be learned by the final CONV layer\n",
    "    #stride: An integer or tuple/list of a single integer, specifying the stride length of the convolution. \n",
    "    #axis: Integer, the axis that should be normalized (typically the features axis)\n",
    "    #reduce: red is boolean check to skip some processing\n",
    "    #reg_lambda: apply (0.0001) penalties on layer parameters\n",
    "    #epsilon: Small float added to variance to avoid dividing by zero.\n",
    "    #momentum: Momentum for the moving mean and the moving variance.\n",
    "    \n",
    "def residual_module(input_data, kernel, stride, axis, reduce=False,reg_lambda=0.0001, epsilon=0.00002, momentum=0.9):\n",
    "    # the shortcut branch of the resnet module should be initialize as the input (identity) data\n",
    "    shortcut = input_data\n",
    "    # the first block of the ResNet module are the 1x1 Convolution:\n",
    "            #epsilon: Small float added to variance to avoid dividing by zero.\n",
    "            #axis: Integer, the axis that should be normalized (typically the features axis).\n",
    "                #-For instance, after a Conv2D layer with data_format=\"channels_first\", set axis=1 in BatchNormalization.\n",
    "            #momentum: Momentum for the moving mean and the moving variance.\n",
    "    bn1 = BatchNormalization(axis=axis, epsilon=epsilon, momentum=momentum)(input_data) #https://keras.io/layers/normalization/\n",
    "    #Rectified Linear Unit for activation. https://keras.io/activations/\n",
    "    act1 = Activation(\"relu\")(bn1)\n",
    "    #2D convolution layer (e.g. spatial convolution over images). https://keras.io/layers/convolutional/\n",
    "        #kernel size (tuple):\n",
    "\n",
    "            #An integer or tuple/list of 2 integers, specifying the height and width of the 2D convolution window. \n",
    "            #Can be a single integer to specify the same value for all spatial dimensions.\n",
    "            \n",
    "        #use_bias: Boolean, whether the layer uses a bias vector.\n",
    "        #kernel_regularizer (Ridge Regression): \n",
    "            #https://medium.com/datadriveninvestor/l1-l2-regularization-7f1b4fe948f2\n",
    "    conv1 = Conv2D(int(kernel * 0.25), (1, 1), use_bias=False,kernel_regularizer=l2(reg_lambda))(act1)\n",
    "\n",
    "    # the second block of the ResNet module are the 3x3 CONVs passing in results of previous convolutional layer\n",
    "    bn2 = BatchNormalization(axis=axis, epsilon=epsilon,momentum=momentum)(conv1)#\n",
    "    act2 = Activation(\"relu\")(bn2)\n",
    "    #padding:  one of \"valid\" or \"same\" (case-insensitive). \n",
    "    #Note that \"same\" is slightly inconsistent across backends with strides != 1, as described-\n",
    "        #https://github.com/keras-team/keras/pull/9473#issuecomment-372166860\n",
    "    conv2 = Conv2D(int(kernel * 0.25), (3, 3), strides=stride, padding=\"same\", use_bias=False, kernel_regularizer=l2(reg_lambda))(act2)\n",
    "\n",
    "    # the third block of the ResNet module is another set of 1x1 Convolution\n",
    "    bn3 = BatchNormalization(axis=axis, epsilon=epsilon, momentum=momentum)(conv2)\n",
    "    act3 = Activation(\"relu\")(bn3)\n",
    "    conv3 = Conv2D(kernel, (1, 1), use_bias=False, kernel_regularizer=l2(reg_lambda))(act3)\n",
    "\n",
    "    # if we are to reduce the spatial size, apply a convolution layer to the shortcut\n",
    "    if reduce:#Shortcut or Terminal Block (allows to skip)\n",
    "        shortcut = Conv2D(kernel, (1, 1), strides=stride, use_bias=False, kernel_regularizer=l2(reg_lambda))(act1)\n",
    "\n",
    "    # add together the shortcut and the final convolution\n",
    "    x = add([conv3, shortcut])\n",
    "\n",
    "    return x"
   ]
  },
  {
   "cell_type": "markdown",
   "metadata": {},
   "source": [
    "__________"
   ]
  },
  {
   "cell_type": "markdown",
   "metadata": {},
   "source": [
    "**Build Model Structure:** *Tried to provide some explanation in cell below*"
   ]
  },
  {
   "cell_type": "code",
   "execution_count": 48,
   "metadata": {},
   "outputs": [
    {
     "data": {
      "text/html": [
       "<script>\n",
       "code_show=true; \n",
       "function code_toggle() {\n",
       "    if (code_show){\n",
       "        $('div.cell.code_cell.rendered.selected div.input').hide();\n",
       "    } else {\n",
       "        $('div.cell.code_cell.rendered.selected div.input').show();\n",
       "    }\n",
       "    code_show = !code_show\n",
       "} \n",
       "$( document ).ready(code_toggle);\n",
       "</script>\n",
       "To show/hide this cell's raw code input, click <a href=\"javascript:code_toggle()\">here</a>."
      ],
      "text/plain": [
       "<IPython.core.display.HTML object>"
      ]
     },
     "metadata": {},
     "output_type": "display_data"
    }
   ],
   "source": [
    "tag = HTML('''<script>\n",
    "code_show=true; \n",
    "function code_toggle() {\n",
    "    if (code_show){\n",
    "        $('div.cell.code_cell.rendered.selected div.input').hide();\n",
    "    } else {\n",
    "        $('div.cell.code_cell.rendered.selected div.input').show();\n",
    "    }\n",
    "    code_show = !code_show\n",
    "} \n",
    "$( document ).ready(code_toggle);\n",
    "</script>\n",
    "To show/hide this cell's raw code input, click <a href=\"javascript:code_toggle()\">here</a>.''')\n",
    "display(tag)\n",
    "\n",
    "############### Explanation ##################\n",
    "\n",
    "#Already defined:\n",
    "    #data=the data to be pass in the model\n",
    "    #kernel: number of filters that will be learned by the final CONV layer\n",
    "    #stride: An integer or tuple/list of a single integer, specifying the stride length of the convolution. \n",
    "    #axis: Integer, the axis that should be normalized (typically the features axis)\n",
    "    #reduce: will control whether or not to reduce spatial dimensions \n",
    "    #reg_lambda: apply (0.0001) penalties on layer parameters\n",
    "    #epsilon: Small float added to variance to avoid dividing by zero.\n",
    "    #momentum: Momentum for the moving mean and the moving variance.\n",
    "\n",
    "#Function inputs:\n",
    "    #width,height: height and width of image\n",
    "    #depth: the number of channels in image (rgb)\n",
    "    \n",
    "def build(width, height, depth, classes, stages, filters, reg_lambda=0.0001, epsilon=0.00002, momentum=0.9):\n",
    "    # initialize the input shape to be \"channels last\" and the channels dimension itself\n",
    "    input_shape = (height, width, depth) \n",
    "    channel_dimension = -1# <-1 just a handy shortcut meaning 'last'\n",
    "    axis = -1\n",
    "\n",
    "    # if we are using \"channels first\", update the input shape and channels dimension\n",
    "    if K.image_data_format() == \"channels_first\":#<--K is imported from Keras\n",
    "        input_shape = (depth, height, width)\n",
    "        channel_dimension = 1\n",
    "\n",
    "    # set the input and apply batch normalization\n",
    "    inputs = Input(shape=input_shape)\n",
    "    x = BatchNormalization(axis=axis, epsilon=epsilon, momentum=momentum)(inputs)\n",
    "\n",
    "    # apply convolution => batch normalization => activation => pooling layer to reduce spatial size\n",
    "    x = Conv2D(filters[0], (5, 5), use_bias=False, padding=\"same\", kernel_regularizer=l2(reg_lambda))(x)\n",
    "    x = BatchNormalization(axis=axis, epsilon=epsilon, momentum=momentum)(x)\n",
    "    x = Activation(\"relu\")(x) #activation layer is using 'Rectified Linear Unit'\n",
    "    x = ZeroPadding2D((1, 1))(x)\n",
    "    x = MaxPooling2D((3, 3), strides=(2, 2))(x)\n",
    "\n",
    "    # loop over the number of stages\n",
    "    for i in range(0, len(stages)):\n",
    "        # initialize the stride, then apply a residual module\n",
    "        # used to reduce the spatial size of the input volume\n",
    "        stride = (1, 1) if i == 0 else (2, 2)\n",
    "        x = residual_module(x, filters[i + 1], stride, axis, red=True, epsilon=epsilon, momentum=momentum)\n",
    "\n",
    "        # loop over the number of layers in the stage\n",
    "        for j in range(0, stages[i] - 1): #would like to make this boolean to increase efficiency\n",
    "            x = residual_module(x, filters[i + 1],(1, 1), axis, epsilon=epsilon, momentum=momentum)\n",
    "\n",
    "    # apply Batch normalization => activation => pooling layer\n",
    "    x = BatchNormalization(axis=axis, epsilon=epsilon,momentum=momentum)(x)\n",
    "    x = Activation(\"relu\")(x)\n",
    "    x = AveragePooling2D((8, 8))(x)\n",
    "\n",
    "    # softmax classifier\n",
    "    x = Flatten()(x)\n",
    "    x = Dense(classes, kernel_regularizer=l2(reg_lambda))(x)\n",
    "    x = Activation(\"softmax\")(x)\n",
    "\n",
    "    # create the model\n",
    "    model = Model(inputs, x, name=\"resnet\")\n",
    "\n",
    "    # return the constructed network architecture\n",
    "    return model"
   ]
  },
  {
   "cell_type": "markdown",
   "metadata": {},
   "source": [
    "_____________________"
   ]
  },
  {
   "cell_type": "markdown",
   "metadata": {},
   "source": [
    "**Prepare File Paths**"
   ]
  },
  {
   "cell_type": "code",
   "execution_count": 135,
   "metadata": {},
   "outputs": [],
   "source": [
    "training_directory='./local_test/test_dir/input/data/training/training'\n",
    "testing_directory='./local_test/test_dir/input/data/training/testing'\n",
    "validation_directory='./local_test/test_dir/input/data/training/validation'"
   ]
  },
  {
   "cell_type": "markdown",
   "metadata": {},
   "source": [
    "Train Model\n",
    "===="
   ]
  },
  {
   "cell_type": "markdown",
   "metadata": {},
   "source": [
    "**Import Packages**"
   ]
  },
  {
   "cell_type": "code",
   "execution_count": 136,
   "metadata": {},
   "outputs": [],
   "source": [
    "from keras.preprocessing.image import ImageDataGenerator\n",
    "from keras.callbacks import LearningRateScheduler\n",
    "from keras.optimizers import SGD\n",
    "from sklearn.metrics import classification_report\n",
    "\n",
    "# import the necessary packages\n",
    "from keras.layers.normalization import BatchNormalization\n",
    "from keras.layers.convolutional import Conv2D\n",
    "from keras.layers.convolutional import AveragePooling2D\n",
    "from keras.layers.convolutional import MaxPooling2D\n",
    "from keras.layers.convolutional import ZeroPadding2D\n",
    "from keras.layers.core import Activation\n",
    "from keras.layers.core import Dense\n",
    "from keras.layers import Flatten\n",
    "from keras.layers import Input\n",
    "from keras.models import Model\n",
    "from keras.layers import add\n",
    "from keras.regularizers import l2\n",
    "from keras import backend as K\n",
    "import matplotlib.pyplot as plt\n",
    "\n",
    "import random\n",
    "import shutil\n",
    "import os\n"
   ]
  },
  {
   "cell_type": "code",
   "execution_count": 197,
   "metadata": {},
   "outputs": [],
   "source": [
    "# define the total number of epochs to train for along with the initial learning rate and batch size\n",
    "epochs_num = 100\n",
    "initial_learning_rate = 0.01\n",
    "batch_size = 50\n",
    "img_height = 64\n",
    "img_width = 64\n",
    "def poly_decay(epoch):\n",
    "    # initialize the maximum number of epochs, base learning rate, and power of the polynomial\n",
    "    max_epochs = epochs_num\n",
    "    base_learning_rate = initial_learning_rate\n",
    "    power = 1.0\n",
    "\n",
    "    # compute the new learning rate based on polynomial decay\n",
    "    alpha = base_learning_rate*(1 - (epoch / float(max_epochs)))**power\n",
    "\n",
    "    # return the new learning rate\n",
    "    return alpha"
   ]
  },
  {
   "cell_type": "code",
   "execution_count": 198,
   "metadata": {},
   "outputs": [],
   "source": [
    "# determine the total number of image paths in training, validation, and testing directories\n",
    "train_images = len(list(preprocess_data.list_images(training_directory)))\n",
    "\n",
    "validation_images = len(list(preprocess_data.list_images(validation_directory)))\n",
    "\n",
    "test_images = len(list(preprocess_data.list_images(testing_directory)))"
   ]
  },
  {
   "cell_type": "code",
   "execution_count": 199,
   "metadata": {},
   "outputs": [],
   "source": [
    "# initialize the training data augmentation object\n",
    "training_augmentation = ImageDataGenerator(rescale=1 / 255.0, rotation_range=20, \n",
    "    zoom_range=0.05, width_shift_range=0.05,height_shift_range=0.05,\n",
    "    shear_range=0.05,horizontal_flip=True,fill_mode=\"nearest\")"
   ]
  },
  {
   "cell_type": "code",
   "execution_count": 200,
   "metadata": {},
   "outputs": [],
   "source": [
    "# initialize the validation (and testing) data augmentation object\n",
    "validation_augmentation = ImageDataGenerator(rescale=1 / 255.0)"
   ]
  },
  {
   "cell_type": "code",
   "execution_count": 201,
   "metadata": {},
   "outputs": [
    {
     "name": "stdout",
     "output_type": "stream",
     "text": [
      "Found 1063 images belonging to 2 classes.\n"
     ]
    }
   ],
   "source": [
    "# initialize the training generator\n",
    "training_generator = training_augmentation.flow_from_directory(\n",
    "    training_directory,class_mode=\"categorical\",target_size=(img_height, img_width),\n",
    "    color_mode=\"rgb\",shuffle=True,batch_size=batch_size)"
   ]
  },
  {
   "cell_type": "code",
   "execution_count": 202,
   "metadata": {},
   "outputs": [
    {
     "name": "stdout",
     "output_type": "stream",
     "text": [
      "Found 100 images belonging to 2 classes.\n"
     ]
    }
   ],
   "source": [
    "# initialize the validation generator\n",
    "validation_generator = validation_augmentation.flow_from_directory(\n",
    "validation_directory,class_mode=\"categorical\",\n",
    "    target_size=(img_height, img_width),color_mode=\"rgb\",shuffle=False,batch_size=batch_size)"
   ]
  },
  {
   "cell_type": "code",
   "execution_count": 203,
   "metadata": {},
   "outputs": [
    {
     "name": "stdout",
     "output_type": "stream",
     "text": [
      "Found 251 images belonging to 2 classes.\n"
     ]
    }
   ],
   "source": [
    "# initialize the testing generator\n",
    "testing_generator = validation_augmentation.flow_from_directory(testing_directory,\n",
    "    class_mode=\"categorical\",target_size=(img_height, img_width),color_mode=\"rgb\",\n",
    "    shuffle=False,batch_size=batch_size)"
   ]
  },
  {
   "cell_type": "code",
   "execution_count": 204,
   "metadata": {},
   "outputs": [],
   "source": [
    "# initialize the resnet model and compile it\n",
    "# 1st:64, 2nd:64, 3rd:3, 4th:2 \n",
    "\n",
    "# 34 Layer Residual\n",
    "# 3-(3x3 conv 64) \n",
    "# 4-(3x3 conv 128) \n",
    "# 6-(3x3 conv 256) \n",
    "# 3-(3x3 conv 512)\n",
    "# Dimensions (width,height,channel) ,Stages , Filters  \n",
    "model = build(img_height, img_width, 3, 2, (3, 4, 6), (64, 128, 256, 512), reg_lambda=0.0005)\n",
    "opt = SGD(lr=initial_learning_rate, momentum=0.9)\n",
    "model.compile(loss=\"binary_crossentropy\", optimizer=opt,metrics=[\"accuracy\"])"
   ]
  },
  {
   "cell_type": "code",
   "execution_count": 205,
   "metadata": {
    "scrolled": true
   },
   "outputs": [],
   "source": [
    "%%capture captured\n",
    "# define our set of callbacks and fit the model\n",
    "callbacks = [LearningRateScheduler(poly_decay)] #                     1047/50=20.94\n",
    "train_model = model.fit_generator(training_generator, steps_per_epoch=train_images // batch_size,\n",
    "    validation_data=validation_generator, validation_steps=validation_images // batch_size, epochs=epochs_num, callbacks=callbacks)"
   ]
  },
  {
   "cell_type": "markdown",
   "metadata": {},
   "source": [
    "*Once again I have suppressed the output in order to conserve space on the jupyter notebook. I have provided a sample just to give you an idea of what the output looks like, results are shown below*"
   ]
  },
  {
   "cell_type": "code",
   "execution_count": 206,
   "metadata": {},
   "outputs": [
    {
     "name": "stdout",
     "output_type": "stream",
     "text": [
      "Epoch 1/100\n",
      "\r",
      " 1/21 [>.............................] - ETA: 6:32 - loss: 1.2926 - acc: 0.3200\b\b\b\b\b\b\b\b\b\b\b\b\b\b\b\b\b\b\b\b\b\b\b\b\b\b\b\b\b\b\b\b\b\b\b\b\b\b\b\b\b\b\b\b\b\b\b\b\b\b\b\b\b\b\b\b\b\b\b\b\b\b\b\b\b\b\b\b\b\b\b\b\b\b\b\b\b\b\b\r",
      " 2/21 [=>............................] - ETA: 4:07 - loss: 1.2358 - acc: 0.5200\b\b\b\b\b\b\b\b\b\b\b\b\b\b\b\b\b\b\b\b\b\b\b\b\b\b\b\b\b\b\b\b\b\b\b\b\b\b\b\b\b\b\b\b\b\b\b\b\b\b\b\b\b\b\b\b\b\b\b\b\b\b\b\b\b\b\b\b\b\b\b\b\b\b\b\b\b\b\b\r",
      " 3/21 [===>..........................] - ETA: 3:13 - loss: 1.2020 - acc: 0.5600\b\b\b\b\b\b\b\b\b\b\b\b\b\b\b\b\b\b\b\b\b\b\b\b\b\b\b\b\b\b\b\b\b\b\b\b\b\b\b\b\b\b\b\b\b\b\b\b\b\b\b\b\b\b\b\b\b\b\b\b\b\b\b\b\b\b\b\b\b\b\b\b\b\b\b\b\b\b\b\r",
      " 4/21 [====>.........................] - ETA: 2:45 - loss: 1.1568 - acc: 0.6250\b\b\b\b\b\b\b\b\b\b\b\b\b\b\b\b\b\b\b\b\b\b\b\b\b\b\b\b\b\b\b\b\b\b\b\b\b\b\b\b\b\b\b\b\b\b\b\b\b\b\b\b\b\b\b\b\b\b\b\b\b\b\b\b\b\b\b\b\b\b\b\b\b\b\b\b\b\b\b\r",
      " 5/21 [======>.......................] - ETA: 2:24 - loss: 1.1270 - acc: 0.6480\b\b\b\b\b\b\b\b\b\b\b\b\b\b\b\b\b\b\b\b\b\b\b\b\b\b\b\b\b\b\b\b\b\b\b\b\b\b\b\b\b\b\b\b\b\b\b\b\b\b\b\b\b\b\b\b\b\b\b\b\b\b\b\b\b\b\b\b\b\b\b\b\b\b\b\b\b\b\b\r",
      " 6/21 [=======>......................] - ETA: 2:08 - loss: 1.0982 - acc: 0.6767\b\b\b\b\b\b\b\b\b\b\b\b\b\b\b\b\b\b\b\b\b\b\b\b\b\b\b\b\b\b\b\b\b\b\b\b\b\b\b\b\b\b\b\b\b\b\b\b\b\b\b\b\b\b\b\b\b\b\b\b\b\b\b\b\b\b\b\b\b\b\b\b\b\b\b\b\b\b\b\r",
      " 7/21 [=========>....................] - ETA: 1:55 - loss: 1.0777 - acc: 0.6886\b\b\b\b\b\b\b\b\b\b\b\b\b\b\b\b\b\b\b\b\b\b\b\b\b\b\b\b\b\b\b\b\b\b\b\b\b\b\b\b\b\b\b\b\b\b\b\b\b\b\b\b\b\b\b\b\b\b\b\b\b\b\b\b\b\b\b\b\b\b\b\b\b\b\b\b\b\b\b\r",
      " 8/21 [==========>...................] - ETA: 1:44 - loss: 1.0415 - acc: 0.7175\b\b\b\b\b\b\b\b\b\b\b\b\b\b\b\b\b\b\b\b\b\b\b\b\b\b\b\b\b\b\b\b\b\b\b\b\b\b\b\b\b\b\b\b\b\b\b\b\b\b\b\b\b\b\b\b\b\b\b\b\b\b\b\b\b\b\b\b\b\b\b\b\b\b\b\b\b\b\b\r",
      " 9/21 [===========>..................] - ETA: 1:34 - loss: 1.0393 - acc: 0.7200\b\b\b\b\b\b\b\b\b\b\b\b\b\b\b\b\b\b\b\b\b\b\b\b\b\b\b\b\b\b\b\b\b\b\b\b\b\b\b\b\b\b\b\b\b\b\b\b\b\b\b\b\b\b\b\b\b\b\b\b\b\b\b\b\b\b\b\b\b\b\b\b\b\b\b\b\b\b\b\r",
      "10/21 [=============>................] - ETA: 1:25 - loss: 1.0162 - acc: 0.7340\b\b\b\b\b\b\b\b\b\b\b\b\b\b\b\b\b\b\b\b\b\b\b\b\b\b\b\b\b\b\b\b\b\b\b\b\b\b\b\b\b\b\b\b\b\b\b\b\b\b\b\b\b\b\b\b\b\b\b\b\b\b\b\b\b\b\b\b\b\b\b\b\b\b\b\b\b\b\b\r",
      "11/21 [==============>...............] - ETA: 1:16 - loss: 1.0087 - acc: 0.7382\b\b\b\b\b\b\b\b\b\b\b\b\b\b\b\b\b\b\b\b\b\b\b\b\b\b\b\b\b\b\b\b\b\b\b\b\b\b\b\b\b\b\b\b\b\b\b\b\b\b\b\b\b\b\b\b\b\b\b\b\b\b\b\b\b\b\b\b\b\b\b\b\b\b\b\b\b\b\b\r",
      "12/21 [================>.............] - ETA: 1:07 - loss: 0.9881 - acc: 0.7533\b\b\b\b\b\b\b\b\b\b\b\b\b\b\b\b\b\b\b\b\b\b\b\b\b\b\b\b\b\b\b\b\b\b\b\b\b\b\b\b\b\b\b\b\b\b\b\b\b\b\b\b\b\b\b\b\b\b\b\b\b\b\b\b\b\b\b\b\b\b\b\b\b\b\b\b\b\b\b\r",
      "13/21 [=================>............] - ETA: 59s - loss: 0.9805 - acc: 0.7569 \b\b\b\b\b\b\b\b\b\b\b\b\b\b\b\b\b\b\b\b\b\b\b\b\b\b\b\b\b\b\b\b\b\b\b\b\b\b\b\b\b\b\b\b\b\b\b\b\b\b\b\b\b\b\b\b\b\b\b\b\b\b\b\b\b\b\b\b\b\b\b\b\b\b\b\b\b\b\r",
      "14/21 [===================>..........] - ETA: 51s - loss: 0.9753 - acc: 0.7629\b\b\b\b\b\b\b\b\b\b\b\b\b\b\b\b\b\b\b\b\b\b\b\b\b\b\b\b\b\b\b\b\b\b\b\b\b\b\b\b\b\b\b\b\b\b\b\b\b\b\b\b\b\b\b\b\b\b\b\b\b\b\b\b\b\b\b\b\b\b\b\b\b\b\b\b\b\b\r",
      "15/21 [====================>.........] - ETA: 43s - loss: 0.9726 - acc: 0.7693\b\b\b\b\b\b\b\b\b\b\b\b\b\b\b\b\b\b\b\b\b\b\b\b\b\b\b\b\b\b\b\b\b\b\b\b\b\b\b\b\b\b\b\b\b\b\b\b\b\b\b\b\b\b\b\b\b\b\b\b\b\b\b\b\b\b\b\b\b\b\b\b\b\b\b\b\b\b\r",
      "16/21 [=====================>........] - ETA: 36s - loss: 0.9728 - acc: 0.7663\b\b\b\b\b\b\b\b\b\b\b\b\b\b\b\b\b\b\b\b\b\b\b\b\b\b\b\b\b\b\b\b\b\b\b\b\b\b\b\b\b\b\b\b\b\b\b\b\b\b\b\b\b\b\b\b\b\b\b\b\b\b\b\b\b\b\b\b\b\b\b\b\b\b\b\b\b\b\r",
      "17/21 [=======================>......] - ETA: 28s - loss: 0.9595 - acc: 0.7741\b\b\b\b\b\b\b\b\b\b\b\b\b\b\b\b\b\b\b\b\b\b\b\b\b\b\b\b\b\b\b\b\b\b\b\b\b\b\b\b\b\b\b\b\b\b\b\b\b\b\b\b\b\b\b\b\b\b\b\b\b\b\b\b\b\b\b\b\b\b\b\b\b\b\b\b\b\b\r",
      "18/21 [========================>.....] - ETA: 21s - loss: 0.9538 - acc: 0.7800\b\b\b\b\b\b\b\b\b\b\b\b\b\b\b\b\b\b\b\b\b\b\b\b\b\b\b\b\b\b\b\b\b\b\b\b\b\b\b\b\b\b\b\b\b\b\b\b\b\b\b\b\b\b\b\b\b\b\b\b\b\b\b\b\b\b\b\b\b\b\b\b\b\b\b\b\b\b\r",
      "19/21 [==========================>...] - ETA: 14s - loss: 0.9492 - acc: 0.7863\b\b\b\b\b\b\b\b\b\b\b\b\b\b\b\b\b\b\b\b\b\b\b\b\b\b\b\b\b\b\b\b\b\b\b\b\b\b\b\b\b\b\b\b\b\b\b\b\b\b\b\b\b\b\b\b\b\b\b\b\b\b\b\b\b\b\b\b\b\b\b\b\b\b\b\b\b\b\r",
      "20/21 [===========================>..] - ETA: 7s - loss: 0.9399 - acc: 0.7930 \b\b\b\b\b\b\b\b\b\b\b\b\b\b\b\b\b\b\b\b\b\b\b\b\b\b\b\b\b\b\b\b\b\b\b\b\b\b\b\b\b\b\b\b\b\b\b\b\b\b\b\b\b\b\b\b\b\b\b\b\b\b\b\b\b\b\b\b\b\b\b\b\b\b\b\b\b\r",
      "21/21 [==============================] - 154s 7s/step - loss: 0.9363 - acc: 0.7981 - val_loss: 1.4587 - val_acc: 0.6600\n",
      "Epoch 2/100\n",
      "\r",
      " 1/21 [>.............................] - ETA: 29s - loss: 0.9703 - acc: 0.7692\b\b\b\b\b\b\b\b\b\b\b\b\b\b\b\b\b\b\b\b\b\b\b\b\b\b\b\b\b\b\b\b\b\b\b\b\b\b\b\b\b\b\b\b\b\b\b\b\b\b\b\b\b\b\b\b\b\b\b\b\b\b\b\b\b\b\b\b\b\b\b\b\b\b\b\b\b\b\r",
      " 2/21 [=>............................] - ETA: 1:16 - loss: 0.8836 - acc: 0.8246\b\b\b\b\b\b\b\b\b\b\b\b\b\b\b\b\b\b\b\b\b\b\b\b\b\b\b\b\b\b\b\b\b\b\b\b\b\b\b\b\b\b\b\b\b\b\b\b\b\b\b\b\b\b\b\b\b\b\b\b\b\b\b\b\b\b\b\b\b\b\b\b\b\b\b\b\b\b\b\r",
      " 3/21 [===>..........................] - ETA: 1:27 - loss: 0.8244 - acc: 0.8631\b\b\b\b\b\b\b\b\b\b\b\b\b\b\b\b\b\b\b\b\b\b\b\b\b\b\b\b\b\b\b\b\b\b\b\b\b\b\b\b\b\b\b\b\b\b\b\b\b\b\b\b\b\b\b\b\b\b\b\b\b\b\b\b\b\b\b\b\b\b\b\b\b\b\b\b\b\b\b\r",
      " 4/21 [====>.........................] - ETA: 1:29 - loss: 0.8121 - acc: 0.8673\b\b\b\b\b\b\b\b\b\b\b\b\b\b\b\b\b\b\b\b\b\b\b\b\b\b\b\b\b\b\b\b\b\b\b\b\b\b\b\b\b\b\b\b\b\b\b\b\b\b\b\b\b\b\b\b\b\b\b\b\b\b\b\b\b\b\b\b\b\b\b\b\b\b\b\b\b\b\b\r",
      " 5/21 [======>.......................] - ETA: 1:28 - loss: 0.8045 - acc: 0.8698\b\b\b\b\b\b\b\b\b\b\b\b\b\b\b\b\b\b\b\b\b\b\b\b\b\b\b\b\b\b\b\b\b\b\b\b\b\b\b\b\b\b\b\b\b\b\b\b\b\b\b\b\b\b\b\b\b\b\b\b\b\b\b\b\b\b\b\b\b\b\b\b\b\b\b\b\b\b\b\r",
      " 6/21 [=======>......................] - ETA: 1:25 - loss: 0.8414 - acc: 0.8582\b\b\b\b\b\b\b\b\b\b\b\b\b\b\b\b\b\b\b\b\b\b\b\b\b\b\b\b\b\b\b\b\b\b\b\b\b\b\b\b\b\b\b\b\b\b\b\b\b\b\b\b\b\b\b\b\b\b\b\b\b\b\b\b\b\b\b\b\b\b\b\b\b\b\b\b\b\b\b\r",
      " 7/21 [=========>....................] - ETA: 1:22 - loss: 0.8260 - acc: 0.8699\b\b\b\b\b\b\b\b\b\b\b\b\b\b\b\b\b\b\b\b\b\b\b\b\b\b\b\b\b\b\b\b\b\b\b\b\b\b\b\b\b\b\b\b\b\b\b\b\b\b\b\b\b\b\b\b\b\b\b\b\b\b\b\b\b\b\b\b\b\b\b\b\b\b\b\b\b\b\b\r",
      " 8/21 [==========>...................] - ETA: 1:17 - loss: 0.8158 - acc: 0.8712\b\b\b\b\b\b\b\b\b\b\b\b\b\b\b\b\b\b\b\b\b\b\b\b\b\b\b\b\b\b\b\b\b\b\b\b\b\b\b\b\b\b\b\b\b\b\b\b\b\b\b\b\b\b\b\b\b\b\b\b\b\b\b\b\b\b\b\b\b\b\b\b\b\b\b\b\b\b\b\r",
      " 9/21 [===========>..................] - ETA: 1:12 - loss: 0.8105 - acc: 0.8788\b\b\b\b\b\b\b\b\b\b\b\b\b\b\b\b\b\b\b\b\b\b\b\b\b\b\b\b\b\b\b\b\b\b\b\b\b\b\b\b\b\b\b\b\b\b\b\b\b\b\b\b\b\b\b\b\b\b\b\b\b\b\b\b\b\b\b\b\b\b\b\b\b\b\b\b\b\b\b\r",
      "10/21 [=============>................] - ETA: 1:06 - loss: 0.8171 - acc: 0.8769\b\b\b\b\b\b\b\b\b\b\b\b\b\b\b\b\b\b\b\b\b\b\b\b\b\b\b\b\b\b\b\b\b\b\b\b\b\b\b\b\b\b\b\b\b\b\b\b\b\b\b\b\b\b\b\b\b\b\b\b\b\b\b\b\b\b\b\b\b\b\b\b\b\b\b\b\b\b\b\r",
      "11/21 [==============>...............] - ETA: 1:00 - loss: 0.8154 - acc: 0.8808\b\b\b\b\b\b\b\b\b\b\b\b\b\b\b\b\b\b\b\b\b\b\b\b\b\b\b\b\b\b\b\b\b\b\b\b\b\b\b\b\b\b\b\b\b\b\b\b\b\b\b\b\b\b\b\b\b\b\b\b\b\b\b\b\b\b\b\b\b\b\b\b\b\b\b\b\b\b\b\r",
      "12/21 [================>.............] - ETA: 55s - loss: 0.8214 - acc: 0.8774 \b\b\b\b\b\b\b\b\b\b\b\b\b\b\b\b\b\b\b\b\b\b\b\b\b\b\b\b\b\b\b\b\b\b\b\b\b\b\b\b\b\b\b\b\b\b\b\b\b\b\b\b\b\b\b\b\b\b\b\b\b\b\b\b\b\b\b\b\b\b\b\b\b\b\b\b\b\b\r",
      "13/21 [=================>............] - ETA: 49s - loss: 0.8158 - acc: 0.8807\b\b\b\b\b\b\b\b\b\b\b\b\b\b\b\b\b\b\b\b\b\b\b\b\b\b\b\b\b\b\b\b\b\b\b\b\b\b\b\b\b\b\b\b\b\b\b\b\b\b\b\b\b\b\b\b\b\b\b\b\b\b\b\b\b\b\b\b\b\b\b\b\b\b\b\b\b\b\r",
      "14/21 [===================>..........] - ETA: 43s - loss: 0.8155 - acc: 0.8792\b\b\b\b\b\b\b\b\b\b\b\b\b\b\b\b\b\b\b\b\b\b\b\b\b\b\b\b\b\b\b\b\b\b\b\b\b\b\b\b\b\b\b\b\b\b\b\b\b\b\b\b\b\b\b\b\b\b\b\b\b\b\b\b\b\b\b\b\b\b\b\b\b\b\b\b\b\b\r",
      "15/21 [====================>.........] - ETA: 37s - loss: 0.8089 - acc: 0.8833\b\b\b\b\b\b\b\b\b\b\b\b\b\b\b\b\b\b\b\b\b\b\b\b\b\b\b\b\b\b\b\b\b\b\b\b\b\b\b\b\b\b\b\b\b\b\b\b\b\b\b\b\b\b\b\b\b\b\b\b\b\b\b\b\b\b\b\b\b\b\b\b\b\b\b\b\b\b\r",
      "16/21 [=====================>........] - ETA: 31s - loss: 0.8164 - acc: 0.8743\b\b\b\b\b\b\b\b\b\b\b\b\b\b\b\b\b\b\b\b\b\b\b\b\b\b\b\b\b\b\b\b\b\b\b\b\b\b\b\b\b\b\b\b\b\b\b\b\b\b\b\b\b\b\b\b\b\b\b\b\b\b\b\b\b\b\b\b\b\b\b\b\b\b\b\b\b\b\r",
      "17/21 [=======================>......] - ETA: 24s - loss: 0.8137 - acc: 0.8747\b\b\b\b\b\b\b\b\b\b\b\b\b\b\b\b\b\b\b\b\b\b\b\b\b\b\b\b\b\b\b\b\b\b\b\b\b\b\b\b\b\b\b\b\b\b\b\b\b\b\b\b\b\b\b\b\b\b\b\b\b\b\b\b\b\b\b\b\b\b\b\b\b\b\b\b\b\b\r",
      "18/21 [========================>.....] - ETA: 18s - loss: 0.8166 - acc: 0.8716\b\b\b\b\b\b\b\b\b\b\b\b\b\b\b\b\b\b\b\b\b\b\b\b\b\b\b\b\b\b\b\b\b\b\b\b\b\b\b\b\b\b\b\b\b\b\b\b\b\b\b\b\b\b\b\b\b\b\b\b\b\b\b\b\b\b\b\b\b\b\b\b\b\b\b\b\b\b\r",
      "19/21 [==========================>...] - ETA: 12s - loss: 0.8236 - acc: 0.8668\b\b\b\b\b\b\b\b\b\b\b\b\b\b\b\b\b\b\b\b\b\b\b\b\b\b\b\b\b\b\b\b\b\b\b\b\b\b\b\b\b\b\b\b\b\b\b\b\b\b\b\b\b\b\b\b\b\b\b\b\b\b\b\b\b\b\b\b\b\b\b\b\b\b\b\b\b\b\r",
      "20/21 [===========================>..] - ETA: 6s - loss: 0.8239 - acc: 0.8645 \b\b\b\b\b\b\b\b\b\b\b\b\b\b\b\b\b\b\b\b\b\b\b\b\b\b\b\b\b\b\b\b\b\b\b\b\b\b\b\b\b\b\b\b\b\b\b\b\b\b\b\b\b\b\b\b\b\b\b\b\b\b\b\b\b\b\b\b\b\b\b\b\b\b\b\b\b\r",
      "21/21 [==============================] - 136s 6s/step - loss: 0.8237 - acc: 0.8663 - val_loss: 0.9953 - val_acc: 0.8500\n",
      "Epoch 3/100\n",
      "\r",
      " 1/21 [>.............................] - ETA: 2:08 - loss: 0.7434 - acc: 0.9000\b\b\b\b\b\b\b\b\b\b\b\b\b\b\b\b\b\b\b\b\b\b\b\b\b\b\b\b\b\b\b\b\b\b\b\b\b\b\b\b\b\b\b\b\b\b\b\b\b\b\b\b\b\b\b\b\b\b\b\b\b\b\b\b\b\b\b\b\b\b\b\b\b\b\b\b\b\b\b\r",
      " 2/21 [=>............................] - ETA: 1:15 - loss: 0.8547 - acc: 0.8346\b\b\b\b\b\b\b\b\b\b\b\b\b\b\b\b\b\b\b\b\b\b\b\b\b\b\b\b\b\b\b\b\b\b\b\b\b\b\b\b\b\b\b\b\b\b\b\b\b\b\b\b\b\b\b\b\b\b\b\b\b\b\b\b\b\b\b\b\b\b\b\b\b\b\b\b\b\b\b\r",
      " 3/21 [===>..........................] - ETA: 1:26 - loss: 0.7859 - acc: 0.8831\b\b\b\b\b\b\b\b\b\b\b\b\b\b\b\b\b\b\b\b\b\b\b\b\b\b\b\b\b\b\b\b\b\b\b\b\b\b\b\b\b\b\b\b\b\b\b\b\b\b\b\b\b\b\b\b\b\b\b\b\b\b\b\b\b\b\b\b\b\b\b\b\b\b\b\b\b\b\b\r",
      " 4/21 [====>.........................] - ETA: 1:29 - loss: 0.8280 - acc: 0.8623\b\b\b\b\b\b\b\b\b\b\b\b\b\b\b\b\b\b\b\b\b\b\b\b\b\b\b\b\b\b\b\b\b\b\b\b\b\b\b\b\b\b\b\b\b\b\b\b\b\b\b\b\b\b\b\b\b\b\b\b\b\b\b\b\b\b\b\b\b\b\b\b\b\b\b\b\b\b\b\r",
      " 5/21 [======>.......................] - ETA: 1:28 - loss: 0.8045 - acc: 0.8818\b\b\b\b\b\b\b\b\b\b\b\b\b\b\b\b\b\b\b\b\b\b\b\b\b\b\b\b\b\b\b\b\b\b\b\b\b\b\b\b\b\b\b\b\b\b\b\b\b\b\b\b\b\b\b\b\b\b\b\b\b\b\b\b\b\b\b\b\b\b\b\b\b\b\b\b\b\b\b\r",
      " 6/21 [=======>......................] - ETA: 1:25 - loss: 0.8052 - acc: 0.8782\b\b\b\b\b\b\b\b\b\b\b\b\b\b\b\b\b\b\b\b\b\b\b\b\b\b\b\b\b\b\b\b\b\b\b\b\b\b\b\b\b\b\b\b\b\b\b\b\b\b\b\b\b\b\b\b\b\b\b\b\b\b\b\b\b\b\b\b\b\b\b\b\b\b\b\b\b\b\b\r",
      " 7/21 [=========>....................] - ETA: 1:22 - loss: 0.7952 - acc: 0.8842\b\b\b\b\b\b\b\b\b\b\b\b\b\b\b\b\b\b\b\b\b\b\b\b\b\b\b\b\b\b\b\b\b\b\b\b\b\b\b\b\b\b\b\b\b\b\b\b\b\b\b\b\b\b\b\b\b\b\b\b\b\b\b\b\b\b\b\b\b\b\b\b\b\b\b\b\b\b\b\r",
      " 8/21 [==========>...................] - ETA: 1:17 - loss: 0.7915 - acc: 0.8862\b\b\b\b\b\b\b\b\b\b\b\b\b\b\b\b\b\b\b\b\b\b\b\b\b\b\b\b\b\b\b\b\b\b\b\b\b\b\b\b\b\b\b\b\b\b\b\b\b\b\b\b\b\b\b\b\b\b\b\b\b\b\b\b\b\b\b\b\b\b\b\b\b\b\b\b\b\b\b\r",
      " 9/21 [===========>..................] - ETA: 1:12 - loss: 0.7876 - acc: 0.8855\b\b\b\b\b\b\b\b\b\b\b\b\b\b\b\b\b\b\b\b\b\b\b\b\b\b\b\b\b\b\b\b\b\b\b\b\b\b\b\b\b\b\b\b\b\b\b\b\b\b\b\b\b\b\b\b\b\b\b\b\b\b\b\b\b\b\b\b\b\b\b\b\b\b\b\b\b\b\b\r",
      "10/21 [=============>................] - ETA: 1:06 - loss: 0.7857 - acc: 0.8869\b\b\b\b\b\b\b\b\b\b\b\b\b\b\b\b\b\b\b\b\b\b\b\b\b\b\b\b\b\b\b\b\b\b\b\b\b\b\b\b\b\b\b\b\b\b\b\b\b\b\b\b\b\b\b\b\b\b\b\b\b\b\b\b\b\b\b\b\b\b\b\b\b\b\b\b\b\b\b\r",
      "11/21 [==============>...............] - ETA: 1:00 - loss: 0.7763 - acc: 0.8936\b\b\b\b\b\b\b\b\b\b\b\b\b\b\b\b\b\b\b\b\b\b\b\b\b\b\b\b\b\b\b\b\b\b\b\b\b\b\b\b\b\b\b\b\b\b\b\b\b\b\b\b\b\b\b\b\b\b\b\b\b\b\b\b\b\b\b\b\b\b\b\b\b\b\b\b\b\b\b\r",
      "12/21 [================>.............] - ETA: 55s - loss: 0.7770 - acc: 0.8941 \b\b\b\b\b\b\b\b\b\b\b\b\b\b\b\b\b\b\b\b\b\b\b\b\b\b\b\b\b\b\b\b\b\b\b\b\b\b\b\b\b\b\b\b\b\b\b\b\b\b\b\b\b\b\b\b\b\b\b\b\b\b\b\b\b\b\b\b\b\b\b\b\b\b\b\b\b\b\r",
      "13/21 [=================>............] - ETA: 49s - loss: 0.7752 - acc: 0.8930\b\b\b\b\b\b\b\b\b\b\b\b\b\b\b\b\b\b\b\b\b\b\b\b\b\b\b\b\b\b\b\b\b\b\b\b\b\b\b\b\b\b\b\b\b\b\b\b\b\b\b\b\b\b\b\b\b\b\b\b\b\b\b\b\b\b\b\b\b\b\b\b\b\b\b\b\b\b\r",
      "14/21 [===================>..........] - ETA: 43s - loss: 0.7704 - acc: 0.8964\b\b\b\b\b\b\b\b\b\b\b\b\b\b\b\b\b\b\b\b\b\b\b\b\b\b\b\b\b\b\b\b\b\b\b\b\b\b\b\b\b\b\b\b\b\b\b\b\b\b\b\b\b\b\b\b\b\b\b\b\b\b\b\b\b\b\b\b\b\b\b\b\b\b\b\b\b\b\r",
      "15/21 [====================>.........] - ETA: 37s - loss: 0.7661 - acc: 0.8993\b\b\b\b\b\b\b\b\b\b\b\b\b\b\b\b\b\b\b\b\b\b\b\b\b\b\b\b\b\b\b\b\b\b\b\b\b\b\b\b\b\b\b\b\b\b\b\b\b\b\b\b\b\b\b\b\b\b\b\b\b\b\b\b\b\b\b\b\b\b\b\b\b\b\b\b\b\b\r",
      "16/21 [=====================>........] - ETA: 31s - loss: 0.7637 - acc: 0.9018\b\b\b\b\b\b\b\b\b\b\b\b\b\b\b\b\b\b\b\b\b\b\b\b\b\b\b\b\b\b\b\b\b\b\b\b\b\b\b\b\b\b\b\b\b\b\b\b\b\b\b\b\b\b\b\b\b\b\b\b\b\b\b\b\b\b\b\b\b\b\b\b\b\b\b\b\b\b\r",
      "17/21 [=======================>......] - ETA: 24s - loss: 0.7635 - acc: 0.9005\b\b\b\b\b\b\b\b\b\b\b\b\b\b\b\b\b\b\b\b\b\b\b\b\b\b\b\b\b\b\b\b\b\b\b\b\b\b\b\b\b\b\b\b\b\b\b\b\b\b\b\b\b\b\b\b\b\b\b\b\b\b\b\b\b\b\b\b\b\b\b\b\b\b\b\b\b\b\r",
      "18/21 [========================>.....] - ETA: 18s - loss: 0.7668 - acc: 0.8983\b\b\b\b\b\b\b\b\b\b\b\b\b\b\b\b\b\b\b\b\b\b\b\b\b\b\b\b\b\b\b\b\b\b\b\b\b\b\b\b\b\b\b\b\b\b\b\b\b\b\b\b\b\b\b\b\b\b\b\b\b\b\b\b\b\b\b\b\b\b\b\b\b\b\b\b\b\b\r",
      "19/21 [==========================>...] - ETA: 12s - loss: 0.7674 - acc: 0.8994\b\b\b\b\b\b\b\b\b\b\b\b\b\b\b\b\b\b\b\b\b\b\b\b\b\b\b\b\b\b\b\b\b\b\b\b\b\b\b\b\b\b\b\b\b\b\b\b\b\b\b\b\b\b\b\b\b\b\b\b\b\b\b\b\b\b\b\b\b\b\b\b\b\b\b\b\b\b\r",
      "20/21 [===========================>..] - ETA: 6s - loss: 0.7669 - acc: 0.8985 \b\b\b\b\b\b\b\b\b\b\b\b\b\b\b\b\b\b\b\b\b\b\b\b\b\b\b\b\b\b\b\b\b\b\b\b\b\b\b\b\b\b\b\b\b\b\b\b\b\b\b\b\b\b\b\b\b\b\b\b\b\b\b\b\b\b\b\b\b\b\b\b\b\b\b\b\b\r",
      "21/21 [==============================] - 135s 6s/step - loss: 0.7652 - acc: 0.8997 - val_loss: 0.7663 - val_acc: 0.8800\n",
      "Epoch 4/100\n",
      "\r",
      " 1/21 [>.............................] - ETA: 2:13 - loss: 0.7706 - acc: 0.8600\b\b\b\b\b\b\b\b\b\b\b\b\b\b\b\b\b\b\b\b\b\b\b\b\b\b\b\b\b\b\b\b\b\b\b\b\b\b\b\b\b\b\b\b\b\b\b\b\b\b\b\b\b\b\b\b\b\b\b\b\b\b\b\b\b\b\b\b\b\b\b\b\b\b\b\b\b\b\b\r",
      " 2/21 [=>............................] - ETA: 2:08 - loss: 0.7357 - acc: 0.9000\b\b\b\b\b\b\b\b\b\b\b\b\b\b\b\b\b\b\b\b\b\b\b\b\b\b\b\b\b\b\b\b\b\b\b\b\b\b\b\b\b\b\b\b\b\b\b\b\b\b\b\b\b\b\b\b\b\b\b\b\b\b\b\b\b\b\b\b\b\b\b\b\b\b\b\b\b\b\b\r",
      " 3/21 [===>..........................] - ETA: 1:30 - loss: 0.8414 - acc: 0.8308\b\b\b\b\b\b\b\b\b\b\b\b\b\b\b\b\b\b\b\b\b\b\b\b\b\b\b\b\b\b\b\b\b\b\b\b\b\b\b\b\b\b\b\b\b\b\b\b\b\b\b\b\b\b\b\b\b\b\b\b\b\b\b\b\b\b\b\b\b\b\b\b\b\b\b\b\b\b\b\r",
      " 4/21 [====>.........................] - ETA: 1:32 - loss: 0.8379 - acc: 0.8331\b\b\b\b\b\b\b\b\b\b\b\b\b\b\b\b\b\b\b\b\b\b\b\b\b\b\b\b\b\b\b\b\b\b\b\b\b\b\b\b\b\b\b\b\b\b\b\b\b\b\b\b\b\b\b\b\b\b\b\b\b\b\b\b\b\b\b\b\b\b\b\b\b\b\b\b\b\b\b\r",
      " 5/21 [======>.......................] - ETA: 1:30 - loss: 0.8206 - acc: 0.8425\b\b\b\b\b\b\b\b\b\b\b\b\b\b\b\b\b\b\b\b\b\b\b\b\b\b\b\b\b\b\b\b\b\b\b\b\b\b\b\b\b\b\b\b\b\b\b\b\b\b\b\b\b\b\b\b\b\b\b\b\b\b\b\b\b\b\b\b\b\b\b\b\b\b\b\b\b\b\b\r",
      " 6/21 [=======>......................] - ETA: 1:26 - loss: 0.8420 - acc: 0.8287\b\b\b\b\b\b\b\b\b\b\b\b\b\b\b\b\b\b\b\b\b\b\b\b\b\b\b\b\b\b\b\b\b\b\b\b\b\b\b\b\b\b\b\b\b\b\b\b\b\b\b\b\b\b\b\b\b\b\b\b\b\b\b\b\b\b\b\b\b\b\b\b\b\b\b\b\b\b\b\r",
      " 7/21 [=========>....................] - ETA: 1:22 - loss: 0.8432 - acc: 0.8303\b\b\b\b\b\b\b\b\b\b\b\b\b\b\b\b\b\b\b\b\b\b\b\b\b\b\b\b\b\b\b\b\b\b\b\b\b\b\b\b\b\b\b\b\b\b\b\b\b\b\b\b\b\b\b\b\b\b\b\b\b\b\b\b\b\b\b\b\b\b\b\b\b\b\b\b\b\b\b\r",
      " 8/21 [==========>...................] - ETA: 1:17 - loss: 0.8312 - acc: 0.8390\b\b\b\b\b\b\b\b\b\b\b\b\b\b\b\b\b\b\b\b\b\b\b\b\b\b\b\b\b\b\b\b\b\b\b\b\b\b\b\b\b\b\b\b\b\b\b\b\b\b\b\b\b\b\b\b\b\b\b\b\b\b\b\b\b\b\b\b\b\b\b\b\b\b\b\b\b\b\b\r",
      " 9/21 [===========>..................] - ETA: 1:12 - loss: 0.8157 - acc: 0.8547\b\b\b\b\b\b\b\b\b\b\b\b\b\b\b\b\b\b\b\b\b\b\b\b\b\b\b\b\b\b\b\b\b\b\b\b\b\b\b\b\b\b\b\b\b\b\b\b\b\b\b\b\b\b\b\b\b\b\b\b\b\b\b\b\b\b\b\b\b\b\b\b\b\b\b\b\b\b\b\r",
      "10/21 [=============>................] - ETA: 1:07 - loss: 0.8017 - acc: 0.8612\b\b\b\b\b\b\b\b\b\b\b\b\b\b\b\b\b\b\b\b\b\b\b\b\b\b\b\b\b\b\b\b\b\b\b\b\b\b\b\b\b\b\b\b\b\b\b\b\b\b\b\b\b\b\b\b\b\b\b\b\b\b\b\b\b\b\b\b\b\b\b\b\b\b\b\b\b\b\b\r",
      "11/21 [==============>...............] - ETA: 1:01 - loss: 0.8150 - acc: 0.8557\b\b\b\b\b\b\b\b\b\b\b\b\b\b\b\b\b\b\b\b\b\b\b\b\b\b\b\b\b\b\b\b\b\b\b\b\b\b\b\b\b\b\b\b\b\b\b\b\b\b\b\b\b\b\b\b\b\b\b\b\b\b\b\b\b\b\b\b\b\b\b\b\b\b\b\b\b\b\b\r",
      "12/21 [================>.............] - ETA: 55s - loss: 0.8152 - acc: 0.8594 \b\b\b\b\b\b\b\b\b\b\b\b\b\b\b\b\b\b\b\b\b\b\b\b\b\b\b\b\b\b\b\b\b\b\b\b\b\b\b\b\b\b\b\b\b\b\b\b\b\b\b\b\b\b\b\b\b\b\b\b\b\b\b\b\b\b\b\b\b\b\b\b\b\b\b\b\b\b\r",
      "13/21 [=================>............] - ETA: 49s - loss: 0.8025 - acc: 0.8656\b\b\b\b\b\b\b\b\b\b\b\b\b\b\b\b\b\b\b\b\b\b\b\b\b\b\b\b\b\b\b\b\b\b\b\b\b\b\b\b\b\b\b\b\b\b\b\b\b\b\b\b\b\b\b\b\b\b\b\b\b\b\b\b\b\b\b\b\b\b\b\b\b\b\b\b\b\b\r",
      "14/21 [===================>..........] - ETA: 43s - loss: 0.7906 - acc: 0.8709\b\b\b\b\b\b\b\b\b\b\b\b\b\b\b\b\b\b\b\b\b\b\b\b\b\b\b\b\b\b\b\b\b\b\b\b\b\b\b\b\b\b\b\b\b\b\b\b\b\b\b\b\b\b\b\b\b\b\b\b\b\b\b\b\b\b\b\b\b\b\b\b\b\b\b\b\b\b\r",
      "15/21 [====================>.........] - ETA: 37s - loss: 0.7898 - acc: 0.8755\b\b\b\b\b\b\b\b\b\b\b\b\b\b\b\b\b\b\b\b\b\b\b\b\b\b\b\b\b\b\b\b\b\b\b\b\b\b\b\b\b\b\b\b\b\b\b\b\b\b\b\b\b\b\b\b\b\b\b\b\b\b\b\b\b\b\b\b\b\b\b\b\b\b\b\b\b\b\r",
      "16/21 [=====================>........] - ETA: 31s - loss: 0.7829 - acc: 0.8808\b\b\b\b\b\b\b\b\b\b\b\b\b\b\b\b\b\b\b\b\b\b\b\b\b\b\b\b\b\b\b\b\b\b\b\b\b\b\b\b\b\b\b\b\b\b\b\b\b\b\b\b\b\b\b\b\b\b\b\b\b\b\b\b\b\b\b\b\b\b\b\b\b\b\b\b\b\b\r",
      "17/21 [=======================>......] - ETA: 25s - loss: 0.7830 - acc: 0.8819\b\b\b\b\b\b\b\b\b\b\b\b\b\b\b\b\b\b\b\b\b\b\b\b\b\b\b\b\b\b\b\b\b\b\b\b\b\b\b\b\b\b\b\b\b\b\b\b\b\b\b\b\b\b\b\b\b\b\b\b\b\b\b\b\b\b\b\b\b\b\b\b\b\b\b\b\b\b\r",
      "18/21 [========================>.....] - ETA: 18s - loss: 0.7896 - acc: 0.8840\b\b\b\b\b\b\b\b\b\b\b\b\b\b\b\b\b\b\b\b\b\b\b\b\b\b\b\b\b\b\b\b\b\b\b\b\b\b\b\b\b\b\b\b\b\b\b\b\b\b\b\b\b\b\b\b\b\b\b\b\b\b\b\b\b\b\b\b\b\b\b\b\b\b\b\b\b\b\r",
      "19/21 [==========================>...] - ETA: 12s - loss: 0.7928 - acc: 0.8859\b\b\b\b\b\b\b\b\b\b\b\b\b\b\b\b\b\b\b\b\b\b\b\b\b\b\b\b\b\b\b\b\b\b\b\b\b\b\b\b\b\b\b\b\b\b\b\b\b\b\b\b\b\b\b\b\b\b\b\b\b\b\b\b\b\b\b\b\b\b\b\b\b\b\b\b\b\b\r",
      "20/21 [===========================>..] - ETA: 6s - loss: 0.7978 - acc: 0.8846 \b\b\b\b\b\b\b\b\b\b\b\b\b\b\b\b\b\b\b\b\b\b\b\b\b\b\b\b\b\b\b\b\b\b\b\b\b\b\b\b\b\b\b\b\b\b\b\b\b\b\b\b\b\b\b\b\b\b\b\b\b\b\b\b\b\b\b\b\b\b\b\b\b\b\b\b\b\r",
      "21/21 [==============================] - 137s 7s/step - loss: 0.8018 - acc: 0.8838 - val_loss: 1.1086 - val_acc: 0.7800\n",
      "Epoch 5/100\n",
      "\r",
      " 1/21 [>.............................] - ETA: 2:09 - loss: 0.7032 - acc: 0.9200\b\b\b\b\b\b\b\b\b\b\b\b\b\b\b\b\b\b\b\b\b\b\b\b\b\b\b\b\b\b\b\b\b\b\b\b\b\b\b\b\b\b\b\b\b\b\b\b\b\b\b\b\b\b\b\b\b\b\b\b\b\b\b\b\b\b\b\b\b\b\b\b\b\b\b\b\b\b\b\r",
      " 2/21 [=>............................] - ETA: 2:02 - loss: 0.7103 - acc: 0.9300\b\b\b\b\b\b\b\b\b\b\b\b\b\b\b\b\b\b\b\b\b\b\b\b\b\b\b\b\b\b\b\b\b\b\b\b\b\b\b\b\b\b\b\b\b\b\b\b\b\b\b\b\b\b\b\b\b\b\b\b\b\b\b\b\b\b\b\b\b\b\b\b\b\b\b\b\b\b\b\r",
      " 3/21 [===>..........................] - ETA: 1:55 - loss: 0.7770 - acc: 0.9000\b\b\b\b\b\b\b\b\b\b\b\b\b\b\b\b\b\b\b\b\b\b\b\b\b\b\b\b\b\b\b\b\b\b\b\b\b\b\b\b\b\b\b\b\b\b\b\b\b\b\b\b\b\b\b\b\b\b\b\b\b\b\b\b\b\b\b\b\b\b\b\b\b\b\b\b\b\b\b\r",
      " 4/21 [====>.........................] - ETA: 1:28 - loss: 0.9306 - acc: 0.8865\b\b\b\b\b\b\b\b\b\b\b\b\b\b\b\b\b\b\b\b\b\b\b\b\b\b\b\b\b\b\b\b\b\b\b\b\b\b\b\b\b\b\b\b\b\b\b\b\b\b\b\b\b\b\b\b\b\b\b\b\b\b\b\b\b\b\b\b\b\b\b\b\b\b\b\b\b\b\b\r",
      " 5/21 [======>.......................] - ETA: 1:27 - loss: 0.8844 - acc: 0.9012\b\b\b\b\b\b\b\b\b\b\b\b\b\b\b\b\b\b\b\b\b\b\b\b\b\b\b\b\b\b\b\b\b\b\b\b\b\b\b\b\b\b\b\b\b\b\b\b\b\b\b\b\b\b\b\b\b\b\b\b\b\b\b\b\b\b\b\b\b\b\b\b\b\b\b\b\b\b\b\r",
      " 6/21 [=======>......................] - ETA: 1:25 - loss: 0.8661 - acc: 0.8977\b\b\b\b\b\b\b\b\b\b\b\b\b\b\b\b\b\b\b\b\b\b\b\b\b\b\b\b\b\b\b\b\b\b\b\b\b\b\b\b\b\b\b\b\b\b\b\b\b\b\b\b\b\b\b\b\b\b\b\b\b\b\b\b\b\b\b\b\b\b\b\b\b\b\b\b\b\b\b\r",
      " 7/21 [=========>....................] - ETA: 1:21 - loss: 0.8350 - acc: 0.9095\b\b\b\b\b\b\b\b\b\b\b\b\b\b\b\b\b\b\b\b\b\b\b\b\b\b\b\b\b\b\b\b\b\b\b\b\b\b\b\b\b\b\b\b\b\b\b\b\b\b\b\b\b\b\b\b\b\b\b\b\b\b\b\b\b\b\b\b\b\b\b\b\b\b\b\b\b\b\b\r",
      " 8/21 [==========>...................] - ETA: 1:16 - loss: 0.8270 - acc: 0.9108\b\b\b\b\b\b\b\b\b\b\b\b\b\b\b\b\b\b\b\b\b\b\b\b\b\b\b\b\b\b\b\b\b\b\b\b\b\b\b\b\b\b\b\b\b\b\b\b\b\b\b\b\b\b\b\b\b\b\b\b\b\b\b\b\b\b\b\b\b\b\b\b\b\b\b\b\b\b\b\r",
      " 9/21 [===========>..................] - ETA: 1:11 - loss: 0.8291 - acc: 0.9007\b\b\b\b\b\b\b\b\b\b\b\b\b\b\b\b\b\b\b\b\b\b\b\b\b\b\b\b\b\b\b\b\b\b\b\b\b\b\b\b\b\b\b\b\b\b\b\b\b\b\b\b\b\b\b\b\b\b\b\b\b\b\b\b\b\b\b\b\b\b\b\b\b\b\b\b\b\b\b\r",
      "10/21 [=============>................] - ETA: 1:06 - loss: 0.8253 - acc: 0.8986\b\b\b\b\b\b\b\b\b\b\b\b\b\b\b\b\b\b\b\b\b\b\b\b\b\b\b\b\b\b\b\b\b\b\b\b\b\b\b\b\b\b\b\b\b\b\b\b\b\b\b\b\b\b\b\b\b\b\b\b\b\b\b\b\b\b\b\b\b\b\b\b\b\b\b\b\b\b\b\r",
      "11/21 [==============>...............] - ETA: 1:01 - loss: 0.8114 - acc: 0.9042\b\b\b\b\b\b\b\b\b\b\b\b\b\b\b\b\b\b\b\b\b\b\b\b\b\b\b\b\b\b\b\b\b\b\b\b\b\b\b\b\b\b\b\b\b\b\b\b\b\b\b\b\b\b\b\b\b\b\b\b\b\b\b\b\b\b\b\b\b\b\b\b\b\b\b\b\b\b\b\r",
      "12/21 [================>.............] - ETA: 55s - loss: 0.8064 - acc: 0.9038 \b\b\b\b\b\b\b\b\b\b\b\b\b\b\b\b\b\b\b\b\b\b\b\b\b\b\b\b\b\b\b\b\b\b\b\b\b\b\b\b\b\b\b\b\b\b\b\b\b\b\b\b\b\b\b\b\b\b\b\b\b\b\b\b\b\b\b\b\b\b\b\b\b\b\b\b\b\b\r",
      "13/21 [=================>............] - ETA: 49s - loss: 0.8071 - acc: 0.9036\b\b\b\b\b\b\b\b\b\b\b\b\b\b\b\b\b\b\b\b\b\b\b\b\b\b\b\b\b\b\b\b\b\b\b\b\b\b\b\b\b\b\b\b\b\b\b\b\b\b\b\b\b\b\b\b\b\b\b\b\b\b\b\b\b\b\b\b\b\b\b\b\b\b\b\b\b\b\r",
      "14/21 [===================>..........] - ETA: 43s - loss: 0.8005 - acc: 0.9076\b\b\b\b\b\b\b\b\b\b\b\b\b\b\b\b\b\b\b\b\b\b\b\b\b\b\b\b\b\b\b\b\b\b\b\b\b\b\b\b\b\b\b\b\b\b\b\b\b\b\b\b\b\b\b\b\b\b\b\b\b\b\b\b\b\b\b\b\b\b\b\b\b\b\b\b\b\b\r",
      "15/21 [====================>.........] - ETA: 37s - loss: 0.7950 - acc: 0.9111\b\b\b\b\b\b\b\b\b\b\b\b\b\b\b\b\b\b\b\b\b\b\b\b\b\b\b\b\b\b\b\b\b\b\b\b\b\b\b\b\b\b\b\b\b\b\b\b\b\b\b\b\b\b\b\b\b\b\b\b\b\b\b\b\b\b\b\b\b\b\b\b\b\b\b\b\b\b\r",
      "16/21 [=====================>........] - ETA: 31s - loss: 0.7944 - acc: 0.9104\b\b\b\b\b\b\b\b\b\b\b\b\b\b\b\b\b\b\b\b\b\b\b\b\b\b\b\b\b\b\b\b\b\b\b\b\b\b\b\b\b\b\b\b\b\b\b\b\b\b\b\b\b\b\b\b\b\b\b\b\b\b\b\b\b\b\b\b\b\b\b\b\b\b\b\b\b\b\r",
      "17/21 [=======================>......] - ETA: 25s - loss: 0.7918 - acc: 0.9110\b\b\b\b\b\b\b\b\b\b\b\b\b\b\b\b\b\b\b\b\b\b\b\b\b\b\b\b\b\b\b\b\b\b\b\b\b\b\b\b\b\b\b\b\b\b\b\b\b\b\b\b\b\b\b\b\b\b\b\b\b\b\b\b\b\b\b\b\b\b\b\b\b\b\b\b\b\b\r",
      "18/21 [========================>.....] - ETA: 19s - loss: 0.7875 - acc: 0.9115\b\b\b\b\b\b\b\b\b\b\b\b\b\b\b\b\b\b\b\b\b\b\b\b\b\b\b\b\b\b\b\b\b\b\b\b\b\b\b\b\b\b\b\b\b\b\b\b\b\b\b\b\b\b\b\b\b\b\b\b\b\b\b\b\b\b\b\b\b\b\b\b\b\b\b\b\b\b\r",
      "19/21 [==========================>...] - ETA: 12s - loss: 0.7846 - acc: 0.9119\b\b\b\b\b\b\b\b\b\b\b\b\b\b\b\b\b\b\b\b\b\b\b\b\b\b\b\b\b\b\b\b\b\b\b\b\b\b\b\b\b\b\b\b\b\b\b\b\b\b\b\b\b\b\b\b\b\b\b\b\b\b\b\b\b\b\b\b\b\b\b\b\b\b\b\b\b\b\r",
      "20/21 [===========================>..] - ETA: 6s - loss: 0.7850 - acc: 0.9113 \b\b\b\b\b\b\b\b\b\b\b\b\b\b\b\b\b\b\b\b\b\b\b\b\b\b\b\b\b\b\b\b\b\b\b\b\b\b\b\b\b\b\b\b\b\b\b\b\b\b\b\b\b\b\b\b\b\b\b\b\b\b\b\b\b\b\b\b\b\b\b\b\b\b\b\b\b\r",
      "21/21 [==============================] - 138s 7s/step - loss: 0.7848 - acc: 0.9109 - val_loss: 0.7836 - val_acc: 0.9000\n",
      "Epoch 6/100\n",
      "\r",
      " 1/21 [>.............................] - ETA: 2:10 - loss: 0.7388 - acc: 0.9000\b\b\b\b\b\b\b\b\b\b\b\b\b\b\b\b\b\b\b\b\b\b\b\b\b\b\b\b\b\b\b\b\b\b\b\b\b\b\b\b\b\b\b\b\b\b\b\b\b\b\b\b\b\b\b\b\b\b\b\b\b\b\b\b\b\b\b\b\b\b\b\b\b\b\b\b\b\b\b\r",
      " 2/21 [=>............................] - ETA: 2:04 - loss: 0.7070 - acc: 0.9300\b\b\b\b\b\b\b\b\b\b\b\b\b\b\b\b\b\b\b\b\b\b\b\b\b\b\b\b\b\b\b\b\b\b\b\b\b\b\b\b\b\b\b\b\b\b\b\b\b\b\b\b\b\b\b\b\b\b\b\b\b\b\b\b\b\b\b\b\b\b\b\b\b\b\b\b\b\b\b\r",
      " 3/21 [===>..........................] - ETA: 1:57 - loss: 0.7536 - acc: 0.9133\b\b\b\b\b\b\b\b\b\b\b\b\b\b\b\b\b\b\b\b\b\b\b\b\b\b\b\b\b\b\b\b\b\b\b\b\b\b\b\b\b\b\b\b\b\b\b\b\b\b\b\b\b\b\b\b\b\b\b\b\b\b\b\b\b\b\b\b\b\b\b\b\b\b\b\b\b\b\b\r",
      " 4/21 [====>.........................] - ETA: 1:51 - loss: 0.7794 - acc: 0.8900\b\b\b\b\b\b\b\b\b\b\b\b\b\b\b\b\b\b\b\b\b\b\b\b\b\b\b\b\b\b\b\b\b\b\b\b\b\b\b\b\b\b\b\b\b\b\b\b\b\b\b\b\b\b\b\b\b\b\b\b\b\b\b\b\b\b\b\b\b\b\b\b\b\b\b\b\b\b\b\r",
      " 5/21 [======>.......................] - ETA: 1:28 - loss: 0.8435 - acc: 0.8812\b\b\b\b\b\b\b\b\b\b\b\b\b\b\b\b\b\b\b\b\b\b\b\b\b\b\b\b\b\b\b\b\b\b\b\b\b\b\b\b\b\b\b\b\b\b\b\b\b\b\b\b\b\b\b\b\b\b\b\b\b\b\b\b\b\b\b\b\b\b\b\b\b\b\b\b\b\b\b\r",
      " 6/21 [=======>......................] - ETA: 1:25 - loss: 0.8178 - acc: 0.8944\b\b\b\b\b\b\b\b\b\b\b\b\b\b\b\b\b\b\b\b\b\b\b\b\b\b\b\b\b\b\b\b\b\b\b\b\b\b\b\b\b\b\b\b\b\b\b\b\b\b\b\b\b\b\b\b\b\b\b\b\b\b\b\b\b\b\b\b\b\b\b\b\b\b\b\b\b\b\b\r",
      " 7/21 [=========>....................] - ETA: 1:21 - loss: 0.8092 - acc: 0.8923\b\b\b\b\b\b\b\b\b\b\b\b\b\b\b\b\b\b\b\b\b\b\b\b\b\b\b\b\b\b\b\b\b\b\b\b\b\b\b\b\b\b\b\b\b\b\b\b\b\b\b\b\b\b\b\b\b\b\b\b\b\b\b\b\b\b\b\b\b\b\b\b\b\b\b\b\b\b\b\r",
      " 8/21 [==========>...................] - ETA: 1:16 - loss: 0.8098 - acc: 0.8858\b\b\b\b\b\b\b\b\b\b\b\b\b\b\b\b\b\b\b\b\b\b\b\b\b\b\b\b\b\b\b\b\b\b\b\b\b\b\b\b\b\b\b\b\b\b\b\b\b\b\b\b\b\b\b\b\b\b\b\b\b\b\b\b\b\b\b\b\b\b\b\b\b\b\b\b\b\b\b\r",
      " 9/21 [===========>..................] - ETA: 1:11 - loss: 0.7995 - acc: 0.8896\b\b\b\b\b\b\b\b\b\b\b\b\b\b\b\b\b\b\b\b\b\b\b\b\b\b\b\b\b\b\b\b\b\b\b\b\b\b\b\b\b\b\b\b\b\b\b\b\b\b\b\b\b\b\b\b\b\b\b\b\b\b\b\b\b\b\b\b\b\b\b\b\b\b\b\b\b\b\b\r",
      "10/21 [=============>................] - ETA: 1:06 - loss: 0.7875 - acc: 0.8946\b\b\b\b\b\b\b\b\b\b\b\b\b\b\b\b\b\b\b\b\b\b\b\b\b\b\b\b\b\b\b\b\b\b\b\b\b\b\b\b\b\b\b\b\b\b\b\b\b\b\b\b\b\b\b\b\b\b\b\b\b\b\b\b\b\b\b\b\b\b\b\b\b\b\b\b\b\b\b\r",
      "11/21 [==============>...............] - ETA: 1:00 - loss: 0.7746 - acc: 0.9006\b\b\b\b\b\b\b\b\b\b\b\b\b\b\b\b\b\b\b\b\b\b\b\b\b\b\b\b\b\b\b\b\b\b\b\b\b\b\b\b\b\b\b\b\b\b\b\b\b\b\b\b\b\b\b\b\b\b\b\b\b\b\b\b\b\b\b\b\b\b\b\b\b\b\b\b\b\b\b\r",
      "12/21 [================>.............] - ETA: 55s - loss: 0.7695 - acc: 0.9022 \b\b\b\b\b\b\b\b\b\b\b\b\b\b\b\b\b\b\b\b\b\b\b\b\b\b\b\b\b\b\b\b\b\b\b\b\b\b\b\b\b\b\b\b\b\b\b\b\b\b\b\b\b\b\b\b\b\b\b\b\b\b\b\b\b\b\b\b\b\b\b\b\b\b\b\b\b\b\r",
      "13/21 [=================>............] - ETA: 49s - loss: 0.7603 - acc: 0.9066\b\b\b\b\b\b\b\b\b\b\b\b\b\b\b\b\b\b\b\b\b\b\b\b\b\b\b\b\b\b\b\b\b\b\b\b\b\b\b\b\b\b\b\b\b\b\b\b\b\b\b\b\b\b\b\b\b\b\b\b\b\b\b\b\b\b\b\b\b\b\b\b\b\b\b\b\b\b\r",
      "14/21 [===================>..........] - ETA: 43s - loss: 0.7607 - acc: 0.9062\b\b\b\b\b\b\b\b\b\b\b\b\b\b\b\b\b\b\b\b\b\b\b\b\b\b\b\b\b\b\b\b\b\b\b\b\b\b\b\b\b\b\b\b\b\b\b\b\b\b\b\b\b\b\b\b\b\b\b\b\b\b\b\b\b\b\b\b\b\b\b\b\b\b\b\b\b\b\r",
      "15/21 [====================>.........] - ETA: 37s - loss: 0.7589 - acc: 0.9057\b\b\b\b\b\b\b\b\b\b\b\b\b\b\b\b\b\b\b\b\b\b\b\b\b\b\b\b\b\b\b\b\b\b\b\b\b\b\b\b\b\b\b\b\b\b\b\b\b\b\b\b\b\b\b\b\b\b\b\b\b\b\b\b\b\b\b\b\b\b\b\b\b\b\b\b\b\b\r",
      "16/21 [=====================>........] - ETA: 31s - loss: 0.7561 - acc: 0.9066\b\b\b\b\b\b\b\b\b\b\b\b\b\b\b\b\b\b\b\b\b\b\b\b\b\b\b\b\b\b\b\b\b\b\b\b\b\b\b\b\b\b\b\b\b\b\b\b\b\b\b\b\b\b\b\b\b\b\b\b\b\b\b\b\b\b\b\b\b\b\b\b\b\b\b\b\b\b\r",
      "17/21 [=======================>......] - ETA: 25s - loss: 0.7521 - acc: 0.9086\b\b\b\b\b\b\b\b\b\b\b\b\b\b\b\b\b\b\b\b\b\b\b\b\b\b\b\b\b\b\b\b\b\b\b\b\b\b\b\b\b\b\b\b\b\b\b\b\b\b\b\b\b\b\b\b\b\b\b\b\b\b\b\b\b\b\b\b\b\b\b\b\b\b\b\b\b\b\r",
      "18/21 [========================>.....] - ETA: 18s - loss: 0.7566 - acc: 0.9070\b\b\b\b\b\b\b\b\b\b\b\b\b\b\b\b\b\b\b\b\b\b\b\b\b\b\b\b\b\b\b\b\b\b\b\b\b\b\b\b\b\b\b\b\b\b\b\b\b\b\b\b\b\b\b\b\b\b\b\b\b\b\b\b\b\b\b\b\b\b\b\b\b\b\b\b\b\b\r",
      "19/21 [==========================>...] - ETA: 12s - loss: 0.7545 - acc: 0.9066\b\b\b\b\b\b\b\b\b\b\b\b\b\b\b\b\b\b\b\b\b\b\b\b\b\b\b\b\b\b\b\b\b\b\b\b\b\b\b\b\b\b\b\b\b\b\b\b\b\b\b\b\b\b\b\b\b\b\b\b\b\b\b\b\b\b\b\b\b\b\b\b\b\b\b\b\b\b\r",
      "20/21 [===========================>..] - ETA: 6s - loss: 0.7498 - acc: 0.9083 \b\b\b\b\b\b\b\b\b\b\b\b\b\b\b\b\b\b\b\b\b\b\b\b\b\b\b\b\b\b\b\b\b\b\b\b\b\b\b\b\b\b\b\b\b\b\b\b\b\b\b\b\b\b\b\b\b\b\b\b\b\b\b\b\b\b\b\b\b\b\b\b\b\b\b\b\b\r",
      "21/21 [==============================] - 136s 6s/step - loss: 0.7537 - acc: 0.9052 - val_loss: 0.7808 - val_acc: 0.9100\n",
      "Epoch 7/100\n",
      "\r",
      " 1/21 [>.............................] - ETA: 2:09 - loss: 0.7041 - acc: 0.9200\b\b\b\b\b\b\b\b\b\b\b\b\b\b\b\b\b\b\b\b\b\b\b\b\b\b\b\b\b\b\b\b\b\b\b\b\b\b\b\b\b\b\b\b\b\b\b\b\b\b\b\b\b\b\b\b\b\b\b\b\b\b\b\b\b\b\b\b\b\b\b\b\b\b\b\b\b\b\b\r",
      " 2/21 [=>............................] - ETA: 2:02 - loss:\n"
     ]
    }
   ],
   "source": [
    "file_out=captured.stdout\n",
    "print(file_out[:20000])"
   ]
  },
  {
   "cell_type": "code",
   "execution_count": 207,
   "metadata": {},
   "outputs": [
    {
     "name": "stdout",
     "output_type": "stream",
     "text": [
      "evaluating network...\n"
     ]
    }
   ],
   "source": [
    "# reset the testing generator and then use our trained model to make predictions on the data\n",
    "print(\"evaluating network...\")\n",
    "testing_generator.reset()\n",
    "predict_X_id = model.predict_generator(testing_generator,steps=(test_images // batch_size) + 1)"
   ]
  },
  {
   "cell_type": "markdown",
   "metadata": {},
   "source": [
    "Results look pretty good, I'm not sure I can get better than this. There is a possibility I could have some overfitting to my data; a common and notorious problem with neural networks."
   ]
  },
  {
   "cell_type": "code",
   "execution_count": 208,
   "metadata": {},
   "outputs": [
    {
     "name": "stdout",
     "output_type": "stream",
     "text": [
      "             precision    recall  f1-score   support\n",
      "\n",
      "      cases       0.87      0.96      0.91        80\n",
      "   controls       0.98      0.93      0.95       171\n",
      "\n",
      "avg / total       0.94      0.94      0.94       251\n",
      "\n"
     ]
    }
   ],
   "source": [
    "# for each image in the testing set we need to find the index of the label with corresponding largest predicted probability\n",
    "predict_X_id = np.argmax(predict_X_id, axis=1)\n",
    "\n",
    "# show a nicely formatted classification report\n",
    "print(classification_report(testing_generator.classes, predict_X_id,target_names=testing_generator.class_indices.keys()))"
   ]
  },
  {
   "cell_type": "code",
   "execution_count": 209,
   "metadata": {},
   "outputs": [
    {
     "data": {
      "text/html": [
       "        <script type=\"text/javascript\">\n",
       "        window.PlotlyConfig = {MathJaxConfig: 'local'};\n",
       "        if (window.MathJax) {MathJax.Hub.Config({SVG: {font: \"STIX-Web\"}});}\n",
       "        if (typeof require !== 'undefined') {\n",
       "        require.undef(\"plotly\");\n",
       "        requirejs.config({\n",
       "            paths: {\n",
       "                'plotly': ['https://cdn.plot.ly/plotly-latest.min']\n",
       "            }\n",
       "        });\n",
       "        require(['plotly'], function(Plotly) {\n",
       "            window._Plotly = Plotly;\n",
       "        });\n",
       "        }\n",
       "        </script>\n",
       "        "
      ]
     },
     "metadata": {},
     "output_type": "display_data"
    }
   ],
   "source": [
    "import plotly.offline as py\n",
    "import plotly.graph_objs as go\n",
    "py.init_notebook_mode(connected=True)\n",
    "%matplotlib inline"
   ]
  },
  {
   "cell_type": "code",
   "execution_count": 210,
   "metadata": {},
   "outputs": [
    {
     "data": {
      "application/vnd.plotly.v1+json": {
       "config": {
        "linkText": "Export to plot.ly",
        "plotlyServerURL": "https://plot.ly",
        "responsive": true,
        "showLink": false
       },
       "data": [
        {
         "line": {
          "color": "#f4a582"
         },
         "name": "Validation Loss",
         "opacity": 0.9,
         "type": "scatter",
         "uid": "b56ca8d8-fe45-4f51-8fe0-b3108761b259",
         "x": [
          0,
          1,
          2,
          3,
          4,
          5,
          6,
          7,
          8,
          9,
          10,
          11,
          12,
          13,
          14,
          15,
          16,
          17,
          18,
          19,
          20,
          21,
          22,
          23,
          24,
          25,
          26,
          27,
          28,
          29,
          30,
          31,
          32,
          33,
          34,
          35,
          36,
          37,
          38,
          39,
          40,
          41,
          42,
          43,
          44,
          45,
          46,
          47,
          48,
          49,
          50,
          51,
          52,
          53,
          54,
          55,
          56,
          57,
          58,
          59,
          60,
          61,
          62,
          63,
          64,
          65,
          66,
          67,
          68,
          69,
          70,
          71,
          72,
          73,
          74,
          75,
          76,
          77,
          78,
          79,
          80,
          81,
          82,
          83,
          84,
          85,
          86,
          87,
          88,
          89,
          90,
          91,
          92,
          93,
          94,
          95,
          96,
          97,
          98,
          99
         ],
         "y": [
          1.4587106108665466,
          0.995328813791275,
          0.7663341164588928,
          1.1086459159851074,
          0.7835658490657806,
          0.7807865142822266,
          0.7477751970291138,
          0.7408184707164764,
          0.9176650047302246,
          0.8731827139854431,
          0.745420902967453,
          0.7836695313453674,
          0.9523633122444153,
          0.8105859756469727,
          0.7106645107269287,
          0.7458429336547852,
          0.734880268573761,
          0.7540490329265594,
          0.72755166888237,
          0.7659525871276855,
          0.7720935046672821,
          0.7300340533256531,
          0.6963615715503693,
          0.725063681602478,
          0.8642975091934204,
          0.7353091835975647,
          0.6930392384529114,
          0.7280378341674805,
          0.7066967189311981,
          0.7384227216243744,
          0.8426960706710815,
          0.7969027459621429,
          0.7770268023014069,
          0.7627958655357361,
          0.7691178023815155,
          0.7415087521076202,
          0.7281408607959747,
          0.6988572478294373,
          0.6858609914779663,
          0.8336352109909058,
          0.6806858777999878,
          0.8053254783153534,
          0.6915352046489716,
          0.8033305406570435,
          0.7058307230472565,
          0.7383962869644165,
          0.7242784202098846,
          0.7856394052505493,
          0.7113407254219055,
          0.757230818271637,
          0.6751782596111298,
          0.7093284428119659,
          0.7163503170013428,
          0.6906383037567139,
          0.6694729626178741,
          0.712607204914093,
          0.7298980057239532,
          0.7775488495826721,
          0.9118669331073761,
          0.704504132270813,
          0.6964063346385956,
          0.7618803977966309,
          0.687922477722168,
          0.7342272102832794,
          0.7179862260818481,
          0.7042829096317291,
          0.7086292505264282,
          0.6700804829597473,
          0.693971574306488,
          0.7116223871707916,
          0.6777364611625671,
          0.6947652697563171,
          0.701860249042511,
          0.6720805466175079,
          0.7325981557369232,
          0.7524934709072113,
          0.7208819389343262,
          0.7593422532081604,
          0.8488733768463135,
          0.7091173529624939,
          0.7463776171207428,
          0.6779681444168091,
          0.6861267685890198,
          0.7196387946605682,
          0.7209001183509827,
          0.7013118863105774,
          0.7025281190872192,
          0.7005907595157623,
          0.7093490660190582,
          0.7196019291877747,
          0.6969742178916931,
          0.7084900438785553,
          0.6796109974384308,
          0.6845222115516663,
          0.6894640326499939,
          0.6815451383590698,
          0.685529887676239,
          0.6848456561565399,
          0.6838183104991913,
          0.6738969087600708
         ]
        },
        {
         "line": {
          "color": "#ca0020"
         },
         "name": "Validation Accuracy",
         "opacity": 0.9,
         "type": "scatter",
         "uid": "798ccdcb-b9ff-4eeb-a06d-de3280b9f090",
         "x": [
          0,
          1,
          2,
          3,
          4,
          5,
          6,
          7,
          8,
          9,
          10,
          11,
          12,
          13,
          14,
          15,
          16,
          17,
          18,
          19,
          20,
          21,
          22,
          23,
          24,
          25,
          26,
          27,
          28,
          29,
          30,
          31,
          32,
          33,
          34,
          35,
          36,
          37,
          38,
          39,
          40,
          41,
          42,
          43,
          44,
          45,
          46,
          47,
          48,
          49,
          50,
          51,
          52,
          53,
          54,
          55,
          56,
          57,
          58,
          59,
          60,
          61,
          62,
          63,
          64,
          65,
          66,
          67,
          68,
          69,
          70,
          71,
          72,
          73,
          74,
          75,
          76,
          77,
          78,
          79,
          80,
          81,
          82,
          83,
          84,
          85,
          86,
          87,
          88,
          89,
          90,
          91,
          92,
          93,
          94,
          95,
          96,
          97,
          98,
          99
         ],
         "y": [
          0.6599999964237213,
          0.8499999940395355,
          0.8799999952316284,
          0.7800000011920929,
          0.8999999761581421,
          0.9099999964237213,
          0.9300000071525574,
          0.9199999868869781,
          0.8600000143051147,
          0.8799999952316284,
          0.929999977350235,
          0.8999999761581421,
          0.8699999749660492,
          0.8999999761581421,
          0.929999977350235,
          0.9300000071525574,
          0.9199999868869781,
          0.9199999868869781,
          0.9399999976158142,
          0.8699999749660492,
          0.8799999952316284,
          0.9399999976158142,
          0.949999988079071,
          0.949999988079071,
          0.8799999952316284,
          0.929999977350235,
          0.9300000071525574,
          0.9399999976158142,
          0.949999988079071,
          0.9099999964237213,
          0.929999977350235,
          0.9099999964237213,
          0.8999999761581421,
          0.9099999964237213,
          0.9300000071525574,
          0.8999999761581421,
          0.949999988079071,
          0.949999988079071,
          0.9399999976158142,
          0.8999999761581421,
          0.9599999785423279,
          0.8900000154972076,
          0.9399999976158142,
          0.9099999964237213,
          0.9199999868869781,
          0.8899999856948853,
          0.9300000071525574,
          0.9000000059604645,
          0.9199999868869781,
          0.8799999952316284,
          0.9599999785423279,
          0.9399999976158142,
          0.949999988079071,
          0.9399999976158142,
          0.9399999976158142,
          0.9300000071525574,
          0.929999977350235,
          0.8899999856948853,
          0.8900000154972076,
          0.9500000178813934,
          0.949999988079071,
          0.8899999856948853,
          0.9699999988079071,
          0.9399999976158142,
          0.9599999785423279,
          0.9500000178813934,
          0.9500000178813934,
          0.9600000083446503,
          0.9600000083446503,
          0.9399999976158142,
          0.9600000083446503,
          0.9500000178813934,
          0.9600000083446503,
          0.9399999976158142,
          0.9600000083446503,
          0.9300000071525574,
          0.9500000178813934,
          0.9099999964237213,
          0.9199999868869781,
          0.9500000178813934,
          0.9500000178813934,
          0.9699999988079071,
          0.9600000083446503,
          0.9500000178813934,
          0.9600000083446503,
          0.9500000178813934,
          0.9500000178813934,
          0.9600000083446503,
          0.9600000083446503,
          0.9500000178813934,
          0.9600000083446503,
          0.9600000083446503,
          0.9699999988079071,
          0.9600000083446503,
          0.9600000083446503,
          0.9699999988079071,
          0.9600000083446503,
          0.9699999988079071,
          0.9600000083446503,
          0.9699999988079071
         ]
        },
        {
         "line": {
          "color": "#92c5de"
         },
         "name": "Predicted Loss",
         "opacity": 0.9,
         "type": "scatter",
         "uid": "eeb4253c-86d7-477b-a927-133245890801",
         "x": [
          0,
          1,
          2,
          3,
          4,
          5,
          6,
          7,
          8,
          9,
          10,
          11,
          12,
          13,
          14,
          15,
          16,
          17,
          18,
          19,
          20,
          21,
          22,
          23,
          24,
          25,
          26,
          27,
          28,
          29,
          30,
          31,
          32,
          33,
          34,
          35,
          36,
          37,
          38,
          39,
          40,
          41,
          42,
          43,
          44,
          45,
          46,
          47,
          48,
          49,
          50,
          51,
          52,
          53,
          54,
          55,
          56,
          57,
          58,
          59,
          60,
          61,
          62,
          63,
          64,
          65,
          66,
          67,
          68,
          69,
          70,
          71,
          72,
          73,
          74,
          75,
          76,
          77,
          78,
          79,
          80,
          81,
          82,
          83,
          84,
          85,
          86,
          87,
          88,
          89,
          90,
          91,
          92,
          93,
          94,
          95,
          96,
          97,
          98,
          99
         ],
         "y": [
          0.9363152271225339,
          0.8185953684996994,
          0.7582341517889017,
          0.7930137733363446,
          0.7636816028546016,
          0.741638179474969,
          0.7140775359394755,
          0.7451307475272665,
          0.7097111289616516,
          0.6867533716256385,
          0.709082705423839,
          0.6785517250797238,
          0.7186560201268323,
          0.7227393266361534,
          0.7043138798933039,
          0.653773348282026,
          0.6711084061290293,
          0.6400909432065687,
          0.6797030155656368,
          0.6610439975193434,
          0.6462099030246151,
          0.6708639009919124,
          0.643872720854623,
          0.63692642070228,
          0.6769756050477023,
          0.6424331308470309,
          0.6272956844261109,
          0.6330426500674414,
          0.628074812041807,
          0.6288045692420312,
          0.6582908067274894,
          0.6443392077179557,
          0.6059316096630643,
          0.5980781864555073,
          0.6223864439444622,
          0.602959438643592,
          0.5986038387586663,
          0.5830632143406619,
          0.5930144014269084,
          0.582651559127401,
          0.5845040421848353,
          0.5986291788525784,
          0.5997979509159702,
          0.5957095359414375,
          0.6009836934861683,
          0.6070663294104928,
          0.5880344072310851,
          0.6124400562971742,
          0.5846141351999206,
          0.6000967480587935,
          0.5752553582662185,
          0.5749813102899158,
          0.5809200333113261,
          0.5827896659136524,
          0.5570261521377073,
          0.557645994195345,
          0.5542249465977216,
          0.5765571126462441,
          0.5805471694245861,
          0.5821429347474154,
          0.5706138083047481,
          0.5698187601295652,
          0.572663558906299,
          0.567031755852205,
          0.5508416462156404,
          0.5502362271875643,
          0.5398037149792626,
          0.5522598796629835,
          0.5494591810272571,
          0.5524190365973959,
          0.5394534955843768,
          0.5504840978983007,
          0.5570068227574009,
          0.5481748070792173,
          0.5457443657302669,
          0.5436239862724447,
          0.539084425918677,
          0.5503220707619414,
          0.5504464509456556,
          0.5561950175571536,
          0.5462689564470478,
          0.5371107307850197,
          0.5328896948874644,
          0.5287441774864423,
          0.5254853003587563,
          0.5346273379758927,
          0.5256907846944118,
          0.5281893958108682,
          0.5232222931725639,
          0.5285886367828919,
          0.5256508205744262,
          0.5288914537382737,
          0.5282506153119869,
          0.5305476000372538,
          0.5365083610081838,
          0.5228873626618606,
          0.5216419211380103,
          0.5260674706333834,
          0.5233138431919057,
          0.5236348912840653
         ]
        },
        {
         "line": {
          "color": "#0571b0"
         },
         "name": "Predicted Accuracy",
         "opacity": 0.9,
         "type": "scatter",
         "uid": "82f77400-eef8-4980-a1b4-028818948a04",
         "x": [
          0,
          1,
          2,
          3,
          4,
          5,
          6,
          7,
          8,
          9,
          10,
          11,
          12,
          13,
          14,
          15,
          16,
          17,
          18,
          19,
          20,
          21,
          22,
          23,
          24,
          25,
          26,
          27,
          28,
          29,
          30,
          31,
          32,
          33,
          34,
          35,
          36,
          37,
          38,
          39,
          40,
          41,
          42,
          43,
          44,
          45,
          46,
          47,
          48,
          49,
          50,
          51,
          52,
          53,
          54,
          55,
          56,
          57,
          58,
          59,
          60,
          61,
          62,
          63,
          64,
          65,
          66,
          67,
          68,
          69,
          70,
          71,
          72,
          73,
          74,
          75,
          76,
          77,
          78,
          79,
          80,
          81,
          82,
          83,
          84,
          85,
          86,
          87,
          88,
          89,
          90,
          91,
          92,
          93,
          94,
          95,
          96,
          97,
          98,
          99
         ],
         "y": [
          0.7980952376411075,
          0.8696939763406186,
          0.904244814844028,
          0.8904244797368629,
          0.9131293116764396,
          0.9072063075119274,
          0.9190523158409518,
          0.9032576548382419,
          0.9210266514450518,
          0.9368213233331113,
          0.9190523234901165,
          0.9427443227904453,
          0.9210266558580313,
          0.9190523146641573,
          0.9259624876604146,
          0.957551824669965,
          0.9486673219535805,
          0.9536031669949026,
          0.9378084901054661,
          0.9457058222249135,
          0.9476801560638217,
          0.9417571536645014,
          0.9533333352633885,
          0.9526159931617805,
          0.9338598277232254,
          0.9536031640529162,
          0.9605133261638238,
          0.9664363294457401,
          0.955577489948461,
          0.953603153461765,
          0.947680159888404,
          0.9496544925505176,
          0.9664363273863495,
          0.9743336662723658,
          0.9595261564494827,
          0.964461994724236,
          0.9684106650498401,
          0.9802566616109187,
          0.9713721627191165,
          0.9753208292201382,
          0.9792695016051327,
          0.9713721588945342,
          0.9693978279976124,
          0.9723593336102523,
          0.9657142871902102,
          0.9615004941129731,
          0.9733464965580246,
          0.9595261593914691,
          0.9743336633303794,
          0.9615004911709867,
          0.9772951580576694,
          0.9772951668836287,
          0.9753208274549463,
          0.9782823327733875,
          0.9891411663866937,
          0.9842053398798861,
          0.9851925028276585,
          0.9723593268436835,
          0.974333664507174,
          0.9743336624477834,
          0.9743336662723658,
          0.9782823251242229,
          0.9763080001112739,
          0.9782823348327779,
          0.983218164281572,
          0.9881540025563255,
          0.9952380997794015,
          0.9861796657754309,
          0.9881539975549485,
          0.9871668346071761,
          0.9911154981662114,
          0.9861796687174172,
          0.9851924972378843,
          0.9891411722706666,
          0.990128334335843,
          0.9891411625621114,
          0.9950641676092195,
          0.9881540016737295,
          0.9891411705054747,
          0.9782823386573604,
          0.9911155031675883,
          0.9930898328877155,
          0.9940770046614471,
          0.9980256682204823,
          0.9970385023307236,
          0.9930898328877155,
          0.9970385014481277,
          0.9960513364409648,
          0.9980952399117606,
          0.9980256682204823,
          0.9990128341102412,
          0.9950641637846371,
          0.9960513346757729,
          0.9930898387716882,
          0.9921026690573471,
          0.9980256682204823,
          0.9990128341102412,
          0.9970385023307236,
          0.9980256682204823,
          0.9980256682204823
         ]
        }
       ],
       "layout": {
        "title": {
         "text": "Training Loss and Accuracy <br> Classifying Retinal Images."
        },
        "xaxis": {
         "tickangle": 0,
         "ticks": "",
         "title": {
          "text": "Number of Epochs"
         }
        },
        "yaxis": {
         "showgrid": true,
         "showticklabels": true,
         "ticks": "",
         "title": {
          "font": {
           "family": "Arial, sans-serif",
           "size": 18
          },
          "text": "Loss/Accuracy</b>"
         }
        }
       }
      },
      "text/html": [
       "<div>\n",
       "        \n",
       "        \n",
       "            <div id=\"bd80da00-d57e-420d-b516-59b4a3095d73\" class=\"plotly-graph-div\" style=\"height:525px; width:100%;\"></div>\n",
       "            <script type=\"text/javascript\">\n",
       "                require([\"plotly\"], function(Plotly) {\n",
       "                    window.PLOTLYENV=window.PLOTLYENV || {};\n",
       "                    window.PLOTLYENV.BASE_URL='https://plot.ly';\n",
       "                    \n",
       "                if (document.getElementById(\"bd80da00-d57e-420d-b516-59b4a3095d73\")) {\n",
       "                    Plotly.newPlot(\n",
       "                        'bd80da00-d57e-420d-b516-59b4a3095d73',\n",
       "                        [{\"line\": {\"color\": \"#f4a582\"}, \"name\": \"Validation Loss\", \"opacity\": 0.9, \"type\": \"scatter\", \"uid\": \"b6426148-b7b2-442a-b1fd-9bfb76f2c8d0\", \"x\": [0, 1, 2, 3, 4, 5, 6, 7, 8, 9, 10, 11, 12, 13, 14, 15, 16, 17, 18, 19, 20, 21, 22, 23, 24, 25, 26, 27, 28, 29, 30, 31, 32, 33, 34, 35, 36, 37, 38, 39, 40, 41, 42, 43, 44, 45, 46, 47, 48, 49, 50, 51, 52, 53, 54, 55, 56, 57, 58, 59, 60, 61, 62, 63, 64, 65, 66, 67, 68, 69, 70, 71, 72, 73, 74, 75, 76, 77, 78, 79, 80, 81, 82, 83, 84, 85, 86, 87, 88, 89, 90, 91, 92, 93, 94, 95, 96, 97, 98, 99], \"y\": [1.4587106108665466, 0.995328813791275, 0.7663341164588928, 1.1086459159851074, 0.7835658490657806, 0.7807865142822266, 0.7477751970291138, 0.7408184707164764, 0.9176650047302246, 0.8731827139854431, 0.745420902967453, 0.7836695313453674, 0.9523633122444153, 0.8105859756469727, 0.7106645107269287, 0.7458429336547852, 0.734880268573761, 0.7540490329265594, 0.72755166888237, 0.7659525871276855, 0.7720935046672821, 0.7300340533256531, 0.6963615715503693, 0.725063681602478, 0.8642975091934204, 0.7353091835975647, 0.6930392384529114, 0.7280378341674805, 0.7066967189311981, 0.7384227216243744, 0.8426960706710815, 0.7969027459621429, 0.7770268023014069, 0.7627958655357361, 0.7691178023815155, 0.7415087521076202, 0.7281408607959747, 0.6988572478294373, 0.6858609914779663, 0.8336352109909058, 0.6806858777999878, 0.8053254783153534, 0.6915352046489716, 0.8033305406570435, 0.7058307230472565, 0.7383962869644165, 0.7242784202098846, 0.7856394052505493, 0.7113407254219055, 0.757230818271637, 0.6751782596111298, 0.7093284428119659, 0.7163503170013428, 0.6906383037567139, 0.6694729626178741, 0.712607204914093, 0.7298980057239532, 0.7775488495826721, 0.9118669331073761, 0.704504132270813, 0.6964063346385956, 0.7618803977966309, 0.687922477722168, 0.7342272102832794, 0.7179862260818481, 0.7042829096317291, 0.7086292505264282, 0.6700804829597473, 0.693971574306488, 0.7116223871707916, 0.6777364611625671, 0.6947652697563171, 0.701860249042511, 0.6720805466175079, 0.7325981557369232, 0.7524934709072113, 0.7208819389343262, 0.7593422532081604, 0.8488733768463135, 0.7091173529624939, 0.7463776171207428, 0.6779681444168091, 0.6861267685890198, 0.7196387946605682, 0.7209001183509827, 0.7013118863105774, 0.7025281190872192, 0.7005907595157623, 0.7093490660190582, 0.7196019291877747, 0.6969742178916931, 0.7084900438785553, 0.6796109974384308, 0.6845222115516663, 0.6894640326499939, 0.6815451383590698, 0.685529887676239, 0.6848456561565399, 0.6838183104991913, 0.6738969087600708]}, {\"line\": {\"color\": \"#ca0020\"}, \"name\": \"Validation Accuracy\", \"opacity\": 0.9, \"type\": \"scatter\", \"uid\": \"1e9bfe37-2606-4b72-b77c-3987abf7e2f7\", \"x\": [0, 1, 2, 3, 4, 5, 6, 7, 8, 9, 10, 11, 12, 13, 14, 15, 16, 17, 18, 19, 20, 21, 22, 23, 24, 25, 26, 27, 28, 29, 30, 31, 32, 33, 34, 35, 36, 37, 38, 39, 40, 41, 42, 43, 44, 45, 46, 47, 48, 49, 50, 51, 52, 53, 54, 55, 56, 57, 58, 59, 60, 61, 62, 63, 64, 65, 66, 67, 68, 69, 70, 71, 72, 73, 74, 75, 76, 77, 78, 79, 80, 81, 82, 83, 84, 85, 86, 87, 88, 89, 90, 91, 92, 93, 94, 95, 96, 97, 98, 99], \"y\": [0.6599999964237213, 0.8499999940395355, 0.8799999952316284, 0.7800000011920929, 0.8999999761581421, 0.9099999964237213, 0.9300000071525574, 0.9199999868869781, 0.8600000143051147, 0.8799999952316284, 0.929999977350235, 0.8999999761581421, 0.8699999749660492, 0.8999999761581421, 0.929999977350235, 0.9300000071525574, 0.9199999868869781, 0.9199999868869781, 0.9399999976158142, 0.8699999749660492, 0.8799999952316284, 0.9399999976158142, 0.949999988079071, 0.949999988079071, 0.8799999952316284, 0.929999977350235, 0.9300000071525574, 0.9399999976158142, 0.949999988079071, 0.9099999964237213, 0.929999977350235, 0.9099999964237213, 0.8999999761581421, 0.9099999964237213, 0.9300000071525574, 0.8999999761581421, 0.949999988079071, 0.949999988079071, 0.9399999976158142, 0.8999999761581421, 0.9599999785423279, 0.8900000154972076, 0.9399999976158142, 0.9099999964237213, 0.9199999868869781, 0.8899999856948853, 0.9300000071525574, 0.9000000059604645, 0.9199999868869781, 0.8799999952316284, 0.9599999785423279, 0.9399999976158142, 0.949999988079071, 0.9399999976158142, 0.9399999976158142, 0.9300000071525574, 0.929999977350235, 0.8899999856948853, 0.8900000154972076, 0.9500000178813934, 0.949999988079071, 0.8899999856948853, 0.9699999988079071, 0.9399999976158142, 0.9599999785423279, 0.9500000178813934, 0.9500000178813934, 0.9600000083446503, 0.9600000083446503, 0.9399999976158142, 0.9600000083446503, 0.9500000178813934, 0.9600000083446503, 0.9399999976158142, 0.9600000083446503, 0.9300000071525574, 0.9500000178813934, 0.9099999964237213, 0.9199999868869781, 0.9500000178813934, 0.9500000178813934, 0.9699999988079071, 0.9600000083446503, 0.9500000178813934, 0.9600000083446503, 0.9500000178813934, 0.9500000178813934, 0.9600000083446503, 0.9600000083446503, 0.9500000178813934, 0.9600000083446503, 0.9600000083446503, 0.9699999988079071, 0.9600000083446503, 0.9600000083446503, 0.9699999988079071, 0.9600000083446503, 0.9699999988079071, 0.9600000083446503, 0.9699999988079071]}, {\"line\": {\"color\": \"#92c5de\"}, \"name\": \"Predicted Loss\", \"opacity\": 0.9, \"type\": \"scatter\", \"uid\": \"a962bfcd-cca3-48e6-ad0a-aaab82786fa6\", \"x\": [0, 1, 2, 3, 4, 5, 6, 7, 8, 9, 10, 11, 12, 13, 14, 15, 16, 17, 18, 19, 20, 21, 22, 23, 24, 25, 26, 27, 28, 29, 30, 31, 32, 33, 34, 35, 36, 37, 38, 39, 40, 41, 42, 43, 44, 45, 46, 47, 48, 49, 50, 51, 52, 53, 54, 55, 56, 57, 58, 59, 60, 61, 62, 63, 64, 65, 66, 67, 68, 69, 70, 71, 72, 73, 74, 75, 76, 77, 78, 79, 80, 81, 82, 83, 84, 85, 86, 87, 88, 89, 90, 91, 92, 93, 94, 95, 96, 97, 98, 99], \"y\": [0.9363152271225339, 0.8185953684996994, 0.7582341517889017, 0.7930137733363446, 0.7636816028546016, 0.741638179474969, 0.7140775359394755, 0.7451307475272665, 0.7097111289616516, 0.6867533716256385, 0.709082705423839, 0.6785517250797238, 0.7186560201268323, 0.7227393266361534, 0.7043138798933039, 0.653773348282026, 0.6711084061290293, 0.6400909432065687, 0.6797030155656368, 0.6610439975193434, 0.6462099030246151, 0.6708639009919124, 0.643872720854623, 0.63692642070228, 0.6769756050477023, 0.6424331308470309, 0.6272956844261109, 0.6330426500674414, 0.628074812041807, 0.6288045692420312, 0.6582908067274894, 0.6443392077179557, 0.6059316096630643, 0.5980781864555073, 0.6223864439444622, 0.602959438643592, 0.5986038387586663, 0.5830632143406619, 0.5930144014269084, 0.582651559127401, 0.5845040421848353, 0.5986291788525784, 0.5997979509159702, 0.5957095359414375, 0.6009836934861683, 0.6070663294104928, 0.5880344072310851, 0.6124400562971742, 0.5846141351999206, 0.6000967480587935, 0.5752553582662185, 0.5749813102899158, 0.5809200333113261, 0.5827896659136524, 0.5570261521377073, 0.557645994195345, 0.5542249465977216, 0.5765571126462441, 0.5805471694245861, 0.5821429347474154, 0.5706138083047481, 0.5698187601295652, 0.572663558906299, 0.567031755852205, 0.5508416462156404, 0.5502362271875643, 0.5398037149792626, 0.5522598796629835, 0.5494591810272571, 0.5524190365973959, 0.5394534955843768, 0.5504840978983007, 0.5570068227574009, 0.5481748070792173, 0.5457443657302669, 0.5436239862724447, 0.539084425918677, 0.5503220707619414, 0.5504464509456556, 0.5561950175571536, 0.5462689564470478, 0.5371107307850197, 0.5328896948874644, 0.5287441774864423, 0.5254853003587563, 0.5346273379758927, 0.5256907846944118, 0.5281893958108682, 0.5232222931725639, 0.5285886367828919, 0.5256508205744262, 0.5288914537382737, 0.5282506153119869, 0.5305476000372538, 0.5365083610081838, 0.5228873626618606, 0.5216419211380103, 0.5260674706333834, 0.5233138431919057, 0.5236348912840653]}, {\"line\": {\"color\": \"#0571b0\"}, \"name\": \"Predicted Accuracy\", \"opacity\": 0.9, \"type\": \"scatter\", \"uid\": \"16b9270a-46f8-4eba-9359-614f0916d6cc\", \"x\": [0, 1, 2, 3, 4, 5, 6, 7, 8, 9, 10, 11, 12, 13, 14, 15, 16, 17, 18, 19, 20, 21, 22, 23, 24, 25, 26, 27, 28, 29, 30, 31, 32, 33, 34, 35, 36, 37, 38, 39, 40, 41, 42, 43, 44, 45, 46, 47, 48, 49, 50, 51, 52, 53, 54, 55, 56, 57, 58, 59, 60, 61, 62, 63, 64, 65, 66, 67, 68, 69, 70, 71, 72, 73, 74, 75, 76, 77, 78, 79, 80, 81, 82, 83, 84, 85, 86, 87, 88, 89, 90, 91, 92, 93, 94, 95, 96, 97, 98, 99], \"y\": [0.7980952376411075, 0.8696939763406186, 0.904244814844028, 0.8904244797368629, 0.9131293116764396, 0.9072063075119274, 0.9190523158409518, 0.9032576548382419, 0.9210266514450518, 0.9368213233331113, 0.9190523234901165, 0.9427443227904453, 0.9210266558580313, 0.9190523146641573, 0.9259624876604146, 0.957551824669965, 0.9486673219535805, 0.9536031669949026, 0.9378084901054661, 0.9457058222249135, 0.9476801560638217, 0.9417571536645014, 0.9533333352633885, 0.9526159931617805, 0.9338598277232254, 0.9536031640529162, 0.9605133261638238, 0.9664363294457401, 0.955577489948461, 0.953603153461765, 0.947680159888404, 0.9496544925505176, 0.9664363273863495, 0.9743336662723658, 0.9595261564494827, 0.964461994724236, 0.9684106650498401, 0.9802566616109187, 0.9713721627191165, 0.9753208292201382, 0.9792695016051327, 0.9713721588945342, 0.9693978279976124, 0.9723593336102523, 0.9657142871902102, 0.9615004941129731, 0.9733464965580246, 0.9595261593914691, 0.9743336633303794, 0.9615004911709867, 0.9772951580576694, 0.9772951668836287, 0.9753208274549463, 0.9782823327733875, 0.9891411663866937, 0.9842053398798861, 0.9851925028276585, 0.9723593268436835, 0.974333664507174, 0.9743336624477834, 0.9743336662723658, 0.9782823251242229, 0.9763080001112739, 0.9782823348327779, 0.983218164281572, 0.9881540025563255, 0.9952380997794015, 0.9861796657754309, 0.9881539975549485, 0.9871668346071761, 0.9911154981662114, 0.9861796687174172, 0.9851924972378843, 0.9891411722706666, 0.990128334335843, 0.9891411625621114, 0.9950641676092195, 0.9881540016737295, 0.9891411705054747, 0.9782823386573604, 0.9911155031675883, 0.9930898328877155, 0.9940770046614471, 0.9980256682204823, 0.9970385023307236, 0.9930898328877155, 0.9970385014481277, 0.9960513364409648, 0.9980952399117606, 0.9980256682204823, 0.9990128341102412, 0.9950641637846371, 0.9960513346757729, 0.9930898387716882, 0.9921026690573471, 0.9980256682204823, 0.9990128341102412, 0.9970385023307236, 0.9980256682204823, 0.9980256682204823]}],\n",
       "                        {\"title\": {\"text\": \"Training Loss and Accuracy <br> Classifying Retinal Images.\"}, \"xaxis\": {\"tickangle\": 0, \"ticks\": \"\", \"title\": {\"text\": \"Number of Epochs\"}}, \"yaxis\": {\"showgrid\": true, \"showticklabels\": true, \"ticks\": \"\", \"title\": {\"font\": {\"family\": \"Arial, sans-serif\", \"size\": 18}, \"text\": \"Loss/Accuracy</b>\"}}},\n",
       "                        {\"showLink\": false, \"linkText\": \"Export to plot.ly\", \"plotlyServerURL\": \"https://plot.ly\", \"responsive\": true}\n",
       "                    ).then(function(){\n",
       "                            \n",
       "var gd = document.getElementById('bd80da00-d57e-420d-b516-59b4a3095d73');\n",
       "var x = new MutationObserver(function (mutations, observer) {{\n",
       "        var display = window.getComputedStyle(gd).display;\n",
       "        if (!display || display === 'none') {{\n",
       "            console.log([gd, 'removed!']);\n",
       "            Plotly.purge(gd);\n",
       "            observer.disconnect();\n",
       "        }}\n",
       "}});\n",
       "\n",
       "// Listen for the removal of the full notebook cells\n",
       "var notebookContainer = gd.closest('#notebook-container');\n",
       "if (notebookContainer) {{\n",
       "    x.observe(notebookContainer, {childList: true});\n",
       "}}\n",
       "\n",
       "// Listen for the clearing of the current output cell\n",
       "var outputEl = gd.closest('.output');\n",
       "if (outputEl) {{\n",
       "    x.observe(outputEl, {childList: true});\n",
       "}}\n",
       "\n",
       "                        })\n",
       "                };\n",
       "                });\n",
       "            </script>\n",
       "        </div>"
      ]
     },
     "metadata": {},
     "output_type": "display_data"
    }
   ],
   "source": [
    "N = epochs_num #Number of epochs in training\n",
    "\n",
    "val_loss = go.Scatter(x=np.arange(0, N),y=train_model.history['val_loss'],\n",
    "                name = \"Validation Loss\",line = dict(color = '#f4a582'),opacity = 0.9)\n",
    "\n",
    "val_acc = go.Scatter(x=np.arange(0, N),y=train_model.history['val_acc'],\n",
    "                name = \"Validation Accuracy\",line = dict(color = '#ca0020'),opacity = 0.9)\n",
    "\n",
    "loss = go.Scatter(x=np.arange(0, N),y=train_model.history['loss'],\n",
    "                name = \"Predicted Loss\",line = dict(color = '#92c5de'),opacity = 0.9)\n",
    "\n",
    "acc = go.Scatter(x=np.arange(0, N),y=train_model.history['acc'],name = \"Predicted Accuracy\",\n",
    "                line = dict(color = '#0571b0'),opacity = 0.9)\n",
    "\n",
    "data = [val_loss,val_acc,loss,acc]\n",
    "\n",
    "\n",
    "layout = go.Layout(title='Training Loss and Accuracy <br> Classifying Retinal Images.',\n",
    "                yaxis=dict(title='Loss/Accuracy</b>',ticks='',showticklabels=True,showgrid=True,\n",
    "                titlefont=dict(family='Arial, sans-serif',size=18))\n",
    "                ,xaxis=dict(title='Number of Epochs',ticks='',tickangle=0))\n",
    "\n",
    "fig = dict(data=data, layout=layout)\n",
    "py.iplot(fig, filename = \"Training Loss and Accuracy on Dataset\")"
   ]
  },
  {
   "cell_type": "markdown",
   "metadata": {},
   "source": [
    "Save Model\n",
    "-----"
   ]
  },
  {
   "cell_type": "code",
   "execution_count": 211,
   "metadata": {},
   "outputs": [],
   "source": [
    "#https://keras.io/getting-started/faq/#how-can-i-save-a-keras-model\n",
    "from keras.models import load_model\n",
    "#Saves all elements including weights\n",
    "model.save('glaucoma_model_5_7_2019_64.h5')  # creates a HDF5 file 'glaucoma_model.h5'\n",
    "\n",
    "# save as JSON only saves architecture\n",
    "json_string = model.to_json()"
   ]
  },
  {
   "cell_type": "markdown",
   "metadata": {},
   "source": [
    "______________________________"
   ]
  },
  {
   "cell_type": "markdown",
   "metadata": {},
   "source": [
    "Sight Testing Trained Model\n",
    "==========="
   ]
  },
  {
   "cell_type": "code",
   "execution_count": 96,
   "metadata": {},
   "outputs": [],
   "source": [
    "from keras.preprocessing.image import ImageDataGenerator\n",
    "from keras.models import Sequential\n",
    "from keras.layers import Conv2D, MaxPooling2D\n",
    "from keras.layers import Activation, Dropout, Flatten, Dense\n",
    "from keras import backend as K\n",
    "from keras.preprocessing.image import load_img\n",
    "from keras.models import load_model\n",
    "from keras.preprocessing import image"
   ]
  },
  {
   "cell_type": "code",
   "execution_count": 97,
   "metadata": {},
   "outputs": [
    {
     "name": "stdout",
     "output_type": "stream",
     "text": [
      "Found 100 images belonging to 2 classes.\n",
      "1/1 [==============================] - 2s 2s/step\n"
     ]
    }
   ],
   "source": [
    "import pandas as pd\n",
    "\n",
    "image_augmentation = ImageDataGenerator(rescale=1 / 255.0)\n",
    "image_generator = image_augmentation.flow_from_directory(validation_directory,\n",
    "                                                                   class_mode=\"categorical\",\n",
    "                                                                   target_size=(img_height, img_width),\n",
    "                                                                   color_mode=\"rgb\",\n",
    "                                                                   shuffle=False,\n",
    "                                                                   batch_size=batch_size)\n",
    "pred_val=model.predict_generator(image_generator,steps=1,verbose=1)\n",
    "\n",
    "labels = {y:x for x,y in image_generator.class_indices.items()}\n",
    "\n",
    "cases,controls=[],[]\n",
    "for i,j in pred_val:\n",
    "    cases.append(i)\n",
    "    controls.append(j)\n",
    "    \n",
    "column_names=['index','filepath','filename','label','prediction']\n",
    "df=pd.DataFrame([image_generator.index_array,image_generator.filepaths,image_generator.filenames,image_generator.labels,pred_val.flatten()])\n",
    "df=df.transpose()\n",
    "df.columns=column_names\n",
    "df['label']=df['label'].map(labels)"
   ]
  },
  {
   "cell_type": "markdown",
   "metadata": {},
   "source": [
    "*Take 10 random samples of the data*"
   ]
  },
  {
   "cell_type": "code",
   "execution_count": 98,
   "metadata": {},
   "outputs": [
    {
     "data": {
      "text/html": [
       "<div>\n",
       "<style scoped>\n",
       "    .dataframe tbody tr th:only-of-type {\n",
       "        vertical-align: middle;\n",
       "    }\n",
       "\n",
       "    .dataframe tbody tr th {\n",
       "        vertical-align: top;\n",
       "    }\n",
       "\n",
       "    .dataframe thead th {\n",
       "        text-align: right;\n",
       "    }\n",
       "</style>\n",
       "<table border=\"1\" class=\"dataframe\">\n",
       "  <thead>\n",
       "    <tr style=\"text-align: right;\">\n",
       "      <th></th>\n",
       "      <th>index</th>\n",
       "      <th>filepath</th>\n",
       "      <th>filename</th>\n",
       "      <th>label</th>\n",
       "      <th>prediction</th>\n",
       "    </tr>\n",
       "  </thead>\n",
       "  <tbody>\n",
       "    <tr>\n",
       "      <th>73</th>\n",
       "      <td>73</td>\n",
       "      <td>./local_test/test_dir/input/data/training/vali...</td>\n",
       "      <td>controls/501.png</td>\n",
       "      <td>controls</td>\n",
       "      <td>0.226662</td>\n",
       "    </tr>\n",
       "    <tr>\n",
       "      <th>65</th>\n",
       "      <td>65</td>\n",
       "      <td>./local_test/test_dir/input/data/training/vali...</td>\n",
       "      <td>controls/431.png</td>\n",
       "      <td>controls</td>\n",
       "      <td>0.756983</td>\n",
       "    </tr>\n",
       "    <tr>\n",
       "      <th>59</th>\n",
       "      <td>59</td>\n",
       "      <td>./local_test/test_dir/input/data/training/vali...</td>\n",
       "      <td>controls/348.png</td>\n",
       "      <td>controls</td>\n",
       "      <td>0.0300403</td>\n",
       "    </tr>\n",
       "    <tr>\n",
       "      <th>89</th>\n",
       "      <td>89</td>\n",
       "      <td>./local_test/test_dir/input/data/training/vali...</td>\n",
       "      <td>controls/660.png</td>\n",
       "      <td>controls</td>\n",
       "      <td>0.868224</td>\n",
       "    </tr>\n",
       "    <tr>\n",
       "      <th>34</th>\n",
       "      <td>34</td>\n",
       "      <td>./local_test/test_dir/input/data/training/vali...</td>\n",
       "      <td>cases/68.png</td>\n",
       "      <td>cases</td>\n",
       "      <td>0.999993</td>\n",
       "    </tr>\n",
       "    <tr>\n",
       "      <th>29</th>\n",
       "      <td>29</td>\n",
       "      <td>./local_test/test_dir/input/data/training/vali...</td>\n",
       "      <td>cases/451.png</td>\n",
       "      <td>cases</td>\n",
       "      <td>0.0585572</td>\n",
       "    </tr>\n",
       "    <tr>\n",
       "      <th>88</th>\n",
       "      <td>88</td>\n",
       "      <td>./local_test/test_dir/input/data/training/vali...</td>\n",
       "      <td>controls/650.png</td>\n",
       "      <td>controls</td>\n",
       "      <td>0.131776</td>\n",
       "    </tr>\n",
       "    <tr>\n",
       "      <th>1</th>\n",
       "      <td>1</td>\n",
       "      <td>./local_test/test_dir/input/data/training/vali...</td>\n",
       "      <td>cases/129.png</td>\n",
       "      <td>cases</td>\n",
       "      <td>0.15555</td>\n",
       "    </tr>\n",
       "    <tr>\n",
       "      <th>66</th>\n",
       "      <td>66</td>\n",
       "      <td>./local_test/test_dir/input/data/training/vali...</td>\n",
       "      <td>controls/432.png</td>\n",
       "      <td>controls</td>\n",
       "      <td>0.999989</td>\n",
       "    </tr>\n",
       "    <tr>\n",
       "      <th>72</th>\n",
       "      <td>72</td>\n",
       "      <td>./local_test/test_dir/input/data/training/vali...</td>\n",
       "      <td>controls/499.png</td>\n",
       "      <td>controls</td>\n",
       "      <td>0.773338</td>\n",
       "    </tr>\n",
       "  </tbody>\n",
       "</table>\n",
       "</div>"
      ],
      "text/plain": [
       "   index                                           filepath          filename  \\\n",
       "73    73  ./local_test/test_dir/input/data/training/vali...  controls/501.png   \n",
       "65    65  ./local_test/test_dir/input/data/training/vali...  controls/431.png   \n",
       "59    59  ./local_test/test_dir/input/data/training/vali...  controls/348.png   \n",
       "89    89  ./local_test/test_dir/input/data/training/vali...  controls/660.png   \n",
       "34    34  ./local_test/test_dir/input/data/training/vali...      cases/68.png   \n",
       "29    29  ./local_test/test_dir/input/data/training/vali...     cases/451.png   \n",
       "88    88  ./local_test/test_dir/input/data/training/vali...  controls/650.png   \n",
       "1      1  ./local_test/test_dir/input/data/training/vali...     cases/129.png   \n",
       "66    66  ./local_test/test_dir/input/data/training/vali...  controls/432.png   \n",
       "72    72  ./local_test/test_dir/input/data/training/vali...  controls/499.png   \n",
       "\n",
       "       label prediction  \n",
       "73  controls   0.226662  \n",
       "65  controls   0.756983  \n",
       "59  controls  0.0300403  \n",
       "89  controls   0.868224  \n",
       "34     cases   0.999993  \n",
       "29     cases  0.0585572  \n",
       "88  controls   0.131776  \n",
       "1      cases    0.15555  \n",
       "66  controls   0.999989  \n",
       "72  controls   0.773338  "
      ]
     },
     "execution_count": 98,
     "metadata": {},
     "output_type": "execute_result"
    }
   ],
   "source": [
    "df.sample(10)"
   ]
  },
  {
   "cell_type": "markdown",
   "metadata": {},
   "source": [
    "Cases\n",
    "----"
   ]
  },
  {
   "cell_type": "markdown",
   "metadata": {},
   "source": [
    "**Best Outcome**"
   ]
  },
  {
   "cell_type": "code",
   "execution_count": 105,
   "metadata": {},
   "outputs": [
    {
     "name": "stdout",
     "output_type": "stream",
     "text": [
      "Prediction:  0.99999344 \n",
      " Label:  cases\n"
     ]
    },
    {
     "data": {
      "image/png": "[encoded data removed]",
      "text/plain": [
       "<PIL.Image.Image image mode=RGB size=64x64 at 0x7FC33CB288D0>"
      ]
     },
     "execution_count": 105,
     "metadata": {},
     "output_type": "execute_result"
    }
   ],
   "source": [
    "# load an image from file\n",
    "image_row=34\n",
    "image = load_img(df.filepath[image_row], target_size=(img_height, img_width))\n",
    "print('Prediction: ',df.prediction[image_row],'\\n','Label: ',df.label[image_row])\n",
    "image"
   ]
  },
  {
   "cell_type": "markdown",
   "metadata": {},
   "source": [
    "**Worst Outcome**"
   ]
  },
  {
   "cell_type": "code",
   "execution_count": 106,
   "metadata": {},
   "outputs": [
    {
     "name": "stdout",
     "output_type": "stream",
     "text": [
      "Prediction:  0.058557175 \n",
      " Label:  cases\n"
     ]
    },
    {
     "data": {
      "image/png": "[encoded data removed]",
      "text/plain": [
       "<PIL.Image.Image image mode=RGB size=64x64 at 0x7FC33CB5D400>"
      ]
     },
     "execution_count": 106,
     "metadata": {},
     "output_type": "execute_result"
    }
   ],
   "source": [
    "# load an image from file\n",
    "image_row=29\n",
    "image = load_img(df.filepath[image_row], target_size=(img_height, img_width))\n",
    "print('Prediction: ',df.prediction[image_row],'\\n','Label: ',df.label[image_row])\n",
    "image"
   ]
  },
  {
   "cell_type": "markdown",
   "metadata": {},
   "source": [
    "Controls\n",
    "------"
   ]
  },
  {
   "cell_type": "markdown",
   "metadata": {},
   "source": [
    "**Best Outcome**"
   ]
  },
  {
   "cell_type": "code",
   "execution_count": 107,
   "metadata": {},
   "outputs": [
    {
     "name": "stdout",
     "output_type": "stream",
     "text": [
      "Prediction:  0.9999893 \n",
      " Label:  controls\n"
     ]
    },
    {
     "data": {
      "image/png": "[encoded data removed]",
      "text/plain": [
       "<PIL.Image.Image image mode=RGB size=64x64 at 0x7FC33CB5AFD0>"
      ]
     },
     "execution_count": 107,
     "metadata": {},
     "output_type": "execute_result"
    }
   ],
   "source": [
    "# load an image from file\n",
    "image_row=66\n",
    "image = load_img(df.filepath[image_row], target_size=(img_height, img_width))\n",
    "print('Prediction: ',df.prediction[image_row],'\\n','Label: ',df.label[image_row])\n",
    "image"
   ]
  },
  {
   "cell_type": "markdown",
   "metadata": {},
   "source": [
    "**Worst Outcome**"
   ]
  },
  {
   "cell_type": "code",
   "execution_count": 108,
   "metadata": {},
   "outputs": [
    {
     "name": "stdout",
     "output_type": "stream",
     "text": [
      "Prediction:  0.22666183 \n",
      " Label:  controls\n"
     ]
    },
    {
     "data": {
      "image/png": "[encoded data removed]",
      "text/plain": [
       "<PIL.Image.Image image mode=RGB size=64x64 at 0x7FC33CB63F60>"
      ]
     },
     "execution_count": 108,
     "metadata": {},
     "output_type": "execute_result"
    }
   ],
   "source": [
    "# load an image from file\n",
    "image_row=73\n",
    "image = load_img(df.filepath[image_row], target_size=(img_height, img_width))\n",
    "print('Prediction: ',df.prediction[image_row],'\\n','Label: ',df.label[image_row])\n",
    "image"
   ]
  },
  {
   "cell_type": "code",
   "execution_count": 109,
   "metadata": {},
   "outputs": [],
   "source": [
    "#from keras.models import load_model\n",
    "#from keras.preprocessing import image\n",
    "# returns a compiled model\n",
    "# identical to the previous one\n",
    "#model = load_model('glaucoma_model_5_1_2019.h5')"
   ]
  },
  {
   "cell_type": "markdown",
   "metadata": {},
   "source": [
    "Model Architecture Validation\n",
    "============="
   ]
  },
  {
   "cell_type": "code",
   "execution_count": 65,
   "metadata": {},
   "outputs": [],
   "source": [
    "from keras.utils.vis_utils import plot_model\n",
    "plot_model(model, to_file='resnet_plot.png')"
   ]
  },
  {
   "cell_type": "markdown",
   "metadata": {},
   "source": [
    "<img src='resnet_plot.png' width=\"500\" height=\"500\" align=\"left\">"
   ]
  }
 ],
 "metadata": {
  "kernelspec": {
   "display_name": "Python 3",
   "language": "python",
   "name": "python3"
  },
  "language_info": {
   "codemirror_mode": {
    "name": "ipython",
    "version": 3
   },
   "file_extension": ".py",
   "mimetype": "text/x-python",
   "name": "python",
   "nbconvert_exporter": "python",
   "pygments_lexer": "ipython3",
   "version": "3.6.5"
  }
 },
 "nbformat": 4,
 "nbformat_minor": 2
}
