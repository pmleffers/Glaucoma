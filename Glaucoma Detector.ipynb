{
 "cells": [
  {
   "cell_type": "code",
   "execution_count": 43,
   "metadata": {},
   "outputs": [],
   "source": [
    "from IPython.display import HTML\n",
    "from IPython.display import Image"
   ]
  },
  {
   "cell_type": "markdown",
   "metadata": {},
   "source": [
    "Retinal images\n",
    "----------"
   ]
  },
  {
   "cell_type": "markdown",
   "metadata": {},
   "source": [
    "<img src='glaucomapicture.jpg' width=\"300\" height=\"300\" align=\"left\">"
   ]
  },
  {
   "cell_type": "code",
   "execution_count": 2,
   "metadata": {},
   "outputs": [
    {
     "data": {
      "text/html": [
       "<script>\n",
       "  function code_toggle() {\n",
       "    if (code_shown){\n",
       "      $('div.input').hide('500');\n",
       "      $('#toggleButton').val('Show Code')\n",
       "    } else {\n",
       "      $('div.input').show('500');\n",
       "      $('#toggleButton').val('Hide Code')\n",
       "    }\n",
       "    code_shown = !code_shown\n",
       "  }\n",
       "\n",
       "  $( document ).ready(function(){\n",
       "    code_shown=false;\n",
       "    $('div.input').hide()\n",
       "  });\n",
       "</script>\n",
       "<form action=\"javascript:code_toggle()\"><input type=\"submit\" id=\"toggleButton\" value=\"Show Code\"></form>"
      ],
      "text/plain": [
       "<IPython.core.display.HTML object>"
      ]
     },
     "execution_count": 2,
     "metadata": {},
     "output_type": "execute_result"
    }
   ],
   "source": [
    "HTML('''<script>\n",
    "  function code_toggle() {\n",
    "    if (code_shown){\n",
    "      $('div.input').hide('500');\n",
    "      $('#toggleButton').val('Show Code')\n",
    "    } else {\n",
    "      $('div.input').show('500');\n",
    "      $('#toggleButton').val('Hide Code')\n",
    "    }\n",
    "    code_shown = !code_shown\n",
    "  }\n",
    "\n",
    "  $( document ).ready(function(){\n",
    "    code_shown=false;\n",
    "    $('div.input').hide()\n",
    "  });\n",
    "</script>\n",
    "<form action=\"javascript:code_toggle()\"><input type=\"submit\" id=\"toggleButton\" value=\"Show Code\"></form>''')"
   ]
  },
  {
   "cell_type": "markdown",
   "metadata": {},
   "source": [
    "Project: Glaucoma Detection\n",
    "======="
   ]
  },
  {
   "cell_type": "markdown",
   "metadata": {},
   "source": [
    "**By: Pieter Leffers**"
   ]
  },
  {
   "cell_type": "markdown",
   "metadata": {},
   "source": [
    "*Starting Date: March 1, 2019*\n",
    "\n",
    "*Completion Date: -, 2019*\n",
    "\n",
    "*Last Updated: April 30, 2019*"
   ]
  },
  {
   "cell_type": "markdown",
   "metadata": {},
   "source": [
    "**Project Description**\n",
    "--------"
   ]
  },
  {
   "cell_type": "markdown",
   "metadata": {},
   "source": [
    "According to the  American Optometric Association, Glaucoma is a general term for a number of eye conditions that progressively damage the optic nerve,consequently causing vision loss. Diagnosis of glaucoma is complex, but is often associated with elevated intraocular pressure, optic nerve damage, and reduction in visual acuity and visual field. Vision loss from glaucoma is permanent, but progression may be slowed or halted through early diagnosis and treatment.\n",
    "\n",
    " \n",
    " \n",
    " \n",
    " American Optometric Association. Glossary of Common Eye & Vision Conditions website.\n",
    "https://www.aoa.org/patients-and-public/eye-and-vision-problems/glossary-of-eye-and-vision-conditions. Accessed June 7, 2018."
   ]
  },
  {
   "cell_type": "markdown",
   "metadata": {},
   "source": [
    "**Data Source: **\n"
   ]
  },
  {
   "cell_type": "markdown",
   "metadata": {},
   "source": [
    "For this project I will use data gathered from the Harvard Dataverse collected and uploaded by Ungsoo Kim. The retinal image dataset consists of 788 ‘normal control’ images, 289 ‘early stage’ images, and 467 ‘advanced stage’ images.The images are already preprocessed, (scaled to 800 pixels and cropped so the nerve endings are of 240 pixels) thus ready to be used for machine learning tasks. However, this dataset will present itself particularly challenging as the number of retinal images needed for this task are less than desirable; thus representing a real-world problem of its own.\n",
    "\n",
    "The data was originally collected from Kim's Eye Hospital. The images have already been pre-processed and fixed to a size of 800 pixels, centered on the optic nerve, and cropped to a size of 240 pixels.\n",
    "\n",
    "The data is hosted on the Harvard Dataverse and can be downloaded at:\n",
    "*Kim, Ungsoo, 2018, \"Machine learn for glaucoma\", https://doi.org/10.7910/DVN/1YRRAC, Harvard Dataverse, V1 *\n"
   ]
  },
  {
   "cell_type": "markdown",
   "metadata": {},
   "source": [
    "**Note:** I will need to keep in mind folder structure in the future since I will be porting to sagemaker with a Dockerfile and the folder structure for Sagemaker is particularly important."
   ]
  },
  {
   "cell_type": "markdown",
   "metadata": {},
   "source": [
    "*Setup Folder Tree*"
   ]
  },
  {
   "cell_type": "markdown",
   "metadata": {},
   "source": [
    "    sage\n",
    "    ├── Dockerfile\n",
    "    ├── local_test\n",
    "    │  ├── predict.sh\n",
    "    │  ├── train.sh\n",
    "    │  ├── serve.sh\n",
    "    │  └── test_dir => /opt/ml in container\n",
    "    │      ├── input\n",
    "    │      │   ├── config\n",
    "    │      │   └── data\n",
    "    │      │       └── training\n",
    "    │      ├── model\n",
    "    │      └── output\n",
    "    └── program\n",
    "        ├── (some scripts...)\n",
    "        ├── train\n",
    "        └── serve"
   ]
  },
  {
   "cell_type": "markdown",
   "metadata": {},
   "source": [
    "**Import Packages**"
   ]
  },
  {
   "cell_type": "code",
   "execution_count": 1,
   "metadata": {},
   "outputs": [
    {
     "name": "stdout",
     "output_type": "stream",
     "text": [
      "Matplotlib Version: 2.2.2\n",
      "OpenCV Version: 4.0.0\n"
     ]
    }
   ],
   "source": [
    "import random\n",
    "import shutil\n",
    "import numpy as np\n",
    "import os\n",
    "import imgaug\n",
    "import cv2\n",
    "import os\n",
    "import matplotlib\n",
    "import matplotlib.pyplot as plt\n",
    "import random\n",
    "from imgaug import augmenters as iaa\n",
    "import imageio\n",
    "import imgaug as ia\n",
    "\n",
    "%matplotlib inline\n",
    "\n",
    "ver=cv2.__version__\n",
    "print('Matplotlib Version: {}'.format(matplotlib.__version__))\n",
    "if float(ver[0])==3 and float(ver[-3:])<4.2:\n",
    "    print('Please update OpenCV. This requires a minimum of OpenCV 3.4.2')\n",
    "    print('Your current version is: ',cv2.__version__)\n",
    "elif float(ver[0])>3:\n",
    "    print('OpenCV Version:',cv2.__version__) \n",
    "else:\n",
    "    print('OpenCV Version:',cv2.__version__)"
   ]
  },
  {
   "cell_type": "markdown",
   "metadata": {},
   "source": [
    "*Make folders*"
   ]
  },
  {
   "cell_type": "code",
   "execution_count": 2,
   "metadata": {},
   "outputs": [
    {
     "name": "stdout",
     "output_type": "stream",
     "text": [
      "Directory  ./local_test  Created \n",
      "Directory  ./program  Created \n",
      "Directory  ./local_test/test_dir  Created \n",
      "Directory  ./local_test/test_dir/input  Created \n",
      "Directory  ./local_test/test_dir/input/config  Created \n",
      "Directory  ./local_test/test_dir/input/data  Created \n",
      "Directory  ./local_test/test_dir/input/data/training  Created \n",
      "Directory  ./local_test/test_dir/input/data/training/augmentation  Created \n",
      "Directory  ./local_test/test_dir/model  Created \n",
      "Directory  ./local_test/test_dir/output  Created \n",
      "Directory  ./local_test/program  Created \n",
      "Directory  ./local_test/program/train  Created \n",
      "Directory  ./local_test/program/serve  Created \n",
      "Directory  ./local_test/test_dir/input/data/images  Created \n"
     ]
    }
   ],
   "source": [
    "DirList=['./local_test','./program',\\\n",
    "         './local_test/test_dir',\\\n",
    "         './local_test/test_dir/input',\\\n",
    "         './local_test/test_dir/input/config',\\\n",
    "         './local_test/test_dir/input/data',\\\n",
    "         './local_test/test_dir/input/data/training',\\\n",
    "         './local_test/test_dir/input/data/training/augmentation',\\\n",
    "         './local_test/test_dir/model',\\\n",
    "         './local_test/test_dir/output',\\\n",
    "         './local_test/program',\n",
    "         './local_test/program/train',\n",
    "         './local_test/program/serve',\\\n",
    "         './local_test/test_dir/input/data/images']#can add more folders I want to create in this process\n",
    "for i in DirList:\n",
    "    try:\n",
    "        # Create target Directory\n",
    "        os.mkdir(i)\n",
    "        print(\"Directory \" ,i,  \" Created \") \n",
    "    except:\n",
    "        print(\"Directory \" ,i,  \" already exists\")"
   ]
  },
  {
   "cell_type": "markdown",
   "metadata": {},
   "source": [
    "*Pull Data*"
   ]
  },
  {
   "cell_type": "code",
   "execution_count": 3,
   "metadata": {
    "scrolled": true
   },
   "outputs": [],
   "source": [
    "#Takes a couple of hours to download\n",
    "#!wget https://dataverse.harvard.edu/api/access/datafile/:persistentId?persistentId=doi:10.7910/DVN/1YRRAC/OGRSQO"
   ]
  },
  {
   "cell_type": "markdown",
   "metadata": {},
   "source": [
    "*Extract Data*"
   ]
  },
  {
   "cell_type": "markdown",
   "metadata": {},
   "source": [
    "*I am supressing the output in order to conserve space. I have printed the first 5 lines of the output to give you an idea of what is happening.*"
   ]
  },
  {
   "cell_type": "code",
   "execution_count": 4,
   "metadata": {},
   "outputs": [],
   "source": [
    "%%capture captured\n",
    "!unzip processed_data.zip -d ./local_test/test_dir/input/data/images"
   ]
  },
  {
   "cell_type": "code",
   "execution_count": 5,
   "metadata": {},
   "outputs": [],
   "source": [
    "file_out=captured.stdout"
   ]
  },
  {
   "cell_type": "code",
   "execution_count": 6,
   "metadata": {},
   "outputs": [
    {
     "name": "stdout",
     "output_type": "stream",
     "text": [
      "Archive:  processed_data.zip\r\n",
      "  inflating: ./local_test/test_dir/input/data/images/data_description.txt  \r\n",
      "   creating: ./local_test/test_dir/input/data/images/advanced_glaucoma/\r\n",
      "  inflating: ./local_test/test_dir/input/data/images/advanced_glaucoma/1.png  \r\n",
      "  inflating: ./local_test/test_dir/input/data/images/advanced_glaucoma/10.png  \r\n",
      "  inflating: ./local_test/test_dir/input/data/images/advanced_glaucoma/100.png \n"
     ]
    }
   ],
   "source": [
    "print(file_out[:420])"
   ]
  },
  {
   "cell_type": "markdown",
   "metadata": {},
   "source": [
    "*Setup Training, Testing, and Validation Folders*"
   ]
  },
  {
   "cell_type": "code",
   "execution_count": 7,
   "metadata": {},
   "outputs": [],
   "source": [
    "!mv ./local_test/test_dir/input/data/images/advanced_glaucoma/* ./local_test/test_dir/input/data/images/early_glaucoma\n",
    "!mv ./local_test/test_dir/input/data/images/early_glaucoma ./local_test/test_dir/input/data/images/cases\n",
    "!mv ./local_test/test_dir/input/data/images/normal_control ./local_test/test_dir/input/data/images/controls\n",
    "!rm -r ./local_test/test_dir/input/data/images/advanced_glaucoma/"
   ]
  },
  {
   "cell_type": "markdown",
   "metadata": {},
   "source": [
    "Setup Data Structure\n",
    "--------"
   ]
  },
  {
   "cell_type": "code",
   "execution_count": 8,
   "metadata": {},
   "outputs": [],
   "source": [
    "#Create training, testing, validation function, as well as a percentage for data augmentation of each\n",
    "\n",
    "# the path to the original images\n",
    "input_data_folder = \"local_test/test_dir/input/data/images\"\n",
    "# new directory that will contain our images after computing the training and testing split\n",
    "data_folder_name = \"local_test/test_dir/input/data/training\"\n",
    "\n",
    "# define the percentage of the data that will be used training\n",
    "training_percent = 0.8\n",
    "\n",
    "# the amount of validation data will be a percentage of the *training* data\n",
    "validation_percent = 0.1\n",
    "\n",
    "#the amount of augmentation needed for images\n",
    "augment_percent = 0.2"
   ]
  },
  {
   "cell_type": "markdown",
   "metadata": {},
   "source": [
    "The two functions below were pulled from imgauge github page because I couldn't import them from the library."
   ]
  },
  {
   "cell_type": "code",
   "execution_count": 9,
   "metadata": {},
   "outputs": [],
   "source": [
    "def do_assert(condition, message=\"Assertion failed.\"):\n",
    "    \"\"\"\n",
    "    Function that behaves equally to an `assert` statement, but raises an\n",
    "    Exception.\n",
    "    This is added because `assert` statements are removed in optimized code.\n",
    "    It replaces `assert` statements throughout the library that should be\n",
    "    kept even in optimized code.\n",
    "    Parameters\n",
    "    ----------\n",
    "    condition : bool\n",
    "        If False, an exception is raised.\n",
    "    message : str, optional\n",
    "        Error message.\n",
    "    \"\"\"\n",
    "    if not condition:\n",
    "        raise AssertionError(str(message))\n",
    "\n",
    "IMSHOW_BACKEND_DEFAULT = \"matplotlib\"\n",
    "def imshow(image, backend=IMSHOW_BACKEND_DEFAULT):\n",
    "    \"\"\"\n",
    "    Shows an image in a window.\n",
    "    dtype support::\n",
    "        * ``uint8``: yes; not tested\n",
    "        * ``uint16``: ?\n",
    "        * ``uint32``: ?\n",
    "        * ``uint64``: ?\n",
    "        * ``int8``: ?\n",
    "        * ``int16``: ?\n",
    "        * ``int32``: ?\n",
    "        * ``int64``: ?\n",
    "        * ``float16``: ?\n",
    "        * ``float32``: ?\n",
    "        * ``float64``: ?\n",
    "        * ``float128``: ?\n",
    "        * ``bool``: ?\n",
    "    Parameters\n",
    "    ----------\n",
    "    image : (H,W,3) ndarray\n",
    "        Image to show.\n",
    "    backend : {'matplotlib', 'cv2'}, optional\n",
    "        Library to use to show the image. May be either matplotlib or OpenCV ('cv2').\n",
    "        OpenCV tends to be faster, but apparently causes more technical issues.\n",
    "    \"\"\"\n",
    "    do_assert(backend in [\"matplotlib\", \"cv2\"], \"Expected backend 'matplotlib' or 'cv2', got %s.\" % (backend,))\n",
    "\n",
    "    if backend == \"cv2\":\n",
    "        image_bgr = image\n",
    "        if image.ndim == 3 and image.shape[2] in [3, 4]:\n",
    "            image_bgr = image[..., 0:3][..., ::-1]\n",
    "\n",
    "        win_name = \"imgaug-default-window\"\n",
    "        cv2.namedWindow(win_name, cv2.WINDOW_NORMAL)\n",
    "        cv2.imshow(win_name, image_bgr)\n",
    "        cv2.waitKey(0)\n",
    "        cv2.destroyWindow(win_name)\n",
    "    else:\n",
    "        # import only when necessary (faster startup; optional dependency; less fragile -- see issue #225)\n",
    "        import matplotlib.pyplot as plt\n",
    "\n",
    "        dpi = 96\n",
    "        h, w = image.shape[0] / dpi, image.shape[1] / dpi\n",
    "        w = max(w, 6)  # if the figure is too narrow, the footer may appear and make the fig suddenly wider (ugly)\n",
    "        fig, ax = plt.subplots(figsize=(w, h), dpi=dpi)\n",
    "        fig.canvas.set_window_title(\"imgaug.imshow(%s)\" % (image.shape,))\n",
    "        ax.imshow(image, cmap=\"gray\")  # cmap is only activate for grayscale images\n",
    "plt.show()"
   ]
  },
  {
   "cell_type": "markdown",
   "metadata": {},
   "source": [
    "Build Training, Testing, and Validation Datasets\n",
    "---------"
   ]
  },
  {
   "cell_type": "markdown",
   "metadata": {},
   "source": [
    "Here I have created a class object so that I may consider creating a library for my needs. For the time being it is convenient to be able to simply execute the functions below with a single command. Since I was already planning on going through the trouble of supplementing images in the training set with image augmentation I decided to fold it into the same procedure as creating the training, testing, and validation sets. "
   ]
  },
  {
   "cell_type": "code",
   "execution_count": 10,
   "metadata": {},
   "outputs": [],
   "source": [
    "class preprocess_data(object):\n",
    "\n",
    "    def create_train_test_val(data_folder_name):\n",
    "        '''\n",
    "        Points to the folders specified. \n",
    "        '''\n",
    "        # setup the training, validation, and testing directories\n",
    "        training_folder = os.path.sep.join([data_folder_name, \"training\"])\n",
    "        validation_folder = os.path.sep.join([data_folder_name, \"validation\"])\n",
    "        testing_folder  = os.path.sep.join([data_folder_name, \"testing\"])\n",
    "        return training_folder,validation_folder,testing_folder\n",
    "\n",
    "    def list_images(data_folder, contains=None):\n",
    "        # import the necessary packages\n",
    "        image_types = (\".jpg\", \".jpeg\", \".png\", \".bmp\", \".tif\", \".tiff\")\n",
    "        # return the set of files that are valid\n",
    "        return preprocess_data.list_files(data_folder, valid_extensions=image_types, contains=contains)\n",
    "\n",
    "    def list_files(data_folder, valid_extensions=None, contains=None):\n",
    "        # loop over the directory structure\n",
    "        for (root_directory, directory_names, filenames) in os.walk(data_folder):\n",
    "            # loop over the filenames in the current directory\n",
    "            for filename in filenames:\n",
    "                # if the contains string is not none and the filename does not contain\n",
    "                # the supplied string, then ignore the file\n",
    "                if contains is not None and filename.find(contains) == -1:\n",
    "                    continue\n",
    "\n",
    "                # determine the file extension of the current file\n",
    "                extension = filename[filename.rfind(\".\"):].lower()\n",
    "\n",
    "                # check to see if the file is an image and should be processed\n",
    "                if valid_extensions is None or extension.endswith(valid_extensions):\n",
    "                    # construct the path to the image and yield it\n",
    "                    image_paths = os.path.join(root_directory, filename)\n",
    "                    yield image_paths\n",
    "\n",
    "    def images_augment(augment_percent,training_paths):\n",
    "        aug_num=int(len(training_paths) * augment_percent)\n",
    "        for image_iter in training_paths[:aug_num]:\n",
    "            #filename,extension = (os.path.splitext(os.path.basename(image_iter)))\n",
    "            #path,fullname=os.path.split(image_iter) \n",
    "            path='./local_test/test_dir/input/data/training/augmentation'\n",
    "            imread_image = imageio.imread(image_iter)\n",
    "            random_num=random.randint(0,360)\n",
    "            rotate = iaa.Affine(rotate=(-random_num, random_num))\n",
    "            image_aug = rotate.augment_image(imread_image)\n",
    "            #imshow(image_aug)\n",
    "            imageio.imwrite(path+'/aug_image_iter_'+str(random_num)+'.png',image_aug)\n",
    "        return aug_num\n",
    "\n",
    "    def setup_folders(training_percent,validation_percent,augment_percent):\n",
    "        training_folder,validation_folder,testing_folder=preprocess_data.create_train_test_val(data_folder_name)\n",
    "        # grab the paths to all input images in the original input directory and shuffle them\n",
    "        image_paths = list(preprocess_data.list_images(input_data_folder))\n",
    "        random.shuffle(image_paths)\n",
    "\n",
    "        # training and testing split\n",
    "        comparison = int(len(image_paths) * training_percent)\n",
    "        training_paths = image_paths[:comparison]\n",
    "        testing_paths = image_paths[comparison:]\n",
    "\n",
    "        # using part of the training data for validation\n",
    "        comparison = int(len(training_paths) * validation_percent)\n",
    "        validation_paths = training_paths[:comparison]\n",
    "        training_paths = training_paths[comparison:]  \n",
    "\n",
    "        print('Images selected for training folder: ',len(training_paths))\n",
    "        print('Images selected for testing folder: ',len(testing_paths))\n",
    "        print('Images selected for validation folder: ',len(validation_paths))\n",
    "\n",
    "        # define the datasets that we'll be building\n",
    "        datasets = [(\"training\", training_paths, training_folder),\n",
    "                    (\"validation\", validation_paths, validation_folder),\n",
    "                    (\"testing\", testing_paths, testing_folder)]\n",
    "        \n",
    "        # loop over the datasets\n",
    "        for (data_type, image_paths, output_folder) in datasets:\n",
    "            # show which data split we are creating\n",
    "            print(\"\\nbuilding \"+data_type+\" collection . . .\\n\")\n",
    "\n",
    "            # if the output base output directory does not exist, create it\n",
    "            if not os.path.exists(output_folder):\n",
    "                print(\"creating \"+data_type+\" directory . . .\")\n",
    "                os.makedirs(output_folder)\n",
    "\n",
    "            # loop over the input image paths\n",
    "            for path in image_paths:\n",
    "                # extract the filename of the input image along with its corresponding class label\n",
    "                filename = path.split(os.path.sep)[-1]\n",
    "                label = path.split(os.path.sep)[-2]\n",
    "                # build the path to the label directory\n",
    "                label_paths = os.path.sep.join([output_folder, label])\n",
    "\n",
    "                # if the label output directory does not exist, create it\n",
    "                if not os.path.exists(label_paths):\n",
    "                    print(\"creating \"+data_type+\" directory . . .\")\n",
    "                    os.makedirs(label_paths)\n",
    "\n",
    "                # construct the path to the destination image and then copy the image itself\n",
    "                p = os.path.sep.join([label_paths, filename])\n",
    "                shutil.copy2(path, p) #Identical to copy() except that copy2() also attempts to preserve file metadata.\n",
    "                \n",
    "        aug_num=preprocess_data.images_augment(augment_percent,training_paths)\n",
    "        # return the total number of image paths in training, validation, and testing directories\n",
    "        training_total = len(list(preprocess_data.list_images(training_folder)))\n",
    "        validation_total = len(list(preprocess_data.list_images(validation_folder)))\n",
    "        testing_total = len(list(preprocess_data.list_images(testing_folder)))\n",
    "        total_images=training_total+validation_total+testing_total\n",
    "        print('\\nTraining Images: ',training_total,'\\nValidation Images: ',\n",
    "              validation_total,'\\nTesting Images: ',testing_total,\n",
    "              '\\nTotal Images Selected: ',total_images,'\\nAugmented Images Added: ',aug_num)\n",
    "        \n",
    "        return training_paths"
   ]
  },
  {
   "cell_type": "code",
   "execution_count": 11,
   "metadata": {},
   "outputs": [
    {
     "name": "stdout",
     "output_type": "stream",
     "text": [
      "Images selected for training folder:  904\n",
      "Images selected for testing folder:  251\n",
      "Images selected for validation folder:  100\n",
      "\n",
      "building training collection . . .\n",
      "\n",
      "creating training directory . . .\n",
      "creating training directory . . .\n",
      "creating training directory . . .\n",
      "\n",
      "building validation collection . . .\n",
      "\n",
      "creating validation directory . . .\n",
      "creating validation directory . . .\n",
      "creating validation directory . . .\n",
      "\n",
      "building testing collection . . .\n",
      "\n",
      "creating testing directory . . .\n",
      "creating testing directory . . .\n",
      "creating testing directory . . .\n",
      "\n",
      "Training Images:  904 \n",
      "Validation Images:  100 \n",
      "Testing Images:  251 \n",
      "Total Images Selected:  1255 \n",
      "Augmented Images Added:  180\n"
     ]
    }
   ],
   "source": [
    "training_path=preprocess_data.setup_folders(training_percent,validation_percent,augment_percent)"
   ]
  },
  {
   "cell_type": "markdown",
   "metadata": {},
   "source": [
    "I have created 180 images to help supplement my lack of images in the training folder. The reason it is merely 180 images and not more images is to avoid the augmented images being too statistically representative within the image dataset and thereby biasing the results. Below is a simple representation of the function I'm using within the class object above. "
   ]
  },
  {
   "cell_type": "code",
   "execution_count": 12,
   "metadata": {},
   "outputs": [
    {
     "name": "stdout",
     "output_type": "stream",
     "text": [
      "Augmented batch:\n"
     ]
    },
    {
     "data": {
      "image/png": "[encoded data removed]",
      "text/plain": [
       "<Figure size 960x240 with 1 Axes>"
      ]
     },
     "metadata": {},
     "output_type": "display_data"
    }
   ],
   "source": [
    "image = imageio.imread(\"local_test/test_dir/input/data/images/cases/6.png\")\n",
    "random_num=random.randint(0,360)\n",
    "rotate = iaa.Affine(rotate=(-random_num, random_num))\n",
    "images = [image, image, image, image]\n",
    "images_aug = rotate.augment_images(images)\n",
    "\n",
    "print(\"Augmented batch:\")\n",
    "imshow(np.hstack(images_aug))"
   ]
  },
  {
   "cell_type": "markdown",
   "metadata": {},
   "source": [
    "Define Model Structure\n",
    "====="
   ]
  },
  {
   "cell_type": "markdown",
   "metadata": {},
   "source": [
    "For classification of retinal images I have chosen to use a ResNet model as described by Kaiming He, Xiangyu Zhang, Shaoqing Ren, Jian Sun in <a href=\"https://arxiv.org/pdf/1512.03385.pdf\" target=\"_blank\">***Deep Residual Learning for Image Recognition (2015)***</a> and Adrian Rosebrock in <a href=\"http://www.i-element.org/PDF/C12-3.pdf\" target=\"_blank\">***Deep Learning for Computer Vision with Python (2017)***</a>. \n",
    "\n",
    "For an excellent explanation of the ResNet model, checkout Gracelyn Shi's Medium blog post:\n",
    "https://towardsdatascience.com/implementing-a-resnet-model-from-scratch-971be7193718\n",
    "\n",
    "**Why use a Residual Network (ResNet) model?**\n",
    "\n",
    "In traditional Deep Neural Networks during training you typically run into problems during backpropagation while using gradient descent optimization; where the data is fed from the final layers back into the first initial activation layers. As the loss function (error) with respect to the weights becomes updated certain activation functions such as the sigmoid function, constrain the input space between 0 and 1. Since the gradient in a Neural Network is a product of the gradients preceeding it, multiplying two smaller numbers returns an even smaller number. The small change in the gradient causes training times to be painfully slow, prone to error, and adding a large number of layers to become too costly and prohibitive.\n",
    "\n",
    "\n",
    "\n",
    "*Backpropagation:*\n",
    "\n",
    "    Moving from later stages and fed back through the Neural Network to the initial layers."
   ]
  },
  {
   "cell_type": "markdown",
   "metadata": {},
   "source": [
    "Residual Networks provide a convenient solution to the 'vanishing gradient' problem. By skipping (shortcut) the training of one or more layers and creating a **residual block**.\n"
   ]
  },
  {
   "cell_type": "markdown",
   "metadata": {},
   "source": [
    "<img src='relu.png' width=\"300\" height=\"300\" align=\"left\">"
   ]
  },
  {
   "cell_type": "code",
   "execution_count": 13,
   "metadata": {},
   "outputs": [],
   "source": [
    "#H(x) = F(x) + x, where F(x) = W2*relu(W1*x+b1)+b2"
   ]
  },
  {
   "cell_type": "markdown",
   "metadata": {},
   "source": [
    "Model Architecture Map\n",
    "-----"
   ]
  },
  {
   "cell_type": "markdown",
   "metadata": {},
   "source": [
    "With the application of Batch Normalization, Activation Function, and Convolutional Layers along with shortcuts. We can now create a network as deep as we desire."
   ]
  },
  {
   "cell_type": "markdown",
   "metadata": {},
   "source": [
    "<img src='resnet_structure.jpg' width=\"500\" height=\"500\" align=\"left\">"
   ]
  },
  {
   "cell_type": "code",
   "execution_count": 14,
   "metadata": {},
   "outputs": [],
   "source": [
    "def residual_module(input_data, kernel, stride, axis, reduce=False, reg_lambda=0.0001, epsilon=0.00002, momentum=0.9):\n",
    "    shortcut = input_data\n",
    "    bn1 = BatchNormalization(axis=axis, epsilon=epsilon, momentum=momentum)(input_data)\n",
    "    act1 = Activation(\"relu\")(bn1)\n",
    "    conv1 = Conv2D(int(kernel * 0.25), (1, 1), use_bias=False,kernel_regularizer=l2(reg_lambda))(act1)\n",
    "\n",
    "    bn2 = BatchNormalization(axis=axis, epsilon=epsilon,momentum=momentum)(conv1)\n",
    "    act2 = Activation(\"relu\")(bn2)\n",
    "    conv2 = Conv2D(int(kernel * 0.25), (3, 3), strides=stride, padding=\"same\", use_bias=False, kernel_regularizer=l2(reg_lambda))(act2)\n",
    "\n",
    "    bn3 = BatchNormalization(axis=axis, epsilon=epsilon, momentum=momentum)(conv2)\n",
    "    act3 = Activation(\"relu\")(bn3)\n",
    "    conv3 = Conv2D(kernel, (1, 1), use_bias=False, kernel_regularizer=l2(reg_lambda))(act3)\n",
    "\n",
    "    if reduce: \n",
    "        shortcut = Conv2D(kernel, (1, 1), strides=stride, use_bias=False, kernel_regularizer=l2(reg_lambda))(act1)\n",
    "\n",
    "    x = add([conv3, shortcut])\n",
    "    return x"
   ]
  },
  {
   "cell_type": "markdown",
   "metadata": {},
   "source": [
    "Build Model Structure\n",
    "====="
   ]
  },
  {
   "cell_type": "code",
   "execution_count": 17,
   "metadata": {},
   "outputs": [],
   "source": [
    "def build(width, height, depth, classes, stages, filters, reg_lambda=0.0001, epsilon=0.00002, momentum=0.9):\n",
    "    input_shape = (height, width, depth)\n",
    "    axis = -1\n",
    "\n",
    "    if K.image_data_format() == \"channels_first\":\n",
    "        input_shape = (depth, height, width)\n",
    "        channel_dimension = 1\n",
    "\n",
    "    inputs = Input(shape=input_shape)\n",
    "    x = BatchNormalization(axis=axis, epsilon=epsilon,momentum=momentum)(inputs)\n",
    "    x = Conv2D(filters[0], (5, 5), use_bias=False,padding=\"same\", kernel_regularizer=l2(reg_lambda))(x)\n",
    "    x = BatchNormalization(axis=axis, epsilon=epsilon,momentum=momentum)(x)\n",
    "    x = Activation(\"relu\")(x)\n",
    "    x = ZeroPadding2D((1, 1))(x)\n",
    "    x = MaxPooling2D((3, 3), strides=(2, 2))(x)\n",
    "\n",
    "    for i in range(0, len(stages)):\n",
    "        stride = (1, 1) if i == 0 else (2, 2)\n",
    "        x = residual_module(x, filters[i + 1], stride,axis, reduce=True, epsilon=epsilon, momentum=momentum)\n",
    "\n",
    "        for j in range(0, stages[i] - 1):\n",
    "            x = residual_module(x, filters[i + 1],(1, 1), axis, epsilon=epsilon, momentum=momentum)\n",
    "\n",
    "    x = BatchNormalization(axis=axis, epsilon=epsilon,momentum=momentum)(x)\n",
    "    x = Activation(\"relu\")(x)\n",
    "    x = AveragePooling2D((8, 8))(x)\n",
    "    x = Flatten()(x)\n",
    "    x = Dense(classes, kernel_regularizer=l2(reg_lambda))(x)\n",
    "    x = Activation(\"softmax\")(x)\n",
    "\n",
    "    model = Model(inputs, x, name=\"resnet\")\n",
    "    return model\n"
   ]
  },
  {
   "cell_type": "markdown",
   "metadata": {},
   "source": [
    "________________________"
   ]
  },
  {
   "cell_type": "markdown",
   "metadata": {},
   "source": [
    "**Define Structure:** *Tried to provide some explanation in cell below*"
   ]
  },
  {
   "cell_type": "code",
   "execution_count": 44,
   "metadata": {},
   "outputs": [
    {
     "data": {
      "text/html": [
       "<script>\n",
       "code_show=true; \n",
       "function code_toggle() {\n",
       "    if (code_show){\n",
       "        $('div.cell.code_cell.rendered.selected div.input').hide();\n",
       "    } else {\n",
       "        $('div.cell.code_cell.rendered.selected div.input').show();\n",
       "    }\n",
       "    code_show = !code_show\n",
       "} \n",
       "$( document ).ready(code_toggle);\n",
       "</script>\n",
       "To show/hide this cell's raw code input, click <a href=\"javascript:code_toggle()\">here</a>."
      ],
      "text/plain": [
       "<IPython.core.display.HTML object>"
      ]
     },
     "metadata": {},
     "output_type": "display_data"
    }
   ],
   "source": [
    "tag = HTML('''<script>\n",
    "code_show=true; \n",
    "function code_toggle() {\n",
    "    if (code_show){\n",
    "        $('div.cell.code_cell.rendered.selected div.input').hide();\n",
    "    } else {\n",
    "        $('div.cell.code_cell.rendered.selected div.input').show();\n",
    "    }\n",
    "    code_show = !code_show\n",
    "} \n",
    "$( document ).ready(code_toggle);\n",
    "</script>\n",
    "To show/hide this cell's raw code input, click <a href=\"javascript:code_toggle()\">here</a>.''')\n",
    "display(tag)\n",
    "\n",
    "############### Explanation ##################\n",
    "#https://www.coursera.org/lecture/convolutional-neural-networks/why-resnets-work-XAKNO\n",
    "#https://www.coursera.org/lecture/convolutional-neural-networks/resnets-HAhz9      \n",
    "\n",
    "#Jargon:\n",
    "    #'Relu': Rectified Linear Unit (algorithmic threshold for activation layer)\n",
    "    #Stride: Amount of shift of the filter moving from one part of the image to another\n",
    "\n",
    "#input for function: \n",
    "    #data=the data to be pass in the model\n",
    "    #kernel: number of filters that will be learned by the final CONV layer\n",
    "    #stride: An integer or tuple/list of a single integer, specifying the stride length of the convolution. \n",
    "    #axis: Integer, the axis that should be normalized (typically the features axis)\n",
    "    #reduce: red is boolean check to skip some processing\n",
    "    #reg_lambda: apply (0.0001) penalties on layer parameters\n",
    "    #epsilon: Small float added to variance to avoid dividing by zero.\n",
    "    #momentum: Momentum for the moving mean and the moving variance.\n",
    "    \n",
    "def residual_module(input_data, kernel, stride, axis, reduce=False,reg_lambda=0.0001, epsilon=0.00002, momentum=0.9):\n",
    "    # the shortcut branch of the resnet module should be initialize as the input (identity) data\n",
    "    shortcut = input_data\n",
    "    # the first block of the ResNet module are the 1x1 Convolution:\n",
    "            #epsilon: Small float added to variance to avoid dividing by zero.\n",
    "            #axis: Integer, the axis that should be normalized (typically the features axis).\n",
    "                #-For instance, after a Conv2D layer with data_format=\"channels_first\", set axis=1 in BatchNormalization.\n",
    "            #momentum: Momentum for the moving mean and the moving variance.\n",
    "    bn1 = BatchNormalization(axis=axis, epsilon=epsilon, momentum=momentum)(input_data) #https://keras.io/layers/normalization/\n",
    "    #Rectified Linear Unit for activation. https://keras.io/activations/\n",
    "    act1 = Activation(\"relu\")(bn1)\n",
    "    #2D convolution layer (e.g. spatial convolution over images). https://keras.io/layers/convolutional/\n",
    "        #kernel size (tuple):\n",
    "\n",
    "            #An integer or tuple/list of 2 integers, specifying the height and width of the 2D convolution window. \n",
    "            #Can be a single integer to specify the same value for all spatial dimensions.\n",
    "            \n",
    "        #use_bias: Boolean, whether the layer uses a bias vector.\n",
    "        #kernel_regularizer (Ridge Regression): \n",
    "            #https://medium.com/datadriveninvestor/l1-l2-regularization-7f1b4fe948f2\n",
    "    conv1 = Conv2D(int(kernel * 0.25), (1, 1), use_bias=False,kernel_regularizer=l2(reg_lambda))(act1)\n",
    "\n",
    "    # the second block of the ResNet module are the 3x3 CONVs passing in results of previous convolutional layer\n",
    "    bn2 = BatchNormalization(axis=axis, epsilon=epsilon,momentum=momentum)(conv1)#\n",
    "    act2 = Activation(\"relu\")(bn2)\n",
    "    #padding:  one of \"valid\" or \"same\" (case-insensitive). \n",
    "    #Note that \"same\" is slightly inconsistent across backends with strides != 1, as described-\n",
    "        #https://github.com/keras-team/keras/pull/9473#issuecomment-372166860\n",
    "    conv2 = Conv2D(int(kernel * 0.25), (3, 3), strides=stride, padding=\"same\", use_bias=False, kernel_regularizer=l2(reg_lambda))(act2)\n",
    "\n",
    "    # the third block of the ResNet module is another set of 1x1 Convolution\n",
    "    bn3 = BatchNormalization(axis=axis, epsilon=epsilon, momentum=momentum)(conv2)\n",
    "    act3 = Activation(\"relu\")(bn3)\n",
    "    conv3 = Conv2D(kernel, (1, 1), use_bias=False, kernel_regularizer=l2(reg_lambda))(act3)\n",
    "\n",
    "    # if we are to reduce the spatial size, apply a convolution layer to the shortcut\n",
    "    if reduce:#Shortcut or Terminal Block (allows to skip)\n",
    "        shortcut = Conv2D(kernel, (1, 1), strides=stride, use_bias=False, kernel_regularizer=l2(reg_lambda))(act1)\n",
    "\n",
    "    # add together the shortcut and the final convolution\n",
    "    x = add([conv3, shortcut])\n",
    "\n",
    "    return x"
   ]
  },
  {
   "cell_type": "markdown",
   "metadata": {},
   "source": [
    "__________"
   ]
  },
  {
   "cell_type": "markdown",
   "metadata": {},
   "source": [
    "**Build Model Structure:** *Tried to provide some explanation in cell below*"
   ]
  },
  {
   "cell_type": "code",
   "execution_count": 20,
   "metadata": {},
   "outputs": [
    {
     "data": {
      "text/html": [
       "<script>\n",
       "code_show=true; \n",
       "function code_toggle() {\n",
       "    if (code_show){\n",
       "        $('div.cell.code_cell.rendered.selected div.input').hide();\n",
       "    } else {\n",
       "        $('div.cell.code_cell.rendered.selected div.input').show();\n",
       "    }\n",
       "    code_show = !code_show\n",
       "} \n",
       "$( document ).ready(code_toggle);\n",
       "</script>\n",
       "To show/hide this cell's raw code input, click <a href=\"javascript:code_toggle()\">here</a>."
      ],
      "text/plain": [
       "<IPython.core.display.HTML object>"
      ]
     },
     "metadata": {},
     "output_type": "display_data"
    }
   ],
   "source": [
    "tag = HTML('''<script>\n",
    "code_show=true; \n",
    "function code_toggle() {\n",
    "    if (code_show){\n",
    "        $('div.cell.code_cell.rendered.selected div.input').hide();\n",
    "    } else {\n",
    "        $('div.cell.code_cell.rendered.selected div.input').show();\n",
    "    }\n",
    "    code_show = !code_show\n",
    "} \n",
    "$( document ).ready(code_toggle);\n",
    "</script>\n",
    "To show/hide this cell's raw code input, click <a href=\"javascript:code_toggle()\">here</a>.''')\n",
    "display(tag)\n",
    "\n",
    "############### Explanation ##################\n",
    "\n",
    "#Already defined:\n",
    "    #data=the data to be pass in the model\n",
    "    #kernel: number of filters that will be learned by the final CONV layer\n",
    "    #stride: An integer or tuple/list of a single integer, specifying the stride length of the convolution. \n",
    "    #axis: Integer, the axis that should be normalized (typically the features axis)\n",
    "    #reduce: will control whether or not to reduce spatial dimensions \n",
    "    #reg_lambda: apply (0.0001) penalties on layer parameters\n",
    "    #epsilon: Small float added to variance to avoid dividing by zero.\n",
    "    #momentum: Momentum for the moving mean and the moving variance.\n",
    "\n",
    "#Function inputs:\n",
    "    #width,height: height and width of image\n",
    "    #depth: the number of channels in image (rgb)\n",
    "    \n",
    "def build(width, height, depth, classes, stages, filters, reg_lambda=0.0001, epsilon=0.00002, momentum=0.9):\n",
    "    # initialize the input shape to be \"channels last\" and the channels dimension itself\n",
    "    input_shape = (height, width, depth) \n",
    "    channel_dimension = -1# <-1 just a handy shortcut meaning 'last'\n",
    "\n",
    "    # if we are using \"channels first\", update the input shape and channels dimension\n",
    "    if K.image_data_format() == \"channels_first\":#<--K is imported from Keras\n",
    "        input_shape = (depth, height, width)\n",
    "        channel_dimension = 1\n",
    "\n",
    "    # set the input and apply batch normalization\n",
    "    inputs = Input(shape=input_shape)\n",
    "    x = BatchNormalization(axis=axis, epsilon=epsilon, momentum=momentum)(inputs)\n",
    "\n",
    "    # apply convolution => batch normalization => activation => pooling layer to reduce spatial size\n",
    "    x = Conv2D(filters[0], (5, 5), use_bias=False, padding=\"same\", kernel_regularizer=l2(reg_lambda))(x)\n",
    "    x = BatchNormalization(axis=axis, epsilon=epsilon, momentum=momentum)(x)\n",
    "    x = Activation(\"relu\")(x) #activation layer is using 'Rectified Linear Unit'\n",
    "    x = ZeroPadding2D((1, 1))(x)\n",
    "    x = MaxPooling2D((3, 3), strides=(2, 2))(x)\n",
    "\n",
    "    # loop over the number of stages\n",
    "    for i in range(0, len(stages)):\n",
    "        # initialize the stride, then apply a residual module\n",
    "        # used to reduce the spatial size of the input volume\n",
    "        stride = (1, 1) if i == 0 else (2, 2)\n",
    "        x = residual_module(x, filters[i + 1], stride, axis, red=True, epsilon=epsilon, momentum=momentum)\n",
    "\n",
    "        # loop over the number of layers in the stage\n",
    "        for j in range(0, stages[i] - 1): #would like to make this boolean to increase efficiency\n",
    "            x = residual_module(x, filters[i + 1],(1, 1), axis, epsilon=epsilon, momentum=momentum)\n",
    "\n",
    "    # apply Batch normalization => activation => pooling layer\n",
    "    x = BatchNormalization(axis=axis, epsilon=epsilon,momentum=momentum)(x)\n",
    "    x = Activation(\"relu\")(x)\n",
    "    x = AveragePooling2D((8, 8))(x)\n",
    "\n",
    "    # softmax classifier\n",
    "    x = Flatten()(x)\n",
    "    x = Dense(classes, kernel_regularizer=l2(reg_lambda))(x)\n",
    "    x = Activation(\"softmax\")(x)\n",
    "\n",
    "    # create the model\n",
    "    model = Model(inputs, x, name=\"resnet\")\n",
    "\n",
    "    # return the constructed network architecture\n",
    "    return model"
   ]
  },
  {
   "cell_type": "markdown",
   "metadata": {},
   "source": [
    "_____________________"
   ]
  },
  {
   "cell_type": "markdown",
   "metadata": {},
   "source": [
    "**Config**"
   ]
  },
  {
   "cell_type": "code",
   "execution_count": 18,
   "metadata": {},
   "outputs": [],
   "source": [
    "training_directory='./local_test/test_dir/input/data/training/training'\n",
    "testing_directory='./local_test/test_dir/input/data/training/testing'\n",
    "validation_directory='./local_test/test_dir/input/data/training/validation'"
   ]
  },
  {
   "cell_type": "markdown",
   "metadata": {},
   "source": [
    "Train Model\n",
    "===="
   ]
  },
  {
   "cell_type": "markdown",
   "metadata": {},
   "source": [
    "**Import Packages**"
   ]
  },
  {
   "cell_type": "code",
   "execution_count": 24,
   "metadata": {},
   "outputs": [],
   "source": [
    "from keras.preprocessing.image import ImageDataGenerator\n",
    "from keras.callbacks import LearningRateScheduler\n",
    "from keras.optimizers import SGD\n",
    "from sklearn.metrics import classification_report\n",
    "\n",
    "# import the necessary packages\n",
    "from keras.layers.normalization import BatchNormalization\n",
    "from keras.layers.convolutional import Conv2D\n",
    "from keras.layers.convolutional import AveragePooling2D\n",
    "from keras.layers.convolutional import MaxPooling2D\n",
    "from keras.layers.convolutional import ZeroPadding2D\n",
    "from keras.layers.core import Activation\n",
    "from keras.layers.core import Dense\n",
    "from keras.layers import Flatten\n",
    "from keras.layers import Input\n",
    "from keras.models import Model\n",
    "from keras.layers import add\n",
    "from keras.regularizers import l2\n",
    "from keras import backend as K\n",
    "import matplotlib.pyplot as plt\n",
    "\n",
    "import numpy as np\n",
    "import random\n",
    "import shutil\n",
    "import os\n"
   ]
  },
  {
   "cell_type": "code",
   "execution_count": 25,
   "metadata": {},
   "outputs": [],
   "source": [
    "# define the total number of epochs to train for along with the initial learning rate and batch size\n",
    "epochs_num = 50\n",
    "initial_learning_rate = 0.01\n",
    "batch_size = 50\n",
    "\n",
    "def poly_decay(epoch):\n",
    "    # initialize the maximum number of epochs, base learning rate, and power of the polynomial\n",
    "    max_epochs = epochs_num\n",
    "    base_learning_rate = initial_learning_rate\n",
    "    power = 1.0\n",
    "\n",
    "    # compute the new learning rate based on polynomial decay\n",
    "    alpha = base_learning_rate*(1 - (epoch / float(max_epochs)))**power\n",
    "\n",
    "    # return the new learning rate\n",
    "    return alpha"
   ]
  },
  {
   "cell_type": "code",
   "execution_count": 26,
   "metadata": {},
   "outputs": [],
   "source": [
    "# determine the total number of image paths in training, validation, and testing directories\n",
    "train_images = len(list(preprocess_data.list_images(training_directory)))\n",
    "\n",
    "validation_images = len(list(preprocess_data.list_images(validation_directory)))\n",
    "\n",
    "test_images = len(list(preprocess_data.list_images(testing_directory)))"
   ]
  },
  {
   "cell_type": "code",
   "execution_count": 27,
   "metadata": {},
   "outputs": [],
   "source": [
    "# initialize the training data augmentation object\n",
    "training_augmentation = ImageDataGenerator(rescale=1 / 255.0, rotation_range=20, \n",
    "    zoom_range=0.05, width_shift_range=0.05,height_shift_range=0.05,\n",
    "    shear_range=0.05,horizontal_flip=True,fill_mode=\"nearest\")"
   ]
  },
  {
   "cell_type": "code",
   "execution_count": 28,
   "metadata": {},
   "outputs": [],
   "source": [
    "# initialize the validation (and testing) data augmentation object\n",
    "validation_augmentation = ImageDataGenerator(rescale=1 / 255.0)"
   ]
  },
  {
   "cell_type": "code",
   "execution_count": 29,
   "metadata": {},
   "outputs": [
    {
     "name": "stdout",
     "output_type": "stream",
     "text": [
      "Found 1045 images belonging to 2 classes.\n"
     ]
    }
   ],
   "source": [
    "# initialize the training generator\n",
    "training_generator = training_augmentation.flow_from_directory(\n",
    "    training_directory,class_mode=\"categorical\",target_size=(64, 64),\n",
    "    color_mode=\"rgb\",shuffle=True,batch_size=batch_size)"
   ]
  },
  {
   "cell_type": "code",
   "execution_count": 30,
   "metadata": {},
   "outputs": [
    {
     "name": "stdout",
     "output_type": "stream",
     "text": [
      "Found 100 images belonging to 2 classes.\n"
     ]
    }
   ],
   "source": [
    "# initialize the validation generator\n",
    "validation_generator = validation_augmentation.flow_from_directory(\n",
    "validation_directory,class_mode=\"categorical\",\n",
    "    target_size=(64, 64),color_mode=\"rgb\",shuffle=False,batch_size=batch_size)"
   ]
  },
  {
   "cell_type": "code",
   "execution_count": 31,
   "metadata": {},
   "outputs": [
    {
     "name": "stdout",
     "output_type": "stream",
     "text": [
      "Found 251 images belonging to 2 classes.\n"
     ]
    }
   ],
   "source": [
    "# initialize the testing generator\n",
    "testing_generator = validation_augmentation.flow_from_directory(testing_directory,\n",
    "    class_mode=\"categorical\",target_size=(64, 64),color_mode=\"rgb\",\n",
    "    shuffle=False,batch_size=batch_size)"
   ]
  },
  {
   "cell_type": "code",
   "execution_count": 32,
   "metadata": {},
   "outputs": [
    {
     "name": "stdout",
     "output_type": "stream",
     "text": [
      "WARNING:tensorflow:From /home/matt/anaconda3/lib/python3.6/site-packages/tensorflow/python/framework/op_def_library.py:263: colocate_with (from tensorflow.python.framework.ops) is deprecated and will be removed in a future version.\n",
      "Instructions for updating:\n",
      "Colocations handled automatically by placer.\n"
     ]
    }
   ],
   "source": [
    "# initialize the resnet model and compile it\n",
    "# 1st:64, 2nd:64, 3rd:3, 4th:2 \n",
    "\n",
    "# 34 Layer Residual\n",
    "# 3-(3x3 conv 64) \n",
    "# 4-(3x3 conv 128) \n",
    "# 6-(3x3 conv 256) \n",
    "# 3-(3x3 conv 512)\n",
    "#                             Stages         Filters  \n",
    "model = build(64, 64, 3, 2, (3, 4, 6), (64, 128, 256, 512), reg_lambda=0.0005)\n",
    "opt = SGD(lr=initial_learning_rate, momentum=0.9)\n",
    "model.compile(loss=\"binary_crossentropy\", optimizer=opt,metrics=[\"accuracy\"])"
   ]
  },
  {
   "cell_type": "code",
   "execution_count": 33,
   "metadata": {},
   "outputs": [
    {
     "name": "stdout",
     "output_type": "stream",
     "text": [
      "WARNING:tensorflow:From /home/matt/anaconda3/lib/python3.6/site-packages/tensorflow/python/ops/math_ops.py:3066: to_int32 (from tensorflow.python.ops.math_ops) is deprecated and will be removed in a future version.\n",
      "Instructions for updating:\n",
      "Use tf.cast instead.\n"
     ]
    }
   ],
   "source": [
    "%%capture captured\n",
    "# define our set of callbacks and fit the model\n",
    "callbacks = [LearningRateScheduler(poly_decay)] #                     1047/50=20.94\n",
    "H = model.fit_generator(training_generator, steps_per_epoch=train_images // batch_size,\n",
    "    validation_data=validation_generator, validation_steps=validation_images // batch_size, epochs=epochs_num, callbacks=callbacks)"
   ]
  },
  {
   "cell_type": "markdown",
   "metadata": {},
   "source": [
    "*Once again I have suppressed the output in order to conserve space on the jupyter notebook. I have provided a sample just to give you an idea of what the output looks like, results are shown below*"
   ]
  },
  {
   "cell_type": "code",
   "execution_count": 34,
   "metadata": {},
   "outputs": [],
   "source": [
    "file_out=captured.stdout"
   ]
  },
  {
   "cell_type": "code",
   "execution_count": 35,
   "metadata": {},
   "outputs": [
    {
     "name": "stdout",
     "output_type": "stream",
     "text": [
      "Epoch 1/50\n",
      "\r",
      " 1/20 [>.............................] - ETA: 6:11 - loss: 1.5769 - acc: 0.5200\b\b\b\b\b\b\b\b\b\b\b\b\b\b\b\b\b\b\b\b\b\b\b\b\b\b\b\b\b\b\b\b\b\b\b\b\b\b\b\b\b\b\b\b\b\b\b\b\b\b\b\b\b\b\b\b\b\b\b\b\b\b\b\b\b\b\b\b\b\b\b\b\b\b\b\b\b\b\b\r",
      " 2/20 [==>...........................] - ETA: 4:04 - loss: 1.4661 - acc: 0.5500\b\b\b\b\b\b\b\b\b\b\b\b\b\b\b\b\b\b\b\b\b\b\b\b\b\b\b\b\b\b\b\b\b\b\b\b\b\b\b\b\b\b\b\b\b\b\b\b\b\b\b\b\b\b\b\b\b\b\b\b\b\b\b\b\b\b\b\b\b\b\b\b\b\b\b\b\b\b\b\r",
      " 3/20 [===>..........................] - ETA: 3:21 - loss: 1.3557 - acc: 0.6133\b\b\b\b\b\b\b\b\b\b\b\b\b\b\b\b\b\b\b\b\b\b\b\b\b\b\b\b\b\b\b\b\b\b\b\b\b\b\b\b\b\b\b\b\b\b\b\b\b\b\b\b\b\b\b\b\b\b\b\b\b\b\b\b\b\b\b\b\b\b\b\b\b\b\b\b\b\b\b\r",
      " 4/20 [=====>........................] - ETA: 2:51 - loss: 1.2900 - acc: 0.6700\b\b\b\b\b\b\b\b\b\b\b\b\b\b\b\b\b\b\b\b\b\b\b\b\b\b\b\b\b\b\b\b\b\b\b\b\b\b\b\b\b\b\b\b\b\b\b\b\b\b\b\b\b\b\b\b\b\b\b\b\b\b\b\b\b\b\b\b\b\b\b\b\b\b\b\b\b\b\b\r",
      " 5/20 [======>.......................] - ETA: 2:32 - loss: 1.2617 - acc: 0.6880\b\b\b\b\b\b\b\b\b\b\b\b\b\b\b\b\b\b\b\b\b\b\b\b\b\b\b\b\b\b\b\b\b\b\b\b\b\b\b\b\b\b\b\b\b\b\b\b\b\b\b\b\b\b\b\b\b\b\b\b\b\b\b\b\b\b\b\b\b\b\b\b\b\b\b\b\b\b\b\r",
      " 6/20 [========>.....................] - ETA: 2:17 - loss: 1.2233 - acc: 0.6967\b\b\b\b\b\b\b\b\b\b\b\b\b\b\b\b\b\b\b\b\b\b\b\b\b\b\b\b\b\b\b\b\b\b\b\b\b\b\b\b\b\b\b\b\b\b\b\b\b\b\b\b\b\b\b\b\b\b\b\b\b\b\b\b\b\b\b\b\b\b\b\b\b\b\b\b\b\b\b\r",
      " 7/20 [=========>....................] - ETA: 2:03 - loss: 1.2102 - acc: 0.7029\b\b\b\b\b\b\b\b\b\b\b\b\b\b\b\b\b\b\b\b\b\b\b\b\b\b\b\b\b\b\b\b\b\b\b\b\b\b\b\b\b\b\b\b\b\b\b\b\b\b\b\b\b\b\b\b\b\b\b\b\b\b\b\b\b\b\b\b\b\b\b\b\b\b\b\b\b\b\b\r",
      " 8/20 [===========>..................] - ETA: 1:51 - loss: 1.1938 - acc: 0.7100\b\b\b\b\b\b\b\b\b\b\b\b\b\b\b\b\b\b\b\b\b\b\b\b\b\b\b\b\b\b\b\b\b\b\b\b\b\b\b\b\b\b\b\b\b\b\b\b\b\b\b\b\b\b\b\b\b\b\b\b\b\b\b\b\b\b\b\b\b\b\b\b\b\b\b\b\b\b\b\r",
      " 9/20 [============>.................] - ETA: 1:39 - loss: 1.1604 - acc: 0.7244\b\b\b\b\b\b\b\b\b\b\b\b\b\b\b\b\b\b\b\b\b\b\b\b\b\b\b\b\b\b\b\b\b\b\b\b\b\b\b\b\b\b\b\b\b\b\b\b\b\b\b\b\b\b\b\b\b\b\b\b\b\b\b\b\b\b\b\b\b\b\b\b\b\b\b\b\b\b\b\r",
      "10/20 [==============>...............] - ETA: 1:28 - loss: 1.1485 - acc: 0.7240\b\b\b\b\b\b\b\b\b\b\b\b\b\b\b\b\b\b\b\b\b\b\b\b\b\b\b\b\b\b\b\b\b\b\b\b\b\b\b\b\b\b\b\b\b\b\b\b\b\b\b\b\b\b\b\b\b\b\b\b\b\b\b\b\b\b\b\b\b\b\b\b\b\b\b\b\b\b\b\r",
      "11/20 [===============>..............] - ETA: 1:17 - loss: 1.1247 - acc: 0.7291\b\b\b\b\b\b\b\b\b\b\b\b\b\b\b\b\b\b\b\b\b\b\b\b\b\b\b\b\b\b\b\b\b\b\b\b\b\b\b\b\b\b\b\b\b\b\b\b\b\b\b\b\b\b\b\b\b\b\b\b\b\b\b\b\b\b\b\b\b\b\b\b\b\b\b\b\b\b\b\r",
      "12/20 [=================>............] - ETA: 1:08 - loss: 1.1081 - acc: 0.7383\b\b\b\b\b\b\b\b\b\b\b\b\b\b\b\b\b\b\b\b\b\b\b\b\b\b\b\b\b\b\b\b\b\b\b\b\b\b\b\b\b\b\b\b\b\b\b\b\b\b\b\b\b\b\b\b\b\b\b\b\b\b\b\b\b\b\b\b\b\b\b\b\b\b\b\b\b\b\b\r",
      "13/20 [==================>...........] - ETA: 58s - loss: 1.1005 - acc: 0.7400 \b\b\b\b\b\b\b\b\b\b\b\b\b\b\b\b\b\b\b\b\b\b\b\b\b\b\b\b\b\b\b\b\b\b\b\b\b\b\b\b\b\b\b\b\b\b\b\b\b\b\b\b\b\b\b\b\b\b\b\b\b\b\b\b\b\b\b\b\b\b\b\b\b\b\b\b\b\b\r",
      "14/20 [====================>.........] - ETA: 49s - loss: 1.0966 - acc: 0.7471\b\b\b\b\b\b\b\b\b\b\b\b\b\b\b\b\b\b\b\b\b\b\b\b\b\b\b\b\b\b\b\b\b\b\b\b\b\b\b\b\b\b\b\b\b\b\b\b\b\b\b\b\b\b\b\b\b\b\b\b\b\b\b\b\b\b\b\b\b\b\b\b\b\b\b\b\b\b\r",
      "15/20 [=====================>........] - ETA: 40s - loss: 1.0783 - acc: 0.7560\b\b\b\b\b\b\b\b\b\b\b\b\b\b\b\b\b\b\b\b\b\b\b\b\b\b\b\b\b\b\b\b\b\b\b\b\b\b\b\b\b\b\b\b\b\b\b\b\b\b\b\b\b\b\b\b\b\b\b\b\b\b\b\b\b\b\b\b\b\b\b\b\b\b\b\b\b\b\r",
      "16/20 [=======================>......] - ETA: 32s - loss: 1.0736 - acc: 0.7575\b\b\b\b\b\b\b\b\b\b\b\b\b\b\b\b\b\b\b\b\b\b\b\b\b\b\b\b\b\b\b\b\b\b\b\b\b\b\b\b\b\b\b\b\b\b\b\b\b\b\b\b\b\b\b\b\b\b\b\b\b\b\b\b\b\b\b\b\b\b\b\b\b\b\b\b\b\b\r",
      "17/20 [========================>.....] - ETA: 23s - loss: 1.0641 - acc: 0.7612\b\b\b\b\b\b\b\b\b\b\b\b\b\b\b\b\b\b\b\b\b\b\b\b\b\b\b\b\b\b\b\b\b\b\b\b\b\b\b\b\b\b\b\b\b\b\b\b\b\b\b\b\b\b\b\b\b\b\b\b\b\b\b\b\b\b\b\b\b\b\b\b\b\b\b\b\b\b\r",
      "18/20 [==========================>...] - ETA: 15s - loss: 1.0585 - acc: 0.7633\b\b\b\b\b\b\b\b\b\b\b\b\b\b\b\b\b\b\b\b\b\b\b\b\b\b\b\b\b\b\b\b\b\b\b\b\b\b\b\b\b\b\b\b\b\b\b\b\b\b\b\b\b\b\b\b\b\b\b\b\b\b\b\b\b\b\b\b\b\b\b\b\b\b\b\b\b\b\r",
      "19/20 [===========================>..] - ETA: 7s - loss: 1.0483 - acc: 0.7674 \b\b\b\b\b\b\b\b\b\b\b\b\b\b\b\b\b\b\b\b\b\b\b\b\b\b\b\b\b\b\b\b\b\b\b\b\b\b\b\b\b\b\b\b\b\b\b\b\b\b\b\b\b\b\b\b\b\b\b\b\b\b\b\b\b\b\b\b\b\b\b\b\b\b\b\b\b\r",
      "20/20 [==============================] - 159s 8s/step - loss: 1.0389 - acc: 0.7740 - val_loss: 1.0537 - val_acc: 0.8200\n",
      "Epoch 2/50\n",
      "\r",
      " 1/20 [>.............................] - ETA: 1:55 - loss: 0.9822 - acc: 0.8000\b\b\b\b\b\b\b\b\b\b\b\b\b\b\b\b\b\b\b\b\b\b\b\b\b\b\b\b\b\b\b\b\b\b\b\b\b\b\b\b\b\b\b\b\b\b\b\b\b\b\b\b\b\b\b\b\b\b\b\b\b\b\b\b\b\b\b\b\b\b\b\b\b\b\b\b\b\b\b\r",
      " 2/20 [==>...........................] - ETA: 1:50 - loss: 0.9284 - acc: 0.8500\b\b\b\b\b\b\b\b\b\b\b\b\b\b\b\b\b\b\b\b\b\b\b\b\b\b\b\b\b\b\b\b\b\b\b\b\b\b\b\b\b\b\b\b\b\b\b\b\b\b\b\b\b\b\b\b\b\b\b\b\b\b\b\b\b\b\b\b\b\b\b\b\b\b\b\b\b\b\b\r",
      " 3/20 [===>..........................] - ETA: 1:46 - loss: 0.9448 - acc: 0.8267\b\b\b\b\b\b\b\b\b\b\b\b\b\b\b\b\b\b\b\b\b\b\b\b\b\b\b\b\b\b\b\b\b\b\b\b\b\b\b\b\b\b\b\b\b\b\b\b\b\b\b\b\b\b\b\b\b\b\b\b\b\b\b\b\b\b\b\b\b\b\b\b\b\b\b\b\b\b\b\r",
      " 4/20 [=====>........................] - ETA: 1:39 - loss: 0.9536 - acc: 0.8100\b\b\b\b\b\b\b\b\b\b\b\b\b\b\b\b\b\b\b\b\b\b\b\b\b\b\b\b\b\b\b\b\b\b\b\b\b\b\b\b\b\b\b\b\b\b\b\b\b\b\b\b\b\b\b\b\b\b\b\b\b\b\b\b\b\b\b\b\b\b\b\b\b\b\b\b\b\b\b\r",
      " 5/20 [======>.......................] - ETA: 1:32 - loss: 0.9436 - acc: 0.8120\b\b\b\b\b\b\b\b\b\b\b\b\b\b\b\b\b\b\b\b\b\b\b\b\b\b\b\b\b\b\b\b\b\b\b\b\b\b\b\b\b\b\b\b\b\b\b\b\b\b\b\b\b\b\b\b\b\b\b\b\b\b\b\b\b\b\b\b\b\b\b\b\b\b\b\b\b\b\b\r",
      " 6/20 [========>.....................] - ETA: 1:27 - loss: 0.9276 - acc: 0.8233\b\b\b\b\b\b\b\b\b\b\b\b\b\b\b\b\b\b\b\b\b\b\b\b\b\b\b\b\b\b\b\b\b\b\b\b\b\b\b\b\b\b\b\b\b\b\b\b\b\b\b\b\b\b\b\b\b\b\b\b\b\b\b\b\b\b\b\b\b\b\b\b\b\b\b\b\b\b\b\r",
      " 7/20 [=========>....................] - ETA: 1:21 - loss: 0.9045 - acc: 0.8429\b\b\b\b\b\b\b\b\b\b\b\b\b\b\b\b\b\b\b\b\b\b\b\b\b\b\b\b\b\b\b\b\b\b\b\b\b\b\b\b\b\b\b\b\b\b\b\b\b\b\b\b\b\b\b\b\b\b\b\b\b\b\b\b\b\b\b\b\b\b\b\b\b\b\b\b\b\b\b\r",
      " 8/20 [===========>..................] - ETA: 1:15 - loss: 0.8924 - acc: 0.8450\b\b\b\b\b\b\b\b\b\b\b\b\b\b\b\b\b\b\b\b\b\b\b\b\b\b\b\b\b\b\b\b\b\b\b\b\b\b\b\b\b\b\b\b\b\b\b\b\b\b\b\b\b\b\b\b\b\b\b\b\b\b\b\b\b\b\b\b\b\b\b\b\b\b\b\b\b\b\b\r",
      " 9/20 [============>.................] - ETA: 1:09 - loss: 0.8775 - acc: 0.8556\b\b\b\b\b\b\b\b\b\b\b\b\b\b\b\b\b\b\b\b\b\b\b\b\b\b\b\b\b\b\b\b\b\b\b\b\b\b\b\b\b\b\b\b\b\b\b\b\b\b\b\b\b\b\b\b\b\b\b\b\b\b\b\b\b\b\b\b\b\b\b\b\b\b\b\b\b\b\b\r",
      "10/20 [==============>...............] - ETA: 1:02 - loss: 0.8717 - acc: 0.8580\b\b\b\b\b\b\b\b\b\b\b\b\b\b\b\b\b\b\b\b\b\b\b\b\b\b\b\b\b\b\b\b\b\b\b\b\b\b\b\b\b\b\b\b\b\b\b\b\b\b\b\b\b\b\b\b\b\b\b\b\b\b\b\b\b\b\b\b\b\b\b\b\b\b\b\b\b\b\b\r",
      "11/20 [===============>..............] - ETA: 56s - loss: 0.8689 - acc: 0.8600 \b\b\b\b\b\b\b\b\b\b\b\b\b\b\b\b\b\b\b\b\b\b\b\b\b\b\b\b\b\b\b\b\b\b\b\b\b\b\b\b\b\b\b\b\b\b\b\b\b\b\b\b\b\b\b\b\b\b\b\b\b\b\b\b\b\b\b\b\b\b\b\b\b\b\b\b\b\b\r",
      "12/20 [=================>............] - ETA: 50s - loss: 0.8689 - acc: 0.8600\b\b\b\b\b\b\b\b\b\b\b\b\b\b\b\b\b\b\b\b\b\b\b\b\b\b\b\b\b\b\b\b\b\b\b\b\b\b\b\b\b\b\b\b\b\b\b\b\b\b\b\b\b\b\b\b\b\b\b\b\b\b\b\b\b\b\b\b\b\b\b\b\b\b\b\b\b\b\r",
      "13/20 [==================>...........] - ETA: 43s - loss: 0.8718 - acc: 0.8600\b\b\b\b\b\b\b\b\b\b\b\b\b\b\b\b\b\b\b\b\b\b\b\b\b\b\b\b\b\b\b\b\b\b\b\b\b\b\b\b\b\b\b\b\b\b\b\b\b\b\b\b\b\b\b\b\b\b\b\b\b\b\b\b\b\b\b\b\b\b\b\b\b\b\b\b\b\b\r",
      "14/20 [====================>.........] - ETA: 37s - loss: 0.8855 - acc: 0.8543\b\b\b\b\b\b\b\b\b\b\b\b\b\b\b\b\b\b\b\b\b\b\b\b\b\b\b\b\b\b\b\b\b\b\b\b\b\b\b\b\b\b\b\b\b\b\b\b\b\b\b\b\b\b\b\b\b\b\b\b\b\b\b\b\b\b\b\b\b\b\b\b\b\b\b\b\b\b\r",
      "15/20 [=====================>........] - ETA: 31s - loss: 0.8870 - acc: 0.8520\b\b\b\b\b\b\b\b\b\b\b\b\b\b\b\b\b\b\b\b\b\b\b\b\b\b\b\b\b\b\b\b\b\b\b\b\b\b\b\b\b\b\b\b\b\b\b\b\b\b\b\b\b\b\b\b\b\b\b\b\b\b\b\b\b\b\b\b\b\b\b\b\b\b\b\b\b\b\r",
      "16/20 [=======================>......] - ETA: 25s - loss: 0.8803 - acc: 0.8550\b\b\b\b\b\b\b\b\b\b\b\b\b\b\b\b\b\b\b\b\b\b\b\b\b\b\b\b\b\b\b\b\b\b\b\b\b\b\b\b\b\b\b\b\b\b\b\b\b\b\b\b\b\b\b\b\b\b\b\b\b\b\b\b\b\b\b\b\b\b\b\b\b\b\b\b\b\b\r",
      "17/20 [========================>.....] - ETA: 18s - loss: 0.8709 - acc: 0.8600\b\b\b\b\b\b\b\b\b\b\b\b\b\b\b\b\b\b\b\b\b\b\b\b\b\b\b\b\b\b\b\b\b\b\b\b\b\b\b\b\b\b\b\b\b\b\b\b\b\b\b\b\b\b\b\b\b\b\b\b\b\b\b\b\b\b\b\b\b\b\b\b\b\b\b\b\b\b\r",
      "18/20 [==========================>...] - ETA: 12s - loss: 0.8764 - acc: 0.8567\b\b\b\b\b\b\b\b\b\b\b\b\b\b\b\b\b\b\b\b\b\b\b\b\b\b\b\b\b\b\b\b\b\b\b\b\b\b\b\b\b\b\b\b\b\b\b\b\b\b\b\b\b\b\b\b\b\b\b\b\b\b\b\b\b\b\b\b\b\b\b\b\b\b\b\b\b\b\r",
      "19/20 [===========================>..] - ETA: 6s - loss: 0.8787 - acc: 0.8558 \b\b\b\b\b\b\b\b\b\b\b\b\b\b\b\b\b\b\b\b\b\b\b\b\b\b\b\b\b\b\b\b\b\b\b\b\b\b\b\b\b\b\b\b\b\b\b\b\b\b\b\b\b\b\b\b\b\b\b\b\b\b\b\b\b\b\b\b\b\b\b\b\b\b\b\b\b\r",
      "20/20 [==============================] - 130s 6s/step - loss: 0.8789 - acc: 0.8550 - val_loss: 0.9239 - val_acc: 0.8000\n",
      "Epoch 3/50\n",
      "\r",
      " 1/20 [>.............................] - ETA: 1:56 - loss: 0.9392 - acc: 0.8400\b\b\b\b\b\b\b\b\b\b\b\b\b\b\b\b\b\b\b\b\b\b\b\b\b\b\b\b\b\b\b\b\b\b\b\b\b\b\b\b\b\b\b\b\b\b\b\b\b\b\b\b\b\b\b\b\b\b\b\b\b\b\b\b\b\b\b\b\b\b\b\b\b\b\b\b\b\b\b\r",
      " 2/20 [==>...........................] - ETA: 1:47 - loss: 0.9430 - acc: 0.7867\b\b\b\b\b\b\b\b\b\b\b\b\b\b\b\b\b\b\b\b\b\b\b\b\b\b\b\b\b\b\b\b\b\b\b\b\b\b\b\b\b\b\b\b\b\b\b\b\b\b\b\b\b\b\b\b\b\b\b\b\b\b\b\b\b\b\b\b\b\b\b\b\b\b\b\b\b\b\b\r",
      " 3/20 [===>..........................] - ETA: 1:42 - loss: 0.9398 - acc: 0.7911\b\b\b\b\b\b\b\b\b\b\b\b\b\b\b\b\b\b\b\b\b\b\b\b\b\b\b\b\b\b\b\b\b\b\b\b\b\b\b\b\b\b\b\b\b\b\b\b\b\b\b\b\b\b\b\b\b\b\b\b\b\b\b\b\b\b\b\b\b\b\b\b\b\b\b\b\b\b\b\r",
      " 4/20 [=====>........................] - ETA: 1:37 - loss: 0.9320 - acc: 0.7983\b\b\b\b\b\b\b\b\b\b\b\b\b\b\b\b\b\b\b\b\b\b\b\b\b\b\b\b\b\b\b\b\b\b\b\b\b\b\b\b\b\b\b\b\b\b\b\b\b\b\b\b\b\b\b\b\b\b\b\b\b\b\b\b\b\b\b\b\b\b\b\b\b\b\b\b\b\b\b\r",
      " 5/20 [======>.......................] - ETA: 1:32 - loss: 0.9227 - acc: 0.8107\b\b\b\b\b\b\b\b\b\b\b\b\b\b\b\b\b\b\b\b\b\b\b\b\b\b\b\b\b\b\b\b\b\b\b\b\b\b\b\b\b\b\b\b\b\b\b\b\b\b\b\b\b\b\b\b\b\b\b\b\b\b\b\b\b\b\b\b\b\b\b\b\b\b\b\b\b\b\b\r",
      " 6/20 [========>.....................] - ETA: 1:26 - loss: 0.9055 - acc: 0.8189\b\b\b\b\b\b\b\b\b\b\b\b\b\b\b\b\b\b\b\b\b\b\b\b\b\b\b\b\b\b\b\b\b\b\b\b\b\b\b\b\b\b\b\b\b\b\b\b\b\b\b\b\b\b\b\b\b\b\b\b\b\b\b\b\b\b\b\b\b\b\b\b\b\b\b\b\b\b\b\r",
      " 7/20 [=========>....................] - ETA: 1:21 - loss: 0.8939 - acc: 0.8248\b\b\b\b\b\b\b\b\b\b\b\b\b\b\b\b\b\b\b\b\b\b\b\b\b\b\b\b\b\b\b\b\b\b\b\b\b\b\b\b\b\b\b\b\b\b\b\b\b\b\b\b\b\b\b\b\b\b\b\b\b\b\b\b\b\b\b\b\b\b\b\b\b\b\b\b\b\b\b\r",
      " 8/20 [===========>..................] - ETA: 1:15 - loss: 0.8747 - acc: 0.8392\b\b\b\b\b\b\b\b\b\b\b\b\b\b\b\b\b\b\b\b\b\b\b\b\b\b\b\b\b\b\b\b\b\b\b\b\b\b\b\b\b\b\b\b\b\b\b\b\b\b\b\b\b\b\b\b\b\b\b\b\b\b\b\b\b\b\b\b\b\b\b\b\b\b\b\b\b\b\b\r",
      " 9/20 [============>.................] - ETA: 1:09 - loss: 0.8728 - acc: 0.8437\b\b\b\b\b\b\b\b\b\b\b\b\b\b\b\b\b\b\b\b\b\b\b\b\b\b\b\b\b\b\b\b\b\b\b\b\b\b\b\b\b\b\b\b\b\b\b\b\b\b\b\b\b\b\b\b\b\b\b\b\b\b\b\b\b\b\b\b\b\b\b\b\b\b\b\b\b\b\b\r",
      "10/20 [==============>...............] - ETA: 1:03 - loss: 0.8757 - acc: 0.8433\b\b\b\b\b\b\b\b\b\b\b\b\b\b\b\b\b\b\b\b\b\b\b\b\b\b\b\b\b\b\b\b\b\b\b\b\b\b\b\b\b\b\b\b\b\b\b\b\b\b\b\b\b\b\b\b\b\b\b\b\b\b\b\b\b\b\b\b\b\b\b\b\b\b\b\b\b\b\b\r",
      "11/20 [===============>..............] - ETA: 57s - loss: 0.8684 - acc: 0.8485 \b\b\b\b\b\b\b\b\b\b\b\b\b\b\b\b\b\b\b\b\b\b\b\b\b\b\b\b\b\b\b\b\b\b\b\b\b\b\b\b\b\b\b\b\b\b\b\b\b\b\b\b\b\b\b\b\b\b\b\b\b\b\b\b\b\b\b\b\b\b\b\b\b\b\b\b\b\b\r",
      "12/20 [=================>............] - ETA: 51s - loss: 0.8662 - acc: 0.8511\b\b\b\b\b\b\b\b\b\b\b\b\b\b\b\b\b\b\b\b\b\b\b\b\b\b\b\b\b\b\b\b\b\b\b\b\b\b\b\b\b\b\b\b\b\b\b\b\b\b\b\b\b\b\b\b\b\b\b\b\b\b\b\b\b\b\b\b\b\b\b\b\b\b\b\b\b\b\r",
      "13/20 [==================>...........] - ETA: 44s - loss: 0.8622 - acc: 0.8564\b\b\b\b\b\b\b\b\b\b\b\b\b\b\b\b\b\b\b\b\b\b\b\b\b\b\b\b\b\b\b\b\b\b\b\b\b\b\b\b\b\b\b\b\b\b\b\b\b\b\b\b\b\b\b\b\b\b\b\b\b\b\b\b\b\b\b\b\b\b\b\b\b\b\b\b\b\b\r",
      "14/20 [====================>.........] - ETA: 38s - loss: 0.8575 - acc: 0.8595\b\b\b\b\b\b\b\b\b\b\b\b\b\b\b\b\b\b\b\b\b\b\b\b\b\b\b\b\b\b\b\b\b\b\b\b\b\b\b\b\b\b\b\b\b\b\b\b\b\b\b\b\b\b\b\b\b\b\b\b\b\b\b\b\b\b\b\b\b\b\b\b\b\b\b\b\b\b\r",
      "15/20 [=====================>........] - ETA: 32s - loss: 0.8585 - acc: 0.8582\b\b\b\b\b\b\b\b\b\b\b\b\b\b\b\b\b\b\b\b\b\b\b\b\b\b\b\b\b\b\b\b\b\b\b\b\b\b\b\b\b\b\b\b\b\b\b\b\b\b\b\b\b\b\b\b\b\b\b\b\b\b\b\b\b\b\b\b\b\b\b\b\b\b\b\b\b\b\r",
      "16/20 [=======================>......] - ETA: 25s - loss: 0.8533 - acc: 0.8608\b\b\b\b\b\b\b\b\b\b\b\b\b\b\b\b\b\b\b\b\b\b\b\b\b\b\b\b\b\b\b\b\b\b\b\b\b\b\b\b\b\b\b\b\b\b\b\b\b\b\b\b\b\b\b\b\b\b\b\b\b\b\b\b\b\b\b\b\b\b\b\b\b\b\b\b\b\b\r",
      "17/20 [========================>.....] - ETA: 19s - loss: 0.8485 - acc: 0.8631\b\b\b\b\b\b\b\b\b\b\b\b\b\b\b\b\b\b\b\b\b\b\b\b\b\b\b\b\b\b\b\b\b\b\b\b\b\b\b\b\b\b\b\b\b\b\b\b\b\b\b\b\b\b\b\b\b\b\b\b\b\b\b\b\b\b\b\b\b\b\b\b\b\b\b\b\b\b\r",
      "18/20 [==========================>...] - ETA: 12s - loss: 0.8459 - acc: 0.8630\b\b\b\b\b\b\b\b\b\b\b\b\b\b\b\b\b\b\b\b\b\b\b\b\b\b\b\b\b\b\b\b\b\b\b\b\b\b\b\b\b\b\b\b\b\b\b\b\b\b\b\b\b\b\b\b\b\b\b\b\b\b\b\b\b\b\b\b\b\b\b\b\b\b\b\b\b\b\r",
      "19/20 [===========================>..] - ETA: 6s - loss: 0.8429 - acc: 0.8639 \b\b\b\b\b\b\b\b\b\b\b\b\b\b\b\b\b\b\b\b\b\b\b\b\b\b\b\b\b\b\b\b\b\b\b\b\b\b\b\b\b\b\b\b\b\b\b\b\b\b\b\b\b\b\b\b\b\b\b\b\b\b\b\b\b\b\b\b\b\b\b\b\b\b\b\b\b\r",
      "20/20 [==============================] - 132s 7s/step - loss: 0.8387 - acc: 0.8637 - val_loss: 0.7750 - val_acc: 0.8800\n",
      "Epoch 4/50\n",
      "\r",
      " 1/20 [>.............................] - ETA: 2:01 - loss: 0.8198 - acc: 0.9000\b\b\b\b\b\b\b\b\b\b\b\b\b\b\b\b\b\b\b\b\b\b\b\b\b\b\b\b\b\b\b\b\b\b\b\b\b\b\b\b\b\b\b\b\b\b\b\b\b\b\b\b\b\b\b\b\b\b\b\b\b\b\b\b\b\b\b\b\b\b\b\b\b\b\b\b\b\b\b\r",
      " 2/20 [==>...........................] - ETA: 1:53 - loss: 0.8945 - acc: 0.8400\b\b\b\b\b\b\b\b\b\b\b\b\b\b\b\b\b\b\b\b\b\b\b\b\b\b\b\b\b\b\b\b\b\b\b\b\b\b\b\b\b\b\b\b\b\b\b\b\b\b\b\b\b\b\b\b\b\b\b\b\b\b\b\b\b\b\b\b\b\b\b\b\b\b\b\b\b\b\b\r",
      " 3/20 [===>..........................] - ETA: 1:44 - loss: 0.8339 - acc: 0.8711\b\b\b\b\b\b\b\b\b\b\b\b\b\b\b\b\b\b\b\b\b\b\b\b\b\b\b\b\b\b\b\b\b\b\b\b\b\b\b\b\b\b\b\b\b\b\b\b\b\b\b\b\b\b\b\b\b\b\b\b\b\b\b\b\b\b\b\b\b\b\b\b\b\b\b\b\b\b\b\r",
      " 4/20 [=====>........................] - ETA: 1:39 - loss: 0.8221 - acc: 0.8733\b\b\b\b\b\b\b\b\b\b\b\b\b\b\b\b\b\b\b\b\b\b\b\b\b\b\b\b\b\b\b\b\b\b\b\b\b\b\b\b\b\b\b\b\b\b\b\b\b\b\b\b\b\b\b\b\b\b\b\b\b\b\b\b\b\b\b\b\b\b\b\b\b\b\b\b\b\b\b\r",
      " 5/20 [======>.......................] - ETA: 1:34 - loss: 0.8204 - acc: 0.8747\b\b\b\b\b\b\b\b\b\b\b\b\b\b\b\b\b\b\b\b\b\b\b\b\b\b\b\b\b\b\b\b\b\b\b\b\b\b\b\b\b\b\b\b\b\b\b\b\b\b\b\b\b\b\b\b\b\b\b\b\b\b\b\b\b\b\b\b\b\b\b\b\b\b\b\b\b\b\b\r",
      " 6/20 [========>.....................] - ETA: 1:28 - loss: 0.8150 - acc: 0.8789\b\b\b\b\b\b\b\b\b\b\b\b\b\b\b\b\b\b\b\b\b\b\b\b\b\b\b\b\b\b\b\b\b\b\b\b\b\b\b\b\b\b\b\b\b\b\b\b\b\b\b\b\b\b\b\b\b\b\b\b\b\b\b\b\b\b\b\b\b\b\b\b\b\b\b\b\b\b\b\r",
      " 7/20 [=========>....................] - ETA: 1:22 - loss: 0.8047 - acc: 0.8848\b\b\b\b\b\b\b\b\b\b\b\b\b\b\b\b\b\b\b\b\b\b\b\b\b\b\b\b\b\b\b\b\b\b\b\b\b\b\b\b\b\b\b\b\b\b\b\b\b\b\b\b\b\b\b\b\b\b\b\b\b\b\b\b\b\b\b\b\b\b\b\b\b\b\b\b\b\b\b\r",
      " 8/20 [===========>..................] - ETA: 1:16 - loss: 0.8110 - acc: 0.8792\b\b\b\b\b\b\b\b\b\b\b\b\b\b\b\b\b\b\b\b\b\b\b\b\b\b\b\b\b\b\b\b\b\b\b\b\b\b\b\b\b\b\b\b\b\b\b\b\b\b\b\b\b\b\b\b\b\b\b\b\b\b\b\b\b\b\b\b\b\b\b\b\b\b\b\b\b\b\b\r",
      " 9/20 [============>.................] - ETA: 1:10 - loss: 0.8218 - acc: 0.8770\b\b\b\b\b\b\b\b\b\b\b\b\b\b\b\b\b\b\b\b\b\b\b\b\b\b\b\b\b\b\b\b\b\b\b\b\b\b\b\b\b\b\b\b\b\b\b\b\b\b\b\b\b\b\b\b\b\b\b\b\b\b\b\b\b\b\b\b\b\b\b\b\b\b\b\b\b\b\b\r",
      "10/20 [==============>...............] - ETA: 1:03 - loss: 0.8156 - acc: 0.8793\b\b\b\b\b\b\b\b\b\b\b\b\b\b\b\b\b\b\b\b\b\b\b\b\b\b\b\b\b\b\b\b\b\b\b\b\b\b\b\b\b\b\b\b\b\b\b\b\b\b\b\b\b\b\b\b\b\b\b\b\b\b\b\b\b\b\b\b\b\b\b\b\b\b\b\b\b\b\b\r",
      "11/20 [===============>..............] - ETA: 57s - loss: 0.8045 - acc: 0.8867 \b\b\b\b\b\b\b\b\b\b\b\b\b\b\b\b\b\b\b\b\b\b\b\b\b\b\b\b\b\b\b\b\b\b\b\b\b\b\b\b\b\b\b\b\b\b\b\b\b\b\b\b\b\b\b\b\b\b\b\b\b\b\b\b\b\b\b\b\b\b\b\b\b\b\b\b\b\b\r",
      "12/20 [=================>............] - ETA: 51s - loss: 0.7981 - acc: 0.8861\b\b\b\b\b\b\b\b\b\b\b\b\b\b\b\b\b\b\b\b\b\b\b\b\b\b\b\b\b\b\b\b\b\b\b\b\b\b\b\b\b\b\b\b\b\b\b\b\b\b\b\b\b\b\b\b\b\b\b\b\b\b\b\b\b\b\b\b\b\b\b\b\b\b\b\b\b\b\r",
      "13/20 [==================>...........] - ETA: 44s - loss: 0.7989 - acc: 0.8841\b\b\b\b\b\b\b\b\b\b\b\b\b\b\b\b\b\b\b\b\b\b\b\b\b\b\b\b\b\b\b\b\b\b\b\b\b\b\b\b\b\b\b\b\b\b\b\b\b\b\b\b\b\b\b\b\b\b\b\b\b\b\b\b\b\b\b\b\b\b\b\b\b\b\b\b\b\b\r",
      "14/20 [====================>.........] - ETA: 38s - loss: 0.7888 - acc: 0.8895\b\b\b\b\b\b\b\b\b\b\b\b\b\b\b\b\b\b\b\b\b\b\b\b\b\b\b\b\b\b\b\b\b\b\b\b\b\b\b\b\b\b\b\b\b\b\b\b\b\b\b\b\b\b\b\b\b\b\b\b\b\b\b\b\b\b\b\b\b\b\b\b\b\b\b\b\b\b\r",
      "15/20 [=====================>........] - ETA: 32s - loss: 0.7884 - acc: 0.8889\b\b\b\b\b\b\b\b\b\b\b\b\b\b\b\b\b\b\b\b\b\b\b\b\b\b\b\b\b\b\b\b\b\b\b\b\b\b\b\b\b\b\b\b\b\b\b\b\b\b\b\b\b\b\b\b\b\b\b\b\b\b\b\b\b\b\b\b\b\b\b\b\b\b\b\b\b\b\r",
      "16/20 [=======================>......] - ETA: 25s - loss: 0.7827 - acc: 0.8921\b\b\b\b\b\b\b\b\b\b\b\b\b\b\b\b\b\b\b\b\b\b\b\b\b\b\b\b\b\b\b\b\b\b\b\b\b\b\b\b\b\b\b\b\b\b\b\b\b\b\b\b\b\b\b\b\b\b\b\b\b\b\b\b\b\b\b\b\b\b\b\b\b\b\b\b\b\b\r",
      "17/20 [========================>.....] - ETA: 19s - loss: 0.7806 - acc: 0.8925\b\b\b\b\b\b\b\b\b\b\b\b\b\b\b\b\b\b\b\b\b\b\b\b\b\b\b\b\b\b\b\b\b\b\b\b\b\b\b\b\b\b\b\b\b\b\b\b\b\b\b\b\b\b\b\b\b\b\b\b\b\b\b\b\b\b\b\b\b\b\b\b\b\b\b\b\b\b\r",
      "18/20 [==========================>...] - ETA: 12s - loss: 0.7786 - acc: 0.8919\b\b\b\b\b\b\b\b\b\b\b\b\b\b\b\b\b\b\b\b\b\b\b\b\b\b\b\b\b\b\b\b\b\b\b\b\b\b\b\b\b\b\b\b\b\b\b\b\b\b\b\b\b\b\b\b\b\b\b\b\b\b\b\b\b\b\b\b\b\b\b\b\b\b\b\b\b\b\r",
      "19/20 [===========================>..] - ETA: 6s - loss: 0.7770 - acc: 0.8923 \b\b\b\b\b\b\b\b\b\b\b\b\b\b\b\b\b\b\b\b\b\b\b\b\b\b\b\b\b\b\b\b\b\b\b\b\b\b\b\b\b\b\b\b\b\b\b\b\b\b\b\b\b\b\b\b\b\b\b\b\b\b\b\b\b\b\b\b\b\b\b\b\b\b\b\b\b\r",
      "20/20 [==============================] - 131s 7s/step - loss: 0.7832 - acc: 0.8907 - val_loss: 0.7494 - val_acc: 0.9200\n",
      "Epoch 5/50\n",
      "\r",
      " 1/20 [>.............................] - ETA: 2:00 - loss: 0.9002 - acc: 0.8200\b\b\b\b\b\b\b\b\b\b\b\b\b\b\b\b\b\b\b\b\b\b\b\b\b\b\b\b\b\b\b\b\b\b\b\b\b\b\b\b\b\b\b\b\b\b\b\b\b\b\b\b\b\b\b\b\b\b\b\b\b\b\b\b\b\b\b\b\b\b\b\b\b\b\b\b\b\b\b\r",
      " 2/20 [==>...........................] - ETA: 1:55 - loss: 0.8891 - acc: 0.8600\b\b\b\b\b\b\b\b\b\b\b\b\b\b\b\b\b\b\b\b\b\b\b\b\b\b\b\b\b\b\b\b\b\b\b\b\b\b\b\b\b\b\b\b\b\b\b\b\b\b\b\b\b\b\b\b\b\b\b\b\b\b\b\b\b\b\b\b\b\b\b\b\b\b\b\b\b\b\b\r",
      " 3/20 [===>..........................] - ETA: 1:50 - loss: 0.8677 - acc: 0.8667\b\b\b\b\b\b\b\b\b\b\b\b\b\b\b\b\b\b\b\b\b\b\b\b\b\b\b\b\b\b\b\b\b\b\b\b\b\b\b\b\b\b\b\b\b\b\b\b\b\b\b\b\b\b\b\b\b\b\b\b\b\b\b\b\b\b\b\b\b\b\b\b\b\b\b\b\b\b\b\r",
      " 4/20 [=====>........................] - ETA: 1:41 - loss: 0.8356 - acc: 0.8722\b\b\b\b\b\b\b\b\b\b\b\b\b\b\b\b\b\b\b\b\b\b\b\b\b\b\b\b\b\b\b\b\b\b\b\b\b\b\b\b\b\b\b\b\b\b\b\b\b\b\b\b\b\b\b\b\b\b\b\b\b\b\b\b\b\b\b\b\b\b\b\b\b\b\b\b\b\b\b\r",
      " 5/20 [======>.......................] - ETA: 1:35 - loss: 0.8172 - acc: 0.8778\b\b\b\b\b\b\b\b\b\b\b\b\b\b\b\b\b\b\b\b\b\b\b\b\b\b\b\b\b\b\b\b\b\b\b\b\b\b\b\b\b\b\b\b\b\b\b\b\b\b\b\b\b\b\b\b\b\b\b\b\b\b\b\b\b\b\b\b\b\b\b\b\b\b\b\b\b\b\b\r",
      " 6/20 [========>.....................] - ETA: 1:29 - loss: 0.8014 - acc: 0.8848\b\b\b\b\b\b\b\b\b\b\b\b\b\b\b\b\b\b\b\b\b\b\b\b\b\b\b\b\b\b\b\b\b\b\b\b\b\b\b\b\b\b\b\b\b\b\b\b\b\b\b\b\b\b\b\b\b\b\b\b\b\b\b\b\b\b\b\b\b\b\b\b\b\b\b\b\b\b\b\r",
      " 7/20 [=========>....................] - ETA: 1:23 - loss: 0.8046 - acc: 0.8813\b\b\b\b\b\b\b\b\b\b\b\b\b\b\b\b\b\b\b\b\b\b\b\b\b\b\b\b\b\b\b\b\b\b\b\b\b\b\b\b\b\b\b\b\b\b\b\b\b\b\b\b\b\b\b\b\b\b\b\b\b\b\b\b\b\b\b\b\b\b\b\b\b\b\b\b\b\b\b\r",
      " 8/20 [===========>..................] - ETA: 1:16 - loss: 0.7993 - acc: 0.8836\b\b\b\b\b\b\b\b\b\b\b\b\b\b\b\b\b\b\b\b\b\b\b\b\b\b\b\b\b\b\b\b\b\b\b\b\b\b\b\b\b\b\b\b\b\b\b\b\b\b\b\b\b\b\b\b\b\b\b\b\b\b\b\b\b\b\b\b\b\b\b\b\b\b\b\b\b\b\b\r",
      " 9/20 [============>.................] - ETA: 1:10 - loss: 0.7964 - acc: 0.8810\b\b\b\b\b\b\b\b\b\b\b\b\b\b\b\b\b\b\b\b\b\b\b\b\b\b\b\b\b\b\b\b\b\b\b\b\b\b\b\b\b\b\b\b\b\b\b\b\b\b\b\b\b\b\b\b\b\b\b\b\b\b\b\b\b\b\b\b\b\b\b\b\b\b\b\b\b\b\b\r",
      "10/20 [==============>...............] - ETA: 1:03 - loss: 0.8165 - acc: 0.8749\b\b\b\b\b\b\b\b\b\b\b\b\b\b\b\b\b\b\b\b\b\b\b\b\b\b\b\b\b\b\b\b\b\b\b\b\b\b\b\b\b\b\b\b\b\b\b\b\b\b\b\b\b\b\b\b\b\b\b\b\b\b\b\b\b\b\b\b\b\b\b\b\b\b\b\b\b\b\b\r",
      "11/20 [===============>..............] - ETA: 57s - loss: 0.8143 - acc: 0.8717 \b\b\b\b\b\b\b\b\b\b\b\b\b\b\b\b\b\b\b\b\b\b\b\b\b\b\b\b\b\b\b\b\b\b\b\b\b\b\b\b\b\b\b\b\b\b\b\b\b\b\b\b\b\b\b\b\b\b\b\b\b\b\b\b\b\b\b\b\b\b\b\b\b\b\b\b\b\b\r",
      "12/20 [=================>............] - ETA: 50s - loss: 0.8135 - acc: 0.8741\b\b\b\b\b\b\b\b\b\b\b\b\b\b\b\b\b\b\b\b\b\b\b\b\b\b\b\b\b\b\b\b\b\b\b\b\b\b\b\b\b\b\b\b\b\b\b\b\b\b\b\b\b\b\b\b\b\b\b\b\b\b\b\b\b\b\b\b\b\b\b\b\b\b\b\b\b\b\r",
      "13/20 [==================>...........] - ETA: 44s - loss: 0.8110 - acc: 0.8761\b\b\b\b\b\b\b\b\b\b\b\b\b\b\b\b\b\b\b\b\b\b\b\b\b\b\b\b\b\b\b\b\b\b\b\b\b\b\b\b\b\b\b\b\b\b\b\b\b\b\b\b\b\b\b\b\b\b\b\b\b\b\b\b\b\b\b\b\b\b\b\b\b\b\b\b\b\b\r",
      "14/20 [====================>.........] - ETA: 38s - loss: 0.8152 - acc: 0.8749\b\b\b\b\b\b\b\b\b\b\b\b\b\b\b\b\b\b\b\b\b\b\b\b\b\b\b\b\b\b\b\b\b\b\b\b\b\b\b\b\b\b\b\b\b\b\b\b\b\b\b\b\b\b\b\b\b\b\b\b\b\b\b\b\b\b\b\b\b\b\b\b\b\b\b\b\b\b\r",
      "15/20 [=====================>........] - ETA: 31s - loss: 0.8174 - acc: 0.8779\b\b\b\b\b\b\b\b\b\b\b\b\b\b\b\b\b\b\b\b\b\b\b\b\b\b\b\b\b\b\b\b\b\b\b\b\b\b\b\b\b\b\b\b\b\b\b\b\b\b\b\b\b\b\b\b\b\b\b\b\b\b\b\b\b\b\b\b\b\b\b\b\b\b\b\b\b\b\r",
      "16/20 [=======================>......] - ETA: 25s - loss: 0.8170 - acc: 0.8743\b\b\b\b\b\b\b\b\b\b\b\b\b\b\b\b\b\b\b\b\b\b\b\b\b\b\b\b\b\b\b\b\b\b\b\b\b\b\b\b\b\b\b\b\b\b\b\b\b\b\b\b\b\b\b\b\b\b\b\b\b\b\b\b\b\b\b\b\b\b\b\b\b\b\b\b\b\b\r",
      "17/20 [========================>.....] - ETA: 19s - loss: 0.8094 - acc: 0.8770\b\b\b\b\b\b\b\b\b\b\b\b\b\b\b\b\b\b\b\b\b\b\b\b\b\b\b\b\b\b\b\b\b\b\b\b\b\b\b\b\b\b\b\b\b\b\b\b\b\b\b\b\b\b\b\b\b\b\b\b\b\b\b\b\b\b\b\b\b\b\b\b\b\b\b\b\b\b\r",
      "18/20 [==========================>...] - ETA: 12s - loss: 0.8071 - acc: 0.8783\b\b\b\b\b\b\b\b\b\b\b\b\b\b\b\b\b\b\b\b\b\b\b\b\b\b\b\b\b\b\b\b\b\b\b\b\b\b\b\b\b\b\b\b\b\b\b\b\b\b\b\b\b\b\b\b\b\b\b\b\b\b\b\b\b\b\b\b\b\b\b\b\b\b\b\b\b\b\r",
      "19/20 [===========================>..] - ETA: 6s - loss: 0.8012 - acc: 0.8815 \b\b\b\b\b\b\b\b\b\b\b\b\b\b\b\b\b\b\b\b\b\b\b\b\b\b\b\b\b\b\b\b\b\b\b\b\b\b\b\b\b\b\b\b\b\b\b\b\b\b\b\b\b\b\b\b\b\b\b\b\b\b\b\b\b\b\b\b\b\b\b\b\b\b\b\b\b\r",
      "20/20 [==============================] - 130s 7s/step - loss: 0.8042 - acc: 0.8794 - val_loss: 0.7110 - val_acc: 0.9500\n",
      "Epoch 6/50\n",
      "\r",
      " 1/20 [>.............................] - ETA: 2:00 - loss: 0.9462 - acc: 0.7800\b\b\b\b\b\b\b\b\b\b\b\b\b\b\b\b\b\b\b\b\b\b\b\b\b\b\b\b\b\b\b\b\b\b\b\b\b\b\b\b\b\b\b\b\b\b\b\b\b\b\b\b\b\b\b\b\b\b\b\b\b\b\b\b\b\b\b\b\b\b\b\b\b\b\b\b\b\b\b\r",
      " 2/20 [==>...........................] - ETA: 1:56 - loss: 0.8310 - acc: 0.8400\b\b\b\b\b\b\b\b\b\b\b\b\b\b\b\b\b\b\b\b\b\b\b\b\b\b\b\b\b\b\b\b\b\b\b\b\b\b\b\b\b\b\b\b\b\b\b\b\b\b\b\b\b\b\b\b\b\b\b\b\b\b\b\b\b\b\b\b\b\b\b\b\b\b\b\b\b\b\b\r",
      " 3/20 [===>..........................] - ETA: 1:49 - loss: 0.8430 - acc: 0.8467\b\b\b\b\b\b\b\b\b\b\b\b\b\b\b\b\b\b\b\b\b\b\b\b\b\b\b\b\b\b\b\b\b\b\b\b\b\b\b\b\b\b\b\b\b\b\b\b\b\b\b\b\b\b\b\b\b\b\b\b\b\b\b\b\b\b\b\b\b\b\b\b\b\b\b\b\b\b\b\r",
      " 4/20 [=====>........................] - ETA: 1:43 - loss: 0.8128 - acc: 0.8650\b\b\b\b\b\b\b\b\b\b\b\b\b\b\b\b\b\b\b\b\b\b\b\b\b\b\b\b\b\b\b\b\b\b\b\b\b\b\b\b\b\b\b\b\b\b\b\b\b\b\b\b\b\b\b\b\b\b\b\b\b\b\b\b\b\b\b\b\b\b\b\b\b\b\b\b\b\b\b\r",
      " 5/20 [======>.......................] - ETA: 1:34 - loss: 0.7798 - acc: 0.8876\b\b\b\b\b\b\b\b\b\b\b\b\b\b\b\b\b\b\b\b\b\b\b\b\b\b\b\b\b\b\b\b\b\b\b\b\b\b\b\b\b\b\b\b\b\b\b\b\b\b\b\b\b\b\b\b\b\b\b\b\b\b\b\b\b\b\b\b\b\b\b\b\b\b\b\b\b\b\b\r",
      " 6/20 [========>.....................] - ETA: 1:29 - loss: 0.7898 - acc: 0.8896\b\b\b\b\b\b\b\b\b\b\b\b\b\b\b\b\b\b\b\b\b\b\b\b\b\b\b\b\b\b\b\b\b\b\b\b\b\b\b\b\b\b\b\b\b\b\b\b\b\b\b\b\b\b\b\b\b\b\b\b\b\b\b\b\b\b\b\b\b\b\b\b\b\b\b\b\b\b\b\r",
      " 7/20 [=========>....................] - ETA: 1:22 - loss: 0.7824 - acc: 0.8940\b\b\b\b\b\b\b\b\b\b\b\b\b\b\b\b\b\b\b\b\b\b\b\b\b\b\b\b\b\b\b\b\b\b\b\b\b\b\b\b\b\b\b\b\b\b\b\b\b\b\b\b\b\b\b\b\b\b\b\b\b\b\b\b\b\b\b\b\b\b\b\b\b\b\b\b\b\b\b\r",
      " 8/20 [===========>..................] - ETA: 1:15 - loss: 0.7745 - acc: 0.8997\b\b\b\b\b\b\b\b\b\b\b\b\b\b\b\b\b\b\b\b\b\b\b\b\b\b\b\b\b\b\b\b\b\b\b\b\b\b\b\b\b\b\b\b\b\b\b\b\b\b\b\b\b\b\b\b\b\b\b\b\b\b\b\b\b\b\b\b\b\b\b\b\b\b\b\b\b\b\b\r",
      " 9/20 [============>.................] - ETA: 1:09 - loss: 0.7692 - acc: 0.9020\b\b\b\b\b\b\b\b\b\b\b\b\b\b\b\b\b\b\b\b\b\b\b\b\b\b\b\b\b\b\b\b\b\b\b\b\b\b\b\b\b\b\b\b\b\b\b\b\b\b\b\b\b\b\b\b\b\b\b\b\b\b\b\b\b\b\b\b\b\b\b\b\b\b\b\b\b\b\b\r",
      "10/20 [==============>...............] - ETA: 1:04 - loss: 0.7816 - acc: 0.8978\b\b\b\b\b\b\b\b\b\b\b\b\b\b\b\b\b\b\b\b\b\b\b\b\b\b\b\b\b\b\b\b\b\b\b\b\b\b\b\b\b\b\b\b\b\b\b\b\b\b\b\b\b\b\b\b\b\b\b\b\b\b\b\b\b\b\b\b\b\b\b\b\b\b\b\b\b\b\b\r",
      "11/20 [===============>..............] - ETA: 58s - loss: 0.7833 - acc: 0.8962 \b\b\b\b\b\b\b\b\b\b\b\b\b\b\b\b\b\b\b\b\b\b\b\b\b\b\b\b\b\b\b\b\b\b\b\b\b\b\b\b\b\b\b\b\b\b\b\b\b\b\b\b\b\b\b\b\b\b\b\b\b\b\b\b\b\b\b\b\b\b\b\b\b\b\b\b\b\b\r",
      "12/20 [=================>............] - ETA: 53s - loss: 0.7873 - acc: 0.8981\b\b\b\b\b\b\b\b\b\b\b\b\b\b\b\b\b\b\b\b\b\b\b\b\b\b\b\b\b\b\b\b\b\b\b\b\b\b\b\b\b\b\b\b\b\b\b\b\b\b\b\b\b\b\b\b\b\b\b\b\b\b\b\b\b\b\b\b\b\b\b\b\b\b\b\b\b\b\r",
      "13/20 [==================>...........] - ETA: 46s - loss: 0.7805 - acc: 0.9014\b\b\b\b\b\b\b\b\b\b\b\b\b\b\b\b\b\b\b\b\b\b\b\b\b\b\b\b\b\b\b\b\b\b\b\b\b\b\b\b\b\b\b\b\b\b\b\b\b\b\b\b\b\b\b\b\b\b\b\b\b\b\b\b\b\b\b\b\b\b\b\b\b\b\b\b\b\b\r",
      "14/20 [====================>.........] - ETA: 39s - loss: 0.7717 - acc: 0.9056\b\b\b\b\b\b\b\b\b\b\b\b\b\b\b\b\b\b\b\b\b\b\b\b\b\b\b\b\b\b\b\b\b\b\b\b\b\b\b\b\b\b\b\b\b\b\b\b\b\b\b\b\b\b\b\b\b\b\b\b\b\b\b\b\b\b\b\b\b\b\b\b\b\b\b\b\b\b\r",
      "15/20 [=====================>........] - ETA: 33s - loss: 0.7682 - acc: 0.9065\b\b\b\b\b\b\b\b\b\b\b\b\b\b\b\b\b\b\b\b\b\b\b\b\b\b\b\b\b\b\b\b\b\b\b\b\b\b\b\b\b\b\b\b\b\b\b\b\b\b\b\b\b\b\b\b\b\b\b\b\b\b\b\b\b\b\b\b\b\b\b\b\b\b\b\b\b\b\r",
      "16/20 [=======================>......] - ETA: 26s - loss: 0.7671 - acc: 0.9061\b\b\b\b\b\b\b\b\b\b\b\b\b\b\b\b\b\b\b\b\b\b\b\b\b\b\b\b\b\b\b\b\b\b\b\b\b\b\b\b\b\b\b\b\b\b\b\b\b\b\b\b\b\b\b\b\b\b\b\b\b\b\b\b\b\b\b\b\b\b\b\b\b\b\b\b\b\b\r",
      "17/20 [========================>.....] - ETA: 20s - loss: 0.7621 - acc: 0.9093\b\b\b\b\b\b\b\b\b\b\b\b\b\b\b\b\b\b\b\b\b\b\b\b\b\b\b\b\b\b\b\b\b\b\b\b\b\b\b\b\b\b\b\b\b\b\b\b\b\b\b\b\b\b\b\b\b\b\b\b\b\b\b\b\b\b\b\b\b\b\b\b\b\b\b\b\b\b\r",
      "18/20 [==========================>...] - ETA: 13s - loss: 0.7592 - acc: 0.9110\b\b\b\b\b\b\b\b\b\b\b\b\b\b\b\b\b\b\b\b\b\b\b\b\b\b\b\b\b\b\b\b\b\b\b\b\b\b\b\b\b\b\b\b\b\b\b\b\b\b\b\b\b\b\b\b\b\b\b\b\b\b\b\b\b\b\b\b\b\b\b\b\b\b\b\b\b\b\r",
      "19/20 [===========================>..] - ETA: 6s - loss: 0.7624 - acc: 0.9083 \b\b\b\b\b\b\b\b\b\b\b\b\b\b\b\b\b\b\b\b\b\b\b\b\b\b\b\b\b\b\b\b\b\b\b\b\b\b\b\b\b\b\b\b\b\b\b\b\b\b\b\b\b\b\b\b\b\b\b\b\b\b\b\b\b\b\b\b\b\b\b\b\b\b\b\b\b\r",
      "20/20 [==============================] - 138s 7s/step - loss: 0.7575 - acc: 0.9099 - val_loss: 0.6677 - val_acc: 0.9400\n",
      "Epoch 7/50\n",
      "\r",
      " 1/20 [>.............................] - ETA: 1:50 - loss: 0.7901 - acc: 0.9000\b\b\b\b\b\b\b\b\b\b\b\b\b\b\b\b\b\b\b\b\b\b\b\b\b\b\b\b\b\b\b\b\b\b\b\b\b\b\b\b\b\b\b\b\b\b\b\b\b\b\b\b\b\b\b\b\b\b\b\b\b\b\b\b\b\b\b\b\b\b\b\b\b\b\b\b\b\b\b\r",
      " 2/20 [==>...........................] - ETA: 1:47 - loss: 0.7536 - acc: 0.9100\b\b\b\b\b\b\b\b\b\b\b\b\b\b\b\b\b\b\b\b\b\b\b\b\b\b\b\b\b\b\b\b\b\b\b\b\b\b\b\b\b\b\b\b\b\b\b\b\b\b\b\b\b\b\b\b\b\b\b\b\b\b\b\b\b\b\b\b\b\b\b\b\b\b\b\b\b\b\b\r",
      " 3/20 [===>..........................] - ETA: 1:45 - loss: 0.8027 - acc: 0.8867\b\b\b\b\b\b\b\b\b\b\b\b\b\b\b\b\b\b\b\b\b\b\b\b\b\b\b\b\b\b\b\b\b\b\b\b\b\b\b\b\b\b\b\b\b\b\b\b\b\b\b\b\b\b\b\b\b\b\b\b\b\b\b\b\b\b\b\b\b\b\b\b\b\b\b\b\b\b\b\r",
      " 4/20 [=====>........................] - ETA: 1:39 - loss: 0.7977 - acc: 0.8800\b\b\b\b\b\b\b\b\b\b\b\b\b\b\b\b\b\b\b\b\b\b\b\b\b\b\b\b\b\b\b\b\b\b\b\b\b\b\b\b\b\b\b\b\b\b\b\b\b\b\b\b\b\b\b\b\b\b\b\b\b\b\b\b\b\b\b\b\b\b\b\b\b\b\b\b\b\b\b\r",
      " 5/20 [======>.......................] - ETA: 1:33 - loss: 0.7882 - acc: 0.8920\b\b\b\b\b\b\b\b\b\b\b\b\b\b\b\b\b\b\b\b\b\b\b\b\b\b\b\b\b\b\b\b\b\b\b\b\b\b\b\b\b\b\b\b\b\b\b\b\b\b\b\b\b\b\b\b\b\b\b\b\b\b\b\b\b\b\b\b\b\b\b\b\b\b\b\b\b\b\b\r",
      " 6/20 [========>.....................] - ETA: 1:28 - loss: 0.8078 - acc: 0.8915\b\b\b\b\b\b\b\b\b\b\b\b\b\b\b\b\b\b\b\b\b\b\b\b\b\b\b\b\b\b\b\b\b\b\b\b\b\b\b\b\b\b\b\b\b\b\b\b\b\b\b\b\b\b\b\b\b\b\b\b\b\b\b\b\b\b\b\b\b\b\b\b\b\b\b\b\b\b\b\r",
      " 7/20 [=========>....................] - ETA: 1:21 - loss: 0.7917 - acc: 0.9013\b\b\b\b\b\b\b\b\b\b\b\b\b\b\b\b\b\b\b\b\b\b\b\b\b\b\b\b\b\b\b\b\b\b\b\b\b\b\b\b\b\b\b\b\b\b\b\b\b\b\b\b\b\b\b\b\b\b\b\b\b\b\b\b\b\b\b\b\b\b\b\b\b\b\b\b\b\b\b\r",
      " 8/20 [===========>..................] - ETA: 1:15 - loss: 0.\n"
     ]
    }
   ],
   "source": [
    "print(file_out[:20000])"
   ]
  },
  {
   "cell_type": "code",
   "execution_count": 36,
   "metadata": {},
   "outputs": [
    {
     "name": "stdout",
     "output_type": "stream",
     "text": [
      "evaluating network...\n"
     ]
    }
   ],
   "source": [
    "# reset the testing generator and then use our trained model to make predictions on the data\n",
    "print(\"evaluating network...\")\n",
    "testing_generator.reset()\n",
    "predict_X_id = model.predict_generator(testing_generator,steps=(test_images // batch_size) + 1)"
   ]
  },
  {
   "cell_type": "markdown",
   "metadata": {},
   "source": [
    "Results look pretty good, I'm not sure I can get better than this. There is a possibility I could have some overfitting to my data; a common and notorious problem with neural networks."
   ]
  },
  {
   "cell_type": "code",
   "execution_count": 37,
   "metadata": {},
   "outputs": [
    {
     "name": "stdout",
     "output_type": "stream",
     "text": [
      "             precision    recall  f1-score   support\n",
      "\n",
      "      cases       0.91      0.94      0.93        80\n",
      "   controls       0.97      0.96      0.96       171\n",
      "\n",
      "avg / total       0.95      0.95      0.95       251\n",
      "\n"
     ]
    }
   ],
   "source": [
    "# for each image in the testing set we need to find the index of the label with corresponding largest predicted probability\n",
    "predict_X_id = np.argmax(predict_X_id, axis=1)\n",
    "\n",
    "# show a nicely formatted classification report\n",
    "print(classification_report(testing_generator.classes, predict_X_id,target_names=testing_generator.class_indices.keys()))"
   ]
  },
  {
   "cell_type": "code",
   "execution_count": 38,
   "metadata": {},
   "outputs": [
    {
     "data": {
      "text/html": [
       "        <script type=\"text/javascript\">\n",
       "        window.PlotlyConfig = {MathJaxConfig: 'local'};\n",
       "        if (window.MathJax) {MathJax.Hub.Config({SVG: {font: \"STIX-Web\"}});}\n",
       "        if (typeof require !== 'undefined') {\n",
       "        require.undef(\"plotly\");\n",
       "        requirejs.config({\n",
       "            paths: {\n",
       "                'plotly': ['https://cdn.plot.ly/plotly-latest.min']\n",
       "            }\n",
       "        });\n",
       "        require(['plotly'], function(Plotly) {\n",
       "            window._Plotly = Plotly;\n",
       "        });\n",
       "        }\n",
       "        </script>\n",
       "        "
      ]
     },
     "metadata": {},
     "output_type": "display_data"
    }
   ],
   "source": [
    "import plotly.offline as py\n",
    "import plotly.graph_objs as go\n",
    "py.init_notebook_mode(connected=True)\n",
    "%matplotlib inline"
   ]
  },
  {
   "cell_type": "code",
   "execution_count": 39,
   "metadata": {},
   "outputs": [
    {
     "data": {
      "application/vnd.plotly.v1+json": {
       "config": {
        "linkText": "Export to plot.ly",
        "plotlyServerURL": "https://plot.ly",
        "responsive": true,
        "showLink": false
       },
       "data": [
        {
         "line": {
          "color": "#f4a582"
         },
         "name": "Validation Loss",
         "opacity": 0.9,
         "type": "scatter",
         "uid": "cbd80f1e-3fcc-48c1-9f79-37562ce0b46b",
         "x": [
          0,
          1,
          2,
          3,
          4,
          5,
          6,
          7,
          8,
          9,
          10,
          11,
          12,
          13,
          14,
          15,
          16,
          17,
          18,
          19,
          20,
          21,
          22,
          23,
          24,
          25,
          26,
          27,
          28,
          29,
          30,
          31,
          32,
          33,
          34,
          35,
          36,
          37,
          38,
          39,
          40,
          41,
          42,
          43,
          44,
          45,
          46,
          47,
          48,
          49
         ],
         "y": [
          1.0536940097808838,
          0.923870861530304,
          0.7749812304973602,
          0.7493733167648315,
          0.710985392332077,
          0.6677433252334595,
          0.7640666365623474,
          0.676430344581604,
          0.8600055277347565,
          0.6695013642311096,
          0.6694404184818268,
          0.6991499960422516,
          0.7533772587776184,
          0.6277018189430237,
          0.7220186591148376,
          0.6849843859672546,
          0.6466597020626068,
          0.6927111148834229,
          0.6222069263458252,
          0.6576319634914398,
          0.7231613397598267,
          0.6212486624717712,
          0.6150685846805573,
          0.5990327596664429,
          0.6236250400543213,
          0.6448335945606232,
          0.628963053226471,
          0.6247051656246185,
          0.6338662803173065,
          0.6004113256931305,
          0.6177270710468292,
          0.6342703104019165,
          0.5925625860691071,
          0.6041944622993469,
          0.5994515419006348,
          0.6052467525005341,
          0.6435472965240479,
          0.6076382100582123,
          0.6223450005054474,
          0.5993443131446838,
          0.6091310977935791,
          0.6232500970363617,
          0.6139418184757233,
          0.6150771081447601,
          0.6116472482681274,
          0.6010875105857849,
          0.6060610413551331,
          0.622294157743454,
          0.6100975275039673,
          0.6049714386463165
         ]
        },
        {
         "line": {
          "color": "#ca0020"
         },
         "name": "Validation Accuracy",
         "opacity": 0.9,
         "type": "scatter",
         "uid": "3dd26154-2f3a-430b-bd35-4ce4743de186",
         "x": [
          0,
          1,
          2,
          3,
          4,
          5,
          6,
          7,
          8,
          9,
          10,
          11,
          12,
          13,
          14,
          15,
          16,
          17,
          18,
          19,
          20,
          21,
          22,
          23,
          24,
          25,
          26,
          27,
          28,
          29,
          30,
          31,
          32,
          33,
          34,
          35,
          36,
          37,
          38,
          39,
          40,
          41,
          42,
          43,
          44,
          45,
          46,
          47,
          48,
          49
         ],
         "y": [
          0.8199999928474426,
          0.800000011920929,
          0.8799999952316284,
          0.9199999868869781,
          0.9500000178813934,
          0.9399999976158142,
          0.9099999964237213,
          0.9500000178813934,
          0.8299999833106995,
          0.9399999976158142,
          0.9399999976158142,
          0.9300000071525574,
          0.9199999868869781,
          0.9500000178813934,
          0.9199999868869781,
          0.9500000178813934,
          0.9600000083446503,
          0.9199999868869781,
          0.9600000083446503,
          0.949999988079071,
          0.9199999868869781,
          0.9600000083446503,
          0.9399999976158142,
          0.9699999988079071,
          0.9600000083446503,
          0.9399999976158142,
          0.9699999988079071,
          0.9399999976158142,
          0.9699999988079071,
          0.9599999785423279,
          0.949999988079071,
          0.9600000083446503,
          0.9799999892711639,
          0.9800000190734863,
          0.9699999988079071,
          0.9500000178813934,
          0.9799999892711639,
          0.9600000083446503,
          0.9699999988079071,
          0.9699999988079071,
          0.9799999892711639,
          0.9699999988079071,
          0.9699999988079071,
          0.9699999988079071,
          0.9699999988079071,
          0.9699999988079071,
          0.9699999988079071,
          0.9699999988079071,
          0.9699999988079071,
          0.9699999988079071
         ]
        },
        {
         "line": {
          "color": "#92c5de"
         },
         "name": "Predicted Loss",
         "opacity": 0.9,
         "type": "scatter",
         "uid": "0a5ce14e-685a-432a-a2a4-74e8a1997e3f",
         "x": [
          0,
          1,
          2,
          3,
          4,
          5,
          6,
          7,
          8,
          9,
          10,
          11,
          12,
          13,
          14,
          15,
          16,
          17,
          18,
          19,
          20,
          21,
          22,
          23,
          24,
          25,
          26,
          27,
          28,
          29,
          30,
          31,
          32,
          33,
          34,
          35,
          36,
          37,
          38,
          39,
          40,
          41,
          42,
          43,
          44,
          45,
          46,
          47,
          48,
          49
         ],
         "y": [
          1.038906979560852,
          0.878428261483734,
          0.838191734186968,
          0.7835711432461763,
          0.8044878424112522,
          0.7580099977440571,
          0.7743837054650388,
          0.7728072320995618,
          0.735654498464498,
          0.7372664273084708,
          0.7311591371219961,
          0.7200860162476199,
          0.7544115338493232,
          0.6788751677652101,
          0.6891027470329898,
          0.6934474835443736,
          0.7004601874543195,
          0.6758863231045517,
          0.6901286343234269,
          0.661542461745104,
          0.6761788291547766,
          0.6948445796966553,
          0.6452219234639077,
          0.6504092953312937,
          0.6642356248357189,
          0.6699836080397793,
          0.64119107549514,
          0.6254179732284354,
          0.6639069195967823,
          0.6094912599079573,
          0.6299474140507492,
          0.6056561416117989,
          0.6269658579299199,
          0.620967456443825,
          0.6270716984068329,
          0.6081334403411827,
          0.5961644859170195,
          0.5941996957788516,
          0.6010555547086438,
          0.5724482257761548,
          0.5900075079208642,
          0.5930660399959315,
          0.596326720714569,
          0.5786968101209132,
          0.5866497314755043,
          0.5827628727534309,
          0.5697456349679573,
          0.5910277839881092,
          0.5774913337362472,
          0.5903600696942315
         ]
        },
        {
         "line": {
          "color": "#0571b0"
         },
         "name": "Predicted Accuracy",
         "opacity": 0.9,
         "type": "scatter",
         "uid": "5ab0ce79-1079-443f-8877-bef6ff6edf0c",
         "x": [
          0,
          1,
          2,
          3,
          4,
          5,
          6,
          7,
          8,
          9,
          10,
          11,
          12,
          13,
          14,
          15,
          16,
          17,
          18,
          19,
          20,
          21,
          22,
          23,
          24,
          25,
          26,
          27,
          28,
          29,
          30,
          31,
          32,
          33,
          34,
          35,
          36,
          37,
          38,
          39,
          40,
          41,
          42,
          43,
          44,
          45,
          46,
          47,
          48,
          49
         ],
         "y": [
          0.7739999890327454,
          0.855276374062102,
          0.8643216038469094,
          0.8904522522610037,
          0.8793969786346857,
          0.9095477371958632,
          0.9015075312786965,
          0.8924623158708889,
          0.9185929597921707,
          0.9286432074542021,
          0.9185929639854623,
          0.9206030072279312,
          0.9085427112315767,
          0.940703518426598,
          0.942713568558046,
          0.9306532635760667,
          0.9286432104494105,
          0.9477386923890617,
          0.9427135628671502,
          0.9467336649271711,
          0.9467336673233377,
          0.9339999973773956,
          0.9587939684115463,
          0.9507537684847961,
          0.9497487461147596,
          0.9346733626408793,
          0.958793972305317,
          0.9597989976705619,
          0.9447236094043483,
          0.968844219068786,
          0.9597989967719993,
          0.9758794032149578,
          0.9708542754901713,
          0.9608040218377233,
          0.9628140725682129,
          0.9698492420378642,
          0.977889444360781,
          0.9748743769511505,
          0.9698492501249265,
          0.9819095521116975,
          0.9758794041135204,
          0.9748743760525881,
          0.9740000009536743,
          0.9829145801726298,
          0.9809045339349526,
          0.9758793981231038,
          0.9819095491164893,
          0.9768844231888277,
          0.980904522852682,
          0.9788944715231507
         ]
        }
       ],
       "layout": {
        "title": {
         "text": "Training Loss and Accuracy <br> Classifying Retinal Images."
        },
        "xaxis": {
         "tickangle": 0,
         "ticks": "",
         "title": {
          "text": "Number of Epochs"
         }
        },
        "yaxis": {
         "showgrid": true,
         "showticklabels": true,
         "ticks": "",
         "title": {
          "font": {
           "family": "Arial, sans-serif",
           "size": 18
          },
          "text": "Loss/Accuracy</b>"
         }
        }
       }
      },
      "text/html": [
       "<div>\n",
       "        \n",
       "        \n",
       "            <div id=\"86651524-9628-4b33-84cc-6a91f4e01d18\" class=\"plotly-graph-div\" style=\"height:525px; width:100%;\"></div>\n",
       "            <script type=\"text/javascript\">\n",
       "                require([\"plotly\"], function(Plotly) {\n",
       "                    window.PLOTLYENV=window.PLOTLYENV || {};\n",
       "                    window.PLOTLYENV.BASE_URL='https://plot.ly';\n",
       "                    \n",
       "                if (document.getElementById(\"86651524-9628-4b33-84cc-6a91f4e01d18\")) {\n",
       "                    Plotly.newPlot(\n",
       "                        '86651524-9628-4b33-84cc-6a91f4e01d18',\n",
       "                        [{\"line\": {\"color\": \"#f4a582\"}, \"name\": \"Validation Loss\", \"opacity\": 0.9, \"type\": \"scatter\", \"uid\": \"dc19d259-2a93-49c9-8597-6563c5a70b14\", \"x\": [0, 1, 2, 3, 4, 5, 6, 7, 8, 9, 10, 11, 12, 13, 14, 15, 16, 17, 18, 19, 20, 21, 22, 23, 24, 25, 26, 27, 28, 29, 30, 31, 32, 33, 34, 35, 36, 37, 38, 39, 40, 41, 42, 43, 44, 45, 46, 47, 48, 49], \"y\": [1.0536940097808838, 0.923870861530304, 0.7749812304973602, 0.7493733167648315, 0.710985392332077, 0.6677433252334595, 0.7640666365623474, 0.676430344581604, 0.8600055277347565, 0.6695013642311096, 0.6694404184818268, 0.6991499960422516, 0.7533772587776184, 0.6277018189430237, 0.7220186591148376, 0.6849843859672546, 0.6466597020626068, 0.6927111148834229, 0.6222069263458252, 0.6576319634914398, 0.7231613397598267, 0.6212486624717712, 0.6150685846805573, 0.5990327596664429, 0.6236250400543213, 0.6448335945606232, 0.628963053226471, 0.6247051656246185, 0.6338662803173065, 0.6004113256931305, 0.6177270710468292, 0.6342703104019165, 0.5925625860691071, 0.6041944622993469, 0.5994515419006348, 0.6052467525005341, 0.6435472965240479, 0.6076382100582123, 0.6223450005054474, 0.5993443131446838, 0.6091310977935791, 0.6232500970363617, 0.6139418184757233, 0.6150771081447601, 0.6116472482681274, 0.6010875105857849, 0.6060610413551331, 0.622294157743454, 0.6100975275039673, 0.6049714386463165]}, {\"line\": {\"color\": \"#ca0020\"}, \"name\": \"Validation Accuracy\", \"opacity\": 0.9, \"type\": \"scatter\", \"uid\": \"634cd789-a9b8-4df9-821d-2d46e3fcd4cf\", \"x\": [0, 1, 2, 3, 4, 5, 6, 7, 8, 9, 10, 11, 12, 13, 14, 15, 16, 17, 18, 19, 20, 21, 22, 23, 24, 25, 26, 27, 28, 29, 30, 31, 32, 33, 34, 35, 36, 37, 38, 39, 40, 41, 42, 43, 44, 45, 46, 47, 48, 49], \"y\": [0.8199999928474426, 0.800000011920929, 0.8799999952316284, 0.9199999868869781, 0.9500000178813934, 0.9399999976158142, 0.9099999964237213, 0.9500000178813934, 0.8299999833106995, 0.9399999976158142, 0.9399999976158142, 0.9300000071525574, 0.9199999868869781, 0.9500000178813934, 0.9199999868869781, 0.9500000178813934, 0.9600000083446503, 0.9199999868869781, 0.9600000083446503, 0.949999988079071, 0.9199999868869781, 0.9600000083446503, 0.9399999976158142, 0.9699999988079071, 0.9600000083446503, 0.9399999976158142, 0.9699999988079071, 0.9399999976158142, 0.9699999988079071, 0.9599999785423279, 0.949999988079071, 0.9600000083446503, 0.9799999892711639, 0.9800000190734863, 0.9699999988079071, 0.9500000178813934, 0.9799999892711639, 0.9600000083446503, 0.9699999988079071, 0.9699999988079071, 0.9799999892711639, 0.9699999988079071, 0.9699999988079071, 0.9699999988079071, 0.9699999988079071, 0.9699999988079071, 0.9699999988079071, 0.9699999988079071, 0.9699999988079071, 0.9699999988079071]}, {\"line\": {\"color\": \"#92c5de\"}, \"name\": \"Predicted Loss\", \"opacity\": 0.9, \"type\": \"scatter\", \"uid\": \"05c248c5-939c-4010-a1a1-79cbb8dcb27d\", \"x\": [0, 1, 2, 3, 4, 5, 6, 7, 8, 9, 10, 11, 12, 13, 14, 15, 16, 17, 18, 19, 20, 21, 22, 23, 24, 25, 26, 27, 28, 29, 30, 31, 32, 33, 34, 35, 36, 37, 38, 39, 40, 41, 42, 43, 44, 45, 46, 47, 48, 49], \"y\": [1.038906979560852, 0.878428261483734, 0.838191734186968, 0.7835711432461763, 0.8044878424112522, 0.7580099977440571, 0.7743837054650388, 0.7728072320995618, 0.735654498464498, 0.7372664273084708, 0.7311591371219961, 0.7200860162476199, 0.7544115338493232, 0.6788751677652101, 0.6891027470329898, 0.6934474835443736, 0.7004601874543195, 0.6758863231045517, 0.6901286343234269, 0.661542461745104, 0.6761788291547766, 0.6948445796966553, 0.6452219234639077, 0.6504092953312937, 0.6642356248357189, 0.6699836080397793, 0.64119107549514, 0.6254179732284354, 0.6639069195967823, 0.6094912599079573, 0.6299474140507492, 0.6056561416117989, 0.6269658579299199, 0.620967456443825, 0.6270716984068329, 0.6081334403411827, 0.5961644859170195, 0.5941996957788516, 0.6010555547086438, 0.5724482257761548, 0.5900075079208642, 0.5930660399959315, 0.596326720714569, 0.5786968101209132, 0.5866497314755043, 0.5827628727534309, 0.5697456349679573, 0.5910277839881092, 0.5774913337362472, 0.5903600696942315]}, {\"line\": {\"color\": \"#0571b0\"}, \"name\": \"Predicted Accuracy\", \"opacity\": 0.9, \"type\": \"scatter\", \"uid\": \"6f3eb227-bdb9-42d1-875f-d64340139d53\", \"x\": [0, 1, 2, 3, 4, 5, 6, 7, 8, 9, 10, 11, 12, 13, 14, 15, 16, 17, 18, 19, 20, 21, 22, 23, 24, 25, 26, 27, 28, 29, 30, 31, 32, 33, 34, 35, 36, 37, 38, 39, 40, 41, 42, 43, 44, 45, 46, 47, 48, 49], \"y\": [0.7739999890327454, 0.855276374062102, 0.8643216038469094, 0.8904522522610037, 0.8793969786346857, 0.9095477371958632, 0.9015075312786965, 0.8924623158708889, 0.9185929597921707, 0.9286432074542021, 0.9185929639854623, 0.9206030072279312, 0.9085427112315767, 0.940703518426598, 0.942713568558046, 0.9306532635760667, 0.9286432104494105, 0.9477386923890617, 0.9427135628671502, 0.9467336649271711, 0.9467336673233377, 0.9339999973773956, 0.9587939684115463, 0.9507537684847961, 0.9497487461147596, 0.9346733626408793, 0.958793972305317, 0.9597989976705619, 0.9447236094043483, 0.968844219068786, 0.9597989967719993, 0.9758794032149578, 0.9708542754901713, 0.9608040218377233, 0.9628140725682129, 0.9698492420378642, 0.977889444360781, 0.9748743769511505, 0.9698492501249265, 0.9819095521116975, 0.9758794041135204, 0.9748743760525881, 0.9740000009536743, 0.9829145801726298, 0.9809045339349526, 0.9758793981231038, 0.9819095491164893, 0.9768844231888277, 0.980904522852682, 0.9788944715231507]}],\n",
       "                        {\"title\": {\"text\": \"Training Loss and Accuracy <br> Classifying Retinal Images.\"}, \"xaxis\": {\"tickangle\": 0, \"ticks\": \"\", \"title\": {\"text\": \"Number of Epochs\"}}, \"yaxis\": {\"showgrid\": true, \"showticklabels\": true, \"ticks\": \"\", \"title\": {\"font\": {\"family\": \"Arial, sans-serif\", \"size\": 18}, \"text\": \"Loss/Accuracy</b>\"}}},\n",
       "                        {\"showLink\": false, \"linkText\": \"Export to plot.ly\", \"plotlyServerURL\": \"https://plot.ly\", \"responsive\": true}\n",
       "                    ).then(function(){\n",
       "                            \n",
       "var gd = document.getElementById('86651524-9628-4b33-84cc-6a91f4e01d18');\n",
       "var x = new MutationObserver(function (mutations, observer) {{\n",
       "        var display = window.getComputedStyle(gd).display;\n",
       "        if (!display || display === 'none') {{\n",
       "            console.log([gd, 'removed!']);\n",
       "            Plotly.purge(gd);\n",
       "            observer.disconnect();\n",
       "        }}\n",
       "}});\n",
       "\n",
       "// Listen for the removal of the full notebook cells\n",
       "var notebookContainer = gd.closest('#notebook-container');\n",
       "if (notebookContainer) {{\n",
       "    x.observe(notebookContainer, {childList: true});\n",
       "}}\n",
       "\n",
       "// Listen for the clearing of the current output cell\n",
       "var outputEl = gd.closest('.output');\n",
       "if (outputEl) {{\n",
       "    x.observe(outputEl, {childList: true});\n",
       "}}\n",
       "\n",
       "                        })\n",
       "                };\n",
       "                });\n",
       "            </script>\n",
       "        </div>"
      ]
     },
     "metadata": {},
     "output_type": "display_data"
    }
   ],
   "source": [
    "N = epochs_num #Number of epochs in training\n",
    "\n",
    "val_loss = go.Scatter(x=np.arange(0, N),y=H.history['val_loss'],\n",
    "                name = \"Validation Loss\",line = dict(color = '#f4a582'),opacity = 0.9)\n",
    "\n",
    "val_acc = go.Scatter(x=np.arange(0, N),y=H.history['val_acc'],\n",
    "                name = \"Validation Accuracy\",line = dict(color = '#ca0020'),opacity = 0.9)\n",
    "\n",
    "loss = go.Scatter(x=np.arange(0, N),y=H.history['loss'],\n",
    "                name = \"Predicted Loss\",line = dict(color = '#92c5de'),opacity = 0.9)\n",
    "\n",
    "acc = go.Scatter(x=np.arange(0, N),y=H.history['acc'],name = \"Predicted Accuracy\",\n",
    "                line = dict(color = '#0571b0'),opacity = 0.9)\n",
    "\n",
    "data = [val_loss,val_acc,loss,acc]\n",
    "\n",
    "\n",
    "layout = go.Layout(title='Training Loss and Accuracy <br> Classifying Retinal Images.',\n",
    "                yaxis=dict(title='Loss/Accuracy</b>',ticks='',showticklabels=True,showgrid=True,\n",
    "                titlefont=dict(family='Arial, sans-serif',size=18))\n",
    "                ,xaxis=dict(title='Number of Epochs',ticks='',tickangle=0))\n",
    "\n",
    "fig = dict(data=data, layout=layout)\n",
    "py.iplot(fig, filename = \"Training Loss and Accuracy on Dataset\")"
   ]
  },
  {
   "cell_type": "markdown",
   "metadata": {},
   "source": [
    "Save Model\n",
    "-----"
   ]
  },
  {
   "cell_type": "code",
   "execution_count": 41,
   "metadata": {},
   "outputs": [],
   "source": [
    "#https://keras.io/getting-started/faq/#how-can-i-save-a-keras-model\n",
    "from keras.models import load_model\n",
    "#Saves all elements including weights\n",
    "model.save('glaucoma_model_5_1_2019.h5')  # creates a HDF5 file 'glaucoma_model.h5'\n",
    "\n",
    "# save as JSON only saves architecture\n",
    "json_string = model.to_json()"
   ]
  }
 ],
 "metadata": {
  "kernelspec": {
   "display_name": "Python 3",
   "language": "python",
   "name": "python3"
  },
  "language_info": {
   "codemirror_mode": {
    "name": "ipython",
    "version": 3
   },
   "file_extension": ".py",
   "mimetype": "text/x-python",
   "name": "python",
   "nbconvert_exporter": "python",
   "pygments_lexer": "ipython3",
   "version": "3.6.5"
  }
 },
 "nbformat": 4,
 "nbformat_minor": 2
}
