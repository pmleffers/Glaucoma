{
 "cells": [
  {
   "cell_type": "code",
   "execution_count": 1,
   "metadata": {},
   "outputs": [],
   "source": [
    "from IPython.display import HTML\n",
    "from IPython.display import Image"
   ]
  },
  {
   "cell_type": "markdown",
   "metadata": {},
   "source": [
    "Retinal images\n",
    "----------"
   ]
  },
  {
   "cell_type": "markdown",
   "metadata": {},
   "source": [
    "<img src='glaucomapicture.jpg' width=\"300\" height=\"300\" align=\"left\">"
   ]
  },
  {
   "cell_type": "code",
   "execution_count": 2,
   "metadata": {},
   "outputs": [
    {
     "data": {
      "text/html": [
       "<script>\n",
       "  function code_toggle() {\n",
       "    if (code_shown){\n",
       "      $('div.input').hide('500');\n",
       "      $('#toggleButton').val('Show Code')\n",
       "    } else {\n",
       "      $('div.input').show('500');\n",
       "      $('#toggleButton').val('Hide Code')\n",
       "    }\n",
       "    code_shown = !code_shown\n",
       "  }\n",
       "\n",
       "  $( document ).ready(function(){\n",
       "    code_shown=false;\n",
       "    $('div.input').hide()\n",
       "  });\n",
       "</script>\n",
       "<form action=\"javascript:code_toggle()\"><input type=\"submit\" id=\"toggleButton\" value=\"Show Code\"></form>"
      ],
      "text/plain": [
       "<IPython.core.display.HTML object>"
      ]
     },
     "execution_count": 2,
     "metadata": {},
     "output_type": "execute_result"
    }
   ],
   "source": [
    "HTML('''<script>\n",
    "  function code_toggle() {\n",
    "    if (code_shown){\n",
    "      $('div.input').hide('500');\n",
    "      $('#toggleButton').val('Show Code')\n",
    "    } else {\n",
    "      $('div.input').show('500');\n",
    "      $('#toggleButton').val('Hide Code')\n",
    "    }\n",
    "    code_shown = !code_shown\n",
    "  }\n",
    "\n",
    "  $( document ).ready(function(){\n",
    "    code_shown=false;\n",
    "    $('div.input').hide()\n",
    "  });\n",
    "</script>\n",
    "<form action=\"javascript:code_toggle()\"><input type=\"submit\" id=\"toggleButton\" value=\"Show Code\"></form>''')"
   ]
  },
  {
   "cell_type": "markdown",
   "metadata": {},
   "source": [
    "Project: Glaucoma Detection\n",
    "======="
   ]
  },
  {
   "cell_type": "markdown",
   "metadata": {},
   "source": [
    "**By: Pieter Leffers**"
   ]
  },
  {
   "cell_type": "markdown",
   "metadata": {},
   "source": [
    "*Starting Date: March 1, 2019*\n",
    "\n",
    "*Completion Date: -, 2019*\n",
    "\n",
    "*Last Updated: April 30, 2019*"
   ]
  },
  {
   "cell_type": "markdown",
   "metadata": {},
   "source": [
    "**Project Description**\n",
    "--------"
   ]
  },
  {
   "cell_type": "markdown",
   "metadata": {},
   "source": [
    "According to the  American Optometric Association, Glaucoma is a general term for a number of eye conditions that progressively damage the optic nerve,consequently causing vision loss. Diagnosis of glaucoma is complex, but is often associated with elevated intraocular pressure, optic nerve damage, and reduction in visual acuity and visual field. Vision loss from glaucoma is permanent, but progression may be slowed or halted through early diagnosis and treatment.\n",
    "\n",
    " \n",
    " \n",
    " \n",
    " American Optometric Association. Glossary of Common Eye & Vision Conditions website.\n",
    "https://www.aoa.org/patients-and-public/eye-and-vision-problems/glossary-of-eye-and-vision-conditions. Accessed June 7, 2018."
   ]
  },
  {
   "cell_type": "markdown",
   "metadata": {},
   "source": [
    "**Data Source: **\n"
   ]
  },
  {
   "cell_type": "markdown",
   "metadata": {},
   "source": [
    "For this project I will use data gathered from the Harvard Dataverse collected and uploaded by Ungsoo Kim. The retinal image dataset consists of 788 ‘normal control’ images, 289 ‘early stage’ images, and 467 ‘advanced stage’ images.The images are already preprocessed, (scaled to 800 pixels and cropped so the nerve endings are of 240 pixels) thus ready to be used for machine learning tasks. However, this dataset will present itself particularly challenging as the number of retinal images needed for this task are less than desirable; thus representing a real-world problem of its own.\n",
    "\n",
    "The data was originally collected from Kim's Eye Hospital. The images have already been pre-processed and fixed to a size of 800 pixels, centered on the optic nerve, and cropped to a size of 240 pixels.\n",
    "\n",
    "The data is hosted on the Harvard Dataverse and can be downloaded at:\n",
    "*Kim, Ungsoo, 2018, \"Machine learn for glaucoma\", https://doi.org/10.7910/DVN/1YRRAC, Harvard Dataverse, V1 *\n"
   ]
  },
  {
   "cell_type": "markdown",
   "metadata": {},
   "source": [
    "**Note:** I will need to keep in mind folder structure in the future since I will be porting to sagemaker with a Dockerfile and the folder structure for Sagemaker is particularly important."
   ]
  },
  {
   "cell_type": "markdown",
   "metadata": {},
   "source": [
    "*Setup Folder Tree*"
   ]
  },
  {
   "cell_type": "markdown",
   "metadata": {},
   "source": [
    "    sage\n",
    "    ├── Dockerfile\n",
    "    ├── local_test\n",
    "    │  ├── predict.sh\n",
    "    │  ├── train.sh\n",
    "    │  ├── serve.sh\n",
    "    │  └── test_dir => /opt/ml in container\n",
    "    │      ├── input\n",
    "    │      │   ├── config\n",
    "    │      │   └── data\n",
    "    │      │       └── training\n",
    "    │      ├── model\n",
    "    │      └── output\n",
    "    └── program\n",
    "        ├── (some scripts...)\n",
    "        ├── train\n",
    "        └── serve"
   ]
  },
  {
   "cell_type": "markdown",
   "metadata": {},
   "source": [
    "**Import Packages**"
   ]
  },
  {
   "cell_type": "code",
   "execution_count": 2,
   "metadata": {},
   "outputs": [
    {
     "name": "stdout",
     "output_type": "stream",
     "text": [
      "Matplotlib Version: 2.2.2\n",
      "OpenCV Version: 4.0.0\n"
     ]
    }
   ],
   "source": [
    "import random\n",
    "import shutil\n",
    "import numpy as np\n",
    "import os\n",
    "import imgaug\n",
    "import cv2\n",
    "import os\n",
    "import matplotlib\n",
    "import matplotlib.pyplot as plt\n",
    "import random\n",
    "from imgaug import augmenters as iaa\n",
    "import imageio\n",
    "import imgaug as ia\n",
    "\n",
    "%matplotlib inline\n",
    "\n",
    "ver=cv2.__version__\n",
    "print('Matplotlib Version: {}'.format(matplotlib.__version__))\n",
    "if float(ver[0])==3 and float(ver[-3:])<4.2:\n",
    "    print('Please update OpenCV. This requires a minimum of OpenCV 3.4.2')\n",
    "    print('Your current version is: ',cv2.__version__)\n",
    "elif float(ver[0])>3:\n",
    "    print('OpenCV Version:',cv2.__version__) \n",
    "else:\n",
    "    print('OpenCV Version:',cv2.__version__)"
   ]
  },
  {
   "cell_type": "markdown",
   "metadata": {},
   "source": [
    "*Make folders*"
   ]
  },
  {
   "cell_type": "code",
   "execution_count": 3,
   "metadata": {},
   "outputs": [
    {
     "name": "stdout",
     "output_type": "stream",
     "text": [
      "Directory  ./local_test  Created \n",
      "Directory  ./program  Created \n",
      "Directory  ./local_test/test_dir  Created \n",
      "Directory  ./local_test/test_dir/input  Created \n",
      "Directory  ./local_test/test_dir/input/config  Created \n",
      "Directory  ./local_test/test_dir/input/data  Created \n",
      "Directory  ./local_test/test_dir/input/data/training  Created \n",
      "Directory  ./local_test/test_dir/input/data/training/augmentation  Created \n",
      "Directory  ./local_test/test_dir/model  Created \n",
      "Directory  ./local_test/test_dir/output  Created \n",
      "Directory  ./local_test/program  Created \n",
      "Directory  ./local_test/program/train  Created \n",
      "Directory  ./local_test/program/serve  Created \n",
      "Directory  ./local_test/test_dir/input/data/images  Created \n"
     ]
    }
   ],
   "source": [
    "DirList=['./local_test','./program',\\\n",
    "         './local_test/test_dir',\\\n",
    "         './local_test/test_dir/input',\\\n",
    "         './local_test/test_dir/input/config',\\\n",
    "         './local_test/test_dir/input/data',\\\n",
    "         './local_test/test_dir/input/data/training',\\\n",
    "         './local_test/test_dir/input/data/training/augmentation',\\\n",
    "         './local_test/test_dir/model',\\\n",
    "         './local_test/test_dir/output',\\\n",
    "         './local_test/program',\n",
    "         './local_test/program/train',\n",
    "         './local_test/program/serve',\\\n",
    "         './local_test/test_dir/input/data/images']#can add more folders I want to create in this process\n",
    "for i in DirList:\n",
    "    try:\n",
    "        # Create target Directory\n",
    "        os.mkdir(i)\n",
    "        print(\"Directory \" ,i,  \" Created \") \n",
    "    except:\n",
    "        print(\"Directory \" ,i,  \" already exists\")"
   ]
  },
  {
   "cell_type": "markdown",
   "metadata": {},
   "source": [
    "*Pull Data*"
   ]
  },
  {
   "cell_type": "code",
   "execution_count": 4,
   "metadata": {
    "scrolled": true
   },
   "outputs": [],
   "source": [
    "#Takes a couple of hours to download\n",
    "#!wget https://dataverse.harvard.edu/api/access/datafile/:persistentId?persistentId=doi:10.7910/DVN/1YRRAC/OGRSQO"
   ]
  },
  {
   "cell_type": "markdown",
   "metadata": {},
   "source": [
    "*Extract Data*"
   ]
  },
  {
   "cell_type": "markdown",
   "metadata": {},
   "source": [
    "*I am supressing the output in order to conserve space. I have printed the first 5 lines of the output to give you an idea of what is happening.*"
   ]
  },
  {
   "cell_type": "code",
   "execution_count": 5,
   "metadata": {},
   "outputs": [],
   "source": [
    "%%capture captured\n",
    "!unzip processed_data.zip -d ./local_test/test_dir/input/data/images"
   ]
  },
  {
   "cell_type": "code",
   "execution_count": 6,
   "metadata": {},
   "outputs": [],
   "source": [
    "file_out=captured.stdout"
   ]
  },
  {
   "cell_type": "code",
   "execution_count": 7,
   "metadata": {},
   "outputs": [
    {
     "name": "stdout",
     "output_type": "stream",
     "text": [
      "Archive:  processed_data.zip\r\n",
      "  inflating: ./local_test/test_dir/input/data/images/data_description.txt  \r\n",
      "   creating: ./local_test/test_dir/input/data/images/advanced_glaucoma/\r\n",
      "  inflating: ./local_test/test_dir/input/data/images/advanced_glaucoma/1.png  \r\n",
      "  inflating: ./local_test/test_dir/input/data/images/advanced_glaucoma/10.png  \r\n",
      "  inflating: ./local_test/test_dir/input/data/images/advanced_glaucoma/100.png \n"
     ]
    }
   ],
   "source": [
    "print(file_out[:420])"
   ]
  },
  {
   "cell_type": "markdown",
   "metadata": {},
   "source": [
    "*Setup Training, Testing, and Validation Folders*"
   ]
  },
  {
   "cell_type": "code",
   "execution_count": 8,
   "metadata": {},
   "outputs": [],
   "source": [
    "!mv ./local_test/test_dir/input/data/images/advanced_glaucoma/* ./local_test/test_dir/input/data/images/early_glaucoma\n",
    "!mv ./local_test/test_dir/input/data/images/early_glaucoma ./local_test/test_dir/input/data/images/cases\n",
    "!mv ./local_test/test_dir/input/data/images/normal_control ./local_test/test_dir/input/data/images/controls\n",
    "!rm -r ./local_test/test_dir/input/data/images/advanced_glaucoma/"
   ]
  },
  {
   "cell_type": "markdown",
   "metadata": {},
   "source": [
    "Setup Data Structure\n",
    "--------"
   ]
  },
  {
   "cell_type": "code",
   "execution_count": 9,
   "metadata": {},
   "outputs": [],
   "source": [
    "#Create training, testing, validation function, as well as a percentage for data augmentation of each\n",
    "\n",
    "# the path to the original images\n",
    "input_data_folder = \"local_test/test_dir/input/data/images\"\n",
    "# new directory that will contain our images after computing the training and testing split\n",
    "data_folder_name = \"local_test/test_dir/input/data/training\"\n",
    "\n",
    "# define the percentage of the data that will be used training\n",
    "training_percent = 0.8\n",
    "\n",
    "# the amount of validation data will be a percentage of the *training* data\n",
    "validation_percent = 0.1\n",
    "\n",
    "#the amount of augmentation needed for images\n",
    "augment_percent = 0.2"
   ]
  },
  {
   "cell_type": "markdown",
   "metadata": {},
   "source": [
    "The two functions below were pulled from imgauge github page because I couldn't import them from the library."
   ]
  },
  {
   "cell_type": "code",
   "execution_count": 10,
   "metadata": {},
   "outputs": [],
   "source": [
    "def do_assert(condition, message=\"Assertion failed.\"):\n",
    "    \"\"\"\n",
    "    Function that behaves equally to an `assert` statement, but raises an\n",
    "    Exception.\n",
    "    This is added because `assert` statements are removed in optimized code.\n",
    "    It replaces `assert` statements throughout the library that should be\n",
    "    kept even in optimized code.\n",
    "    Parameters\n",
    "    ----------\n",
    "    condition : bool\n",
    "        If False, an exception is raised.\n",
    "    message : str, optional\n",
    "        Error message.\n",
    "    \"\"\"\n",
    "    if not condition:\n",
    "        raise AssertionError(str(message))\n",
    "\n",
    "IMSHOW_BACKEND_DEFAULT = \"matplotlib\"\n",
    "def imshow(image, backend=IMSHOW_BACKEND_DEFAULT):\n",
    "    \"\"\"\n",
    "    Shows an image in a window.\n",
    "    dtype support::\n",
    "        * ``uint8``: yes; not tested\n",
    "        * ``uint16``: ?\n",
    "        * ``uint32``: ?\n",
    "        * ``uint64``: ?\n",
    "        * ``int8``: ?\n",
    "        * ``int16``: ?\n",
    "        * ``int32``: ?\n",
    "        * ``int64``: ?\n",
    "        * ``float16``: ?\n",
    "        * ``float32``: ?\n",
    "        * ``float64``: ?\n",
    "        * ``float128``: ?\n",
    "        * ``bool``: ?\n",
    "    Parameters\n",
    "    ----------\n",
    "    image : (H,W,3) ndarray\n",
    "        Image to show.\n",
    "    backend : {'matplotlib', 'cv2'}, optional\n",
    "        Library to use to show the image. May be either matplotlib or OpenCV ('cv2').\n",
    "        OpenCV tends to be faster, but apparently causes more technical issues.\n",
    "    \"\"\"\n",
    "    do_assert(backend in [\"matplotlib\", \"cv2\"], \"Expected backend 'matplotlib' or 'cv2', got %s.\" % (backend,))\n",
    "\n",
    "    if backend == \"cv2\":\n",
    "        image_bgr = image\n",
    "        if image.ndim == 3 and image.shape[2] in [3, 4]:\n",
    "            image_bgr = image[..., 0:3][..., ::-1]\n",
    "\n",
    "        win_name = \"imgaug-default-window\"\n",
    "        cv2.namedWindow(win_name, cv2.WINDOW_NORMAL)\n",
    "        cv2.imshow(win_name, image_bgr)\n",
    "        cv2.waitKey(0)\n",
    "        cv2.destroyWindow(win_name)\n",
    "    else:\n",
    "        # import only when necessary (faster startup; optional dependency; less fragile -- see issue #225)\n",
    "        import matplotlib.pyplot as plt\n",
    "\n",
    "        dpi = 96\n",
    "        h, w = image.shape[0] / dpi, image.shape[1] / dpi\n",
    "        w = max(w, 6)  # if the figure is too narrow, the footer may appear and make the fig suddenly wider (ugly)\n",
    "        fig, ax = plt.subplots(figsize=(w, h), dpi=dpi)\n",
    "        fig.canvas.set_window_title(\"imgaug.imshow(%s)\" % (image.shape,))\n",
    "        ax.imshow(image, cmap=\"gray\")  # cmap is only activate for grayscale images\n",
    "plt.show()"
   ]
  },
  {
   "cell_type": "markdown",
   "metadata": {},
   "source": [
    "Build Training, Testing, and Validation Datasets\n",
    "---------"
   ]
  },
  {
   "cell_type": "markdown",
   "metadata": {},
   "source": [
    "Here I have created a class object so that I may consider creating a library for my needs. For the time being it is convenient to be able to simply execute the functions below with a single command. Since I was already planning on going through the trouble of supplementing images in the training set with image augmentation I decided to fold it into the same procedure as creating the training, testing, and validation sets. "
   ]
  },
  {
   "cell_type": "code",
   "execution_count": 11,
   "metadata": {},
   "outputs": [],
   "source": [
    "class preprocess_data(object):\n",
    "\n",
    "    def create_train_test_val(data_folder_name):\n",
    "        '''\n",
    "        Points to the folders specified. \n",
    "        '''\n",
    "        # setup the training, validation, and testing directories\n",
    "        training_folder = os.path.sep.join([data_folder_name, \"training\"])\n",
    "        validation_folder = os.path.sep.join([data_folder_name, \"validation\"])\n",
    "        testing_folder  = os.path.sep.join([data_folder_name, \"testing\"])\n",
    "        return training_folder,validation_folder,testing_folder\n",
    "\n",
    "    def list_images(data_folder, contains=None):\n",
    "        # import the necessary packages\n",
    "        image_types = (\".jpg\", \".jpeg\", \".png\", \".bmp\", \".tif\", \".tiff\")\n",
    "        # return the set of files that are valid\n",
    "        return preprocess_data.list_files(data_folder, valid_extensions=image_types, contains=contains)\n",
    "\n",
    "    def list_files(data_folder, valid_extensions=None, contains=None):\n",
    "        # loop over the directory structure\n",
    "        for (root_directory, directory_names, filenames) in os.walk(data_folder):\n",
    "            # loop over the filenames in the current directory\n",
    "            for filename in filenames:\n",
    "                # if the contains string is not none and the filename does not contain\n",
    "                # the supplied string, then ignore the file\n",
    "                if contains is not None and filename.find(contains) == -1:\n",
    "                    continue\n",
    "\n",
    "                # determine the file extension of the current file\n",
    "                extension = filename[filename.rfind(\".\"):].lower()\n",
    "\n",
    "                # check to see if the file is an image and should be processed\n",
    "                if valid_extensions is None or extension.endswith(valid_extensions):\n",
    "                    # construct the path to the image and yield it\n",
    "                    image_paths = os.path.join(root_directory, filename)\n",
    "                    yield image_paths\n",
    "\n",
    "    def images_augment(augment_percent,training_paths):\n",
    "        aug_num=int(len(training_paths) * augment_percent)\n",
    "        for image_iter in training_paths[:aug_num]:\n",
    "            filename,extension = (os.path.splitext(os.path.basename(image_iter)))\n",
    "            path,fullname=os.path.split(image_iter) \n",
    "            label=(os.path.basename(os.path.normpath(path)))\n",
    "            path='./local_test/test_dir/input/data/training/augmentation'\n",
    "            imread_image = imageio.imread(image_iter)\n",
    "            random_num=random.randint(0,360)\n",
    "            rotate = iaa.Affine(rotate=(-random_num, random_num))\n",
    "            image_aug = rotate.augment_image(imread_image)\n",
    "            #imshow(image_aug)\n",
    "            imageio.imwrite(path+'/'+label+'_aug_'+str(random_num)+'.png',image_aug)\n",
    "        return aug_num\n",
    "\n",
    "    def setup_folders(training_percent,validation_percent,augment_percent):\n",
    "        training_folder,validation_folder,testing_folder=preprocess_data.create_train_test_val(data_folder_name)\n",
    "        # grab the paths to all input images in the original input directory and shuffle them\n",
    "        image_paths = list(preprocess_data.list_images(input_data_folder))\n",
    "        random.shuffle(image_paths)\n",
    "\n",
    "        # training and testing split\n",
    "        comparison = int(len(image_paths) * training_percent)\n",
    "        training_paths = image_paths[:comparison]\n",
    "        testing_paths = image_paths[comparison:]\n",
    "\n",
    "        # using part of the training data for validation\n",
    "        comparison = int(len(training_paths) * validation_percent)\n",
    "        validation_paths = training_paths[:comparison]\n",
    "        training_paths = training_paths[comparison:]  \n",
    "\n",
    "        print('Images selected for training folder: ',len(training_paths))\n",
    "        print('Images selected for testing folder: ',len(testing_paths))\n",
    "        print('Images selected for validation folder: ',len(validation_paths))\n",
    "\n",
    "        # define the datasets that we'll be building\n",
    "        datasets = [(\"training\", training_paths, training_folder),\n",
    "                    (\"validation\", validation_paths, validation_folder),\n",
    "                    (\"testing\", testing_paths, testing_folder)]\n",
    "        \n",
    "        # loop over the datasets\n",
    "        for (data_type, image_paths, output_folder) in datasets:\n",
    "            # show which data split we are creating\n",
    "            print(\"\\nbuilding \"+data_type+\" collection . . .\\n\")\n",
    "\n",
    "            # if the output base output directory does not exist, create it\n",
    "            if not os.path.exists(output_folder):\n",
    "                print(\"creating \"+data_type+\" directory . . .\")\n",
    "                os.makedirs(output_folder)\n",
    "\n",
    "            # loop over the input image paths\n",
    "            for path in image_paths:\n",
    "                # extract the filename of the input image along with its corresponding class label\n",
    "                filename = path.split(os.path.sep)[-1]\n",
    "                label = path.split(os.path.sep)[-2]\n",
    "                # build the path to the label directory\n",
    "                label_paths = os.path.sep.join([output_folder, label])\n",
    "\n",
    "                # if the label output directory does not exist, create it\n",
    "                if not os.path.exists(label_paths):\n",
    "                    print(\"creating \"+data_type+\" directory . . .\")\n",
    "                    os.makedirs(label_paths)\n",
    "\n",
    "                # construct the path to the destination image and then copy the image itself\n",
    "                p = os.path.sep.join([label_paths, filename])\n",
    "                shutil.copy2(path, p) #Identical to copy() except that copy2() also attempts to preserve file metadata.\n",
    "                \n",
    "        aug_num=preprocess_data.images_augment(augment_percent,training_paths)\n",
    "        # return the total number of image paths in training, validation, and testing directories\n",
    "        training_total = len(list(preprocess_data.list_images(training_folder)))\n",
    "        validation_total = len(list(preprocess_data.list_images(validation_folder)))\n",
    "        testing_total = len(list(preprocess_data.list_images(testing_folder)))\n",
    "        total_images=training_total+validation_total+testing_total\n",
    "        print('\\nTraining Images: ',training_total,'\\nValidation Images: ',\n",
    "              validation_total,'\\nTesting Images: ',testing_total,\n",
    "              '\\nTotal Images Selected: ',total_images,'\\nAugmented Images Added: ',aug_num)\n",
    "        \n",
    "        return training_paths"
   ]
  },
  {
   "cell_type": "code",
   "execution_count": 12,
   "metadata": {},
   "outputs": [
    {
     "name": "stdout",
     "output_type": "stream",
     "text": [
      "Images selected for training folder:  904\n",
      "Images selected for testing folder:  251\n",
      "Images selected for validation folder:  100\n",
      "\n",
      "building training collection . . .\n",
      "\n",
      "creating training directory . . .\n",
      "creating training directory . . .\n",
      "creating training directory . . .\n",
      "\n",
      "building validation collection . . .\n",
      "\n",
      "creating validation directory . . .\n",
      "creating validation directory . . .\n",
      "creating validation directory . . .\n",
      "\n",
      "building testing collection . . .\n",
      "\n",
      "creating testing directory . . .\n",
      "creating testing directory . . .\n",
      "creating testing directory . . .\n",
      "\n",
      "Training Images:  904 \n",
      "Validation Images:  100 \n",
      "Testing Images:  251 \n",
      "Total Images Selected:  1255 \n",
      "Augmented Images Added:  180\n"
     ]
    }
   ],
   "source": [
    "training_path=preprocess_data.setup_folders(training_percent,validation_percent,augment_percent)"
   ]
  },
  {
   "cell_type": "markdown",
   "metadata": {},
   "source": [
    "I have created 180 images to help supplement my lack of images in the training folder. The reason it is merely 180 images and not more images is to avoid the augmented images being too statistically representative within the image dataset and thereby biasing the results. Below is a simple representation of the function I'm using within the class object above. "
   ]
  },
  {
   "cell_type": "code",
   "execution_count": 13,
   "metadata": {},
   "outputs": [
    {
     "name": "stdout",
     "output_type": "stream",
     "text": [
      "Augmented batch:\n"
     ]
    },
    {
     "data": {
      "image/png": "[encoded data removed]",
      "text/plain": [
       "<Figure size 960x240 with 1 Axes>"
      ]
     },
     "metadata": {},
     "output_type": "display_data"
    }
   ],
   "source": [
    "image = imageio.imread(\"local_test/test_dir/input/data/images/cases/6.png\")\n",
    "random_num=random.randint(0,360)\n",
    "rotate = iaa.Affine(rotate=(-random_num, random_num))\n",
    "images = [image, image, image, image]\n",
    "images_aug = rotate.augment_images(images)\n",
    "\n",
    "print(\"Augmented batch:\")\n",
    "imshow(np.hstack(images_aug))"
   ]
  },
  {
   "cell_type": "markdown",
   "metadata": {},
   "source": [
    "Define Model Structure\n",
    "====="
   ]
  },
  {
   "cell_type": "markdown",
   "metadata": {},
   "source": [
    "For classification of retinal images I have chosen to use a ResNet model as described by Kaiming He, Xiangyu Zhang, Shaoqing Ren, Jian Sun in <a href=\"https://arxiv.org/pdf/1512.03385.pdf\" target=\"_blank\">***Deep Residual Learning for Image Recognition (2015)***</a> and Adrian Rosebrock in <a href=\"http://www.i-element.org/PDF/C12-3.pdf\" target=\"_blank\">***Deep Learning for Computer Vision with Python (2017)***</a>. \n",
    "\n",
    "For an excellent explanation of the ResNet model, checkout Gracelyn Shi's Medium blog post:\n",
    "https://towardsdatascience.com/implementing-a-resnet-model-from-scratch-971be7193718\n",
    "\n",
    "**Why use a Residual Network (ResNet) model?**\n",
    "\n",
    "In traditional Deep Neural Networks during training you typically run into problems during backpropagation while using gradient descent optimization; where the data is fed from the final layers back into the first initial activation layers. As the loss function (error) with respect to the weights becomes updated certain activation functions such as the sigmoid function, constrain the input space between 0 and 1. Since the gradient in a Neural Network is a product of the gradients preceeding it, multiplying two smaller numbers returns an even smaller number. The small change in the gradient causes training times to be painfully slow, prone to error, and adding a large number of layers to become too costly and prohibitive.\n",
    "\n",
    "\n",
    "\n",
    "*Backpropagation:*\n",
    "\n",
    "    Moving from later stages and fed back through the Neural Network to the initial layers."
   ]
  },
  {
   "cell_type": "markdown",
   "metadata": {},
   "source": [
    "Residual Networks provide a convenient solution to the 'vanishing gradient' problem. By skipping (shortcut) the training of one or more layers and creating a **residual block**.\n"
   ]
  },
  {
   "cell_type": "markdown",
   "metadata": {},
   "source": [
    "<img src='relu.png' width=\"300\" height=\"300\" align=\"left\">"
   ]
  },
  {
   "cell_type": "code",
   "execution_count": 43,
   "metadata": {},
   "outputs": [],
   "source": [
    "#H(x) = F(x) + x, where F(x) = W2*relu(W1*x+b1)+b2"
   ]
  },
  {
   "cell_type": "markdown",
   "metadata": {},
   "source": [
    "Model Architecture Map\n",
    "-----"
   ]
  },
  {
   "cell_type": "markdown",
   "metadata": {},
   "source": [
    "With the application of Batch Normalization, Activation Function, and Convolutional Layers along with shortcuts. We can now create a network as deep as we desire."
   ]
  },
  {
   "cell_type": "markdown",
   "metadata": {},
   "source": [
    "<img src='resnet_structure.jpg' width=\"500\" height=\"500\" align=\"left\">"
   ]
  },
  {
   "cell_type": "code",
   "execution_count": 44,
   "metadata": {},
   "outputs": [],
   "source": [
    "#https://www.learnopencv.com/image-classification-using-convolutional-neural-networks-in-keras/"
   ]
  },
  {
   "cell_type": "code",
   "execution_count": 14,
   "metadata": {},
   "outputs": [],
   "source": [
    "def residual_module(input_data, kernel, stride, axis, reduce=False, reg_lambda=0.0001, epsilon=0.00002, momentum=0.9):\n",
    "    shortcut = input_data\n",
    "    bn1 = BatchNormalization(axis=axis, epsilon=epsilon, momentum=momentum)(input_data)\n",
    "    act1 = Activation(\"relu\")(bn1)\n",
    "    conv1 = Conv2D(int(kernel * 0.25), (1, 1), use_bias=False,kernel_regularizer=l2(reg_lambda))(act1)\n",
    "\n",
    "    bn2 = BatchNormalization(axis=axis, epsilon=epsilon,momentum=momentum)(conv1)\n",
    "    act2 = Activation(\"relu\")(bn2)\n",
    "    conv2 = Conv2D(int(kernel * 0.25), (3, 3), strides=stride, padding=\"same\", use_bias=False, kernel_regularizer=l2(reg_lambda))(act2)\n",
    "\n",
    "    bn3 = BatchNormalization(axis=axis, epsilon=epsilon, momentum=momentum)(conv2)\n",
    "    act3 = Activation(\"relu\")(bn3)\n",
    "    conv3 = Conv2D(kernel, (1, 1), use_bias=False, kernel_regularizer=l2(reg_lambda))(act3)\n",
    "\n",
    "    if reduce: \n",
    "        shortcut = Conv2D(kernel, (1, 1), strides=stride, use_bias=False, kernel_regularizer=l2(reg_lambda))(act1)\n",
    "\n",
    "    x = add([conv3, shortcut])\n",
    "    return x"
   ]
  },
  {
   "cell_type": "markdown",
   "metadata": {},
   "source": [
    "Build Model Structure\n",
    "====="
   ]
  },
  {
   "cell_type": "code",
   "execution_count": 15,
   "metadata": {},
   "outputs": [],
   "source": [
    "def build(width, height, depth, classes, stages, filters, reg_lambda=0.0001, epsilon=0.00002, momentum=0.9):\n",
    "    input_shape = (height, width, depth)\n",
    "    axis = -1\n",
    "\n",
    "    if K.image_data_format() == \"channels_first\":\n",
    "        input_shape = (depth, height, width)\n",
    "        channel_dimension = 1\n",
    "\n",
    "    inputs = Input(shape=input_shape)\n",
    "    x = BatchNormalization(axis=axis, epsilon=epsilon,momentum=momentum)(inputs)\n",
    "    x = Conv2D(filters[0], (5, 5), use_bias=False,padding=\"same\", kernel_regularizer=l2(reg_lambda))(x)\n",
    "    x = BatchNormalization(axis=axis, epsilon=epsilon,momentum=momentum)(x)\n",
    "    x = Activation(\"relu\")(x)\n",
    "    x = ZeroPadding2D((1, 1))(x)\n",
    "    x = MaxPooling2D((3, 3), strides=(2, 2))(x)\n",
    "\n",
    "    for i in range(0, len(stages)):\n",
    "        stride = (1, 1) if i == 0 else (2, 2)\n",
    "        x = residual_module(x, filters[i + 1], stride,axis, reduce=True, epsilon=epsilon, momentum=momentum)\n",
    "\n",
    "        for j in range(0, stages[i] - 1):\n",
    "            x = residual_module(x, filters[i + 1],(1, 1), axis, epsilon=epsilon, momentum=momentum)\n",
    "\n",
    "    x = BatchNormalization(axis=axis, epsilon=epsilon,momentum=momentum)(x)\n",
    "    x = Activation(\"relu\")(x)\n",
    "    x = AveragePooling2D((8, 8))(x)\n",
    "    x = Flatten()(x)\n",
    "    x = Dense(classes, kernel_regularizer=l2(reg_lambda))(x)\n",
    "    x = Activation(\"softmax\")(x)\n",
    "\n",
    "    model = Model(inputs, x, name=\"resnet\")\n",
    "    return model\n"
   ]
  },
  {
   "cell_type": "markdown",
   "metadata": {},
   "source": [
    "________________________"
   ]
  },
  {
   "cell_type": "markdown",
   "metadata": {},
   "source": [
    "**Define Structure:** *Tried to provide some explanation in cell below*"
   ]
  },
  {
   "cell_type": "code",
   "execution_count": 47,
   "metadata": {},
   "outputs": [
    {
     "data": {
      "text/html": [
       "<script>\n",
       "code_show=true; \n",
       "function code_toggle() {\n",
       "    if (code_show){\n",
       "        $('div.cell.code_cell.rendered.selected div.input').hide();\n",
       "    } else {\n",
       "        $('div.cell.code_cell.rendered.selected div.input').show();\n",
       "    }\n",
       "    code_show = !code_show\n",
       "} \n",
       "$( document ).ready(code_toggle);\n",
       "</script>\n",
       "To show/hide this cell's raw code input, click <a href=\"javascript:code_toggle()\">here</a>."
      ],
      "text/plain": [
       "<IPython.core.display.HTML object>"
      ]
     },
     "metadata": {},
     "output_type": "display_data"
    }
   ],
   "source": [
    "tag = HTML('''<script>\n",
    "code_show=true; \n",
    "function code_toggle() {\n",
    "    if (code_show){\n",
    "        $('div.cell.code_cell.rendered.selected div.input').hide();\n",
    "    } else {\n",
    "        $('div.cell.code_cell.rendered.selected div.input').show();\n",
    "    }\n",
    "    code_show = !code_show\n",
    "} \n",
    "$( document ).ready(code_toggle);\n",
    "</script>\n",
    "To show/hide this cell's raw code input, click <a href=\"javascript:code_toggle()\">here</a>.''')\n",
    "display(tag)\n",
    "\n",
    "############### Explanation ##################\n",
    "#https://www.coursera.org/lecture/convolutional-neural-networks/why-resnets-work-XAKNO\n",
    "#https://www.coursera.org/lecture/convolutional-neural-networks/resnets-HAhz9      \n",
    "\n",
    "#Jargon:\n",
    "    #'Relu': Rectified Linear Unit (algorithmic threshold for activation layer)\n",
    "    #Stride: Amount of shift of the filter moving from one part of the image to another\n",
    "\n",
    "#input for function: \n",
    "    #data=the data to be pass in the model\n",
    "    #kernel: number of filters that will be learned by the final CONV layer\n",
    "    #stride: An integer or tuple/list of a single integer, specifying the stride length of the convolution. \n",
    "    #axis: Integer, the axis that should be normalized (typically the features axis)\n",
    "    #reduce: red is boolean check to skip some processing\n",
    "    #reg_lambda: apply (0.0001) penalties on layer parameters\n",
    "    #epsilon: Small float added to variance to avoid dividing by zero.\n",
    "    #momentum: Momentum for the moving mean and the moving variance.\n",
    "    \n",
    "def residual_module(input_data, kernel, stride, axis, reduce=False,reg_lambda=0.0001, epsilon=0.00002, momentum=0.9):\n",
    "    # the shortcut branch of the resnet module should be initialize as the input (identity) data\n",
    "    shortcut = input_data\n",
    "    # the first block of the ResNet module are the 1x1 Convolution:\n",
    "            #epsilon: Small float added to variance to avoid dividing by zero.\n",
    "            #axis: Integer, the axis that should be normalized (typically the features axis).\n",
    "                #-For instance, after a Conv2D layer with data_format=\"channels_first\", set axis=1 in BatchNormalization.\n",
    "            #momentum: Momentum for the moving mean and the moving variance.\n",
    "    bn1 = BatchNormalization(axis=axis, epsilon=epsilon, momentum=momentum)(input_data) #https://keras.io/layers/normalization/\n",
    "    #Rectified Linear Unit for activation. https://keras.io/activations/\n",
    "    act1 = Activation(\"relu\")(bn1)\n",
    "    #2D convolution layer (e.g. spatial convolution over images). https://keras.io/layers/convolutional/\n",
    "        #kernel size (tuple):\n",
    "\n",
    "            #An integer or tuple/list of 2 integers, specifying the height and width of the 2D convolution window. \n",
    "            #Can be a single integer to specify the same value for all spatial dimensions.\n",
    "            \n",
    "        #use_bias: Boolean, whether the layer uses a bias vector.\n",
    "        #kernel_regularizer (Ridge Regression): \n",
    "            #https://medium.com/datadriveninvestor/l1-l2-regularization-7f1b4fe948f2\n",
    "    conv1 = Conv2D(int(kernel * 0.25), (1, 1), use_bias=False,kernel_regularizer=l2(reg_lambda))(act1)\n",
    "\n",
    "    # the second block of the ResNet module are the 3x3 CONVs passing in results of previous convolutional layer\n",
    "    bn2 = BatchNormalization(axis=axis, epsilon=epsilon,momentum=momentum)(conv1)#\n",
    "    act2 = Activation(\"relu\")(bn2)\n",
    "    #padding:  one of \"valid\" or \"same\" (case-insensitive). \n",
    "    #Note that \"same\" is slightly inconsistent across backends with strides != 1, as described-\n",
    "        #https://github.com/keras-team/keras/pull/9473#issuecomment-372166860\n",
    "    conv2 = Conv2D(int(kernel * 0.25), (3, 3), strides=stride, padding=\"same\", use_bias=False, kernel_regularizer=l2(reg_lambda))(act2)\n",
    "\n",
    "    # the third block of the ResNet module is another set of 1x1 Convolution\n",
    "    bn3 = BatchNormalization(axis=axis, epsilon=epsilon, momentum=momentum)(conv2)\n",
    "    act3 = Activation(\"relu\")(bn3)\n",
    "    conv3 = Conv2D(kernel, (1, 1), use_bias=False, kernel_regularizer=l2(reg_lambda))(act3)\n",
    "\n",
    "    # if we are to reduce the spatial size, apply a convolution layer to the shortcut\n",
    "    if reduce:#Shortcut or Terminal Block (allows to skip)\n",
    "        shortcut = Conv2D(kernel, (1, 1), strides=stride, use_bias=False, kernel_regularizer=l2(reg_lambda))(act1)\n",
    "\n",
    "    # add together the shortcut and the final convolution\n",
    "    x = add([conv3, shortcut])\n",
    "\n",
    "    return x"
   ]
  },
  {
   "cell_type": "markdown",
   "metadata": {},
   "source": [
    "__________"
   ]
  },
  {
   "cell_type": "markdown",
   "metadata": {},
   "source": [
    "**Build Model Structure:** *Tried to provide some explanation in cell below*"
   ]
  },
  {
   "cell_type": "code",
   "execution_count": 48,
   "metadata": {},
   "outputs": [
    {
     "data": {
      "text/html": [
       "<script>\n",
       "code_show=true; \n",
       "function code_toggle() {\n",
       "    if (code_show){\n",
       "        $('div.cell.code_cell.rendered.selected div.input').hide();\n",
       "    } else {\n",
       "        $('div.cell.code_cell.rendered.selected div.input').show();\n",
       "    }\n",
       "    code_show = !code_show\n",
       "} \n",
       "$( document ).ready(code_toggle);\n",
       "</script>\n",
       "To show/hide this cell's raw code input, click <a href=\"javascript:code_toggle()\">here</a>."
      ],
      "text/plain": [
       "<IPython.core.display.HTML object>"
      ]
     },
     "metadata": {},
     "output_type": "display_data"
    }
   ],
   "source": [
    "tag = HTML('''<script>\n",
    "code_show=true; \n",
    "function code_toggle() {\n",
    "    if (code_show){\n",
    "        $('div.cell.code_cell.rendered.selected div.input').hide();\n",
    "    } else {\n",
    "        $('div.cell.code_cell.rendered.selected div.input').show();\n",
    "    }\n",
    "    code_show = !code_show\n",
    "} \n",
    "$( document ).ready(code_toggle);\n",
    "</script>\n",
    "To show/hide this cell's raw code input, click <a href=\"javascript:code_toggle()\">here</a>.''')\n",
    "display(tag)\n",
    "\n",
    "############### Explanation ##################\n",
    "\n",
    "#Already defined:\n",
    "    #data=the data to be pass in the model\n",
    "    #kernel: number of filters that will be learned by the final CONV layer\n",
    "    #stride: An integer or tuple/list of a single integer, specifying the stride length of the convolution. \n",
    "    #axis: Integer, the axis that should be normalized (typically the features axis)\n",
    "    #reduce: will control whether or not to reduce spatial dimensions \n",
    "    #reg_lambda: apply (0.0001) penalties on layer parameters\n",
    "    #epsilon: Small float added to variance to avoid dividing by zero.\n",
    "    #momentum: Momentum for the moving mean and the moving variance.\n",
    "\n",
    "#Function inputs:\n",
    "    #width,height: height and width of image\n",
    "    #depth: the number of channels in image (rgb)\n",
    "    \n",
    "def build(width, height, depth, classes, stages, filters, reg_lambda=0.0001, epsilon=0.00002, momentum=0.9):\n",
    "    # initialize the input shape to be \"channels last\" and the channels dimension itself\n",
    "    input_shape = (height, width, depth) \n",
    "    channel_dimension = -1# <-1 just a handy shortcut meaning 'last'\n",
    "    axis = -1\n",
    "\n",
    "    # if we are using \"channels first\", update the input shape and channels dimension\n",
    "    if K.image_data_format() == \"channels_first\":#<--K is imported from Keras\n",
    "        input_shape = (depth, height, width)\n",
    "        channel_dimension = 1\n",
    "\n",
    "    # set the input and apply batch normalization\n",
    "    inputs = Input(shape=input_shape)\n",
    "    x = BatchNormalization(axis=axis, epsilon=epsilon, momentum=momentum)(inputs)\n",
    "\n",
    "    # apply convolution => batch normalization => activation => pooling layer to reduce spatial size\n",
    "    x = Conv2D(filters[0], (5, 5), use_bias=False, padding=\"same\", kernel_regularizer=l2(reg_lambda))(x)\n",
    "    x = BatchNormalization(axis=axis, epsilon=epsilon, momentum=momentum)(x)\n",
    "    x = Activation(\"relu\")(x) #activation layer is using 'Rectified Linear Unit'\n",
    "    x = ZeroPadding2D((1, 1))(x)\n",
    "    x = MaxPooling2D((3, 3), strides=(2, 2))(x)\n",
    "\n",
    "    # loop over the number of stages\n",
    "    for i in range(0, len(stages)):\n",
    "        # initialize the stride, then apply a residual module\n",
    "        # used to reduce the spatial size of the input volume\n",
    "        stride = (1, 1) if i == 0 else (2, 2)\n",
    "        x = residual_module(x, filters[i + 1], stride, axis, red=True, epsilon=epsilon, momentum=momentum)\n",
    "\n",
    "        # loop over the number of layers in the stage\n",
    "        for j in range(0, stages[i] - 1): #would like to make this boolean to increase efficiency\n",
    "            x = residual_module(x, filters[i + 1],(1, 1), axis, epsilon=epsilon, momentum=momentum)\n",
    "\n",
    "    # apply Batch normalization => activation => pooling layer\n",
    "    x = BatchNormalization(axis=axis, epsilon=epsilon,momentum=momentum)(x)\n",
    "    x = Activation(\"relu\")(x)\n",
    "    x = AveragePooling2D((8, 8))(x)\n",
    "\n",
    "    # softmax classifier\n",
    "    x = Flatten()(x)\n",
    "    x = Dense(classes, kernel_regularizer=l2(reg_lambda))(x)\n",
    "    x = Activation(\"softmax\")(x)\n",
    "\n",
    "    # create the model\n",
    "    model = Model(inputs, x, name=\"resnet\")\n",
    "\n",
    "    # return the constructed network architecture\n",
    "    return model"
   ]
  },
  {
   "cell_type": "markdown",
   "metadata": {},
   "source": [
    "_____________________"
   ]
  },
  {
   "cell_type": "markdown",
   "metadata": {},
   "source": [
    "**Prepare File Paths**"
   ]
  },
  {
   "cell_type": "code",
   "execution_count": 16,
   "metadata": {},
   "outputs": [],
   "source": [
    "training_directory='./local_test/test_dir/input/data/training/training'\n",
    "testing_directory='./local_test/test_dir/input/data/training/testing'\n",
    "validation_directory='./local_test/test_dir/input/data/training/validation'"
   ]
  },
  {
   "cell_type": "markdown",
   "metadata": {},
   "source": [
    "Train Model\n",
    "===="
   ]
  },
  {
   "cell_type": "markdown",
   "metadata": {},
   "source": [
    "**Import Packages**"
   ]
  },
  {
   "cell_type": "code",
   "execution_count": 18,
   "metadata": {},
   "outputs": [],
   "source": [
    "from keras.preprocessing.image import ImageDataGenerator\n",
    "from keras.callbacks import LearningRateScheduler\n",
    "from keras.optimizers import SGD\n",
    "from sklearn.metrics import classification_report\n",
    "\n",
    "# import the necessary packages\n",
    "from keras.layers.normalization import BatchNormalization\n",
    "from keras.layers.convolutional import Conv2D\n",
    "from keras.layers.convolutional import AveragePooling2D\n",
    "from keras.layers.convolutional import MaxPooling2D\n",
    "from keras.layers.convolutional import ZeroPadding2D\n",
    "from keras.layers.core import Activation\n",
    "from keras.layers.core import Dense\n",
    "from keras.layers import Flatten\n",
    "from keras.layers import Input\n",
    "from keras.models import Model\n",
    "from keras.layers import add\n",
    "from keras.regularizers import l2\n",
    "from keras import backend as K\n",
    "import matplotlib.pyplot as plt\n",
    "\n",
    "import random\n",
    "import shutil\n",
    "import os\n"
   ]
  },
  {
   "cell_type": "code",
   "execution_count": 28,
   "metadata": {},
   "outputs": [],
   "source": [
    "# define the total number of epochs to train for along with the initial learning rate and batch size\n",
    "epochs_num = 30\n",
    "initial_learning_rate = 0.01\n",
    "batch_size = 50\n",
    "img_height = 120\n",
    "img_width = 120\n",
    "def poly_decay(epoch):\n",
    "    # initialize the maximum number of epochs, base learning rate, and power of the polynomial\n",
    "    max_epochs = epochs_num\n",
    "    base_learning_rate = initial_learning_rate\n",
    "    power = 1.0\n",
    "\n",
    "    # compute the new learning rate based on polynomial decay\n",
    "    alpha = base_learning_rate*(1 - (epoch / float(max_epochs)))**power\n",
    "\n",
    "    # return the new learning rate\n",
    "    return alpha"
   ]
  },
  {
   "cell_type": "code",
   "execution_count": 29,
   "metadata": {},
   "outputs": [],
   "source": [
    "# determine the total number of image paths in training, validation, and testing directories\n",
    "train_images = len(list(preprocess_data.list_images(training_directory)))\n",
    "\n",
    "validation_images = len(list(preprocess_data.list_images(validation_directory)))\n",
    "\n",
    "test_images = len(list(preprocess_data.list_images(testing_directory)))"
   ]
  },
  {
   "cell_type": "code",
   "execution_count": 30,
   "metadata": {},
   "outputs": [],
   "source": [
    "# initialize the training data augmentation object\n",
    "training_augmentation = ImageDataGenerator(rescale=1 / 255.0, rotation_range=20, \n",
    "    zoom_range=0.05, width_shift_range=0.05,height_shift_range=0.05,\n",
    "    shear_range=0.05,horizontal_flip=True,fill_mode=\"nearest\")"
   ]
  },
  {
   "cell_type": "code",
   "execution_count": 31,
   "metadata": {},
   "outputs": [],
   "source": [
    "# initialize the validation (and testing) data augmentation object\n",
    "validation_augmentation = ImageDataGenerator(rescale=1 / 255.0)"
   ]
  },
  {
   "cell_type": "code",
   "execution_count": 32,
   "metadata": {},
   "outputs": [
    {
     "name": "stdout",
     "output_type": "stream",
     "text": [
      "Found 1063 images belonging to 2 classes.\n"
     ]
    }
   ],
   "source": [
    "# initialize the training generator\n",
    "training_generator = training_augmentation.flow_from_directory(\n",
    "    training_directory,class_mode=\"categorical\",target_size=(img_height, img_width),\n",
    "    color_mode=\"rgb\",shuffle=True,batch_size=batch_size)"
   ]
  },
  {
   "cell_type": "code",
   "execution_count": 33,
   "metadata": {},
   "outputs": [
    {
     "name": "stdout",
     "output_type": "stream",
     "text": [
      "Found 100 images belonging to 2 classes.\n"
     ]
    }
   ],
   "source": [
    "# initialize the validation generator\n",
    "validation_generator = validation_augmentation.flow_from_directory(\n",
    "validation_directory,class_mode=\"categorical\",\n",
    "    target_size=(img_height, img_width),color_mode=\"rgb\",shuffle=False,batch_size=batch_size)"
   ]
  },
  {
   "cell_type": "code",
   "execution_count": 34,
   "metadata": {},
   "outputs": [
    {
     "name": "stdout",
     "output_type": "stream",
     "text": [
      "Found 251 images belonging to 2 classes.\n"
     ]
    }
   ],
   "source": [
    "# initialize the testing generator\n",
    "testing_generator = validation_augmentation.flow_from_directory(testing_directory,\n",
    "    class_mode=\"categorical\",target_size=(img_height, img_width),color_mode=\"rgb\",\n",
    "    shuffle=False,batch_size=batch_size)"
   ]
  },
  {
   "cell_type": "code",
   "execution_count": 35,
   "metadata": {},
   "outputs": [],
   "source": [
    "# initialize the resnet model and compile it\n",
    "# 1st:64, 2nd:64, 3rd:3, 4th:2 \n",
    "\n",
    "# 34 Layer Residual\n",
    "# 3-(3x3 conv 64) \n",
    "# 4-(3x3 conv 128) \n",
    "# 6-(3x3 conv 256) \n",
    "# 3-(3x3 conv 512)\n",
    "# Dimensions (width,height,channel) ,Stages , Filters  \n",
    "model = build(img_height, img_width, 3, 2, (3, 4, 6), (64, 128, 256, 512), reg_lambda=0.0005)\n",
    "opt = SGD(lr=initial_learning_rate, momentum=0.9)\n",
    "model.compile(loss=\"binary_crossentropy\", optimizer=opt,metrics=[\"accuracy\"])"
   ]
  },
  {
   "cell_type": "code",
   "execution_count": 36,
   "metadata": {},
   "outputs": [
    {
     "name": "stdout",
     "output_type": "stream",
     "text": [
      "Epoch 1/30\n",
      "21/21 [==============================] - 643s 31s/step - loss: 0.9335 - acc: 0.8057 - val_loss: 0.8850 - val_acc: 0.8800\n",
      "Epoch 2/30\n",
      "21/21 [==============================] - 593s 28s/step - loss: 0.8793 - acc: 0.8485 - val_loss: 0.8575 - val_acc: 0.8200\n",
      "Epoch 3/30\n",
      "21/21 [==============================] - 590s 28s/step - loss: 0.8336 - acc: 0.8609 - val_loss: 0.8059 - val_acc: 0.8600\n",
      "Epoch 4/30\n",
      "21/21 [==============================] - 593s 28s/step - loss: 0.7933 - acc: 0.8932 - val_loss: 0.7712 - val_acc: 0.9100\n",
      "Epoch 5/30\n",
      "21/21 [==============================] - 592s 28s/step - loss: 0.7697 - acc: 0.9036 - val_loss: 0.7479 - val_acc: 0.9100\n",
      "Epoch 6/30\n",
      "21/21 [==============================] - 599s 29s/step - loss: 0.8278 - acc: 0.8701 - val_loss: 0.7942 - val_acc: 0.8600\n",
      "Epoch 7/30\n",
      "21/21 [==============================] - 587s 28s/step - loss: 0.7822 - acc: 0.8915 - val_loss: 0.7675 - val_acc: 0.8900\n",
      "Epoch 8/30\n",
      "21/21 [==============================] - 592s 28s/step - loss: 0.7735 - acc: 0.9026 - val_loss: 0.7628 - val_acc: 0.8900\n",
      "Epoch 9/30\n",
      "21/21 [==============================] - 593s 28s/step - loss: 0.7610 - acc: 0.9013 - val_loss: 0.7559 - val_acc: 0.9100\n",
      "Epoch 10/30\n",
      "21/21 [==============================] - 591s 28s/step - loss: 0.7560 - acc: 0.9084 - val_loss: 0.8400 - val_acc: 0.8300\n",
      "Epoch 11/30\n",
      "21/21 [==============================] - 592s 28s/step - loss: 0.7431 - acc: 0.9099 - val_loss: 0.8760 - val_acc: 0.8400\n",
      "Epoch 12/30\n",
      "21/21 [==============================] - 595s 28s/step - loss: 0.7421 - acc: 0.9118 - val_loss: 0.7205 - val_acc: 0.9300\n",
      "Epoch 13/30\n",
      "21/21 [==============================] - 592s 28s/step - loss: 0.7115 - acc: 0.9259 - val_loss: 0.7171 - val_acc: 0.9200\n",
      "Epoch 14/30\n",
      "21/21 [==============================] - 595s 28s/step - loss: 0.7029 - acc: 0.9278 - val_loss: 0.7320 - val_acc: 0.9100\n",
      "Epoch 15/30\n",
      "21/21 [==============================] - 589s 28s/step - loss: 0.7236 - acc: 0.9135 - val_loss: 0.8091 - val_acc: 0.8900\n",
      "Epoch 16/30\n",
      "21/21 [==============================] - 611s 29s/step - loss: 0.6996 - acc: 0.9297 - val_loss: 0.7631 - val_acc: 0.8800\n",
      "Epoch 17/30\n",
      "21/21 [==============================] - 596s 28s/step - loss: 0.6939 - acc: 0.9370 - val_loss: 0.7614 - val_acc: 0.9100\n",
      "Epoch 18/30\n",
      "21/21 [==============================] - 593s 28s/step - loss: 0.7121 - acc: 0.9290 - val_loss: 0.7184 - val_acc: 0.9000\n",
      "Epoch 19/30\n",
      "21/21 [==============================] - 592s 28s/step - loss: 0.6871 - acc: 0.9313 - val_loss: 0.7072 - val_acc: 0.9200\n",
      "Epoch 20/30\n",
      "21/21 [==============================] - 593s 28s/step - loss: 0.7071 - acc: 0.9300 - val_loss: 0.7735 - val_acc: 0.9000\n",
      "Epoch 21/30\n",
      "21/21 [==============================] - 584s 28s/step - loss: 0.6847 - acc: 0.9319 - val_loss: 0.7529 - val_acc: 0.9100\n",
      "Epoch 22/30\n",
      "21/21 [==============================] - 589s 28s/step - loss: 0.6794 - acc: 0.9404 - val_loss: 0.7070 - val_acc: 0.9400\n",
      "Epoch 23/30\n",
      "21/21 [==============================] - 613s 29s/step - loss: 0.6812 - acc: 0.9438 - val_loss: 0.7863 - val_acc: 0.9000\n",
      "Epoch 24/30\n",
      "21/21 [==============================] - 592s 28s/step - loss: 0.6544 - acc: 0.9462 - val_loss: 0.8185 - val_acc: 0.9100\n",
      "Epoch 25/30\n",
      "21/21 [==============================] - 591s 28s/step - loss: 0.6959 - acc: 0.9338 - val_loss: 0.6895 - val_acc: 0.9300\n",
      "Epoch 26/30\n",
      "21/21 [==============================] - 592s 28s/step - loss: 0.6529 - acc: 0.9533 - val_loss: 0.7801 - val_acc: 0.8900\n",
      "Epoch 27/30\n",
      "21/21 [==============================] - 591s 28s/step - loss: 0.6460 - acc: 0.9552 - val_loss: 0.7191 - val_acc: 0.9200\n",
      "Epoch 28/30\n",
      "21/21 [==============================] - 589s 28s/step - loss: 0.6686 - acc: 0.9481 - val_loss: 0.7089 - val_acc: 0.9200\n",
      "Epoch 29/30\n",
      "21/21 [==============================] - 589s 28s/step - loss: 0.6379 - acc: 0.9583 - val_loss: 0.7732 - val_acc: 0.9100\n",
      "Epoch 30/30\n",
      "21/21 [==============================] - 587s 28s/step - loss: 0.6411 - acc: 0.9533 - val_loss: 0.7154 - val_acc: 0.9100\n"
     ]
    }
   ],
   "source": [
    "%%capture captured\n",
    "# define our set of callbacks and fit the model\n",
    "callbacks = [LearningRateScheduler(poly_decay)] #                     1047/50=20.94\n",
    "train_model = model.fit_generator(training_generator, steps_per_epoch=train_images // batch_size,\n",
    "    validation_data=validation_generator, validation_steps=validation_images // batch_size, epochs=epochs_num, callbacks=callbacks)"
   ]
  },
  {
   "cell_type": "markdown",
   "metadata": {},
   "source": [
    "*Once again I have suppressed the output in order to conserve space on the jupyter notebook. I have provided a sample just to give you an idea of what the output looks like, results are shown below*"
   ]
  },
  {
   "cell_type": "code",
   "execution_count": 44,
   "metadata": {},
   "outputs": [],
   "source": [
    "file_out=captured.stdout"
   ]
  },
  {
   "cell_type": "code",
   "execution_count": 45,
   "metadata": {},
   "outputs": [
    {
     "name": "stdout",
     "output_type": "stream",
     "text": [
      "Archive:  processed_data.zip\r\n",
      "  inflating: ./local_test/test_dir/input/data/images/data_description.txt  \r\n",
      "   creating: ./local_test/test_dir/input/data/images/advanced_glaucoma/\r\n",
      "  inflating: ./local_test/test_dir/input/data/images/advanced_glaucoma/1.png  \r\n",
      "  inflating: ./local_test/test_dir/input/data/images/advanced_glaucoma/10.png  \r\n",
      "  inflating: ./local_test/test_dir/input/data/images/advanced_glaucoma/100.png  \r\n",
      "  inflating: ./local_test/test_dir/input/data/images/advanced_glaucoma/101.png  \r\n",
      "  inflating: ./local_test/test_dir/input/data/images/advanced_glaucoma/102.png  \r\n",
      "  inflating: ./local_test/test_dir/input/data/images/advanced_glaucoma/103.png  \r\n",
      "  inflating: ./local_test/test_dir/input/data/images/advanced_glaucoma/104.png  \r\n",
      "  inflating: ./local_test/test_dir/input/data/images/advanced_glaucoma/105.png  \r\n",
      "  inflating: ./local_test/test_dir/input/data/images/advanced_glaucoma/106.png  \r\n",
      "  inflating: ./local_test/test_dir/input/data/images/advanced_glaucoma/107.png  \r\n",
      "  inflating: ./local_test/test_dir/input/data/images/advanced_glaucoma/108.png  \r\n",
      "  inflating: ./local_test/test_dir/input/data/images/advanced_glaucoma/109.png  \r\n",
      "  inflating: ./local_test/test_dir/input/data/images/advanced_glaucoma/11.png  \r\n",
      "  inflating: ./local_test/test_dir/input/data/images/advanced_glaucoma/110.png  \r\n",
      "  inflating: ./local_test/test_dir/input/data/images/advanced_glaucoma/111.png  \r\n",
      "  inflating: ./local_test/test_dir/input/data/images/advanced_glaucoma/112.png  \r\n",
      "  inflating: ./local_test/test_dir/input/data/images/advanced_glaucoma/113.png  \r\n",
      "  inflating: ./local_test/test_dir/input/data/images/advanced_glaucoma/114.png  \r\n",
      "  inflating: ./local_test/test_dir/input/data/images/advanced_glaucoma/115.png  \r\n",
      "  inflating: ./local_test/test_dir/input/data/images/advanced_glaucoma/116.png  \r\n",
      "  inflating: ./local_test/test_dir/input/data/images/advanced_glaucoma/117.png  \r\n",
      "  inflating: ./local_test/test_dir/input/data/images/advanced_glaucoma/118.png  \r\n",
      "  inflating: ./local_test/test_dir/input/data/images/advanced_glaucoma/119.png  \r\n",
      "  inflating: ./local_test/test_dir/input/data/images/advanced_glaucoma/12.png  \r\n",
      "  inflating: ./local_test/test_dir/input/data/images/advanced_glaucoma/120.png  \r\n",
      "  inflating: ./local_test/test_dir/input/data/images/advanced_glaucoma/121.png  \r\n",
      "  inflating: ./local_test/test_dir/input/data/images/advanced_glaucoma/122.png  \r\n",
      "  inflating: ./local_test/test_dir/input/data/images/advanced_glaucoma/123.png  \r\n",
      "  inflating: ./local_test/test_dir/input/data/images/advanced_glaucoma/124.png  \r\n",
      "  inflating: ./local_test/test_dir/input/data/images/advanced_glaucoma/125.png  \r\n",
      "  inflating: ./local_test/test_dir/input/data/images/advanced_glaucoma/126.png  \r\n",
      "  inflating: ./local_test/test_dir/input/data/images/advanced_glaucoma/127.png  \r\n",
      "  inflating: ./local_test/test_dir/input/data/images/advanced_glaucoma/128.png  \r\n",
      "  inflating: ./local_test/test_dir/input/data/images/advanced_glaucoma/129.png  \r\n",
      "  inflating: ./local_test/test_dir/input/data/images/advanced_glaucoma/13.png  \r\n",
      "  inflating: ./local_test/test_dir/input/data/images/advanced_glaucoma/130.png  \r\n",
      "  inflating: ./local_test/test_dir/input/data/images/advanced_glaucoma/131.png  \r\n",
      "  inflating: ./local_test/test_dir/input/data/images/advanced_glaucoma/132.png  \r\n",
      "  inflating: ./local_test/test_dir/input/data/images/advanced_glaucoma/133.png  \r\n",
      "  inflating: ./local_test/test_dir/input/data/images/advanced_glaucoma/134.png  \r\n",
      "  inflating: ./local_test/test_dir/input/data/images/advanced_glaucoma/135.png  \r\n",
      "  inflating: ./local_test/test_dir/input/data/images/advanced_glaucoma/136.png  \r\n",
      "  inflating: ./local_test/test_dir/input/data/images/advanced_glaucoma/137.png  \r\n",
      "  inflating: ./local_test/test_dir/input/data/images/advanced_glaucoma/138.png  \r\n",
      "  inflating: ./local_test/test_dir/input/data/images/advanced_glaucoma/139.png  \r\n",
      "  inflating: ./local_test/test_dir/input/data/images/advanced_glaucoma/14.png  \r\n",
      "  inflating: ./local_test/test_dir/input/data/images/advanced_glaucoma/140.png  \r\n",
      "  inflating: ./local_test/test_dir/input/data/images/advanced_glaucoma/141.png  \r\n",
      "  inflating: ./local_test/test_dir/input/data/images/advanced_glaucoma/142.png  \r\n",
      "  inflating: ./local_test/test_dir/input/data/images/advanced_glaucoma/143.png  \r\n",
      "  inflating: ./local_test/test_dir/input/data/images/advanced_glaucoma/144.png  \r\n",
      "  inflating: ./local_test/test_dir/input/data/images/advanced_glaucoma/145.png  \r\n",
      "  inflating: ./local_test/test_dir/input/data/images/advanced_glaucoma/146.png  \r\n",
      "  inflating: ./local_test/test_dir/input/data/images/advanced_glaucoma/147.png  \r\n",
      "  inflating: ./local_test/test_dir/input/data/images/advanced_glaucoma/148.png  \r\n",
      "  inflating: ./local_test/test_dir/input/data/images/advanced_glaucoma/149.png  \r\n",
      "  inflating: ./local_test/test_dir/input/data/images/advanced_glaucoma/15.png  \r\n",
      "  inflating: ./local_test/test_dir/input/data/images/advanced_glaucoma/150.png  \r\n",
      "  inflating: ./local_test/test_dir/input/data/images/advanced_glaucoma/151.png  \r\n",
      "  inflating: ./local_test/test_dir/input/data/images/advanced_glaucoma/152.png  \r\n",
      "  inflating: ./local_test/test_dir/input/data/images/advanced_glaucoma/153.png  \r\n",
      "  inflating: ./local_test/test_dir/input/data/images/advanced_glaucoma/154.png  \r\n",
      "  inflating: ./local_test/test_dir/input/data/images/advanced_glaucoma/155.png  \r\n",
      "  inflating: ./local_test/test_dir/input/data/images/advanced_glaucoma/156.png  \r\n",
      "  inflating: ./local_test/test_dir/input/data/images/advanced_glaucoma/157.png  \r\n",
      "  inflating: ./local_test/test_dir/input/data/images/advanced_glaucoma/158.png  \r\n",
      "  inflating: ./local_test/test_dir/input/data/images/advanced_glaucoma/159.png  \r\n",
      "  inflating: ./local_test/test_dir/input/data/images/advanced_glaucoma/16.png  \r\n",
      "  inflating: ./local_test/test_dir/input/data/images/advanced_glaucoma/160.png  \r\n",
      "  inflating: ./local_test/test_dir/input/data/images/advanced_glaucoma/161.png  \r\n",
      "  inflating: ./local_test/test_dir/input/data/images/advanced_glaucoma/162.png  \r\n",
      "  inflating: ./local_test/test_dir/input/data/images/advanced_glaucoma/163.png  \r\n",
      "  inflating: ./local_test/test_dir/input/data/images/advanced_glaucoma/164.png  \r\n",
      "  inflating: ./local_test/test_dir/input/data/images/advanced_glaucoma/165.png  \r\n",
      "  inflating: ./local_test/test_dir/input/data/images/advanced_glaucoma/166.png  \r\n",
      "  inflating: ./local_test/test_dir/input/data/images/advanced_glaucoma/167.png  \r\n",
      "  inflating: ./local_test/test_dir/input/data/images/advanced_glaucoma/168.png  \r\n",
      "  inflating: ./local_test/test_dir/input/data/images/advanced_glaucoma/169.png  \r\n",
      "  inflating: ./local_test/test_dir/input/data/images/advanced_glaucoma/17.png  \r\n",
      "  inflating: ./local_test/test_dir/input/data/images/advanced_glaucoma/170.png  \r\n",
      "  inflating: ./local_test/test_dir/input/data/images/advanced_glaucoma/171.png  \r\n",
      "  inflating: ./local_test/test_dir/input/data/images/advanced_glaucoma/172.png  \r\n",
      "  inflating: ./local_test/test_dir/input/data/images/advanced_glaucoma/173.png  \r\n",
      "  inflating: ./local_test/test_dir/input/data/images/advanced_glaucoma/174.png  \r\n",
      "  inflating: ./local_test/test_dir/input/data/images/advanced_glaucoma/175.png  \r\n",
      "  inflating: ./local_test/test_dir/input/data/images/advanced_glaucoma/176.png  \r\n",
      "  inflating: ./local_test/test_dir/input/data/images/advanced_glaucoma/177.png  \r\n",
      "  inflating: ./local_test/test_dir/input/data/images/advanced_glaucoma/178.png  \r\n",
      "  inflating: ./local_test/test_dir/input/data/images/advanced_glaucoma/179.png  \r\n",
      "  inflating: ./local_test/test_dir/input/data/images/advanced_glaucoma/18.png  \r\n",
      "  inflating: ./local_test/test_dir/input/data/images/advanced_glaucoma/180.png  \r\n",
      "  inflating: ./local_test/test_dir/input/data/images/advanced_glaucoma/181.png  \r\n",
      "  inflating: ./local_test/test_dir/input/data/images/advanced_glaucoma/182.png  \r\n",
      "  inflating: ./local_test/test_dir/input/data/images/advanced_glaucoma/183.png  \r\n",
      "  inflating: ./local_test/test_dir/input/data/images/advanced_glaucoma/184.png  \r\n",
      "  inflating: ./local_test/test_dir/input/data/images/advanced_glaucoma/185.png  \r\n",
      "  inflating: ./local_test/test_dir/input/data/images/advanced_glaucoma/186.png  \r\n",
      "  inflating: ./local_test/test_dir/input/data/images/advanced_glaucoma/187.png  \r\n",
      "  inflating: ./local_test/test_dir/input/data/images/advanced_glaucoma/188.png  \r\n",
      "  inflating: ./local_test/test_dir/input/data/images/advanced_glaucoma/189.png  \r\n",
      "  inflating: ./local_test/test_dir/input/data/images/advanced_glaucoma/19.png  \r\n",
      "  inflating: ./local_test/test_dir/input/data/images/advanced_glaucoma/190.png  \r\n",
      "  inflating: ./local_test/test_dir/input/data/images/advanced_glaucoma/191.png  \r\n",
      "  inflating: ./local_test/test_dir/input/data/images/advanced_glaucoma/192.png  \r\n",
      "  inflating: ./local_test/test_dir/input/data/images/advanced_glaucoma/193.png  \r\n",
      "  inflating: ./local_test/test_dir/input/data/images/advanced_glaucoma/194.png  \r\n",
      "  inflating: ./local_test/test_dir/input/data/images/advanced_glaucoma/195.png  \r\n",
      "  inflating: ./local_test/test_dir/input/data/images/advanced_glaucoma/196.png  \r\n",
      "  inflating: ./local_test/test_dir/input/data/images/advanced_glaucoma/197.png  \r\n",
      "  inflating: ./local_test/test_dir/input/data/images/advanced_glaucoma/198.png  \r\n",
      "  inflating: ./local_test/test_dir/input/data/images/advanced_glaucoma/199.png  \r\n",
      "  inflating: ./local_test/test_dir/input/data/images/advanced_glaucoma/2.png  \r\n",
      "  inflating: ./local_test/test_dir/input/data/images/advanced_glaucoma/20.png  \r\n",
      "  inflating: ./local_test/test_dir/input/data/images/advanced_glaucoma/200.png  \r\n",
      "  inflating: ./local_test/test_dir/input/data/images/advanced_glaucoma/201.png  \r\n",
      "  inflating: ./local_test/test_dir/input/data/images/advanced_glaucoma/202.png  \r\n",
      "  inflating: ./local_test/test_dir/input/data/images/advanced_glaucoma/203.png  \r\n",
      "  inflating: ./local_test/test_dir/input/data/images/advanced_glaucoma/204.png  \r\n",
      "  inflating: ./local_test/test_dir/input/data/images/advanced_glaucoma/205.png  \r\n",
      "  inflating: ./local_test/test_dir/input/data/images/advanced_glaucoma/206.png  \r\n",
      "  inflating: ./local_test/test_dir/input/data/images/advanced_glaucoma/207.png  \r\n",
      "  inflating: ./local_test/test_dir/input/data/images/advanced_glaucoma/208.png  \r\n",
      "  inflating: ./local_test/test_dir/input/data/images/advanced_glaucoma/209.png  \r\n",
      "  inflating: ./local_test/test_dir/input/data/images/advanced_glaucoma/21.png  \r\n",
      "  inflating: ./local_test/test_dir/input/data/images/advanced_glaucoma/210.png  \r\n",
      "  inflating: ./local_test/test_dir/input/data/images/advanced_glaucoma/211.png  \r\n",
      "  inflating: ./local_test/test_dir/input/data/images/advanced_glaucoma/212.png  \r\n",
      "  inflating: ./local_test/test_dir/input/data/images/advanced_glaucoma/213.png  \r\n",
      "  inflating: ./local_test/test_dir/input/data/images/advanced_glaucoma/214.png  \r\n",
      "  inflating: ./local_test/test_dir/input/data/images/advanced_glaucoma/215.png  \r\n",
      "  inflating: ./local_test/test_dir/input/data/images/advanced_glaucoma/216.png  \r\n",
      "  inflating: ./local_test/test_dir/input/data/images/advanced_glaucoma/217.png  \r\n",
      "  inflating: ./local_test/test_dir/input/data/images/advanced_glaucoma/218.png  \r\n",
      "  inflating: ./local_test/test_dir/input/data/images/advanced_glaucoma/219.png  \r\n",
      "  inflating: ./local_test/test_dir/input/data/images/advanced_glaucoma/22.png  \r\n",
      "  inflating: ./local_test/test_dir/input/data/images/advanced_glaucoma/220.png  \r\n",
      "  inflating: ./local_test/test_dir/input/data/images/advanced_glaucoma/221.png  \r\n",
      "  inflating: ./local_test/test_dir/input/data/images/advanced_glaucoma/222.png  \r\n",
      "  inflating: ./local_test/test_dir/input/data/images/advanced_glaucoma/223.png  \r\n",
      "  inflating: ./local_test/test_dir/input/data/images/advanced_glaucoma/224.png  \r\n",
      "  inflating: ./local_test/test_dir/input/data/images/advanced_glaucoma/225.png  \r\n",
      "  inflating: ./local_test/test_dir/input/data/images/advanced_glaucoma/226.png  \r\n",
      "  inflating: ./local_test/test_dir/input/data/images/advanced_glaucoma/227.png  \r\n",
      "  inflating: ./local_test/test_dir/input/data/images/advanced_glaucoma/228.png  \r\n",
      "  inflating: ./local_test/test_dir/input/data/images/advanced_glaucoma/229.png  \r\n",
      "  inflating: ./local_test/test_dir/input/data/images/advanced_glaucoma/23.png  \r\n",
      "  inflating: ./local_test/test_dir/input/data/images/advanced_glaucoma/230.png  \r\n",
      "  inflating: ./local_test/test_dir/input/data/images/advanced_glaucoma/231.png  \r\n",
      "  inflating: ./local_test/test_dir/input/data/images/advanced_glaucoma/232.png  \r\n",
      "  inflating: ./local_test/test_dir/input/data/images/advanced_glaucoma/233.png  \r\n",
      "  inflating: ./local_test/test_dir/input/data/images/advanced_glaucoma/234.png  \r\n",
      "  inflating: ./local_test/test_dir/input/data/images/advanced_glaucoma/235.png  \r\n",
      "  inflating: ./local_test/test_dir/input/data/images/advanced_glaucoma/236.png  \r\n",
      "  inflating: ./local_test/test_dir/input/data/images/advanced_glaucoma/237.png  \r\n",
      "  inflating: ./local_test/test_dir/input/data/images/advanced_glaucoma/238.png  \r\n",
      "  inflating: ./local_test/test_dir/input/data/images/advanced_glaucoma/239.png  \r\n",
      "  inflating: ./local_test/test_dir/input/data/images/advanced_glaucoma/24.png  \r\n",
      "  inflating: ./local_test/test_dir/input/data/images/advanced_glaucoma/240.png  \r\n",
      "  inflating: ./local_test/test_dir/input/data/images/advanced_glaucoma/241.png  \r\n",
      "  inflating: ./local_test/test_dir/input/data/images/advanced_glaucoma/242.png  \r\n",
      "  inflating: ./local_test/test_dir/input/data/images/advanced_glaucoma/243.png  \r\n",
      "  inflating: ./local_test/test_dir/input/data/images/advanced_glaucoma/244.png  \r\n",
      "  inflating: ./local_test/test_dir/input/data/images/advanced_glaucoma/245.png  \r\n",
      "  inflating: ./local_test/test_dir/input/data/images/advanced_glaucoma/246.png  \r\n",
      "  inflating: ./local_test/test_dir/input/data/images/advanced_glaucoma/247.png  \r\n",
      "  inflating: ./local_test/test_dir/input/data/images/advanced_glaucoma/248.png  \r\n",
      "  inflating: ./local_test/test_dir/input/data/images/advanced_glaucoma/249.png  \r\n",
      "  inflating: ./local_test/test_dir/input/data/images/advanced_glaucoma/25.png  \r\n",
      "  inflating: ./local_test/test_dir/input/data/images/advanced_glaucoma/250.png  \r\n",
      "  inflating: ./local_test/test_dir/input/data/images/advanced_glaucoma/251.png  \r\n",
      "  inflating: ./local_test/test_dir/input/data/images/advanced_glaucoma/252.png  \r\n",
      "  inflating: ./local_test/test_dir/input/data/images/advanced_glaucoma/253.png  \r\n",
      "  inflating: ./local_test/test_dir/input/data/images/advanced_glaucoma/254.png  \r\n",
      "  inflating: ./local_test/test_dir/input/data/images/advanced_glaucoma/255.png  \r\n",
      "  inflating: ./local_test/test_dir/input/data/images/advanced_glaucoma/256.png  \r\n",
      "  inflating: ./local_test/test_dir/input/data/images/advanced_glaucoma/257.png  \r\n",
      "  inflating: ./local_test/test_dir/input/data/images/advanced_glaucoma/258.png  \r\n",
      "  inflating: ./local_test/test_dir/input/data/images/advanced_glaucoma/259.png  \r\n",
      "  inflating: ./local_test/test_dir/input/data/images/advanced_glaucoma/26.png  \r\n",
      "  inflating: ./local_test/test_dir/input/data/images/advanced_glaucoma/260.png  \r\n",
      "  inflating: ./local_test/test_dir/input/data/images/advanced_glaucoma/261.png  \r\n",
      "  inflating: ./local_test/test_dir/input/data/images/advanced_glaucoma/262.png  \r\n",
      "  inflating: ./local_test/test_dir/input/data/images/advanced_glaucoma/263.png  \r\n",
      "  inflating: ./local_test/test_dir/input/data/images/advanced_glaucoma/264.png  \r\n",
      "  inflating: ./local_test/test_dir/input/data/images/advanced_glaucoma/265.png  \r\n",
      "  inflating: ./local_test/test_dir/input/data/images/advanced_glaucoma/266.png  \r\n",
      "  inflating: ./local_test/test_dir/input/data/images/advanced_glaucoma/267.png  \r\n",
      "  inflating: ./local_test/test_dir/input/data/images/advanced_glaucoma/268.png  \r\n",
      "  inflating: ./local_test/test_dir/input/data/images/advanced_glaucoma/269.png  \r\n",
      "  inflating: ./local_test/test_dir/input/data/images/advanced_glaucoma/27.png  \r\n",
      "  inflating: ./local_test/test_dir/input/data/images/advanced_glaucoma/270.png  \r\n",
      "  inflating: ./local_test/test_dir/input/data/images/advanced_glaucoma/271.png  \r\n",
      "  inflating: ./local_test/test_dir/input/data/images/advanced_glaucoma/272.png  \r\n",
      "  inflating: ./local_test/test_dir/input/data/images/advanced_glaucoma/273.png  \r\n",
      "  inflating: ./local_test/test_dir/input/data/images/advanced_glaucoma/274.png  \r\n",
      "  inflating: ./local_test/test_dir/input/data/images/advanced_glaucoma/275.png  \r\n",
      "  inflating: ./local_test/test_dir/input/data/images/advanced_glaucoma/276.png  \r\n",
      "  inflating: ./local_test/test_dir/input/data/images/advanced_glaucoma/277.png  \r\n",
      "  inflating: ./local_test/test_dir/input/data/images/advanced_glaucoma/278.png  \r\n",
      "  inflating: ./local_test/test_dir/input/data/images/advanced_glaucoma/279.png  \r\n",
      "  inflating: ./local_test/test_dir/input/data/images/advanced_glaucoma/28.png  \r\n",
      "  inflating: ./local_test/test_dir/input/data/images/advanced_glaucoma/280.png  \r\n",
      "  inflating: ./local_test/test_dir/input/data/images/advanced_glaucoma/281.png  \r\n",
      "  inflating: ./local_test/test_dir/input/data/images/advanced_glaucoma/282.png  \r\n",
      "  inflating: ./local_test/test_dir/input/data/images/advanced_glaucoma/283.png  \r\n",
      "  inflating: ./local_test/test_dir/input/data/images/advanced_glaucoma/284.png  \r\n",
      "  inflating: ./local_test/test_dir/input/data/images/advanced_glaucoma/285.png  \r\n",
      "  inflating: ./local_test/test_dir/input/data/images/advanced_glaucoma/286.png  \r\n",
      "  inflating: ./local_test/test_dir/input/data/images/advanced_glaucoma/287.png  \r\n",
      "  inflating: ./local_test/test_dir/input/data/images/advanced_glaucoma/288.png  \r\n",
      "  inflating: ./local_test/test_dir/input/data/images/advanced_glaucoma/289.png  \r\n",
      "  inflating: ./local_test/test_dir/input/data/images/advanced_glaucoma/29.png  \r\n",
      "  inflating: ./local_test/test_dir/input/data/images/advanced_glaucoma/290.png  \r\n",
      "  inflating: ./local_test/test_dir/input/data/images/advanced_glaucoma/291.png  \r\n",
      "  inflating: ./local_test/test_dir/input/data/images/advanced_glaucoma/292.png  \r\n",
      "  inflating: ./local_test/test_dir/input/data/images/advanced_glaucoma/293.png  \r\n",
      "  inflating: ./local_test/test_dir/input/data/images/advanced_glaucoma/294.png  \r\n",
      "  inflating: ./local_test/test_dir/input/data/images/advanced_glaucoma/295.png  \r\n",
      "  inflating: ./local_test/test_dir/input/data/images/advanced_glaucoma/296.png  \r\n",
      "  inflating: ./local_test/test_dir/input/data/images/advanced_glaucoma/297.png  \r\n",
      "  inflating: ./local_test/test_dir/input/data/images/advanced_glaucoma/298.png  \r\n",
      "  inflating: ./local_test/test_dir/input/data/images/advanced_glaucoma/299.png  \r\n",
      "  inflating: ./local_test/test_dir/input/data/images/advanced_glaucoma/3.png  \r\n",
      "  inflating: ./local_test/test_dir/input/data/images/advanced_glaucoma/30.png  \r\n",
      "  inflating: ./local_test/test_dir/input/data/images/advanced_glaucoma/300.png  \r\n",
      "  inflating: ./local_test/test_dir/input/data/images/advanced_glaucoma/301.png  \r\n",
      "  inflating: ./local_test/test_dir/input/data/images/advanced_glaucoma/302.png  \r\n",
      "  inflating: ./local_test/test_dir/input/data/images/advanced_glaucoma/303.png  \r\n",
      "  inflating: ./local_test/test_dir/input/data/images/advanced_glaucoma/304.png  \r\n",
      "  inflating: ./local_test/test_dir/input/data/images/advanced_glaucoma/305.png  \r\n",
      "  inflating: ./local_test/test_dir/input/data/images/advanced_glaucoma/306.png  \r\n",
      "  inflating: ./local_test/test_dir/input/data/images/advanced_glaucoma/307.png  \r\n",
      "  inflating: ./local_test/test_dir/input/data/images/advanced_glaucoma/308.png  \r\n",
      "  inflating: ./local_test/test_dir/input/data/images/advanced_glaucoma/309.png  \r\n",
      "  inflating: ./local_test/test_dir/input/data/images/advanced_glaucoma/31.png  \r\n",
      "  inflating: ./local_test/test_dir/input/data/images/advanced_glaucoma/310.png  \r\n",
      "  inflating: ./local_test/test_dir/input/data/images/advanced_glaucoma/311.png  \r\n",
      "  inflating: ./local_test/test_dir/input/data/images/advanced_glaucoma/312.png  \r\n",
      "  inflating: ./local_test/test_dir/input/data/images/advanced_glaucoma/313.png  \r\n",
      "  inflating: ./local_test/test_dir/input/data/images/advanced_glaucoma/314.png  \r\n",
      "  inflating: ./local_test/test_dir/input/data/images/advanced_glaucoma/315.png  \r\n",
      "  inflating: ./local_test/test_dir/input/data/images/advanced_glaucoma/316.png  \r\n",
      "  in\n"
     ]
    }
   ],
   "source": [
    "print(file_out[:20000])"
   ]
  },
  {
   "cell_type": "code",
   "execution_count": 46,
   "metadata": {},
   "outputs": [
    {
     "name": "stdout",
     "output_type": "stream",
     "text": [
      "evaluating network...\n"
     ]
    }
   ],
   "source": [
    "# reset the testing generator and then use our trained model to make predictions on the data\n",
    "print(\"evaluating network...\")\n",
    "testing_generator.reset()\n",
    "predict_X_id = model.predict_generator(testing_generator,steps=(test_images // batch_size) + 1)"
   ]
  },
  {
   "cell_type": "markdown",
   "metadata": {},
   "source": [
    "Results look pretty good, I'm not sure I can get better than this. There is a possibility I could have some overfitting to my data; a common and notorious problem with neural networks."
   ]
  },
  {
   "cell_type": "code",
   "execution_count": 47,
   "metadata": {},
   "outputs": [
    {
     "name": "stdout",
     "output_type": "stream",
     "text": [
      "             precision    recall  f1-score   support\n",
      "\n",
      "      cases       0.82      0.89      0.85        89\n",
      "   controls       0.94      0.90      0.91       162\n",
      "\n",
      "avg / total       0.90      0.89      0.89       251\n",
      "\n"
     ]
    }
   ],
   "source": [
    "# for each image in the testing set we need to find the index of the label with corresponding largest predicted probability\n",
    "predict_X_id = np.argmax(predict_X_id, axis=1)\n",
    "\n",
    "# show a nicely formatted classification report\n",
    "print(classification_report(testing_generator.classes, predict_X_id,target_names=testing_generator.class_indices.keys()))"
   ]
  },
  {
   "cell_type": "code",
   "execution_count": 48,
   "metadata": {},
   "outputs": [
    {
     "data": {
      "text/html": [
       "        <script type=\"text/javascript\">\n",
       "        window.PlotlyConfig = {MathJaxConfig: 'local'};\n",
       "        if (window.MathJax) {MathJax.Hub.Config({SVG: {font: \"STIX-Web\"}});}\n",
       "        if (typeof require !== 'undefined') {\n",
       "        require.undef(\"plotly\");\n",
       "        requirejs.config({\n",
       "            paths: {\n",
       "                'plotly': ['https://cdn.plot.ly/plotly-latest.min']\n",
       "            }\n",
       "        });\n",
       "        require(['plotly'], function(Plotly) {\n",
       "            window._Plotly = Plotly;\n",
       "        });\n",
       "        }\n",
       "        </script>\n",
       "        "
      ]
     },
     "metadata": {},
     "output_type": "display_data"
    }
   ],
   "source": [
    "import plotly.offline as py\n",
    "import plotly.graph_objs as go\n",
    "py.init_notebook_mode(connected=True)\n",
    "%matplotlib inline"
   ]
  },
  {
   "cell_type": "code",
   "execution_count": 49,
   "metadata": {},
   "outputs": [
    {
     "data": {
      "application/vnd.plotly.v1+json": {
       "config": {
        "linkText": "Export to plot.ly",
        "plotlyServerURL": "https://plot.ly",
        "responsive": true,
        "showLink": false
       },
       "data": [
        {
         "line": {
          "color": "#f4a582"
         },
         "name": "Validation Loss",
         "opacity": 0.9,
         "type": "scatter",
         "uid": "55ecdef3-3199-40dc-ad1a-d83ddcff4b48",
         "x": [
          0,
          1,
          2,
          3,
          4,
          5,
          6,
          7,
          8,
          9,
          10,
          11,
          12,
          13,
          14,
          15,
          16,
          17,
          18,
          19,
          20,
          21,
          22,
          23,
          24,
          25,
          26,
          27,
          28,
          29
         ],
         "y": [
          0.885025292634964,
          0.8574789464473724,
          0.8058718740940094,
          0.7711722254753113,
          0.7478856146335602,
          0.7941716313362122,
          0.767511248588562,
          0.7628380656242371,
          0.7558785080909729,
          0.8399769365787506,
          0.8760043084621429,
          0.720495194196701,
          0.7170933485031128,
          0.7319586873054504,
          0.8091110289096832,
          0.7630833983421326,
          0.7614388763904572,
          0.7183918058872223,
          0.7071803212165833,
          0.7735498249530792,
          0.7529015243053436,
          0.7069660127162933,
          0.7862859964370728,
          0.8185028731822968,
          0.6895114183425903,
          0.7801010310649872,
          0.7190603017807007,
          0.7089035511016846,
          0.7731708586215973,
          0.7154318988323212
         ]
        },
        {
         "line": {
          "color": "#ca0020"
         },
         "name": "Validation Accuracy",
         "opacity": 0.9,
         "type": "scatter",
         "uid": "927b8271-d542-4835-aa10-aaea1a26f401",
         "x": [
          0,
          1,
          2,
          3,
          4,
          5,
          6,
          7,
          8,
          9,
          10,
          11,
          12,
          13,
          14,
          15,
          16,
          17,
          18,
          19,
          20,
          21,
          22,
          23,
          24,
          25,
          26,
          27,
          28,
          29
         ],
         "y": [
          0.8799999952316284,
          0.8199999928474426,
          0.8600000143051147,
          0.9099999964237213,
          0.9099999964237213,
          0.8599999845027924,
          0.8899999856948853,
          0.8899999856948853,
          0.9099999964237213,
          0.8300000131130219,
          0.8400000035762787,
          0.929999977350235,
          0.9200000166893005,
          0.9099999964237213,
          0.8900000154972076,
          0.8799999952316284,
          0.9099999964237213,
          0.8999999761581421,
          0.9199999868869781,
          0.9000000059604645,
          0.9099999964237213,
          0.9399999976158142,
          0.9000000059604645,
          0.9099999964237213,
          0.9300000071525574,
          0.8900000154972076,
          0.9200000166893005,
          0.9200000166893005,
          0.9099999964237213,
          0.9099999964237213
         ]
        },
        {
         "line": {
          "color": "#92c5de"
         },
         "name": "Predicted Loss",
         "opacity": 0.9,
         "type": "scatter",
         "uid": "237a8368-7fe0-47bf-9f72-06ffa39fc24a",
         "x": [
          0,
          1,
          2,
          3,
          4,
          5,
          6,
          7,
          8,
          9,
          10,
          11,
          12,
          13,
          14,
          15,
          16,
          17,
          18,
          19,
          20,
          21,
          22,
          23,
          24,
          25,
          26,
          27,
          28,
          29
         ],
         "y": [
          0.9334658072108314,
          0.8691983081746077,
          0.8252331192613471,
          0.7967491849506714,
          0.7750980839912889,
          0.8201775500240119,
          0.7857604458678039,
          0.7655870360188988,
          0.7601884462285018,
          0.7601372285985993,
          0.7440706361434537,
          0.7363838648749009,
          0.7070454395535197,
          0.7043529337626925,
          0.7263122711106326,
          0.6993329312582477,
          0.6977217342163945,
          0.7055320825652097,
          0.6914072919339088,
          0.7039990126204043,
          0.6802408132124748,
          0.6772278790883463,
          0.6811580885024298,
          0.6508772143724523,
          0.6839038939725494,
          0.6562685226876315,
          0.6470582145693742,
          0.6606908911896129,
          0.6327324915026394,
          0.6425347115774616
         ]
        },
        {
         "line": {
          "color": "#0571b0"
         },
         "name": "Predicted Accuracy",
         "opacity": 0.9,
         "type": "scatter",
         "uid": "6d62a856-12a2-4b8b-ab6e-d0b1b3aabae2",
         "x": [
          0,
          1,
          2,
          3,
          4,
          5,
          6,
          7,
          8,
          9,
          10,
          11,
          12,
          13,
          14,
          15,
          16,
          17,
          18,
          19,
          20,
          21,
          22,
          23,
          24,
          25,
          26,
          27,
          28,
          29
         ],
         "y": [
          0.8057142808323815,
          0.8538993006279767,
          0.8667324807307327,
          0.889437305609542,
          0.9002961451068212,
          0.8736426310736947,
          0.8904244735586914,
          0.9072063183972772,
          0.903257649836865,
          0.9052319833815745,
          0.9121421516706536,
          0.9141164805081848,
          0.9259624897198051,
          0.9279368126733635,
          0.9131293155010219,
          0.9299111444528811,
          0.9348469894942032,
          0.9318854841757621,
          0.9289239823877047,
          0.9328726559494938,
          0.9348469906709977,
          0.9437314983887592,
          0.9438095234689259,
          0.9496544907853257,
          0.9368213165665426,
          0.9516288272720217,
          0.9536031561095528,
          0.9516288313908027,
          0.9595261535074963,
          0.9516288243300353
         ]
        }
       ],
       "layout": {
        "title": {
         "text": "Training Loss and Accuracy <br> Classifying Retinal Images."
        },
        "xaxis": {
         "tickangle": 0,
         "ticks": "",
         "title": {
          "text": "Number of Epochs"
         }
        },
        "yaxis": {
         "showgrid": true,
         "showticklabels": true,
         "ticks": "",
         "title": {
          "font": {
           "family": "Arial, sans-serif",
           "size": 18
          },
          "text": "Loss/Accuracy</b>"
         }
        }
       }
      },
      "text/html": [
       "<div>\n",
       "        \n",
       "        \n",
       "            <div id=\"66b43aff-ddbf-4299-85f0-1e03367bb8dd\" class=\"plotly-graph-div\" style=\"height:525px; width:100%;\"></div>\n",
       "            <script type=\"text/javascript\">\n",
       "                require([\"plotly\"], function(Plotly) {\n",
       "                    window.PLOTLYENV=window.PLOTLYENV || {};\n",
       "                    window.PLOTLYENV.BASE_URL='https://plot.ly';\n",
       "                    \n",
       "                if (document.getElementById(\"66b43aff-ddbf-4299-85f0-1e03367bb8dd\")) {\n",
       "                    Plotly.newPlot(\n",
       "                        '66b43aff-ddbf-4299-85f0-1e03367bb8dd',\n",
       "                        [{\"line\": {\"color\": \"#f4a582\"}, \"name\": \"Validation Loss\", \"opacity\": 0.9, \"type\": \"scatter\", \"uid\": \"ca5599ce-9b02-4a3b-bcce-414dcadbfdb6\", \"x\": [0, 1, 2, 3, 4, 5, 6, 7, 8, 9, 10, 11, 12, 13, 14, 15, 16, 17, 18, 19, 20, 21, 22, 23, 24, 25, 26, 27, 28, 29], \"y\": [0.885025292634964, 0.8574789464473724, 0.8058718740940094, 0.7711722254753113, 0.7478856146335602, 0.7941716313362122, 0.767511248588562, 0.7628380656242371, 0.7558785080909729, 0.8399769365787506, 0.8760043084621429, 0.720495194196701, 0.7170933485031128, 0.7319586873054504, 0.8091110289096832, 0.7630833983421326, 0.7614388763904572, 0.7183918058872223, 0.7071803212165833, 0.7735498249530792, 0.7529015243053436, 0.7069660127162933, 0.7862859964370728, 0.8185028731822968, 0.6895114183425903, 0.7801010310649872, 0.7190603017807007, 0.7089035511016846, 0.7731708586215973, 0.7154318988323212]}, {\"line\": {\"color\": \"#ca0020\"}, \"name\": \"Validation Accuracy\", \"opacity\": 0.9, \"type\": \"scatter\", \"uid\": \"66203028-0551-4938-ae93-2ee5a7efd718\", \"x\": [0, 1, 2, 3, 4, 5, 6, 7, 8, 9, 10, 11, 12, 13, 14, 15, 16, 17, 18, 19, 20, 21, 22, 23, 24, 25, 26, 27, 28, 29], \"y\": [0.8799999952316284, 0.8199999928474426, 0.8600000143051147, 0.9099999964237213, 0.9099999964237213, 0.8599999845027924, 0.8899999856948853, 0.8899999856948853, 0.9099999964237213, 0.8300000131130219, 0.8400000035762787, 0.929999977350235, 0.9200000166893005, 0.9099999964237213, 0.8900000154972076, 0.8799999952316284, 0.9099999964237213, 0.8999999761581421, 0.9199999868869781, 0.9000000059604645, 0.9099999964237213, 0.9399999976158142, 0.9000000059604645, 0.9099999964237213, 0.9300000071525574, 0.8900000154972076, 0.9200000166893005, 0.9200000166893005, 0.9099999964237213, 0.9099999964237213]}, {\"line\": {\"color\": \"#92c5de\"}, \"name\": \"Predicted Loss\", \"opacity\": 0.9, \"type\": \"scatter\", \"uid\": \"ffedb084-312f-462c-913d-c3d3888707c1\", \"x\": [0, 1, 2, 3, 4, 5, 6, 7, 8, 9, 10, 11, 12, 13, 14, 15, 16, 17, 18, 19, 20, 21, 22, 23, 24, 25, 26, 27, 28, 29], \"y\": [0.9334658072108314, 0.8691983081746077, 0.8252331192613471, 0.7967491849506714, 0.7750980839912889, 0.8201775500240119, 0.7857604458678039, 0.7655870360188988, 0.7601884462285018, 0.7601372285985993, 0.7440706361434537, 0.7363838648749009, 0.7070454395535197, 0.7043529337626925, 0.7263122711106326, 0.6993329312582477, 0.6977217342163945, 0.7055320825652097, 0.6914072919339088, 0.7039990126204043, 0.6802408132124748, 0.6772278790883463, 0.6811580885024298, 0.6508772143724523, 0.6839038939725494, 0.6562685226876315, 0.6470582145693742, 0.6606908911896129, 0.6327324915026394, 0.6425347115774616]}, {\"line\": {\"color\": \"#0571b0\"}, \"name\": \"Predicted Accuracy\", \"opacity\": 0.9, \"type\": \"scatter\", \"uid\": \"b74c51ea-0613-412d-9467-c96a3445e51f\", \"x\": [0, 1, 2, 3, 4, 5, 6, 7, 8, 9, 10, 11, 12, 13, 14, 15, 16, 17, 18, 19, 20, 21, 22, 23, 24, 25, 26, 27, 28, 29], \"y\": [0.8057142808323815, 0.8538993006279767, 0.8667324807307327, 0.889437305609542, 0.9002961451068212, 0.8736426310736947, 0.8904244735586914, 0.9072063183972772, 0.903257649836865, 0.9052319833815745, 0.9121421516706536, 0.9141164805081848, 0.9259624897198051, 0.9279368126733635, 0.9131293155010219, 0.9299111444528811, 0.9348469894942032, 0.9318854841757621, 0.9289239823877047, 0.9328726559494938, 0.9348469906709977, 0.9437314983887592, 0.9438095234689259, 0.9496544907853257, 0.9368213165665426, 0.9516288272720217, 0.9536031561095528, 0.9516288313908027, 0.9595261535074963, 0.9516288243300353]}],\n",
       "                        {\"title\": {\"text\": \"Training Loss and Accuracy <br> Classifying Retinal Images.\"}, \"xaxis\": {\"tickangle\": 0, \"ticks\": \"\", \"title\": {\"text\": \"Number of Epochs\"}}, \"yaxis\": {\"showgrid\": true, \"showticklabels\": true, \"ticks\": \"\", \"title\": {\"font\": {\"family\": \"Arial, sans-serif\", \"size\": 18}, \"text\": \"Loss/Accuracy</b>\"}}},\n",
       "                        {\"showLink\": false, \"linkText\": \"Export to plot.ly\", \"plotlyServerURL\": \"https://plot.ly\", \"responsive\": true}\n",
       "                    ).then(function(){\n",
       "                            \n",
       "var gd = document.getElementById('66b43aff-ddbf-4299-85f0-1e03367bb8dd');\n",
       "var x = new MutationObserver(function (mutations, observer) {{\n",
       "        var display = window.getComputedStyle(gd).display;\n",
       "        if (!display || display === 'none') {{\n",
       "            console.log([gd, 'removed!']);\n",
       "            Plotly.purge(gd);\n",
       "            observer.disconnect();\n",
       "        }}\n",
       "}});\n",
       "\n",
       "// Listen for the removal of the full notebook cells\n",
       "var notebookContainer = gd.closest('#notebook-container');\n",
       "if (notebookContainer) {{\n",
       "    x.observe(notebookContainer, {childList: true});\n",
       "}}\n",
       "\n",
       "// Listen for the clearing of the current output cell\n",
       "var outputEl = gd.closest('.output');\n",
       "if (outputEl) {{\n",
       "    x.observe(outputEl, {childList: true});\n",
       "}}\n",
       "\n",
       "                        })\n",
       "                };\n",
       "                });\n",
       "            </script>\n",
       "        </div>"
      ]
     },
     "metadata": {},
     "output_type": "display_data"
    }
   ],
   "source": [
    "N = epochs_num #Number of epochs in training\n",
    "\n",
    "val_loss = go.Scatter(x=np.arange(0, N),y=train_model.history['val_loss'],\n",
    "                name = \"Validation Loss\",line = dict(color = '#f4a582'),opacity = 0.9)\n",
    "\n",
    "val_acc = go.Scatter(x=np.arange(0, N),y=train_model.history['val_acc'],\n",
    "                name = \"Validation Accuracy\",line = dict(color = '#ca0020'),opacity = 0.9)\n",
    "\n",
    "loss = go.Scatter(x=np.arange(0, N),y=train_model.history['loss'],\n",
    "                name = \"Predicted Loss\",line = dict(color = '#92c5de'),opacity = 0.9)\n",
    "\n",
    "acc = go.Scatter(x=np.arange(0, N),y=train_model.history['acc'],name = \"Predicted Accuracy\",\n",
    "                line = dict(color = '#0571b0'),opacity = 0.9)\n",
    "\n",
    "data = [val_loss,val_acc,loss,acc]\n",
    "\n",
    "\n",
    "layout = go.Layout(title='Training Loss and Accuracy <br> Classifying Retinal Images.',\n",
    "                yaxis=dict(title='Loss/Accuracy</b>',ticks='',showticklabels=True,showgrid=True,\n",
    "                titlefont=dict(family='Arial, sans-serif',size=18))\n",
    "                ,xaxis=dict(title='Number of Epochs',ticks='',tickangle=0))\n",
    "\n",
    "fig = dict(data=data, layout=layout)\n",
    "py.iplot(fig, filename = \"Training Loss and Accuracy on Dataset\")"
   ]
  },
  {
   "cell_type": "markdown",
   "metadata": {},
   "source": [
    "Save Model\n",
    "-----"
   ]
  },
  {
   "cell_type": "code",
   "execution_count": 50,
   "metadata": {},
   "outputs": [],
   "source": [
    "#https://keras.io/getting-started/faq/#how-can-i-save-a-keras-model\n",
    "from keras.models import load_model\n",
    "#Saves all elements including weights\n",
    "model.save('glaucoma_model_5_2_2019_120.h5')  # creates a HDF5 file 'glaucoma_model.h5'\n",
    "\n",
    "# save as JSON only saves architecture\n",
    "json_string = model.to_json()"
   ]
  },
  {
   "cell_type": "markdown",
   "metadata": {},
   "source": [
    "______________________________"
   ]
  },
  {
   "cell_type": "markdown",
   "metadata": {},
   "source": [
    "Sight Testing Trained Model\n",
    "==========="
   ]
  },
  {
   "cell_type": "code",
   "execution_count": 51,
   "metadata": {},
   "outputs": [],
   "source": [
    "from keras.preprocessing.image import ImageDataGenerator\n",
    "from keras.models import Sequential\n",
    "from keras.layers import Conv2D, MaxPooling2D\n",
    "from keras.layers import Activation, Dropout, Flatten, Dense\n",
    "from keras import backend as K\n",
    "from keras.preprocessing.image import load_img\n",
    "from keras.models import load_model\n",
    "from keras.preprocessing import image"
   ]
  },
  {
   "cell_type": "code",
   "execution_count": 53,
   "metadata": {},
   "outputs": [
    {
     "name": "stdout",
     "output_type": "stream",
     "text": [
      "Found 100 images belonging to 2 classes.\n",
      "1/1 [==============================] - 10s 10s/step\n"
     ]
    }
   ],
   "source": [
    "import pandas as pd\n",
    "\n",
    "image_augmentation = ImageDataGenerator(rescale=1 / 255.0)\n",
    "image_generator = image_augmentation.flow_from_directory(validation_directory,\n",
    "                                                                   class_mode=\"categorical\",\n",
    "                                                                   target_size=(img_height, img_width),\n",
    "                                                                   color_mode=\"rgb\",\n",
    "                                                                   shuffle=False,\n",
    "                                                                   batch_size=batch_size)\n",
    "pred_val=model.predict_generator(image_generator,steps=1,verbose=1)\n",
    "\n",
    "labels = {y:x for x,y in image_generator.class_indices.items()}\n",
    "\n",
    "cases,controls=[],[]\n",
    "for i,j in pred_val:\n",
    "    cases.append(i)\n",
    "    controls.append(j)\n",
    "    \n",
    "column_names=['index','filepath','filename','label','prediction']\n",
    "df=pd.DataFrame([image_generator.index_array,image_generator.filepaths,image_generator.filenames,image_generator.labels,pred_val.flatten()])\n",
    "df=df.transpose()\n",
    "df.columns=column_names\n",
    "df['label']=df['label'].map(labels)"
   ]
  },
  {
   "cell_type": "code",
   "execution_count": null,
   "metadata": {},
   "outputs": [],
   "source": [
    "*Take 10 random samples of the data*"
   ]
  },
  {
   "cell_type": "code",
   "execution_count": 54,
   "metadata": {},
   "outputs": [
    {
     "data": {
      "text/html": [
       "<div>\n",
       "<style scoped>\n",
       "    .dataframe tbody tr th:only-of-type {\n",
       "        vertical-align: middle;\n",
       "    }\n",
       "\n",
       "    .dataframe tbody tr th {\n",
       "        vertical-align: top;\n",
       "    }\n",
       "\n",
       "    .dataframe thead th {\n",
       "        text-align: right;\n",
       "    }\n",
       "</style>\n",
       "<table border=\"1\" class=\"dataframe\">\n",
       "  <thead>\n",
       "    <tr style=\"text-align: right;\">\n",
       "      <th></th>\n",
       "      <th>index</th>\n",
       "      <th>filepath</th>\n",
       "      <th>filename</th>\n",
       "      <th>label</th>\n",
       "      <th>prediction</th>\n",
       "    </tr>\n",
       "  </thead>\n",
       "  <tbody>\n",
       "    <tr>\n",
       "      <th>7</th>\n",
       "      <td>7</td>\n",
       "      <td>./local_test/test_dir/input/data/training/vali...</td>\n",
       "      <td>cases/178.png</td>\n",
       "      <td>cases</td>\n",
       "      <td>0.508909</td>\n",
       "    </tr>\n",
       "    <tr>\n",
       "      <th>47</th>\n",
       "      <td>47</td>\n",
       "      <td>./local_test/test_dir/input/data/training/vali...</td>\n",
       "      <td>controls/21.png</td>\n",
       "      <td>controls</td>\n",
       "      <td>0.126018</td>\n",
       "    </tr>\n",
       "    <tr>\n",
       "      <th>0</th>\n",
       "      <td>0</td>\n",
       "      <td>./local_test/test_dir/input/data/training/vali...</td>\n",
       "      <td>cases/10.png</td>\n",
       "      <td>cases</td>\n",
       "      <td>0.940815</td>\n",
       "    </tr>\n",
       "    <tr>\n",
       "      <th>46</th>\n",
       "      <td>46</td>\n",
       "      <td>./local_test/test_dir/input/data/training/vali...</td>\n",
       "      <td>controls/202.png</td>\n",
       "      <td>controls</td>\n",
       "      <td>0.873982</td>\n",
       "    </tr>\n",
       "    <tr>\n",
       "      <th>22</th>\n",
       "      <td>22</td>\n",
       "      <td>./local_test/test_dir/input/data/training/vali...</td>\n",
       "      <td>cases/316.png</td>\n",
       "      <td>cases</td>\n",
       "      <td>0.971999</td>\n",
       "    </tr>\n",
       "    <tr>\n",
       "      <th>33</th>\n",
       "      <td>33</td>\n",
       "      <td>./local_test/test_dir/input/data/training/vali...</td>\n",
       "      <td>cases/63.png</td>\n",
       "      <td>cases</td>\n",
       "      <td>0.136279</td>\n",
       "    </tr>\n",
       "    <tr>\n",
       "      <th>74</th>\n",
       "      <td>74</td>\n",
       "      <td>./local_test/test_dir/input/data/training/vali...</td>\n",
       "      <td>controls/450.png</td>\n",
       "      <td>controls</td>\n",
       "      <td>0.927459</td>\n",
       "    </tr>\n",
       "    <tr>\n",
       "      <th>13</th>\n",
       "      <td>13</td>\n",
       "      <td>./local_test/test_dir/input/data/training/vali...</td>\n",
       "      <td>cases/219.png</td>\n",
       "      <td>cases</td>\n",
       "      <td>0.141699</td>\n",
       "    </tr>\n",
       "    <tr>\n",
       "      <th>51</th>\n",
       "      <td>51</td>\n",
       "      <td>./local_test/test_dir/input/data/training/vali...</td>\n",
       "      <td>controls/255.png</td>\n",
       "      <td>controls</td>\n",
       "      <td>0.012747</td>\n",
       "    </tr>\n",
       "    <tr>\n",
       "      <th>91</th>\n",
       "      <td>91</td>\n",
       "      <td>./local_test/test_dir/input/data/training/vali...</td>\n",
       "      <td>controls/689.png</td>\n",
       "      <td>controls</td>\n",
       "      <td>0.999996</td>\n",
       "    </tr>\n",
       "  </tbody>\n",
       "</table>\n",
       "</div>"
      ],
      "text/plain": [
       "   index                                           filepath          filename  \\\n",
       "7      7  ./local_test/test_dir/input/data/training/vali...     cases/178.png   \n",
       "47    47  ./local_test/test_dir/input/data/training/vali...   controls/21.png   \n",
       "0      0  ./local_test/test_dir/input/data/training/vali...      cases/10.png   \n",
       "46    46  ./local_test/test_dir/input/data/training/vali...  controls/202.png   \n",
       "22    22  ./local_test/test_dir/input/data/training/vali...     cases/316.png   \n",
       "33    33  ./local_test/test_dir/input/data/training/vali...      cases/63.png   \n",
       "74    74  ./local_test/test_dir/input/data/training/vali...  controls/450.png   \n",
       "13    13  ./local_test/test_dir/input/data/training/vali...     cases/219.png   \n",
       "51    51  ./local_test/test_dir/input/data/training/vali...  controls/255.png   \n",
       "91    91  ./local_test/test_dir/input/data/training/vali...  controls/689.png   \n",
       "\n",
       "       label prediction  \n",
       "7      cases   0.508909  \n",
       "47  controls   0.126018  \n",
       "0      cases   0.940815  \n",
       "46  controls   0.873982  \n",
       "22     cases   0.971999  \n",
       "33     cases   0.136279  \n",
       "74  controls   0.927459  \n",
       "13     cases   0.141699  \n",
       "51  controls   0.012747  \n",
       "91  controls   0.999996  "
      ]
     },
     "execution_count": 54,
     "metadata": {},
     "output_type": "execute_result"
    }
   ],
   "source": [
    "df.sample(10)"
   ]
  },
  {
   "cell_type": "markdown",
   "metadata": {},
   "source": [
    "Cases\n",
    "----"
   ]
  },
  {
   "cell_type": "markdown",
   "metadata": {},
   "source": [
    "**Best Outcome**"
   ]
  },
  {
   "cell_type": "code",
   "execution_count": 77,
   "metadata": {},
   "outputs": [
    {
     "name": "stdout",
     "output_type": "stream",
     "text": [
      "Prediction:  0.9719989 \n",
      " Label:  cases\n"
     ]
    },
    {
     "data": {
      "image/png": "[encoded data removed]",
      "text/plain": [
       "<PIL.Image.Image image mode=RGB size=120x120 at 0x7F7DAF56F940>"
      ]
     },
     "execution_count": 77,
     "metadata": {},
     "output_type": "execute_result"
    }
   ],
   "source": [
    "# load an image from file\n",
    "image_row=22\n",
    "image = load_img(df.filepath[image_row], target_size=(img_height, img_width))\n",
    "print('Prediction: ',df.prediction[image_row],'\\n','Label: ',df.label[image_row])\n",
    "image"
   ]
  },
  {
   "cell_type": "markdown",
   "metadata": {},
   "source": [
    "**Worst Outcome**"
   ]
  },
  {
   "cell_type": "code",
   "execution_count": 78,
   "metadata": {},
   "outputs": [
    {
     "name": "stdout",
     "output_type": "stream",
     "text": [
      "Prediction:  0.14169918 \n",
      " Label:  cases\n"
     ]
    },
    {
     "data": {
      "image/png": "[encoded data removed]",
      "text/plain": [
       "<PIL.Image.Image image mode=RGB size=120x120 at 0x7F7DAF56FBE0>"
      ]
     },
     "execution_count": 78,
     "metadata": {},
     "output_type": "execute_result"
    }
   ],
   "source": [
    "# load an image from file\n",
    "image_row=13\n",
    "image = load_img(df.filepath[image_row], target_size=(img_height, img_width))\n",
    "print('Prediction: ',df.prediction[image_row],'\\n','Label: ',df.label[image_row])\n",
    "image"
   ]
  },
  {
   "cell_type": "markdown",
   "metadata": {},
   "source": [
    "Controls\n",
    "------"
   ]
  },
  {
   "cell_type": "markdown",
   "metadata": {},
   "source": [
    "**Best Outcome**"
   ]
  },
  {
   "cell_type": "code",
   "execution_count": 74,
   "metadata": {},
   "outputs": [
    {
     "name": "stdout",
     "output_type": "stream",
     "text": [
      "Prediction:  0.9999957 \n",
      " Label:  controls\n"
     ]
    },
    {
     "data": {
      "image/png": "[encoded data removed]",
      "text/plain": [
       "<PIL.Image.Image image mode=RGB size=120x120 at 0x7F7DAF56F518>"
      ]
     },
     "execution_count": 74,
     "metadata": {},
     "output_type": "execute_result"
    }
   ],
   "source": [
    "# load an image from file\n",
    "image_row=91\n",
    "image = load_img(df.filepath[image_row], target_size=(img_height, img_width))\n",
    "print('Prediction: ',df.prediction[image_row],'\\n','Label: ',df.label[image_row])\n",
    "image"
   ]
  },
  {
   "cell_type": "markdown",
   "metadata": {},
   "source": [
    "**Worst Outcome**"
   ]
  },
  {
   "cell_type": "code",
   "execution_count": 75,
   "metadata": {},
   "outputs": [
    {
     "name": "stdout",
     "output_type": "stream",
     "text": [
      "Prediction:  0.012747012 \n",
      " Label:  controls\n"
     ]
    },
    {
     "data": {
      "image/png": "[encoded data removed]",
      "text/plain": [
       "<PIL.Image.Image image mode=RGB size=120x120 at 0x7F7DAF56F780>"
      ]
     },
     "execution_count": 75,
     "metadata": {},
     "output_type": "execute_result"
    }
   ],
   "source": [
    "# load an image from file\n",
    "image_row=51\n",
    "image = load_img(df.filepath[image_row], target_size=(img_height, img_width))\n",
    "print('Prediction: ',df.prediction[image_row],'\\n','Label: ',df.label[image_row])\n",
    "image"
   ]
  },
  {
   "cell_type": "code",
   "execution_count": 362,
   "metadata": {},
   "outputs": [],
   "source": [
    "#from keras.models import load_model\n",
    "#from keras.preprocessing import image\n",
    "# returns a compiled model\n",
    "# identical to the previous one\n",
    "#model = load_model('glaucoma_model_5_1_2019.h5')"
   ]
  },
  {
   "cell_type": "markdown",
   "metadata": {},
   "source": [
    "Model Architecture Validation\n",
    "============="
   ]
  },
  {
   "cell_type": "code",
   "execution_count": 65,
   "metadata": {},
   "outputs": [],
   "source": [
    "from keras.utils.vis_utils import plot_model\n",
    "plot_model(model, to_file='resnet_plot.png')"
   ]
  },
  {
   "cell_type": "markdown",
   "metadata": {},
   "source": [
    "<img src='resnet_plot.png' width=\"500\" height=\"500\" align=\"left\">"
   ]
  },
  {
   "cell_type": "code",
   "execution_count": null,
   "metadata": {},
   "outputs": [],
   "source": []
  }
 ],
 "metadata": {
  "kernelspec": {
   "display_name": "Python 3",
   "language": "python",
   "name": "python3"
  },
  "language_info": {
   "codemirror_mode": {
    "name": "ipython",
    "version": 3
   },
   "file_extension": ".py",
   "mimetype": "text/x-python",
   "name": "python",
   "nbconvert_exporter": "python",
   "pygments_lexer": "ipython3",
   "version": "3.6.5"
  }
 },
 "nbformat": 4,
 "nbformat_minor": 2
}
