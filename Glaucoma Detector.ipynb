{
 "cells": [
  {
   "cell_type": "code",
   "execution_count": 1,
   "metadata": {},
   "outputs": [],
   "source": [
    "from IPython.display import HTML\n",
    "from IPython.display import Image"
   ]
  },
  {
   "cell_type": "markdown",
   "metadata": {},
   "source": [
    "Retinal images\n",
    "----------"
   ]
  },
  {
   "cell_type": "markdown",
   "metadata": {},
   "source": [
    "<img src='glaucomapicture.jpg' width=\"300\" height=\"300\" align=\"left\">"
   ]
  },
  {
   "cell_type": "code",
   "execution_count": 2,
   "metadata": {},
   "outputs": [
    {
     "data": {
      "text/html": [
       "<script>\n",
       "  function code_toggle() {\n",
       "    if (code_shown){\n",
       "      $('div.input').hide('500');\n",
       "      $('#toggleButton').val('Show Code')\n",
       "    } else {\n",
       "      $('div.input').show('500');\n",
       "      $('#toggleButton').val('Hide Code')\n",
       "    }\n",
       "    code_shown = !code_shown\n",
       "  }\n",
       "\n",
       "  $( document ).ready(function(){\n",
       "    code_shown=false;\n",
       "    $('div.input').hide()\n",
       "  });\n",
       "</script>\n",
       "<form action=\"javascript:code_toggle()\"><input type=\"submit\" id=\"toggleButton\" value=\"Show Code\"></form>"
      ],
      "text/plain": [
       "<IPython.core.display.HTML object>"
      ]
     },
     "execution_count": 2,
     "metadata": {},
     "output_type": "execute_result"
    }
   ],
   "source": [
    "HTML('''<script>\n",
    "  function code_toggle() {\n",
    "    if (code_shown){\n",
    "      $('div.input').hide('500');\n",
    "      $('#toggleButton').val('Show Code')\n",
    "    } else {\n",
    "      $('div.input').show('500');\n",
    "      $('#toggleButton').val('Hide Code')\n",
    "    }\n",
    "    code_shown = !code_shown\n",
    "  }\n",
    "\n",
    "  $( document ).ready(function(){\n",
    "    code_shown=false;\n",
    "    $('div.input').hide()\n",
    "  });\n",
    "</script>\n",
    "<form action=\"javascript:code_toggle()\"><input type=\"submit\" id=\"toggleButton\" value=\"Show Code\"></form>''')"
   ]
  },
  {
   "cell_type": "markdown",
   "metadata": {},
   "source": [
    "Project: Glaucoma Detection\n",
    "======="
   ]
  },
  {
   "cell_type": "markdown",
   "metadata": {},
   "source": [
    "**By: Pieter Leffers**"
   ]
  },
  {
   "cell_type": "markdown",
   "metadata": {},
   "source": [
    "*Starting Date: March 1, 2019*\n",
    "\n",
    "*Completion Date: June 3, 2019*\n",
    "\n",
    "*Last Updated: April 30, 2019*"
   ]
  },
  {
   "cell_type": "markdown",
   "metadata": {},
   "source": [
    "**Project Description**\n",
    "--------"
   ]
  },
  {
   "cell_type": "markdown",
   "metadata": {},
   "source": [
    "According to the  American Optometric Association, Glaucoma is a general term for a number of eye conditions that progressively damage the optic nerve,consequently causing vision loss. Diagnosis of glaucoma is complex, but is often associated with elevated intraocular pressure, optic nerve damage, and reduction in visual acuity and visual field. Vision loss from glaucoma is permanent, but progression may be slowed or halted through early diagnosis and treatment.\n",
    "\n",
    " \n",
    " \n",
    " \n",
    " American Optometric Association. Glossary of Common Eye & Vision Conditions website.\n",
    "https://www.aoa.org/patients-and-public/eye-and-vision-problems/glossary-of-eye-and-vision-conditions. Accessed June 7, 2018."
   ]
  },
  {
   "cell_type": "markdown",
   "metadata": {},
   "source": [
    "**Data Source: **\n"
   ]
  },
  {
   "cell_type": "markdown",
   "metadata": {},
   "source": [
    "For this project I will use data gathered from the Harvard Dataverse collected and uploaded by Ungsoo Kim. The retinal image dataset consists of 788 ‘normal control’ images, 289 ‘early stage’ images, and 467 ‘advanced stage’ images.The images are already preprocessed, (scaled to 800 pixels and cropped so the nerve endings are of 240 pixels) thus ready to be used for machine learning tasks. However, this dataset will present itself particularly challenging as the number of retinal images needed for this task are less than desirable; thus representing a real-world problem of its own.\n",
    "\n",
    "The data was originally collected from Kim's Eye Hospital. The images have already been pre-processed and fixed to a size of 800 pixels, centered on the optic nerve, and cropped to a size of 240 pixels.\n",
    "\n",
    "The data is hosted on the Harvard Dataverse and can be downloaded at:\n",
    "*Kim, Ungsoo, 2018, \"Machine learn for glaucoma\", https://doi.org/10.7910/DVN/1YRRAC, Harvard Dataverse, V1 *\n"
   ]
  },
  {
   "cell_type": "markdown",
   "metadata": {},
   "source": [
    "**Note:** I will need to keep in mind folder structure in the future since I will be porting to sagemaker with a Dockerfile and the folder structure for Sagemaker is particularly important."
   ]
  },
  {
   "cell_type": "markdown",
   "metadata": {},
   "source": [
    "*Setup Folder Tree*"
   ]
  },
  {
   "cell_type": "markdown",
   "metadata": {},
   "source": [
    "    sage\n",
    "    ├── Dockerfile\n",
    "    ├── local_test\n",
    "    │  ├── predict.sh\n",
    "    │  ├── train.sh\n",
    "    │  ├── serve.sh\n",
    "    │  └── test_dir => /opt/ml in container\n",
    "    │      ├── input\n",
    "    │      │   ├── config\n",
    "    │      │   └── data\n",
    "    │      │       └── training\n",
    "    │      ├── model\n",
    "    │      └── output\n",
    "    └── program\n",
    "        ├── (some scripts...)\n",
    "        ├── train\n",
    "        └── serve"
   ]
  },
  {
   "cell_type": "markdown",
   "metadata": {},
   "source": [
    "**Import Packages**"
   ]
  },
  {
   "cell_type": "code",
   "execution_count": 9,
   "metadata": {},
   "outputs": [
    {
     "name": "stdout",
     "output_type": "stream",
     "text": [
      "Matplotlib Version: 2.2.2\n",
      "OpenCV Version: 4.0.0\n"
     ]
    }
   ],
   "source": [
    "import random\n",
    "import shutil\n",
    "import numpy as np\n",
    "import os\n",
    "import imgaug\n",
    "import cv2\n",
    "import os\n",
    "import matplotlib\n",
    "import matplotlib.pyplot as plt\n",
    "import random\n",
    "from imgaug import augmenters as iaa\n",
    "import imageio\n",
    "import imgaug as ia\n",
    "\n",
    "%matplotlib inline\n",
    "\n",
    "ver=cv2.__version__\n",
    "print('Matplotlib Version: {}'.format(matplotlib.__version__))\n",
    "if float(ver[0])==3 and float(ver[-3:])<4.2:\n",
    "    print('Please update OpenCV. This requires a minimum of OpenCV 3.4.2')\n",
    "    print('Your current version is: ',cv2.__version__)\n",
    "elif float(ver[0])>3:\n",
    "    print('OpenCV Version:',cv2.__version__) \n",
    "else:\n",
    "    print('OpenCV Version:',cv2.__version__)"
   ]
  },
  {
   "cell_type": "markdown",
   "metadata": {},
   "source": [
    "*Make folders*"
   ]
  },
  {
   "cell_type": "code",
   "execution_count": 10,
   "metadata": {},
   "outputs": [
    {
     "name": "stdout",
     "output_type": "stream",
     "text": [
      "Directory  ./local_test  Created \n",
      "Directory  ./program  already exists\n",
      "Directory  ./local_test/test_dir  Created \n",
      "Directory  ./local_test/test_dir/input  Created \n",
      "Directory  ./local_test/test_dir/input/config  Created \n",
      "Directory  ./local_test/test_dir/input/data  Created \n",
      "Directory  ./local_test/test_dir/input/data/training  Created \n",
      "Directory  ./local_test/test_dir/input/data/training/augmentation  Created \n",
      "Directory  ./local_test/test_dir/model  Created \n",
      "Directory  ./local_test/test_dir/output  Created \n",
      "Directory  ./local_test/program  Created \n",
      "Directory  ./local_test/program/train  Created \n",
      "Directory  ./local_test/program/serve  Created \n",
      "Directory  ./local_test/test_dir/input/data/images  Created \n"
     ]
    }
   ],
   "source": [
    "DirList=['./local_test','./program',\\\n",
    "         './local_test/test_dir',\\\n",
    "         './local_test/test_dir/input',\\\n",
    "         './local_test/test_dir/input/config',\\\n",
    "         './local_test/test_dir/input/data',\\\n",
    "         './local_test/test_dir/input/data/training',\\\n",
    "         './local_test/test_dir/input/data/training/augmentation',\\\n",
    "         './local_test/test_dir/model',\\\n",
    "         './local_test/test_dir/output',\\\n",
    "         './local_test/program',\n",
    "         './local_test/program/train',\n",
    "         './local_test/program/serve',\\\n",
    "         './local_test/test_dir/input/data/images']#can add more folders I want to create in this process\n",
    "for i in DirList:\n",
    "    try:\n",
    "        # Create target Directory\n",
    "        os.mkdir(i)\n",
    "        print(\"Directory \" ,i,  \" Created \") \n",
    "    except:\n",
    "        print(\"Directory \" ,i,  \" already exists\")"
   ]
  },
  {
   "cell_type": "markdown",
   "metadata": {},
   "source": [
    "*Pull Data*"
   ]
  },
  {
   "cell_type": "code",
   "execution_count": 4,
   "metadata": {
    "scrolled": true
   },
   "outputs": [],
   "source": [
    "#Takes a couple of hours to download\n",
    "#!wget https://dataverse.harvard.edu/api/access/datafile/:persistentId?persistentId=doi:10.7910/DVN/1YRRAC/OGRSQO"
   ]
  },
  {
   "cell_type": "markdown",
   "metadata": {},
   "source": [
    "*Extract Data*"
   ]
  },
  {
   "cell_type": "markdown",
   "metadata": {},
   "source": [
    "*I am supressing the output in order to conserve space. I have printed the first 5 lines of the output to give you an idea of what is happening.*"
   ]
  },
  {
   "cell_type": "code",
   "execution_count": 11,
   "metadata": {},
   "outputs": [],
   "source": [
    "%%capture captured\n",
    "!unzip ./data/processed_data.zip -d ./local_test/test_dir/input/data/images"
   ]
  },
  {
   "cell_type": "code",
   "execution_count": 12,
   "metadata": {},
   "outputs": [],
   "source": [
    "file_out=captured.stdout"
   ]
  },
  {
   "cell_type": "code",
   "execution_count": 13,
   "metadata": {},
   "outputs": [
    {
     "name": "stdout",
     "output_type": "stream",
     "text": [
      "Archive:  ./data/processed_data.zip\r\n",
      "  inflating: ./local_test/test_dir/input/data/images/data_description.txt  \r\n",
      "   creating: ./local_test/test_dir/input/data/images/advanced_glaucoma/\r\n",
      "  inflating: ./local_test/test_dir/input/data/images/advanced_glaucoma/1.png  \r\n",
      "  inflating: ./local_test/test_dir/input/data/images/advanced_glaucoma/10.png  \r\n",
      "  inflating: ./local_test/test_dir/input/data/images/advanced_glaucoma/1\n"
     ]
    }
   ],
   "source": [
    "print(file_out[:420])"
   ]
  },
  {
   "cell_type": "markdown",
   "metadata": {},
   "source": [
    "*Setup Training, Testing, and Validation Folders*"
   ]
  },
  {
   "cell_type": "code",
   "execution_count": 14,
   "metadata": {},
   "outputs": [],
   "source": [
    "!mv ./local_test/test_dir/input/data/images/advanced_glaucoma/* ./local_test/test_dir/input/data/images/early_glaucoma\n",
    "!mv ./local_test/test_dir/input/data/images/early_glaucoma ./local_test/test_dir/input/data/images/cases\n",
    "!mv ./local_test/test_dir/input/data/images/normal_control ./local_test/test_dir/input/data/images/controls\n",
    "!rm -r ./local_test/test_dir/input/data/images/advanced_glaucoma/"
   ]
  },
  {
   "cell_type": "markdown",
   "metadata": {},
   "source": [
    "Setup Data Structure\n",
    "--------"
   ]
  },
  {
   "cell_type": "code",
   "execution_count": 15,
   "metadata": {},
   "outputs": [],
   "source": [
    "#Create training, testing, validation function, as well as a percentage for data augmentation of each\n",
    "\n",
    "# the path to the original images\n",
    "input_data_folder = \"local_test/test_dir/input/data/images\"\n",
    "# new directory that will contain our images after computing the training and testing split\n",
    "data_folder_name = \"local_test/test_dir/input/data/training\"\n",
    "\n",
    "# define the percentage of the data that will be used training\n",
    "training_percent = 0.8\n",
    "\n",
    "# the amount of validation data will be a percentage of the *training* data\n",
    "validation_percent = 0.1\n",
    "\n",
    "#the amount of augmentation needed for images\n",
    "augment_percent = 0.2"
   ]
  },
  {
   "cell_type": "markdown",
   "metadata": {},
   "source": [
    "The two functions below were pulled from imgauge github page because I couldn't import them from the library."
   ]
  },
  {
   "cell_type": "code",
   "execution_count": 16,
   "metadata": {},
   "outputs": [],
   "source": [
    "def do_assert(condition, message=\"Assertion failed.\"):\n",
    "    \"\"\"\n",
    "    Function that behaves equally to an `assert` statement, but raises an\n",
    "    Exception.\n",
    "    This is added because `assert` statements are removed in optimized code.\n",
    "    It replaces `assert` statements throughout the library that should be\n",
    "    kept even in optimized code.\n",
    "    Parameters\n",
    "    ----------\n",
    "    condition : bool\n",
    "        If False, an exception is raised.\n",
    "    message : str, optional\n",
    "        Error message.\n",
    "    \"\"\"\n",
    "    if not condition:\n",
    "        raise AssertionError(str(message))\n",
    "\n",
    "IMSHOW_BACKEND_DEFAULT = \"matplotlib\"\n",
    "def imshow(image, backend=IMSHOW_BACKEND_DEFAULT):\n",
    "    \"\"\"\n",
    "    Shows an image in a window.\n",
    "    dtype support::\n",
    "        * ``uint8``: yes; not tested\n",
    "        * ``uint16``: ?\n",
    "        * ``uint32``: ?\n",
    "        * ``uint64``: ?\n",
    "        * ``int8``: ?\n",
    "        * ``int16``: ?\n",
    "        * ``int32``: ?\n",
    "        * ``int64``: ?\n",
    "        * ``float16``: ?\n",
    "        * ``float32``: ?\n",
    "        * ``float64``: ?\n",
    "        * ``float128``: ?\n",
    "        * ``bool``: ?\n",
    "    Parameters\n",
    "    ----------\n",
    "    image : (H,W,3) ndarray\n",
    "        Image to show.\n",
    "    backend : {'matplotlib', 'cv2'}, optional\n",
    "        Library to use to show the image. May be either matplotlib or OpenCV ('cv2').\n",
    "        OpenCV tends to be faster, but apparently causes more technical issues.\n",
    "    \"\"\"\n",
    "    do_assert(backend in [\"matplotlib\", \"cv2\"], \"Expected backend 'matplotlib' or 'cv2', got %s.\" % (backend,))\n",
    "\n",
    "    if backend == \"cv2\":\n",
    "        image_bgr = image\n",
    "        if image.ndim == 3 and image.shape[2] in [3, 4]:\n",
    "            image_bgr = image[..., 0:3][..., ::-1]\n",
    "\n",
    "        win_name = \"imgaug-default-window\"\n",
    "        cv2.namedWindow(win_name, cv2.WINDOW_NORMAL)\n",
    "        cv2.imshow(win_name, image_bgr)\n",
    "        cv2.waitKey(0)\n",
    "        cv2.destroyWindow(win_name)\n",
    "    else:\n",
    "        # import only when necessary (faster startup; optional dependency; less fragile -- see issue #225)\n",
    "        import matplotlib.pyplot as plt\n",
    "\n",
    "        dpi = 96\n",
    "        h, w = image.shape[0] / dpi, image.shape[1] / dpi\n",
    "        w = max(w, 6)  # if the figure is too narrow, the footer may appear and make the fig suddenly wider (ugly)\n",
    "        fig, ax = plt.subplots(figsize=(w, h), dpi=dpi)\n",
    "        fig.canvas.set_window_title(\"imgaug.imshow(%s)\" % (image.shape,))\n",
    "        ax.imshow(image, cmap=\"gray\")  # cmap is only activate for grayscale images\n",
    "plt.show()"
   ]
  },
  {
   "cell_type": "markdown",
   "metadata": {},
   "source": [
    "Build Training, Testing, and Validation Datasets\n",
    "---------"
   ]
  },
  {
   "cell_type": "markdown",
   "metadata": {},
   "source": [
    "Here I have created a class object so that I may consider creating a library for my needs. For the time being it is convenient to be able to simply execute the functions below with a single command. Since I was already planning on going through the trouble of supplementing images in the training set with image augmentation I decided to fold it into the same procedure as creating the training, testing, and validation sets. "
   ]
  },
  {
   "cell_type": "code",
   "execution_count": 17,
   "metadata": {},
   "outputs": [],
   "source": [
    "class preprocess_data(object):\n",
    "\n",
    "    def create_train_test_val(data_folder_name):\n",
    "        '''\n",
    "        Points to the folders specified. \n",
    "        '''\n",
    "        # setup the training, validation, and testing directories\n",
    "        training_folder = os.path.sep.join([data_folder_name, \"training\"])\n",
    "        validation_folder = os.path.sep.join([data_folder_name, \"validation\"])\n",
    "        testing_folder  = os.path.sep.join([data_folder_name, \"testing\"])\n",
    "        return training_folder,validation_folder,testing_folder\n",
    "\n",
    "    def list_images(data_folder, contains=None):\n",
    "        # import the necessary packages\n",
    "        image_types = (\".jpg\", \".jpeg\", \".png\", \".bmp\", \".tif\", \".tiff\")\n",
    "        # return the set of files that are valid\n",
    "        return preprocess_data.list_files(data_folder, valid_extensions=image_types, contains=contains)\n",
    "\n",
    "    def list_files(data_folder, valid_extensions=None, contains=None):\n",
    "        # loop over the directory structure\n",
    "        for (root_directory, directory_names, filenames) in os.walk(data_folder):\n",
    "            # loop over the filenames in the current directory\n",
    "            for filename in filenames:\n",
    "                # if the contains string is not none and the filename does not contain\n",
    "                # the supplied string, then ignore the file\n",
    "                if contains is not None and filename.find(contains) == -1:\n",
    "                    continue\n",
    "\n",
    "                # determine the file extension of the current file\n",
    "                extension = filename[filename.rfind(\".\"):].lower()\n",
    "\n",
    "                # check to see if the file is an image and should be processed\n",
    "                if valid_extensions is None or extension.endswith(valid_extensions):\n",
    "                    # construct the path to the image and yield it\n",
    "                    image_paths = os.path.join(root_directory, filename)\n",
    "                    yield image_paths\n",
    "\n",
    "    def images_augment(augment_percent,training_paths):\n",
    "        aug_num=int(len(training_paths) * augment_percent)\n",
    "        for image_iter in training_paths[:aug_num]:\n",
    "            filename,extension = (os.path.splitext(os.path.basename(image_iter)))\n",
    "            path,fullname=os.path.split(image_iter) \n",
    "            label=(os.path.basename(os.path.normpath(path)))\n",
    "            path='./local_test/test_dir/input/data/training/augmentation'\n",
    "            imread_image = imageio.imread(image_iter)\n",
    "            random_num=random.randint(0,360)\n",
    "            rotate = iaa.Affine(rotate=(-random_num, random_num))\n",
    "            image_aug = rotate.augment_image(imread_image)\n",
    "            #imshow(image_aug)\n",
    "            imageio.imwrite(path+'/'+label+'_aug_'+str(random_num)+'.png',image_aug)\n",
    "        return aug_num\n",
    "\n",
    "    def setup_folders(training_percent,validation_percent,augment_percent):\n",
    "        training_folder,validation_folder,testing_folder=preprocess_data.create_train_test_val(data_folder_name)\n",
    "        # grab the paths to all input images in the original input directory and shuffle them\n",
    "        image_paths = list(preprocess_data.list_images(input_data_folder))\n",
    "        random.shuffle(image_paths)\n",
    "\n",
    "        # training and testing split\n",
    "        comparison = int(len(image_paths) * training_percent)\n",
    "        training_paths = image_paths[:comparison]\n",
    "        testing_paths = image_paths[comparison:]\n",
    "\n",
    "        # using part of the training data for validation\n",
    "        comparison = int(len(training_paths) * validation_percent)\n",
    "        validation_paths = training_paths[:comparison]\n",
    "        training_paths = training_paths[comparison:]  \n",
    "\n",
    "        print('Images selected for training folder: ',len(training_paths))\n",
    "        print('Images selected for testing folder: ',len(testing_paths))\n",
    "        print('Images selected for validation folder: ',len(validation_paths))\n",
    "\n",
    "        # define the datasets that we'll be building\n",
    "        datasets = [(\"training\", training_paths, training_folder),\n",
    "                    (\"validation\", validation_paths, validation_folder),\n",
    "                    (\"testing\", testing_paths, testing_folder)]\n",
    "        \n",
    "        # loop over the datasets\n",
    "        for (data_type, image_paths, output_folder) in datasets:\n",
    "            # show which data split we are creating\n",
    "            print(\"\\nbuilding \"+data_type+\" collection . . .\\n\")\n",
    "\n",
    "            # if the output base output directory does not exist, create it\n",
    "            if not os.path.exists(output_folder):\n",
    "                print(\"creating \"+data_type+\" directory . . .\")\n",
    "                os.makedirs(output_folder)\n",
    "\n",
    "            # loop over the input image paths\n",
    "            for path in image_paths:\n",
    "                # extract the filename of the input image along with its corresponding class label\n",
    "                filename = path.split(os.path.sep)[-1]\n",
    "                label = path.split(os.path.sep)[-2]\n",
    "                # build the path to the label directory\n",
    "                label_paths = os.path.sep.join([output_folder, label])\n",
    "\n",
    "                # if the label output directory does not exist, create it\n",
    "                if not os.path.exists(label_paths):\n",
    "                    print(\"creating \"+data_type+\" directory . . .\")\n",
    "                    os.makedirs(label_paths)\n",
    "\n",
    "                # construct the path to the destination image and then copy the image itself\n",
    "                p = os.path.sep.join([label_paths, filename])\n",
    "                shutil.copy2(path, p) #Identical to copy() except that copy2() also attempts to preserve file metadata.\n",
    "                \n",
    "        aug_num=preprocess_data.images_augment(augment_percent,training_paths)\n",
    "        # return the total number of image paths in training, validation, and testing directories\n",
    "        training_total = len(list(preprocess_data.list_images(training_folder)))\n",
    "        validation_total = len(list(preprocess_data.list_images(validation_folder)))\n",
    "        testing_total = len(list(preprocess_data.list_images(testing_folder)))\n",
    "        total_images=training_total+validation_total+testing_total\n",
    "        print('\\nTraining Images: ',training_total,'\\nValidation Images: ',\n",
    "              validation_total,'\\nTesting Images: ',testing_total,\n",
    "              '\\nTotal Images Selected: ',total_images,'\\nAugmented Images Added: ',aug_num)\n",
    "        \n",
    "        return training_paths"
   ]
  },
  {
   "cell_type": "code",
   "execution_count": 18,
   "metadata": {},
   "outputs": [
    {
     "name": "stdout",
     "output_type": "stream",
     "text": [
      "Images selected for training folder:  904\n",
      "Images selected for testing folder:  251\n",
      "Images selected for validation folder:  100\n",
      "\n",
      "building training collection . . .\n",
      "\n",
      "creating training directory . . .\n",
      "creating training directory . . .\n",
      "creating training directory . . .\n",
      "\n",
      "building validation collection . . .\n",
      "\n",
      "creating validation directory . . .\n",
      "creating validation directory . . .\n",
      "creating validation directory . . .\n",
      "\n",
      "building testing collection . . .\n",
      "\n",
      "creating testing directory . . .\n",
      "creating testing directory . . .\n",
      "creating testing directory . . .\n",
      "\n",
      "Training Images:  904 \n",
      "Validation Images:  100 \n",
      "Testing Images:  251 \n",
      "Total Images Selected:  1255 \n",
      "Augmented Images Added:  180\n"
     ]
    }
   ],
   "source": [
    "training_path=preprocess_data.setup_folders(training_percent,validation_percent,augment_percent)"
   ]
  },
  {
   "cell_type": "markdown",
   "metadata": {},
   "source": [
    "I have created 180 images to help supplement my lack of images in the training folder. The reason it is merely 180 images and not more images is to avoid the augmented images being too statistically representative within the image dataset and thereby biasing the results. Below is a simple representation of the function I'm using within the class object above. "
   ]
  },
  {
   "cell_type": "code",
   "execution_count": 13,
   "metadata": {},
   "outputs": [
    {
     "name": "stdout",
     "output_type": "stream",
     "text": [
      "Augmented batch:\n"
     ]
    },
    {
     "data": {
      "image/png": "[encoded data removed]",
      "text/plain": [
       "<Figure size 960x240 with 1 Axes>"
      ]
     },
     "metadata": {},
     "output_type": "display_data"
    }
   ],
   "source": [
    "image = imageio.imread(\"local_test/test_dir/input/data/images/cases/6.png\")\n",
    "random_num=random.randint(0,360)\n",
    "rotate = iaa.Affine(rotate=(-random_num, random_num))\n",
    "images = [image, image, image, image]\n",
    "images_aug = rotate.augment_images(images)\n",
    "\n",
    "print(\"Augmented batch:\")\n",
    "imshow(np.hstack(images_aug))"
   ]
  },
  {
   "cell_type": "markdown",
   "metadata": {},
   "source": [
    "Define Model Structure\n",
    "====="
   ]
  },
  {
   "cell_type": "markdown",
   "metadata": {},
   "source": [
    "For classification of retinal images I have chosen to use a ResNet model as described by Kaiming He, Xiangyu Zhang, Shaoqing Ren, Jian Sun in <a href=\"https://arxiv.org/pdf/1512.03385.pdf\" target=\"_blank\">***Deep Residual Learning for Image Recognition (2015)***</a> and Adrian Rosebrock in <a href=\"http://www.i-element.org/PDF/C12-3.pdf\" target=\"_blank\">***Deep Learning for Computer Vision with Python (2017)***</a>. \n",
    "\n",
    "For an excellent explanation of the ResNet model, checkout Gracelyn Shi's Medium blog post:\n",
    "https://towardsdatascience.com/implementing-a-resnet-model-from-scratch-971be7193718\n",
    "\n",
    "**Why use a Residual Network (ResNet) model?**\n",
    "\n",
    "In traditional Deep Neural Networks during training you typically run into problems during backpropagation while using gradient descent optimization; where the data is fed from the final layers back into the first initial activation layers. As the loss function (error) with respect to the weights becomes updated certain activation functions such as the sigmoid function, constrain the input space between 0 and 1. Since the gradient in a Neural Network is a product of the gradients preceeding it, multiplying two smaller numbers returns an even smaller number. The small change in the gradient causes training times to be painfully slow, prone to error, and adding a large number of layers to become too costly and prohibitive.\n",
    "\n",
    "\n",
    "\n",
    "*Backpropagation:*\n",
    "\n",
    "    Moving from later stages and fed back through the Neural Network to the initial layers."
   ]
  },
  {
   "cell_type": "markdown",
   "metadata": {},
   "source": [
    "Residual Networks provide a convenient solution to the **'vanishing gradient'** problem. By skipping (shortcut) the training of one or more layers and creating a **residual block**.\n"
   ]
  },
  {
   "cell_type": "markdown",
   "metadata": {},
   "source": [
    "<img src='relu.png' width=\"300\" height=\"300\" align=\"left\">"
   ]
  },
  {
   "cell_type": "code",
   "execution_count": 14,
   "metadata": {},
   "outputs": [],
   "source": [
    "from IPython.display import display, Math, Latex"
   ]
  },
  {
   "cell_type": "code",
   "execution_count": 15,
   "metadata": {},
   "outputs": [],
   "source": [
    "#H(x) = F(x) + x, where F(x) = W2*relu(W1*x+b1)+b2"
   ]
  },
  {
   "cell_type": "code",
   "execution_count": 16,
   "metadata": {},
   "outputs": [
    {
     "data": {
      "text/latex": [
       "$$\\begin{align*}& H_{(x)}= F_{(x)} + x  \\newline& \\mathrm{Where:} \\newline&  F_{(x)}=W_{(2)}*\\mathrm{relu}*(W_{(1)}*x+b_{(1)})+b_{(2)}\\end{align*}$$"
      ],
      "text/plain": [
       "<IPython.core.display.Math object>"
      ]
     },
     "execution_count": 16,
     "metadata": {},
     "output_type": "execute_result"
    }
   ],
   "source": [
    "Math(r'\\begin{align*}& H_{(x)}= F_{(x)} + x  \\newline& \\mathrm{Where:} \\newline&  F_{(x)}=W_{(2)}*\\mathrm{relu}*(W_{(1)}*x+b_{(1)})+b_{(2)}\\end{align*}')\n",
    "\n"
   ]
  },
  {
   "cell_type": "markdown",
   "metadata": {},
   "source": [
    "Model Architecture Map\n",
    "-----"
   ]
  },
  {
   "cell_type": "markdown",
   "metadata": {},
   "source": [
    "With the application of Batch Normalization, Activation Function, and Convolutional Layers along with shortcuts. We can now create a network as deep as we desire."
   ]
  },
  {
   "cell_type": "markdown",
   "metadata": {},
   "source": [
    "<img src='resnet_structure.jpg' width=\"500\" height=\"500\" align=\"left\">"
   ]
  },
  {
   "cell_type": "code",
   "execution_count": 17,
   "metadata": {},
   "outputs": [],
   "source": [
    "#https://www.learnopencv.com/image-classification-using-convolutional-neural-networks-in-keras/"
   ]
  },
  {
   "cell_type": "code",
   "execution_count": 20,
   "metadata": {},
   "outputs": [],
   "source": [
    "def residual_module(input_data, kernel, stride, axis, reduce=False, reg_lambda=0.0001, epsilon=0.00002, momentum=0.9):\n",
    "    shortcut = input_data\n",
    "    bn1 = BatchNormalization(axis=axis, epsilon=epsilon, momentum=momentum)(input_data)\n",
    "    act1 = Activation(\"relu\")(bn1)\n",
    "    conv1 = Conv2D(int(kernel * 0.25), (1, 1), use_bias=False,kernel_regularizer=l2(reg_lambda))(act1)\n",
    "\n",
    "    bn2 = BatchNormalization(axis=axis, epsilon=epsilon,momentum=momentum)(conv1)\n",
    "    act2 = Activation(\"relu\")(bn2)\n",
    "    conv2 = Conv2D(int(kernel * 0.25), (3, 3), strides=stride, padding=\"same\", use_bias=False, kernel_regularizer=l2(reg_lambda))(act2)\n",
    "\n",
    "    bn3 = BatchNormalization(axis=axis, epsilon=epsilon, momentum=momentum)(conv2)\n",
    "    act3 = Activation(\"relu\")(bn3)\n",
    "    conv3 = Conv2D(kernel, (1, 1), use_bias=False, kernel_regularizer=l2(reg_lambda))(act3)\n",
    "\n",
    "    if reduce: \n",
    "        shortcut = Conv2D(kernel, (1, 1), strides=stride, use_bias=False, kernel_regularizer=l2(reg_lambda))(act1)\n",
    "\n",
    "    x = add([conv3, shortcut])\n",
    "    return x"
   ]
  },
  {
   "cell_type": "markdown",
   "metadata": {},
   "source": [
    "Build Model Structure\n",
    "====="
   ]
  },
  {
   "cell_type": "code",
   "execution_count": 21,
   "metadata": {},
   "outputs": [],
   "source": [
    "def build(width, height, depth, classes, stages, filters, reg_lambda=0.0001, epsilon=0.00002, momentum=0.9):\n",
    "    input_shape = (height, width, depth)\n",
    "    axis = -1\n",
    "\n",
    "    if K.image_data_format() == \"channels_first\":\n",
    "        input_shape = (depth, height, width)\n",
    "        channel_dimension = 1\n",
    "\n",
    "    inputs = Input(shape=input_shape)\n",
    "    x = BatchNormalization(axis=axis, epsilon=epsilon,momentum=momentum)(inputs)\n",
    "    x = Conv2D(filters[0], (5, 5), use_bias=False,padding=\"same\", kernel_regularizer=l2(reg_lambda))(x)\n",
    "    x = BatchNormalization(axis=axis, epsilon=epsilon,momentum=momentum)(x)\n",
    "    x = Activation(\"relu\")(x)\n",
    "    x = ZeroPadding2D((1, 1))(x)\n",
    "    x = MaxPooling2D((3, 3), strides=(2, 2))(x)\n",
    "\n",
    "    for i in range(0, len(stages)):\n",
    "        stride = (1, 1) if i == 0 else (2, 2)\n",
    "        x = residual_module(x, filters[i + 1], stride,axis, reduce=True, epsilon=epsilon, momentum=momentum)\n",
    "\n",
    "        for j in range(0, stages[i] - 1):\n",
    "            x = residual_module(x, filters[i + 1],(1, 1), axis, epsilon=epsilon, momentum=momentum)\n",
    "\n",
    "    x = BatchNormalization(axis=axis, epsilon=epsilon,momentum=momentum)(x)\n",
    "    x = Activation(\"relu\")(x)\n",
    "    x = AveragePooling2D((8, 8))(x)\n",
    "    x = Flatten()(x)\n",
    "    x = Dense(classes, kernel_regularizer=l2(reg_lambda))(x)\n",
    "    x = Activation(\"softmax\")(x)\n",
    "\n",
    "    model = Model(inputs, x, name=\"resnet\")\n",
    "    return model\n"
   ]
  },
  {
   "cell_type": "markdown",
   "metadata": {},
   "source": [
    "________________________"
   ]
  },
  {
   "cell_type": "markdown",
   "metadata": {},
   "source": [
    "**Define Structure:** *Tried to provide some explanation in cell below*"
   ]
  },
  {
   "cell_type": "code",
   "execution_count": 47,
   "metadata": {},
   "outputs": [
    {
     "data": {
      "text/html": [
       "<script>\n",
       "code_show=true; \n",
       "function code_toggle() {\n",
       "    if (code_show){\n",
       "        $('div.cell.code_cell.rendered.selected div.input').hide();\n",
       "    } else {\n",
       "        $('div.cell.code_cell.rendered.selected div.input').show();\n",
       "    }\n",
       "    code_show = !code_show\n",
       "} \n",
       "$( document ).ready(code_toggle);\n",
       "</script>\n",
       "To show/hide this cell's raw code input, click <a href=\"javascript:code_toggle()\">here</a>."
      ],
      "text/plain": [
       "<IPython.core.display.HTML object>"
      ]
     },
     "metadata": {},
     "output_type": "display_data"
    }
   ],
   "source": [
    "tag = HTML('''<script>\n",
    "code_show=true; \n",
    "function code_toggle() {\n",
    "    if (code_show){\n",
    "        $('div.cell.code_cell.rendered.selected div.input').hide();\n",
    "    } else {\n",
    "        $('div.cell.code_cell.rendered.selected div.input').show();\n",
    "    }\n",
    "    code_show = !code_show\n",
    "} \n",
    "$( document ).ready(code_toggle);\n",
    "</script>\n",
    "To show/hide this cell's raw code input, click <a href=\"javascript:code_toggle()\">here</a>.''')\n",
    "display(tag)\n",
    "\n",
    "############### Explanation ##################\n",
    "#https://www.coursera.org/lecture/convolutional-neural-networks/why-resnets-work-XAKNO\n",
    "#https://www.coursera.org/lecture/convolutional-neural-networks/resnets-HAhz9      \n",
    "\n",
    "#Jargon:\n",
    "    #'Relu': Rectified Linear Unit (algorithmic threshold for activation layer)\n",
    "    #Stride: Amount of shift of the filter moving from one part of the image to another\n",
    "\n",
    "#input for function: \n",
    "    #data=the data to be pass in the model\n",
    "    #kernel: number of filters that will be learned by the final CONV layer\n",
    "    #stride: An integer or tuple/list of a single integer, specifying the stride length of the convolution. \n",
    "    #axis: Integer, the axis that should be normalized (typically the features axis)\n",
    "    #reduce: red is boolean check to skip some processing\n",
    "    #reg_lambda: apply (0.0001) penalties on layer parameters\n",
    "    #epsilon: Small float added to variance to avoid dividing by zero.\n",
    "    #momentum: Momentum for the moving mean and the moving variance.\n",
    "    \n",
    "def residual_module(input_data, kernel, stride, axis, reduce=False,reg_lambda=0.0001, epsilon=0.00002, momentum=0.9):\n",
    "    # the shortcut branch of the resnet module should be initialize as the input (identity) data\n",
    "    shortcut = input_data\n",
    "    # the first block of the ResNet module are the 1x1 Convolution:\n",
    "            #epsilon: Small float added to variance to avoid dividing by zero.\n",
    "            #axis: Integer, the axis that should be normalized (typically the features axis).\n",
    "                #-For instance, after a Conv2D layer with data_format=\"channels_first\", set axis=1 in BatchNormalization.\n",
    "            #momentum: Momentum for the moving mean and the moving variance.\n",
    "    bn1 = BatchNormalization(axis=axis, epsilon=epsilon, momentum=momentum)(input_data) #https://keras.io/layers/normalization/\n",
    "    #Rectified Linear Unit for activation. https://keras.io/activations/\n",
    "    act1 = Activation(\"relu\")(bn1)\n",
    "    #2D convolution layer (e.g. spatial convolution over images). https://keras.io/layers/convolutional/\n",
    "        #kernel size (tuple):\n",
    "\n",
    "            #An integer or tuple/list of 2 integers, specifying the height and width of the 2D convolution window. \n",
    "            #Can be a single integer to specify the same value for all spatial dimensions.\n",
    "            \n",
    "        #use_bias: Boolean, whether the layer uses a bias vector.\n",
    "        #kernel_regularizer (Ridge Regression): \n",
    "            #https://medium.com/datadriveninvestor/l1-l2-regularization-7f1b4fe948f2\n",
    "    conv1 = Conv2D(int(kernel * 0.25), (1, 1), use_bias=False,kernel_regularizer=l2(reg_lambda))(act1)\n",
    "\n",
    "    # the second block of the ResNet module are the 3x3 CONVs passing in results of previous convolutional layer\n",
    "    bn2 = BatchNormalization(axis=axis, epsilon=epsilon,momentum=momentum)(conv1)#\n",
    "    act2 = Activation(\"relu\")(bn2)\n",
    "    #padding:  one of \"valid\" or \"same\" (case-insensitive). \n",
    "    #Note that \"same\" is slightly inconsistent across backends with strides != 1, as described-\n",
    "        #https://github.com/keras-team/keras/pull/9473#issuecomment-372166860\n",
    "    conv2 = Conv2D(int(kernel * 0.25), (3, 3), strides=stride, padding=\"same\", use_bias=False, kernel_regularizer=l2(reg_lambda))(act2)\n",
    "\n",
    "    # the third block of the ResNet module is another set of 1x1 Convolution\n",
    "    bn3 = BatchNormalization(axis=axis, epsilon=epsilon, momentum=momentum)(conv2)\n",
    "    act3 = Activation(\"relu\")(bn3)\n",
    "    conv3 = Conv2D(kernel, (1, 1), use_bias=False, kernel_regularizer=l2(reg_lambda))(act3)\n",
    "\n",
    "    # if we are to reduce the spatial size, apply a convolution layer to the shortcut\n",
    "    if reduce:#Shortcut or Terminal Block (allows to skip)\n",
    "        shortcut = Conv2D(kernel, (1, 1), strides=stride, use_bias=False, kernel_regularizer=l2(reg_lambda))(act1)\n",
    "\n",
    "    # add together the shortcut and the final convolution\n",
    "    x = add([conv3, shortcut])\n",
    "\n",
    "    return x"
   ]
  },
  {
   "cell_type": "markdown",
   "metadata": {},
   "source": [
    "__________"
   ]
  },
  {
   "cell_type": "markdown",
   "metadata": {},
   "source": [
    "**Build Model Structure:** *Tried to provide some explanation in cell below*"
   ]
  },
  {
   "cell_type": "code",
   "execution_count": 48,
   "metadata": {},
   "outputs": [
    {
     "data": {
      "text/html": [
       "<script>\n",
       "code_show=true; \n",
       "function code_toggle() {\n",
       "    if (code_show){\n",
       "        $('div.cell.code_cell.rendered.selected div.input').hide();\n",
       "    } else {\n",
       "        $('div.cell.code_cell.rendered.selected div.input').show();\n",
       "    }\n",
       "    code_show = !code_show\n",
       "} \n",
       "$( document ).ready(code_toggle);\n",
       "</script>\n",
       "To show/hide this cell's raw code input, click <a href=\"javascript:code_toggle()\">here</a>."
      ],
      "text/plain": [
       "<IPython.core.display.HTML object>"
      ]
     },
     "metadata": {},
     "output_type": "display_data"
    }
   ],
   "source": [
    "tag = HTML('''<script>\n",
    "code_show=true; \n",
    "function code_toggle() {\n",
    "    if (code_show){\n",
    "        $('div.cell.code_cell.rendered.selected div.input').hide();\n",
    "    } else {\n",
    "        $('div.cell.code_cell.rendered.selected div.input').show();\n",
    "    }\n",
    "    code_show = !code_show\n",
    "} \n",
    "$( document ).ready(code_toggle);\n",
    "</script>\n",
    "To show/hide this cell's raw code input, click <a href=\"javascript:code_toggle()\">here</a>.''')\n",
    "display(tag)\n",
    "\n",
    "############### Explanation ##################\n",
    "\n",
    "#Already defined:\n",
    "    #data=the data to be pass in the model\n",
    "    #kernel: number of filters that will be learned by the final CONV layer\n",
    "    #stride: An integer or tuple/list of a single integer, specifying the stride length of the convolution. \n",
    "    #axis: Integer, the axis that should be normalized (typically the features axis)\n",
    "    #reduce: will control whether or not to reduce spatial dimensions \n",
    "    #reg_lambda: apply (0.0001) penalties on layer parameters\n",
    "    #epsilon: Small float added to variance to avoid dividing by zero.\n",
    "    #momentum: Momentum for the moving mean and the moving variance.\n",
    "\n",
    "#Function inputs:\n",
    "    #width,height: height and width of image\n",
    "    #depth: the number of channels in image (rgb)\n",
    "    \n",
    "def build(width, height, depth, classes, stages, filters, reg_lambda=0.0001, epsilon=0.00002, momentum=0.9):\n",
    "    # initialize the input shape to be \"channels last\" and the channels dimension itself\n",
    "    input_shape = (height, width, depth) \n",
    "    channel_dimension = -1# <-1 just a handy shortcut meaning 'last'\n",
    "    axis = -1\n",
    "\n",
    "    # if we are using \"channels first\", update the input shape and channels dimension\n",
    "    if K.image_data_format() == \"channels_first\":#<--K is imported from Keras\n",
    "        input_shape = (depth, height, width)\n",
    "        channel_dimension = 1\n",
    "\n",
    "    # set the input and apply batch normalization\n",
    "    inputs = Input(shape=input_shape)\n",
    "    x = BatchNormalization(axis=axis, epsilon=epsilon, momentum=momentum)(inputs)\n",
    "\n",
    "    # apply convolution => batch normalization => activation => pooling layer to reduce spatial size\n",
    "    x = Conv2D(filters[0], (5, 5), use_bias=False, padding=\"same\", kernel_regularizer=l2(reg_lambda))(x)\n",
    "    x = BatchNormalization(axis=axis, epsilon=epsilon, momentum=momentum)(x)\n",
    "    x = Activation(\"relu\")(x) #activation layer is using 'Rectified Linear Unit'\n",
    "    x = ZeroPadding2D((1, 1))(x)\n",
    "    x = MaxPooling2D((3, 3), strides=(2, 2))(x)\n",
    "\n",
    "    # loop over the number of stages\n",
    "    for i in range(0, len(stages)):\n",
    "        # initialize the stride, then apply a residual module\n",
    "        # used to reduce the spatial size of the input volume\n",
    "        stride = (1, 1) if i == 0 else (2, 2)\n",
    "        x = residual_module(x, filters[i + 1], stride, axis, red=True, epsilon=epsilon, momentum=momentum)\n",
    "\n",
    "        # loop over the number of layers in the stage\n",
    "        for j in range(0, stages[i] - 1): #would like to make this boolean to increase efficiency\n",
    "            x = residual_module(x, filters[i + 1],(1, 1), axis, epsilon=epsilon, momentum=momentum)\n",
    "\n",
    "    # apply Batch normalization => activation => pooling layer\n",
    "    x = BatchNormalization(axis=axis, epsilon=epsilon,momentum=momentum)(x)\n",
    "    x = Activation(\"relu\")(x)\n",
    "    x = AveragePooling2D((8, 8))(x)\n",
    "\n",
    "    # softmax classifier\n",
    "    x = Flatten()(x)\n",
    "    x = Dense(classes, kernel_regularizer=l2(reg_lambda))(x)\n",
    "    x = Activation(\"softmax\")(x)\n",
    "\n",
    "    # create the model\n",
    "    model = Model(inputs, x, name=\"resnet\")\n",
    "\n",
    "    # return the constructed network architecture\n",
    "    return model"
   ]
  },
  {
   "cell_type": "markdown",
   "metadata": {},
   "source": [
    "_____________________"
   ]
  },
  {
   "cell_type": "markdown",
   "metadata": {},
   "source": [
    "**Prepare File Paths**"
   ]
  },
  {
   "cell_type": "code",
   "execution_count": 22,
   "metadata": {},
   "outputs": [],
   "source": [
    "training_directory='./local_test/test_dir/input/data/training/training'\n",
    "testing_directory='./local_test/test_dir/input/data/training/testing'\n",
    "validation_directory='./local_test/test_dir/input/data/training/validation'"
   ]
  },
  {
   "cell_type": "markdown",
   "metadata": {},
   "source": [
    "Train Model\n",
    "===="
   ]
  },
  {
   "cell_type": "markdown",
   "metadata": {},
   "source": [
    "**Import Packages**"
   ]
  },
  {
   "cell_type": "code",
   "execution_count": 91,
   "metadata": {},
   "outputs": [],
   "source": [
    "from keras.preprocessing.image import ImageDataGenerator\n",
    "from keras.callbacks import LearningRateScheduler\n",
    "from keras.optimizers import SGD\n",
    "from sklearn.metrics import classification_report\n",
    "\n",
    "# import the necessary packages\n",
    "from keras.layers.normalization import BatchNormalization\n",
    "from keras.layers.convolutional import Conv2D\n",
    "from keras.layers.convolutional import AveragePooling2D\n",
    "from keras.layers.convolutional import MaxPooling2D\n",
    "from keras.layers.convolutional import ZeroPadding2D\n",
    "from keras.layers.core import Activation\n",
    "from keras.layers.core import Dense\n",
    "from keras.layers import Flatten\n",
    "from keras.layers import Input\n",
    "from keras.models import Model\n",
    "from keras.layers import add\n",
    "from keras.regularizers import l2\n",
    "from keras import backend as K\n",
    "import matplotlib.pyplot as plt\n",
    "\n",
    "import random\n",
    "import shutil\n",
    "import os\n"
   ]
  },
  {
   "cell_type": "code",
   "execution_count": 126,
   "metadata": {},
   "outputs": [],
   "source": [
    "# define the total number of epochs to train for along with the initial learning rate and batch size\n",
    "epochs_num = 49\n",
    "initial_learning_rate = 0.02\n",
    "batch_size = 50\n",
    "img_height = 64\n",
    "img_width = 64\n",
    "\n",
    "def poly_decay(epoch):\n",
    "    # initialize the maximum number of epochs, base learning rate, and power of the polynomial\n",
    "    max_epochs = epochs_num\n",
    "    base_learning_rate = initial_learning_rate\n",
    "    power = 1.0\n",
    "\n",
    "    # compute the new learning rate based on polynomial decay\n",
    "    alpha = base_learning_rate*(1 - (epoch / float(max_epochs)))**power\n",
    "\n",
    "    # return the new learning rate\n",
    "    return alpha"
   ]
  },
  {
   "cell_type": "code",
   "execution_count": 127,
   "metadata": {},
   "outputs": [],
   "source": [
    "# determine the total number of image paths in training, validation, and testing directories\n",
    "train_images = len(list(preprocess_data.list_images(training_directory)))\n",
    "\n",
    "validation_images = len(list(preprocess_data.list_images(validation_directory)))\n",
    "\n",
    "test_images = len(list(preprocess_data.list_images(testing_directory)))"
   ]
  },
  {
   "cell_type": "code",
   "execution_count": 128,
   "metadata": {},
   "outputs": [],
   "source": [
    "# initialize the training data augmentation object\n",
    "training_augmentation = ImageDataGenerator(rescale=1 / 255.0, rotation_range=20, \n",
    "    zoom_range=0.05, width_shift_range=0.05,height_shift_range=0.05,\n",
    "    shear_range=0.05,horizontal_flip=True,fill_mode=\"nearest\")"
   ]
  },
  {
   "cell_type": "code",
   "execution_count": 129,
   "metadata": {},
   "outputs": [],
   "source": [
    "# initialize the validation (and testing) data augmentation object\n",
    "validation_augmentation = ImageDataGenerator(rescale=1 / 255.0)"
   ]
  },
  {
   "cell_type": "code",
   "execution_count": 130,
   "metadata": {},
   "outputs": [
    {
     "name": "stdout",
     "output_type": "stream",
     "text": [
      "Found 904 images belonging to 2 classes.\n"
     ]
    }
   ],
   "source": [
    "# initialize the training generator\n",
    "training_generator = training_augmentation.flow_from_directory(\n",
    "    training_directory,class_mode=\"categorical\",target_size=(img_height, img_width),\n",
    "    color_mode=\"rgb\",shuffle=True,batch_size=batch_size)"
   ]
  },
  {
   "cell_type": "code",
   "execution_count": 131,
   "metadata": {},
   "outputs": [
    {
     "name": "stdout",
     "output_type": "stream",
     "text": [
      "Found 100 images belonging to 2 classes.\n"
     ]
    }
   ],
   "source": [
    "# initialize the validation generator\n",
    "validation_generator = validation_augmentation.flow_from_directory(\n",
    "validation_directory,class_mode=\"categorical\",\n",
    "    target_size=(img_height, img_width),color_mode=\"rgb\",shuffle=False,batch_size=batch_size)"
   ]
  },
  {
   "cell_type": "code",
   "execution_count": 132,
   "metadata": {},
   "outputs": [
    {
     "name": "stdout",
     "output_type": "stream",
     "text": [
      "Found 251 images belonging to 2 classes.\n"
     ]
    }
   ],
   "source": [
    "# initialize the testing generator\n",
    "testing_generator = validation_augmentation.flow_from_directory(testing_directory,\n",
    "    class_mode=\"categorical\",target_size=(img_height, img_width),color_mode=\"rgb\",\n",
    "    shuffle=False,batch_size=batch_size)"
   ]
  },
  {
   "cell_type": "code",
   "execution_count": 133,
   "metadata": {},
   "outputs": [],
   "source": [
    "# initialize the resnet model and compile it\n",
    "# 1st:64, 2nd:64, 3rd:3, 4th:2 \n",
    "\n",
    "# 34 Layer Residual\n",
    "# 3-(3x3 conv 64) \n",
    "# 4-(3x3 conv 128) \n",
    "# 6-(3x3 conv 256) \n",
    "# 3-(3x3 conv 512)\n",
    "# Dimensions (width,height,channel) ,Stages , Filters  \n",
    "model = build(img_height, img_width, 3, 2, (3, 4, 6), (64, 128, 256, 512), reg_lambda=0.0005)\n",
    "opt = SGD(lr=initial_learning_rate, momentum=0.9)\n",
    "model.compile(loss=\"binary_crossentropy\", optimizer=opt,metrics=[\"accuracy\"])"
   ]
  },
  {
   "cell_type": "code",
   "execution_count": 134,
   "metadata": {
    "scrolled": true
   },
   "outputs": [],
   "source": [
    "%%capture captured\n",
    "# define our set of callbacks and fit the model\n",
    "callbacks = [LearningRateScheduler(poly_decay)] #                     1047/50=20.94\n",
    "train_model = model.fit_generator(training_generator, steps_per_epoch=train_images // batch_size,\n",
    "    validation_data=validation_generator, validation_steps=validation_images // batch_size, epochs=epochs_num, callbacks=callbacks)"
   ]
  },
  {
   "cell_type": "markdown",
   "metadata": {},
   "source": [
    "*Once again I have suppressed the output in order to conserve space on the jupyter notebook. I have provided a sample just to give you an idea of what the output looks like, results are shown below*"
   ]
  },
  {
   "cell_type": "code",
   "execution_count": 135,
   "metadata": {},
   "outputs": [
    {
     "name": "stdout",
     "output_type": "stream",
     "text": [
      "Epoch 1/49\n",
      "\r",
      " 1/18 [>.............................] - ETA: 18:33 - loss: 1.4952 - acc: 0.4000\b\b\b\b\b\b\b\b\b\b\b\b\b\b\b\b\b\b\b\b\b\b\b\b\b\b\b\b\b\b\b\b\b\b\b\b\b\b\b\b\b\b\b\b\b\b\b\b\b\b\b\b\b\b\b\b\b\b\b\b\b\b\b\b\b\b\b\b\b\b\b\b\b\b\b\b\b\b\b\b\r",
      " 2/18 [==>...........................] - ETA: 9:44 - loss: 1.3457 - acc: 0.5300 \b\b\b\b\b\b\b\b\b\b\b\b\b\b\b\b\b\b\b\b\b\b\b\b\b\b\b\b\b\b\b\b\b\b\b\b\b\b\b\b\b\b\b\b\b\b\b\b\b\b\b\b\b\b\b\b\b\b\b\b\b\b\b\b\b\b\b\b\b\b\b\b\b\b\b\b\b\b\b\r",
      " 3/18 [====>.........................] - ETA: 6:36 - loss: 1.3002 - acc: 0.5600\b\b\b\b\b\b\b\b\b\b\b\b\b\b\b\b\b\b\b\b\b\b\b\b\b\b\b\b\b\b\b\b\b\b\b\b\b\b\b\b\b\b\b\b\b\b\b\b\b\b\b\b\b\b\b\b\b\b\b\b\b\b\b\b\b\b\b\b\b\b\b\b\b\b\b\b\b\b\b\r",
      " 4/18 [=====>........................] - ETA: 5:06 - loss: 1.2413 - acc: 0.5900\b\b\b\b\b\b\b\b\b\b\b\b\b\b\b\b\b\b\b\b\b\b\b\b\b\b\b\b\b\b\b\b\b\b\b\b\b\b\b\b\b\b\b\b\b\b\b\b\b\b\b\b\b\b\b\b\b\b\b\b\b\b\b\b\b\b\b\b\b\b\b\b\b\b\b\b\b\b\b\r",
      " 5/18 [=======>......................] - ETA: 4:13 - loss: 1.2507 - acc: 0.6080\b\b\b\b\b\b\b\b\b\b\b\b\b\b\b\b\b\b\b\b\b\b\b\b\b\b\b\b\b\b\b\b\b\b\b\b\b\b\b\b\b\b\b\b\b\b\b\b\b\b\b\b\b\b\b\b\b\b\b\b\b\b\b\b\b\b\b\b\b\b\b\b\b\b\b\b\b\b\b\r",
      " 6/18 [=========>....................] - ETA: 3:28 - loss: 1.1907 - acc: 0.6433\b\b\b\b\b\b\b\b\b\b\b\b\b\b\b\b\b\b\b\b\b\b\b\b\b\b\b\b\b\b\b\b\b\b\b\b\b\b\b\b\b\b\b\b\b\b\b\b\b\b\b\b\b\b\b\b\b\b\b\b\b\b\b\b\b\b\b\b\b\b\b\b\b\b\b\b\b\b\b\r",
      " 7/18 [==========>...................] - ETA: 2:56 - loss: 1.1395 - acc: 0.6771\b\b\b\b\b\b\b\b\b\b\b\b\b\b\b\b\b\b\b\b\b\b\b\b\b\b\b\b\b\b\b\b\b\b\b\b\b\b\b\b\b\b\b\b\b\b\b\b\b\b\b\b\b\b\b\b\b\b\b\b\b\b\b\b\b\b\b\b\b\b\b\b\b\b\b\b\b\b\b\r",
      " 8/18 [============>.................] - ETA: 2:29 - loss: 1.1033 - acc: 0.7025\b\b\b\b\b\b\b\b\b\b\b\b\b\b\b\b\b\b\b\b\b\b\b\b\b\b\b\b\b\b\b\b\b\b\b\b\b\b\b\b\b\b\b\b\b\b\b\b\b\b\b\b\b\b\b\b\b\b\b\b\b\b\b\b\b\b\b\b\b\b\b\b\b\b\b\b\b\b\b\r",
      " 9/18 [==============>...............] - ETA: 2:07 - loss: 1.0917 - acc: 0.7178\b\b\b\b\b\b\b\b\b\b\b\b\b\b\b\b\b\b\b\b\b\b\b\b\b\b\b\b\b\b\b\b\b\b\b\b\b\b\b\b\b\b\b\b\b\b\b\b\b\b\b\b\b\b\b\b\b\b\b\b\b\b\b\b\b\b\b\b\b\b\b\b\b\b\b\b\b\b\b\r",
      "10/18 [===============>..............] - ETA: 1:48 - loss: 1.1008 - acc: 0.7260\b\b\b\b\b\b\b\b\b\b\b\b\b\b\b\b\b\b\b\b\b\b\b\b\b\b\b\b\b\b\b\b\b\b\b\b\b\b\b\b\b\b\b\b\b\b\b\b\b\b\b\b\b\b\b\b\b\b\b\b\b\b\b\b\b\b\b\b\b\b\b\b\b\b\b\b\b\b\b\r",
      "11/18 [=================>............] - ETA: 1:33 - loss: 1.1115 - acc: 0.7309\b\b\b\b\b\b\b\b\b\b\b\b\b\b\b\b\b\b\b\b\b\b\b\b\b\b\b\b\b\b\b\b\b\b\b\b\b\b\b\b\b\b\b\b\b\b\b\b\b\b\b\b\b\b\b\b\b\b\b\b\b\b\b\b\b\b\b\b\b\b\b\b\b\b\b\b\b\b\b\r",
      "12/18 [===================>..........] - ETA: 1:17 - loss: 1.0885 - acc: 0.7383\b\b\b\b\b\b\b\b\b\b\b\b\b\b\b\b\b\b\b\b\b\b\b\b\b\b\b\b\b\b\b\b\b\b\b\b\b\b\b\b\b\b\b\b\b\b\b\b\b\b\b\b\b\b\b\b\b\b\b\b\b\b\b\b\b\b\b\b\b\b\b\b\b\b\b\b\b\b\b\r",
      "13/18 [====================>.........] - ETA: 1:01 - loss: 1.0834 - acc: 0.7446\b\b\b\b\b\b\b\b\b\b\b\b\b\b\b\b\b\b\b\b\b\b\b\b\b\b\b\b\b\b\b\b\b\b\b\b\b\b\b\b\b\b\b\b\b\b\b\b\b\b\b\b\b\b\b\b\b\b\b\b\b\b\b\b\b\b\b\b\b\b\b\b\b\b\b\b\b\b\b\r",
      "14/18 [======================>.......] - ETA: 47s - loss: 1.0646 - acc: 0.7529 \b\b\b\b\b\b\b\b\b\b\b\b\b\b\b\b\b\b\b\b\b\b\b\b\b\b\b\b\b\b\b\b\b\b\b\b\b\b\b\b\b\b\b\b\b\b\b\b\b\b\b\b\b\b\b\b\b\b\b\b\b\b\b\b\b\b\b\b\b\b\b\b\b\b\b\b\b\b\r",
      "15/18 [========================>.....] - ETA: 34s - loss: 1.0477 - acc: 0.7627\b\b\b\b\b\b\b\b\b\b\b\b\b\b\b\b\b\b\b\b\b\b\b\b\b\b\b\b\b\b\b\b\b\b\b\b\b\b\b\b\b\b\b\b\b\b\b\b\b\b\b\b\b\b\b\b\b\b\b\b\b\b\b\b\b\b\b\b\b\b\b\b\b\b\b\b\b\b\r",
      "16/18 [=========================>....] - ETA: 22s - loss: 1.0327 - acc: 0.7675\b\b\b\b\b\b\b\b\b\b\b\b\b\b\b\b\b\b\b\b\b\b\b\b\b\b\b\b\b\b\b\b\b\b\b\b\b\b\b\b\b\b\b\b\b\b\b\b\b\b\b\b\b\b\b\b\b\b\b\b\b\b\b\b\b\b\b\b\b\b\b\b\b\b\b\b\b\b\r",
      "17/18 [===========================>..] - ETA: 11s - loss: 1.0362 - acc: 0.7671\b\b\b\b\b\b\b\b\b\b\b\b\b\b\b\b\b\b\b\b\b\b\b\b\b\b\b\b\b\b\b\b\b\b\b\b\b\b\b\b\b\b\b\b\b\b\b\b\b\b\b\b\b\b\b\b\b\b\b\b\b\b\b\b\b\b\b\b\b\b\b\b\b\b\b\b\b\b\r",
      "18/18 [==============================] - 237s 13s/step - loss: 1.0185 - acc: 0.7744 - val_loss: 1.4340 - val_acc: 0.7700\n",
      "Epoch 2/49\n",
      "\r",
      " 1/18 [>.............................] - ETA: 12s - loss: 0.7187 - acc: 1.0000\b\b\b\b\b\b\b\b\b\b\b\b\b\b\b\b\b\b\b\b\b\b\b\b\b\b\b\b\b\b\b\b\b\b\b\b\b\b\b\b\b\b\b\b\b\b\b\b\b\b\b\b\b\b\b\b\b\b\b\b\b\b\b\b\b\b\b\b\b\b\b\b\b\b\b\b\b\b\r",
      " 2/18 [==>...........................] - ETA: 2:47 - loss: 0.8074 - acc: 0.9200\b\b\b\b\b\b\b\b\b\b\b\b\b\b\b\b\b\b\b\b\b\b\b\b\b\b\b\b\b\b\b\b\b\b\b\b\b\b\b\b\b\b\b\b\b\b\b\b\b\b\b\b\b\b\b\b\b\b\b\b\b\b\b\b\b\b\b\b\b\b\b\b\b\b\b\b\b\b\b\r",
      " 3/18 [====>.........................] - ETA: 3:06 - loss: 0.8586 - acc: 0.9000\b\b\b\b\b\b\b\b\b\b\b\b\b\b\b\b\b\b\b\b\b\b\b\b\b\b\b\b\b\b\b\b\b\b\b\b\b\b\b\b\b\b\b\b\b\b\b\b\b\b\b\b\b\b\b\b\b\b\b\b\b\b\b\b\b\b\b\b\b\b\b\b\b\b\b\b\b\b\b\r",
      " 4/18 [=====>........................] - ETA: 2:44 - loss: 0.8833 - acc: 0.8950\b\b\b\b\b\b\b\b\b\b\b\b\b\b\b\b\b\b\b\b\b\b\b\b\b\b\b\b\b\b\b\b\b\b\b\b\b\b\b\b\b\b\b\b\b\b\b\b\b\b\b\b\b\b\b\b\b\b\b\b\b\b\b\b\b\b\b\b\b\b\b\b\b\b\b\b\b\b\b\r",
      " 5/18 [=======>......................] - ETA: 2:20 - loss: 0.8868 - acc: 0.8920\b\b\b\b\b\b\b\b\b\b\b\b\b\b\b\b\b\b\b\b\b\b\b\b\b\b\b\b\b\b\b\b\b\b\b\b\b\b\b\b\b\b\b\b\b\b\b\b\b\b\b\b\b\b\b\b\b\b\b\b\b\b\b\b\b\b\b\b\b\b\b\b\b\b\b\b\b\b\b\r",
      " 6/18 [=========>....................] - ETA: 2:03 - loss: 0.8754 - acc: 0.8900\b\b\b\b\b\b\b\b\b\b\b\b\b\b\b\b\b\b\b\b\b\b\b\b\b\b\b\b\b\b\b\b\b\b\b\b\b\b\b\b\b\b\b\b\b\b\b\b\b\b\b\b\b\b\b\b\b\b\b\b\b\b\b\b\b\b\b\b\b\b\b\b\b\b\b\b\b\b\b\r",
      " 7/18 [==========>...................] - ETA: 1:49 - loss: 0.8882 - acc: 0.8857\b\b\b\b\b\b\b\b\b\b\b\b\b\b\b\b\b\b\b\b\b\b\b\b\b\b\b\b\b\b\b\b\b\b\b\b\b\b\b\b\b\b\b\b\b\b\b\b\b\b\b\b\b\b\b\b\b\b\b\b\b\b\b\b\b\b\b\b\b\b\b\b\b\b\b\b\b\b\b\r",
      " 8/18 [============>.................] - ETA: 1:37 - loss: 0.8904 - acc: 0.8750\b\b\b\b\b\b\b\b\b\b\b\b\b\b\b\b\b\b\b\b\b\b\b\b\b\b\b\b\b\b\b\b\b\b\b\b\b\b\b\b\b\b\b\b\b\b\b\b\b\b\b\b\b\b\b\b\b\b\b\b\b\b\b\b\b\b\b\b\b\b\b\b\b\b\b\b\b\b\b\r",
      " 9/18 [==============>...............] - ETA: 1:28 - loss: 0.8966 - acc: 0.8689\b\b\b\b\b\b\b\b\b\b\b\b\b\b\b\b\b\b\b\b\b\b\b\b\b\b\b\b\b\b\b\b\b\b\b\b\b\b\b\b\b\b\b\b\b\b\b\b\b\b\b\b\b\b\b\b\b\b\b\b\b\b\b\b\b\b\b\b\b\b\b\b\b\b\b\b\b\b\b\r",
      "10/18 [===============>..............] - ETA: 1:25 - loss: 0.8966 - acc: 0.8580\b\b\b\b\b\b\b\b\b\b\b\b\b\b\b\b\b\b\b\b\b\b\b\b\b\b\b\b\b\b\b\b\b\b\b\b\b\b\b\b\b\b\b\b\b\b\b\b\b\b\b\b\b\b\b\b\b\b\b\b\b\b\b\b\b\b\b\b\b\b\b\b\b\b\b\b\b\b\b\r",
      "11/18 [=================>............] - ETA: 1:16 - loss: 0.8859 - acc: 0.8600\b\b\b\b\b\b\b\b\b\b\b\b\b\b\b\b\b\b\b\b\b\b\b\b\b\b\b\b\b\b\b\b\b\b\b\b\b\b\b\b\b\b\b\b\b\b\b\b\b\b\b\b\b\b\b\b\b\b\b\b\b\b\b\b\b\b\b\b\b\b\b\b\b\b\b\b\b\b\b\r",
      "12/18 [===================>..........] - ETA: 1:05 - loss: 0.8907 - acc: 0.8533\b\b\b\b\b\b\b\b\b\b\b\b\b\b\b\b\b\b\b\b\b\b\b\b\b\b\b\b\b\b\b\b\b\b\b\b\b\b\b\b\b\b\b\b\b\b\b\b\b\b\b\b\b\b\b\b\b\b\b\b\b\b\b\b\b\b\b\b\b\b\b\b\b\b\b\b\b\b\b\r",
      "13/18 [====================>.........] - ETA: 53s - loss: 0.8832 - acc: 0.8538 \b\b\b\b\b\b\b\b\b\b\b\b\b\b\b\b\b\b\b\b\b\b\b\b\b\b\b\b\b\b\b\b\b\b\b\b\b\b\b\b\b\b\b\b\b\b\b\b\b\b\b\b\b\b\b\b\b\b\b\b\b\b\b\b\b\b\b\b\b\b\b\b\b\b\b\b\b\b\r",
      "14/18 [======================>.......] - ETA: 42s - loss: 0.8746 - acc: 0.8600\b\b\b\b\b\b\b\b\b\b\b\b\b\b\b\b\b\b\b\b\b\b\b\b\b\b\b\b\b\b\b\b\b\b\b\b\b\b\b\b\b\b\b\b\b\b\b\b\b\b\b\b\b\b\b\b\b\b\b\b\b\b\b\b\b\b\b\b\b\b\b\b\b\b\b\b\b\b\r",
      "15/18 [========================>.....] - ETA: 32s - loss: 0.8723 - acc: 0.8627\b\b\b\b\b\b\b\b\b\b\b\b\b\b\b\b\b\b\b\b\b\b\b\b\b\b\b\b\b\b\b\b\b\b\b\b\b\b\b\b\b\b\b\b\b\b\b\b\b\b\b\b\b\b\b\b\b\b\b\b\b\b\b\b\b\b\b\b\b\b\b\b\b\b\b\b\b\b\r",
      "16/18 [=========================>....] - ETA: 22s - loss: 0.8862 - acc: 0.8587\b\b\b\b\b\b\b\b\b\b\b\b\b\b\b\b\b\b\b\b\b\b\b\b\b\b\b\b\b\b\b\b\b\b\b\b\b\b\b\b\b\b\b\b\b\b\b\b\b\b\b\b\b\b\b\b\b\b\b\b\b\b\b\b\b\b\b\b\b\b\b\b\b\b\b\b\b\b\r",
      "17/18 [===========================>..] - ETA: 11s - loss: 0.8955 - acc: 0.8588\b\b\b\b\b\b\b\b\b\b\b\b\b\b\b\b\b\b\b\b\b\b\b\b\b\b\b\b\b\b\b\b\b\b\b\b\b\b\b\b\b\b\b\b\b\b\b\b\b\b\b\b\b\b\b\b\b\b\b\b\b\b\b\b\b\b\b\b\b\b\b\b\b\b\b\b\b\b\r",
      "18/18 [==============================] - 223s 12s/step - loss: 0.9174 - acc: 0.8551 - val_loss: 0.9062 - val_acc: 0.8600\n",
      "Epoch 3/49\n",
      "\r",
      " 1/18 [>.............................] - ETA: 4:27 - loss: 0.8422 - acc: 0.9000\b\b\b\b\b\b\b\b\b\b\b\b\b\b\b\b\b\b\b\b\b\b\b\b\b\b\b\b\b\b\b\b\b\b\b\b\b\b\b\b\b\b\b\b\b\b\b\b\b\b\b\b\b\b\b\b\b\b\b\b\b\b\b\b\b\b\b\b\b\b\b\b\b\b\b\b\b\b\b\r",
      " 2/18 [==>...........................] - ETA: 2:29 - loss: 0.8125 - acc: 0.9500\b\b\b\b\b\b\b\b\b\b\b\b\b\b\b\b\b\b\b\b\b\b\b\b\b\b\b\b\b\b\b\b\b\b\b\b\b\b\b\b\b\b\b\b\b\b\b\b\b\b\b\b\b\b\b\b\b\b\b\b\b\b\b\b\b\b\b\b\b\b\b\b\b\b\b\b\b\b\b\r",
      " 3/18 [====>.........................] - ETA: 3:11 - loss: 0.8033 - acc: 0.9267\b\b\b\b\b\b\b\b\b\b\b\b\b\b\b\b\b\b\b\b\b\b\b\b\b\b\b\b\b\b\b\b\b\b\b\b\b\b\b\b\b\b\b\b\b\b\b\b\b\b\b\b\b\b\b\b\b\b\b\b\b\b\b\b\b\b\b\b\b\b\b\b\b\b\b\b\b\b\b\r",
      " 4/18 [=====>........................] - ETA: 3:03 - loss: 0.9216 - acc: 0.8900\b\b\b\b\b\b\b\b\b\b\b\b\b\b\b\b\b\b\b\b\b\b\b\b\b\b\b\b\b\b\b\b\b\b\b\b\b\b\b\b\b\b\b\b\b\b\b\b\b\b\b\b\b\b\b\b\b\b\b\b\b\b\b\b\b\b\b\b\b\b\b\b\b\b\b\b\b\b\b\r",
      " 5/18 [=======>......................] - ETA: 2:42 - loss: 0.9683 - acc: 0.8640\b\b\b\b\b\b\b\b\b\b\b\b\b\b\b\b\b\b\b\b\b\b\b\b\b\b\b\b\b\b\b\b\b\b\b\b\b\b\b\b\b\b\b\b\b\b\b\b\b\b\b\b\b\b\b\b\b\b\b\b\b\b\b\b\b\b\b\b\b\b\b\b\b\b\b\b\b\b\b\r",
      " 6/18 [=========>....................] - ETA: 2:29 - loss: 1.0421 - acc: 0.8367\b\b\b\b\b\b\b\b\b\b\b\b\b\b\b\b\b\b\b\b\b\b\b\b\b\b\b\b\b\b\b\b\b\b\b\b\b\b\b\b\b\b\b\b\b\b\b\b\b\b\b\b\b\b\b\b\b\b\b\b\b\b\b\b\b\b\b\b\b\b\b\b\b\b\b\b\b\b\b\r",
      " 7/18 [==========>...................] - ETA: 2:21 - loss: 1.0104 - acc: 0.8400\b\b\b\b\b\b\b\b\b\b\b\b\b\b\b\b\b\b\b\b\b\b\b\b\b\b\b\b\b\b\b\b\b\b\b\b\b\b\b\b\b\b\b\b\b\b\b\b\b\b\b\b\b\b\b\b\b\b\b\b\b\b\b\b\b\b\b\b\b\b\b\b\b\b\b\b\b\b\b\r",
      " 8/18 [============>.................] - ETA: 2:09 - loss: 1.0010 - acc: 0.8375\b\b\b\b\b\b\b\b\b\b\b\b\b\b\b\b\b\b\b\b\b\b\b\b\b\b\b\b\b\b\b\b\b\b\b\b\b\b\b\b\b\b\b\b\b\b\b\b\b\b\b\b\b\b\b\b\b\b\b\b\b\b\b\b\b\b\b\b\b\b\b\b\b\b\b\b\b\b\b\r",
      " 9/18 [==============>...............] - ETA: 1:59 - loss: 0.9833 - acc: 0.8422\b\b\b\b\b\b\b\b\b\b\b\b\b\b\b\b\b\b\b\b\b\b\b\b\b\b\b\b\b\b\b\b\b\b\b\b\b\b\b\b\b\b\b\b\b\b\b\b\b\b\b\b\b\b\b\b\b\b\b\b\b\b\b\b\b\b\b\b\b\b\b\b\b\b\b\b\b\b\b\r",
      "10/18 [===============>..............] - ETA: 1:45 - loss: 0.9856 - acc: 0.8420\b\b\b\b\b\b\b\b\b\b\b\b\b\b\b\b\b\b\b\b\b\b\b\b\b\b\b\b\b\b\b\b\b\b\b\b\b\b\b\b\b\b\b\b\b\b\b\b\b\b\b\b\b\b\b\b\b\b\b\b\b\b\b\b\b\b\b\b\b\b\b\b\b\b\b\b\b\b\b\r",
      "11/18 [=================>............] - ETA: 1:35 - loss: 0.9695 - acc: 0.8491\b\b\b\b\b\b\b\b\b\b\b\b\b\b\b\b\b\b\b\b\b\b\b\b\b\b\b\b\b\b\b\b\b\b\b\b\b\b\b\b\b\b\b\b\b\b\b\b\b\b\b\b\b\b\b\b\b\b\b\b\b\b\b\b\b\b\b\b\b\b\b\b\b\b\b\b\b\b\b\r",
      "12/18 [===================>..........] - ETA: 1:26 - loss: 0.9905 - acc: 0.8433\b\b\b\b\b\b\b\b\b\b\b\b\b\b\b\b\b\b\b\b\b\b\b\b\b\b\b\b\b\b\b\b\b\b\b\b\b\b\b\b\b\b\b\b\b\b\b\b\b\b\b\b\b\b\b\b\b\b\b\b\b\b\b\b\b\b\b\b\b\b\b\b\b\b\b\b\b\b\b\r",
      "13/18 [====================>.........] - ETA: 1:10 - loss: 1.0064 - acc: 0.8400\b\b\b\b\b\b\b\b\b\b\b\b\b\b\b\b\b\b\b\b\b\b\b\b\b\b\b\b\b\b\b\b\b\b\b\b\b\b\b\b\b\b\b\b\b\b\b\b\b\b\b\b\b\b\b\b\b\b\b\b\b\b\b\b\b\b\b\b\b\b\b\b\b\b\b\b\b\b\b\r",
      "14/18 [======================>.......] - ETA: 54s - loss: 0.9889 - acc: 0.8457 \b\b\b\b\b\b\b\b\b\b\b\b\b\b\b\b\b\b\b\b\b\b\b\b\b\b\b\b\b\b\b\b\b\b\b\b\b\b\b\b\b\b\b\b\b\b\b\b\b\b\b\b\b\b\b\b\b\b\b\b\b\b\b\b\b\b\b\b\b\b\b\b\b\b\b\b\b\b\r",
      "15/18 [========================>.....] - ETA: 40s - loss: 0.9905 - acc: 0.8427\b\b\b\b\b\b\b\b\b\b\b\b\b\b\b\b\b\b\b\b\b\b\b\b\b\b\b\b\b\b\b\b\b\b\b\b\b\b\b\b\b\b\b\b\b\b\b\b\b\b\b\b\b\b\b\b\b\b\b\b\b\b\b\b\b\b\b\b\b\b\b\b\b\b\b\b\b\b\r",
      "16/18 [=========================>....] - ETA: 26s - loss: 0.9763 - acc: 0.8475\b\b\b\b\b\b\b\b\b\b\b\b\b\b\b\b\b\b\b\b\b\b\b\b\b\b\b\b\b\b\b\b\b\b\b\b\b\b\b\b\b\b\b\b\b\b\b\b\b\b\b\b\b\b\b\b\b\b\b\b\b\b\b\b\b\b\b\b\b\b\b\b\b\b\b\b\b\b\r",
      "17/18 [===========================>..] - ETA: 12s - loss: 0.9783 - acc: 0.8412\b\b\b\b\b\b\b\b\b\b\b\b\b\b\b\b\b\b\b\b\b\b\b\b\b\b\b\b\b\b\b\b\b\b\b\b\b\b\b\b\b\b\b\b\b\b\b\b\b\b\b\b\b\b\b\b\b\b\b\b\b\b\b\b\b\b\b\b\b\b\b\b\b\b\b\b\b\b\r",
      "18/18 [==============================] - 228s 13s/step - loss: 0.9851 - acc: 0.8373 - val_loss: 0.8986 - val_acc: 0.8800\n",
      "Epoch 4/49\n",
      "\r",
      " 1/18 [>.............................] - ETA: 2:05 - loss: 0.7897 - acc: 0.8600\b\b\b\b\b\b\b\b\b\b\b\b\b\b\b\b\b\b\b\b\b\b\b\b\b\b\b\b\b\b\b\b\b\b\b\b\b\b\b\b\b\b\b\b\b\b\b\b\b\b\b\b\b\b\b\b\b\b\b\b\b\b\b\b\b\b\b\b\b\b\b\b\b\b\b\b\b\b\b\r",
      " 2/18 [==>...........................] - ETA: 2:12 - loss: 0.7396 - acc: 0.9000\b\b\b\b\b\b\b\b\b\b\b\b\b\b\b\b\b\b\b\b\b\b\b\b\b\b\b\b\b\b\b\b\b\b\b\b\b\b\b\b\b\b\b\b\b\b\b\b\b\b\b\b\b\b\b\b\b\b\b\b\b\b\b\b\b\b\b\b\b\b\b\b\b\b\b\b\b\b\b\r",
      " 3/18 [====>.........................] - ETA: 1:25 - loss: 0.6925 - acc: 0.9333\b\b\b\b\b\b\b\b\b\b\b\b\b\b\b\b\b\b\b\b\b\b\b\b\b\b\b\b\b\b\b\b\b\b\b\b\b\b\b\b\b\b\b\b\b\b\b\b\b\b\b\b\b\b\b\b\b\b\b\b\b\b\b\b\b\b\b\b\b\b\b\b\b\b\b\b\b\b\b\r",
      " 4/18 [=====>........................] - ETA: 1:43 - loss: 0.7537 - acc: 0.9050\b\b\b\b\b\b\b\b\b\b\b\b\b\b\b\b\b\b\b\b\b\b\b\b\b\b\b\b\b\b\b\b\b\b\b\b\b\b\b\b\b\b\b\b\b\b\b\b\b\b\b\b\b\b\b\b\b\b\b\b\b\b\b\b\b\b\b\b\b\b\b\b\b\b\b\b\b\b\b\r",
      " 5/18 [=======>......................] - ETA: 1:50 - loss: 0.7529 - acc: 0.9040\b\b\b\b\b\b\b\b\b\b\b\b\b\b\b\b\b\b\b\b\b\b\b\b\b\b\b\b\b\b\b\b\b\b\b\b\b\b\b\b\b\b\b\b\b\b\b\b\b\b\b\b\b\b\b\b\b\b\b\b\b\b\b\b\b\b\b\b\b\b\b\b\b\b\b\b\b\b\b\r",
      " 6/18 [=========>....................] - ETA: 1:42 - loss: 0.7954 - acc: 0.8900\b\b\b\b\b\b\b\b\b\b\b\b\b\b\b\b\b\b\b\b\b\b\b\b\b\b\b\b\b\b\b\b\b\b\b\b\b\b\b\b\b\b\b\b\b\b\b\b\b\b\b\b\b\b\b\b\b\b\b\b\b\b\b\b\b\b\b\b\b\b\b\b\b\b\b\b\b\b\b\r",
      " 7/18 [==========>...................] - ETA: 1:33 - loss: 0.8318 - acc: 0.8714\b\b\b\b\b\b\b\b\b\b\b\b\b\b\b\b\b\b\b\b\b\b\b\b\b\b\b\b\b\b\b\b\b\b\b\b\b\b\b\b\b\b\b\b\b\b\b\b\b\b\b\b\b\b\b\b\b\b\b\b\b\b\b\b\b\b\b\b\b\b\b\b\b\b\b\b\b\b\b\r",
      " 8/18 [============>.................] - ETA: 1:24 - loss: 0.8276 - acc: 0.8750\b\b\b\b\b\b\b\b\b\b\b\b\b\b\b\b\b\b\b\b\b\b\b\b\b\b\b\b\b\b\b\b\b\b\b\b\b\b\b\b\b\b\b\b\b\b\b\b\b\b\b\b\b\b\b\b\b\b\b\b\b\b\b\b\b\b\b\b\b\b\b\b\b\b\b\b\b\b\b\r",
      " 9/18 [==============>...............] - ETA: 1:17 - loss: 0.8130 - acc: 0.8822\b\b\b\b\b\b\b\b\b\b\b\b\b\b\b\b\b\b\b\b\b\b\b\b\b\b\b\b\b\b\b\b\b\b\b\b\b\b\b\b\b\b\b\b\b\b\b\b\b\b\b\b\b\b\b\b\b\b\b\b\b\b\b\b\b\b\b\b\b\b\b\b\b\b\b\b\b\b\b\r",
      "10/18 [===============>..............] - ETA: 1:08 - loss: 0.8154 - acc: 0.8780\b\b\b\b\b\b\b\b\b\b\b\b\b\b\b\b\b\b\b\b\b\b\b\b\b\b\b\b\b\b\b\b\b\b\b\b\b\b\b\b\b\b\b\b\b\b\b\b\b\b\b\b\b\b\b\b\b\b\b\b\b\b\b\b\b\b\b\b\b\b\b\b\b\b\b\b\b\b\b\r",
      "11/18 [=================>............] - ETA: 59s - loss: 0.8012 - acc: 0.8873 \b\b\b\b\b\b\b\b\b\b\b\b\b\b\b\b\b\b\b\b\b\b\b\b\b\b\b\b\b\b\b\b\b\b\b\b\b\b\b\b\b\b\b\b\b\b\b\b\b\b\b\b\b\b\b\b\b\b\b\b\b\b\b\b\b\b\b\b\b\b\b\b\b\b\b\b\b\b\r",
      "12/18 [===================>..........] - ETA: 50s - loss: 0.8033 - acc: 0.8817\b\b\b\b\b\b\b\b\b\b\b\b\b\b\b\b\b\b\b\b\b\b\b\b\b\b\b\b\b\b\b\b\b\b\b\b\b\b\b\b\b\b\b\b\b\b\b\b\b\b\b\b\b\b\b\b\b\b\b\b\b\b\b\b\b\b\b\b\b\b\b\b\b\b\b\b\b\b\r",
      "13/18 [====================>.........] - ETA: 41s - loss: 0.8020 - acc: 0.8815\b\b\b\b\b\b\b\b\b\b\b\b\b\b\b\b\b\b\b\b\b\b\b\b\b\b\b\b\b\b\b\b\b\b\b\b\b\b\b\b\b\b\b\b\b\b\b\b\b\b\b\b\b\b\b\b\b\b\b\b\b\b\b\b\b\b\b\b\b\b\b\b\b\b\b\b\b\b\r",
      "14/18 [======================>.......] - ETA: 33s - loss: 0.8132 - acc: 0.8771\b\b\b\b\b\b\b\b\b\b\b\b\b\b\b\b\b\b\b\b\b\b\b\b\b\b\b\b\b\b\b\b\b\b\b\b\b\b\b\b\b\b\b\b\b\b\b\b\b\b\b\b\b\b\b\b\b\b\b\b\b\b\b\b\b\b\b\b\b\b\b\b\b\b\b\b\b\b\r",
      "15/18 [========================>.....] - ETA: 24s - loss: 0.8351 - acc: 0.8667\b\b\b\b\b\b\b\b\b\b\b\b\b\b\b\b\b\b\b\b\b\b\b\b\b\b\b\b\b\b\b\b\b\b\b\b\b\b\b\b\b\b\b\b\b\b\b\b\b\b\b\b\b\b\b\b\b\b\b\b\b\b\b\b\b\b\b\b\b\b\b\b\b\b\b\b\b\b\r",
      "16/18 [=========================>....] - ETA: 16s - loss: 0.8315 - acc: 0.8700\b\b\b\b\b\b\b\b\b\b\b\b\b\b\b\b\b\b\b\b\b\b\b\b\b\b\b\b\b\b\b\b\b\b\b\b\b\b\b\b\b\b\b\b\b\b\b\b\b\b\b\b\b\b\b\b\b\b\b\b\b\b\b\b\b\b\b\b\b\b\b\b\b\b\b\b\b\b\r",
      "17/18 [===========================>..] - ETA: 8s - loss: 0.8278 - acc: 0.8682 \b\b\b\b\b\b\b\b\b\b\b\b\b\b\b\b\b\b\b\b\b\b\b\b\b\b\b\b\b\b\b\b\b\b\b\b\b\b\b\b\b\b\b\b\b\b\b\b\b\b\b\b\b\b\b\b\b\b\b\b\b\b\b\b\b\b\b\b\b\b\b\b\b\b\b\b\b\r",
      "18/18 [==============================] - 156s 9s/step - loss: 0.8191 - acc: 0.8741 - val_loss: 0.8456 - val_acc: 0.8400\n",
      "Epoch 5/49\n",
      "\r",
      " 1/18 [>.............................] - ETA: 2:29 - loss: 0.9703 - acc: 0.8200\b\b\b\b\b\b\b\b\b\b\b\b\b\b\b\b\b\b\b\b\b\b\b\b\b\b\b\b\b\b\b\b\b\b\b\b\b\b\b\b\b\b\b\b\b\b\b\b\b\b\b\b\b\b\b\b\b\b\b\b\b\b\b\b\b\b\b\b\b\b\b\b\b\b\b\b\b\b\b\r",
      " 2/18 [==>...........................] - ETA: 2:17 - loss: 0.9490 - acc: 0.8200\b\b\b\b\b\b\b\b\b\b\b\b\b\b\b\b\b\b\b\b\b\b\b\b\b\b\b\b\b\b\b\b\b\b\b\b\b\b\b\b\b\b\b\b\b\b\b\b\b\b\b\b\b\b\b\b\b\b\b\b\b\b\b\b\b\b\b\b\b\b\b\b\b\b\b\b\b\b\b\r",
      " 3/18 [====>.........................] - ETA: 2:15 - loss: 0.8871 - acc: 0.8400\b\b\b\b\b\b\b\b\b\b\b\b\b\b\b\b\b\b\b\b\b\b\b\b\b\b\b\b\b\b\b\b\b\b\b\b\b\b\b\b\b\b\b\b\b\b\b\b\b\b\b\b\b\b\b\b\b\b\b\b\b\b\b\b\b\b\b\b\b\b\b\b\b\b\b\b\b\b\b\r",
      " 4/18 [=====>........................] - ETA: 1:37 - loss: 0.8373 - acc: 0.8800\b\b\b\b\b\b\b\b\b\b\b\b\b\b\b\b\b\b\b\b\b\b\b\b\b\b\b\b\b\b\b\b\b\b\b\b\b\b\b\b\b\b\b\b\b\b\b\b\b\b\b\b\b\b\b\b\b\b\b\b\b\b\b\b\b\b\b\b\b\b\b\b\b\b\b\b\b\b\b\r",
      " 5/18 [=======>......................] - ETA: 1:34 - loss: 0.8252 - acc: 0.8840\b\b\b\b\b\b\b\b\b\b\b\b\b\b\b\b\b\b\b\b\b\b\b\b\b\b\b\b\b\b\b\b\b\b\b\b\b\b\b\b\b\b\b\b\b\b\b\b\b\b\b\b\b\b\b\b\b\b\b\b\b\b\b\b\b\b\b\b\b\b\b\b\b\b\b\b\b\b\b\r",
      " 6/18 [=========>....................] - ETA: 1:28 - loss: 0.8171 - acc: 0.8833\b\b\b\b\b\b\b\b\b\b\b\b\b\b\b\b\b\b\b\b\b\b\b\b\b\b\b\b\b\b\b\b\b\b\b\b\b\b\b\b\b\b\b\b\b\b\b\b\b\b\b\b\b\b\b\b\b\b\b\b\b\b\b\b\b\b\b\b\b\b\b\b\b\b\b\b\b\b\b\r",
      " 7/18 [==========>...................] - ETA: 1:25 - loss: 0.8276 - acc: 0.8686\b\b\b\b\b\b\b\b\b\b\b\b\b\b\b\b\b\b\b\b\b\b\b\b\b\b\b\b\b\b\b\b\b\b\b\b\b\b\b\b\b\b\b\b\b\b\b\b\b\b\b\b\b\b\b\b\b\b\b\b\b\b\b\b\b\b\b\b\b\b\b\b\b\b\b\b\b\b\b\r",
      " 8/18 [============>.................] - ETA: 1:17 - loss: 0.8123 - acc: 0.8750\b\b\b\b\b\b\b\b\b\b\b\b\b\b\b\b\b\b\b\b\b\b\b\b\b\b\b\b\b\b\b\b\b\b\b\b\b\b\b\b\b\b\b\b\b\b\b\b\b\b\b\b\b\b\b\b\b\b\b\b\b\b\b\b\b\b\b\b\b\b\b\b\b\b\b\b\b\b\b\r",
      " 9/18 [==============>...............] - ETA: 1:11 - loss: 0.8004 - acc: 0.8822\b\b\b\b\b\b\b\b\b\b\b\b\b\b\b\b\b\b\b\b\b\b\b\b\b\b\b\b\b\b\b\b\b\b\b\b\b\b\b\b\b\b\b\b\b\b\b\b\b\b\b\b\b\b\b\b\b\b\b\b\b\b\b\b\b\b\b\b\b\b\b\b\b\b\b\b\b\b\b\r",
      "10/18 [===============>..............] - ETA: 1:06 - loss: 0.7940 - acc: 0.8900\b\b\b\b\b\b\b\b\b\b\b\b\b\b\b\b\b\b\b\b\b\b\b\b\b\b\b\b\b\b\b\b\b\b\b\b\b\b\b\b\b\b\b\b\b\b\b\b\b\b\b\b\b\b\b\b\b\b\b\b\b\b\b\b\b\b\b\b\b\b\b\b\b\b\b\b\b\b\b\r",
      "11/18 [=================>............] - ETA: 59s - loss: 0.7917 - acc: 0.8909 \b\b\b\b\b\b\b\b\b\b\b\b\b\b\b\b\b\b\b\b\b\b\b\b\b\b\b\b\b\b\b\b\b\b\b\b\b\b\b\b\b\b\b\b\b\b\b\b\b\b\b\b\b\b\b\b\b\b\b\b\b\b\b\b\b\b\b\b\b\b\b\b\b\b\b\b\b\b\r",
      "12/18 [===================>..........] - ETA: 51s - loss: 0.7909 - acc: 0.8967\b\b\b\b\b\b\b\b\b\b\b\b\b\b\b\b\b\b\b\b\b\b\b\b\b\b\b\b\b\b\b\b\b\b\b\b\b\b\b\b\b\b\b\b\b\b\b\b\b\b\b\b\b\b\b\b\b\b\b\b\b\b\b\b\b\b\b\b\b\b\b\b\b\b\b\b\b\b\r",
      "13/18 [====================>.........] - ETA: 42s - loss: 0.7892 - acc: 0.8969\b\b\b\b\b\b\b\b\b\b\b\b\b\b\b\b\b\b\b\b\b\b\b\b\b\b\b\b\b\b\b\b\b\b\b\b\b\b\b\b\b\b\b\b\b\b\b\b\b\b\b\b\b\b\b\b\b\b\b\b\b\b\b\b\b\b\b\b\b\b\b\b\b\b\b\b\b\b\r",
      "14/18 [======================>.......] - ETA: 33s - loss: 0.7924 - acc: 0.8929\b\b\b\b\b\b\b\b\b\b\b\b\b\b\b\b\b\b\b\b\b\b\b\b\b\b\b\b\b\b\b\b\b\b\b\b\b\b\b\b\b\b\b\b\b\b\b\b\b\b\b\b\b\b\b\b\b\b\b\b\b\b\b\b\b\b\b\b\b\b\b\b\b\b\b\b\b\b\r",
      "15/18 [========================>.....] - ETA: 25s - loss: 0.7930 - acc: 0.8907\b\b\b\b\b\b\b\b\b\b\b\b\b\b\b\b\b\b\b\b\b\b\b\b\b\b\b\b\b\b\b\b\b\b\b\b\b\b\b\b\b\b\b\b\b\b\b\b\b\b\b\b\b\b\b\b\b\b\b\b\b\b\b\b\b\b\b\b\b\b\b\b\b\b\b\b\b\b\r",
      "16/18 [=========================>....] - ETA: 17s - loss: 0.7965 - acc: 0.8875\b\b\b\b\b\b\b\b\b\b\b\b\b\b\b\b\b\b\b\b\b\b\b\b\b\b\b\b\b\b\b\b\b\b\b\b\b\b\b\b\b\b\b\b\b\b\b\b\b\b\b\b\b\b\b\b\b\b\b\b\b\b\b\b\b\b\b\b\b\b\b\b\b\b\b\b\b\b\r",
      "17/18 [===========================>..] - ETA: 8s - loss: 0.7915 - acc: 0.8882 \b\b\b\b\b\b\b\b\b\b\b\b\b\b\b\b\b\b\b\b\b\b\b\b\b\b\b\b\b\b\b\b\b\b\b\b\b\b\b\b\b\b\b\b\b\b\b\b\b\b\b\b\b\b\b\b\b\b\b\b\b\b\b\b\b\b\b\b\b\b\b\b\b\b\b\b\b\r",
      "18/18 [==============================] - 158s 9s/step - loss: 0.7847 - acc: 0.8919 - val_loss: 0.8587 - val_acc: 0.8400\n",
      "Epoch 6/49\n",
      "\r",
      " 1/18 [>.............................] - ETA: 2:47 - loss: 0.7179 - acc: 0.9400\b\b\b\b\b\b\b\b\b\b\b\b\b\b\b\b\b\b\b\b\b\b\b\b\b\b\b\b\b\b\b\b\b\b\b\b\b\b\b\b\b\b\b\b\b\b\b\b\b\b\b\b\b\b\b\b\b\b\b\b\b\b\b\b\b\b\b\b\b\b\b\b\b\b\b\b\b\b\b\r",
      " 2/18 [==>...........................] - ETA: 2:19 - loss: 0.7003 - acc: 0.9500\b\b\b\b\b\b\b\b\b\b\b\b\b\b\b\b\b\b\b\b\b\b\b\b\b\b\b\b\b\b\b\b\b\b\b\b\b\b\b\b\b\b\b\b\b\b\b\b\b\b\b\b\b\b\b\b\b\b\b\b\b\b\b\b\b\b\b\b\b\b\b\b\b\b\b\b\b\b\b\r",
      " 3/18 [====>.........................] - ETA: 2:10 - loss: 0.7600 - acc: 0.9267\b\b\b\b\b\b\b\b\b\b\b\b\b\b\b\b\b\b\b\b\b\b\b\b\b\b\b\b\b\b\b\b\b\b\b\b\b\b\b\b\b\b\b\b\b\b\b\b\b\b\b\b\b\b\b\b\b\b\b\b\b\b\b\b\b\b\b\b\b\b\b\b\b\b\b\b\b\b\b\r",
      " 4/18 [=====>........................] - ETA: 1:57 - loss: 0.7555 - acc: 0.9200\b\b\b\b\b\b\b\b\b\b\b\b\b\b\b\b\b\b\b\b\b\b\b\b\b\b\b\b\b\b\b\b\b\b\b\b\b\b\b\b\b\b\b\b\b\b\b\b\b\b\b\b\b\b\b\b\b\b\b\b\b\b\b\b\b\b\b\b\b\b\b\b\b\b\b\b\b\b\b\r",
      " 5/18 [=======>......................] - ETA: 1:29 - loss: 0.7287 - acc: 0.9360\b\b\b\b\b\b\b\b\b\b\b\b\b\b\b\b\b\b\b\b\b\b\b\b\b\b\b\b\b\b\b\b\b\b\b\b\b\b\b\b\b\b\b\b\b\b\b\b\b\b\b\b\b\b\b\b\b\b\b\b\b\b\b\b\b\b\b\b\b\b\b\b\b\b\b\b\b\b\b\r",
      " 6/18 [=========>....................] - ETA: 1:26 - loss: 0.7482 - acc: 0.9200\b\b\b\b\b\b\b\b\b\b\b\b\b\b\b\b\b\b\b\b\b\b\b\b\b\b\b\b\b\b\b\b\b\b\b\b\b\b\b\b\b\b\b\b\b\b\b\b\b\b\b\b\b\b\b\b\b\b\b\b\b\b\b\b\b\b\b\b\b\b\b\b\b\b\b\b\b\b\b\r",
      " 7/18 [==========>...................] - ETA: 1:20 - loss: 0.7521 - acc: 0.9200\b\b\b\b\b\b\b\b\b\b\b\b\b\b\b\b\b\b\b\b\b\b\b\b\b\b\b\b\b\b\b\b\b\b\b\b\b\b\b\b\b\b\b\b\b\b\b\b\b\b\b\b\b\b\b\b\b\b\b\b\b\b\b\b\b\b\b\b\b\b\b\b\b\b\b\b\b\b\b\r",
      " 8/18 [============>.................] - ETA: 1:12 - loss: 0.7617 - acc: 0.9125\b\b\b\b\b\b\b\b\b\b\b\b\b\b\b\b\b\b\b\b\b\b\b\b\b\b\b\b\b\b\b\b\b\b\b\b\b\b\b\b\b\b\b\b\b\b\b\b\b\b\b\b\b\b\b\b\b\b\b\b\b\b\b\b\b\b\b\b\b\b\b\b\b\b\b\b\b\b\b\r",
      " 9/18 [==============>...............] - ETA: 1:06 - loss: 0.7554 - acc: 0.9178\b\b\b\b\b\b\b\b\b\b\b\b\b\b\b\b\b\b\b\b\b\b\b\b\b\b\b\b\b\b\b\b\b\b\b\b\b\b\b\b\b\b\b\b\b\b\b\b\b\b\b\b\b\b\b\b\b\b\b\b\b\b\b\b\b\b\b\b\b\b\b\b\b\b\b\b\b\b\b\r",
      "10/18 [===============>..............] - ETA: 59s - loss: 0.7480 - acc: 0.9160 \b\b\b\b\b\b\b\b\b\b\b\b\b\b\b\b\b\b\b\b\b\b\b\b\b\b\b\b\b\b\b\b\b\b\b\b\b\b\b\b\b\b\b\b\b\b\b\b\b\b\b\b\b\b\b\b\b\b\b\b\b\b\b\b\b\b\b\b\b\b\b\b\b\b\b\b\b\b\r",
      "11/18 [=================>............] - ETA: 53s - loss: 0.7451 - acc: 0.9109\b\b\b\b\b\b\b\b\b\b\b\b\b\b\b\b\b\b\b\b\b\b\b\b\b\b\b\b\b\b\b\b\b\b\b\b\b\b\b\b\b\b\b\b\b\b\b\b\b\b\b\b\b\b\b\b\b\b\b\b\b\b\b\b\b\b\b\b\b\b\b\b\b\b\b\b\b\b\r",
      "12/18 [===================>..........] - ETA: 46s - loss: 0.7479 - acc: 0.9100\b\b\b\b\b\b\b\b\b\b\b\b\b\b\b\b\b\b\b\b\b\b\b\b\b\b\b\b\b\b\b\b\b\b\b\b\b\b\b\b\b\b\b\b\b\b\b\b\b\b\b\b\b\b\b\b\b\b\b\b\b\b\b\b\b\b\b\b\b\b\b\b\b\b\b\b\b\b\r",
      "13/18 [====================>.........] - ETA: 39s - loss: 0.7395 - acc: 0.9169\b\b\b\b\b\b\b\b\b\b\b\b\b\b\b\b\b\b\b\b\b\b\b\b\b\b\b\b\b\b\b\b\b\b\b\b\b\b\b\b\b\b\b\b\b\b\b\b\b\b\b\b\b\b\b\b\b\b\b\b\b\b\b\b\b\b\b\b\b\b\b\b\b\b\b\b\b\b\r",
      "14/18 [======================>.......] - ETA: 31s - loss: 0.7399 - acc: 0.9143\b\b\b\b\b\b\b\b\b\b\b\b\b\b\b\b\b\b\b\b\b\b\b\b\b\b\b\b\b\b\b\b\b\b\b\b\b\b\b\b\b\b\b\b\b\b\b\b\b\b\b\b\b\b\b\b\b\b\b\b\b\b\b\b\b\b\b\b\b\b\b\b\b\b\b\b\b\b\r",
      "15/18 [========================>.....] - ETA: 23s - loss: 0.7430 - acc: 0.9133\b\b\b\b\b\b\b\b\b\b\b\b\b\b\b\b\b\b\b\b\b\b\b\b\b\b\b\b\b\b\b\b\b\b\b\b\b\b\b\b\b\b\b\b\b\b\b\b\b\b\b\b\b\b\b\b\b\b\b\b\b\b\b\b\b\b\b\b\b\b\b\b\b\b\b\b\b\b\r",
      "16/18 [=========================>....] - ETA: 15s - loss: 0.7486 - acc: 0.9125\b\b\b\b\b\b\b\b\b\b\b\b\b\b\b\b\b\b\b\b\b\b\b\b\b\b\b\b\b\b\b\b\b\b\b\b\b\b\b\b\b\b\b\b\b\b\b\b\b\b\b\b\b\b\b\b\b\b\b\b\b\b\b\b\b\b\b\b\b\b\b\b\b\b\b\b\b\b\r",
      "17/18 [===========================>..] - ETA: 7s - loss: 0.7448 - acc: 0.9118 \b\b\b\b\b\b\b\b\b\b\b\b\b\b\b\b\b\b\b\b\b\b\b\b\b\b\b\b\b\b\b\b\b\b\b\b\b\b\b\b\b\b\b\b\b\b\b\b\b\b\b\b\b\b\b\b\b\b\b\b\b\b\b\b\b\b\b\b\b\b\b\b\b\b\b\b\b\r",
      "18/18 [==============================] - 151s 8s/step - loss: 0.7441 - acc: 0.9109 - val_loss: 0.7945 - val_acc: 0.9000\n",
      "Epoch 7/49\n",
      "\r",
      " 1/18 [>.............................] - ETA: 2:50 - loss: 0.7411 - acc: 0.9200\b\b\b\b\b\b\b\b\b\b\b\b\b\b\b\b\b\b\b\b\b\b\b\b\b\b\b\b\b\b\b\b\b\b\b\b\b\b\b\b\b\b\b\b\b\b\b\b\b\b\b\b\b\b\b\b\b\b\b\b\b\b\b\b\b\b\b\b\b\b\b\b\b\b\b\b\b\b\b\r",
      " 2/18 [==>...........................] - ETA: 2:38 - loss: 0.7041 - acc: 0.9400\b\b\b\b\b\b\b\b\b\b\b\b\b\b\b\b\b\b\b\b\b\b\b\b\b\b\b\b\b\b\b\b\b\b\b\b\b\b\b\b\b\b\b\b\b\b\b\b\b\b\b\b\b\b\b\b\b\b\b\b\b\b\b\b\b\b\b\b\b\b\b\b\b\b\b\b\b\b\b\r",
      " 3/18 [====>.........................] - ETA: 2:23 - loss: 0.7251 - acc: 0.9333\b\b\b\b\b\b\b\b\b\b\b\b\b\b\b\b\b\b\b\b\b\b\b\b\b\b\b\b\b\b\b\b\b\b\b\b\b\b\b\b\b\b\b\b\b\b\b\b\b\b\b\b\b\b\b\b\b\b\b\b\b\b\b\b\b\b\b\b\b\b\b\b\b\b\b\b\b\b\b\r",
      " 4/18 [=====>........................] - ETA: 2:15 - loss: 0.7162 - acc: 0.9350\b\b\b\b\b\b\b\b\b\b\b\b\b\b\b\b\b\b\b\b\b\b\b\b\b\b\b\b\b\b\b\b\b\b\b\b\b\b\b\b\b\b\b\b\b\b\b\b\b\b\b\b\b\b\b\b\b\b\b\b\b\b\b\b\b\b\b\b\b\b\b\b\b\b\b\b\b\b\b\r",
      " 5/18 [=======>......................] - ETA: 2:05 - loss: 0.7447 - acc: 0.9240\b\b\b\b\b\b\b\b\b\b\b\b\b\b\b\b\b\b\b\b\b\b\b\b\b\b\b\b\b\b\b\b\b\b\b\b\b\b\b\b\b\b\b\b\b\b\b\b\b\b\b\b\b\b\b\b\b\b\b\b\b\b\b\b\b\b\b\b\b\b\b\b\b\b\b\b\b\b\b\r",
      " 6/18 [=========>....................] - ETA: 1:38 - loss: 0.8104 - acc: 0.8950\b\b\b\b\b\b\b\b\b\b\b\b\b\b\b\b\b\b\b\b\b\b\b\b\b\b\b\b\b\b\b\b\b\b\b\b\b\b\b\b\b\b\b\b\b\b\b\b\b\b\b\b\b\b\b\b\b\b\b\b\b\b\b\b\b\b\b\b\b\b\b\b\b\b\b\b\b\b\b\r",
      " 7/18 [==========>...................] - ETA: 1:32 - loss: 0.7933 - acc: 0.9043\b\b\b\b\b\b\b\b\b\b\b\b\b\b\b\b\b\b\b\b\b\b\b\b\b\b\b\b\b\b\b\b\b\b\b\b\b\b\b\b\b\b\b\b\b\b\b\b\b\b\b\b\b\b\b\b\b\b\b\b\b\b\b\b\b\b\b\b\b\b\b\b\b\b\b\b\b\b\b\r",
      " 8/18 [============>.................] - ETA: 1:24 - loss: 0.7841 - acc: 0.9062\b\b\b\b\b\b\b\b\b\b\b\b\b\b\b\b\b\b\b\b\b\b\b\b\b\b\b\b\b\b\b\b\b\b\b\b\b\b\b\b\b\b\b\b\b\b\b\b\b\b\b\b\b\b\b\b\b\b\b\b\b\b\b\b\b\b\b\b\b\b\b\b\b\b\b\b\b\b\b\r",
      " 9/18 [==============>...............] - ETA: 1:15 - loss: 0.7801 - acc: 0.9078\b\b\b\b\b\b\b\b\b\b\b\b\b\b\b\b\b\b\b\b\b\b\b\b\b\b\b\b\b\b\b\b\b\b\b\b\b\b\b\b\b\b\b\b\b\b\b\b\b\b\b\b\b\b\b\b\b\b\b\b\b\b\b\b\b\b\b\b\b\b\b\b\b\b\b\b\b\b\b\r",
      "10/18 [===============>..............] - ETA: 1:06 - loss: 0.7850 - acc: 0.8990\b\b\b\b\b\b\b\b\b\b\b\b\b\b\b\b\b\b\b\b\b\b\b\b\b\b\b\b\b\b\b\b\b\b\b\b\b\b\b\b\b\b\b\b\b\b\b\b\b\b\b\b\b\b\b\b\b\b\b\b\b\b\b\b\b\b\b\b\b\b\b\b\b\b\b\b\b\b\b\r",
      "11/18 [=================>............] - ETA: 59s - loss: 0.7914 - acc: 0.8955 \b\b\b\b\b\b\b\b\b\b\b\b\b\b\b\b\b\b\b\b\b\b\b\b\b\b\b\b\b\b\b\b\b\b\b\b\b\b\b\b\b\b\b\b\b\b\b\b\b\b\b\b\b\b\b\b\b\b\b\b\b\b\b\b\b\b\b\b\b\b\b\b\b\b\b\b\b\b\r",
      "12/18 [===================>..........] - ETA: 50s - loss: 0.7862 - acc: 0.8992\b\b\b\b\b\b\b\b\b\b\b\b\b\b\b\b\b\b\b\b\b\b\b\b\b\b\b\b\b\b\b\b\b\b\b\b\b\b\b\b\b\b\b\b\b\b\b\b\b\b\b\b\b\b\b\b\b\b\b\b\b\b\b\b\b\b\b\b\b\b\b\b\b\b\b\b\b\b\r",
      "13/18 [====================>.........] - ETA: 41s - loss: 0.7905 - acc: 0.8900\b\b\b\b\b\b\b\b\b\b\b\b\b\b\b\b\b\b\b\b\b\b\b\b\b\b\b\b\b\b\b\b\b\b\b\b\b\b\b\b\b\b\b\b\b\b\b\b\b\b\b\b\b\b\b\b\b\b\b\b\b\b\b\b\b\b\b\b\b\b\b\b\b\b\b\b\b\b\r",
      "14/18 [======================>.......] - ETA: 33s - loss: 0.7843 - acc: 0.8907\b\b\b\b\b\b\b\b\b\b\b\b\b\b\b\b\b\b\b\b\b\b\b\b\b\b\b\b\b\b\b\b\b\b\b\b\b\b\b\b\b\b\b\b\b\b\b\b\b\b\b\b\b\b\b\b\b\b\b\b\b\b\b\b\b\b\b\b\b\b\b\b\b\b\b\b\b\b\r",
      "15/18 [========================>.....] - ETA: 25s - loss: 0.7882 - acc: 0.8913\b\b\b\b\b\b\b\b\b\b\b\b\b\b\b\b\b\b\b\b\b\b\b\b\b\b\b\b\b\b\b\b\b\b\b\b\b\b\b\b\b\b\b\b\b\b\b\b\b\b\b\b\b\b\b\b\b\b\b\b\b\b\b\b\b\b\b\b\b\b\b\b\b\b\b\b\b\b\r",
      "16/18 [=========================>....] - ETA: 16s - loss: 0.7904 - acc: 0.8906\b\b\b\b\b\b\b\b\b\b\b\b\b\b\b\b\b\b\b\b\b\b\b\b\b\b\b\b\b\b\b\b\b\b\b\b\b\b\b\b\b\b\b\b\b\b\b\b\b\b\b\b\b\b\b\b\b\b\b\b\b\b\b\b\b\b\b\b\b\b\b\b\b\b\b\b\b\b\r",
      "17/18 [===========================>..] - ETA: 8s - loss: 0.7910 - acc: 0.8900 \b\b\b\b\b\b\b\b\b\b\b\b\b\b\b\b\b\b\b\b\b\b\b\b\b\b\b\b\b\b\b\b\b\b\b\b\b\b\b\b\b\b\b\b\b\b\b\b\b\b\b\b\b\b\b\b\b\b\b\b\b\b\b\b\b\b\b\b\b\b\b\b\b\b\b\b\b\r",
      "18/18 [==============================] - 153s 8s/step - loss: 0.7945 - acc: 0.8887 - val_loss: 0.6951 - val_acc: 0.9400\n",
      "Epoch 8/49\n",
      "\r",
      " 1/18 [>.............................] - ETA: 2:47 - loss: 0.9526 - acc: 0.8400\b\b\b\b\b\b\b\b\b\b\b\b\b\b\b\b\b\b\b\b\b\b\b\b\b\b\b\b\b\b\b\b\b\b\b\b\b\b\b\b\b\b\b\b\b\b\b\b\b\b\b\b\b\b\b\b\b\b\b\b\b\b\b\b\b\b\b\b\b\b\b\b\b\b\b\b\b\b\b\r",
      " 2/18 [==>...........................] - ETA: 2:17 - loss: 0.\n"
     ]
    }
   ],
   "source": [
    "file_out=captured.stdout\n",
    "print(file_out[:20000])"
   ]
  },
  {
   "cell_type": "code",
   "execution_count": 136,
   "metadata": {},
   "outputs": [
    {
     "name": "stdout",
     "output_type": "stream",
     "text": [
      "evaluating network...\n"
     ]
    }
   ],
   "source": [
    "# reset the testing generator and then use our trained model to make predictions on the data\n",
    "print(\"evaluating network...\")\n",
    "testing_generator.reset()\n",
    "predict_X_id = model.predict_generator(testing_generator,steps=(test_images // batch_size) + 1)"
   ]
  },
  {
   "cell_type": "markdown",
   "metadata": {},
   "source": [
    "Results look pretty good, I'm not sure I can get better than this. There is a possibility I could have some overfitting to my data; a common and notorious problem with neural networks."
   ]
  },
  {
   "cell_type": "code",
   "execution_count": 137,
   "metadata": {},
   "outputs": [
    {
     "name": "stdout",
     "output_type": "stream",
     "text": [
      "             precision    recall  f1-score   support\n",
      "\n",
      "      cases       0.92      0.95      0.94        88\n",
      "   controls       0.97      0.96      0.97       163\n",
      "\n",
      "avg / total       0.96      0.96      0.96       251\n",
      "\n"
     ]
    }
   ],
   "source": [
    "# for each image in the testing set we need to find the index of the label with corresponding largest predicted probability\n",
    "predict_X_id = np.argmax(predict_X_id, axis=1)\n",
    "\n",
    "# show a nicely formatted classification report\n",
    "print(classification_report(testing_generator.classes, predict_X_id,target_names=testing_generator.class_indices.keys()))"
   ]
  },
  {
   "cell_type": "code",
   "execution_count": null,
   "metadata": {},
   "outputs": [],
   "source": [
    "import plotly.offline as py\n",
    "import plotly.graph_objs as go\n",
    "py.init_notebook_mode(connected=True)\n",
    "%matplotlib inline"
   ]
  },
  {
   "cell_type": "code",
   "execution_count": null,
   "metadata": {},
   "outputs": [],
   "source": [
    "N = epochs_num #Number of epochs in training\n",
    "\n",
    "val_loss = go.Scatter(x=np.arange(0, N),y=train_model.history['val_loss'],\n",
    "                name = \"Validation Loss\",line = dict(color = '#f4a582'),opacity = 0.9)\n",
    "\n",
    "val_acc = go.Scatter(x=np.arange(0, N),y=train_model.history['val_acc'],\n",
    "                name = \"Validation Accuracy\",line = dict(color = '#ca0020'),opacity = 0.9)\n",
    "\n",
    "loss = go.Scatter(x=np.arange(0, N),y=train_model.history['loss'],\n",
    "                name = \"Predicted Loss\",line = dict(color = '#92c5de'),opacity = 0.9)\n",
    "\n",
    "acc = go.Scatter(x=np.arange(0, N),y=train_model.history['acc'],name = \"Predicted Accuracy\",\n",
    "                line = dict(color = '#0571b0'),opacity = 0.9)\n",
    "\n",
    "data = [val_loss,val_acc,loss,acc]\n",
    "\n",
    "\n",
    "layout = go.Layout(title='Training Loss and Accuracy <br> Classifying Retinal Images.',\n",
    "                yaxis=dict(title='Loss/Accuracy</b>',ticks='',showticklabels=True,showgrid=True,\n",
    "                titlefont=dict(family='Arial, sans-serif',size=18))\n",
    "                ,xaxis=dict(title='Number of Epochs',ticks='',tickangle=0))\n",
    "\n",
    "fig = dict(data=data, layout=layout)\n",
    "py.iplot(fig, filename = \"Training Loss and Accuracy on Dataset\")"
   ]
  },
  {
   "cell_type": "markdown",
   "metadata": {},
   "source": [
    "Save Model\n",
    "-----"
   ]
  },
  {
   "cell_type": "code",
   "execution_count": 140,
   "metadata": {},
   "outputs": [],
   "source": [
    "#https://keras.io/getting-started/faq/#how-can-i-save-a-keras-model\n",
    "from keras.models import load_model\n",
    "#Saves all elements including weights\n",
    "model.save('glaucoma_model_weights.h5')  # creates a HDF5 file 'glaucoma_model.h5'\n",
    "\n",
    "import json\n",
    "# save as JSON only saves architecture\n",
    "model_json = model.to_json()\n",
    "with open(\"glaucoma_model_architecture.json\", \"w\") as json_file:\n",
    "    json_file.write(model_json)"
   ]
  },
  {
   "cell_type": "code",
   "execution_count": 34,
   "metadata": {},
   "outputs": [],
   "source": [
    "from keras.models import model_from_json\n",
    "json_file = open('glaucoma_model_architecture.json', 'r')\n",
    "loaded_model_json = json_file.read()\n",
    "json_file.close()\n",
    "loaded_model = model_from_json(loaded_model_json)"
   ]
  },
  {
   "cell_type": "markdown",
   "metadata": {},
   "source": [
    "______________________________"
   ]
  },
  {
   "cell_type": "markdown",
   "metadata": {},
   "source": [
    "Sight Testing Trained Model\n",
    "==========="
   ]
  },
  {
   "cell_type": "code",
   "execution_count": 35,
   "metadata": {},
   "outputs": [],
   "source": [
    "from keras.preprocessing.image import ImageDataGenerator\n",
    "from keras.models import Sequential\n",
    "from keras.layers import Conv2D, MaxPooling2D\n",
    "from keras.layers import Activation, Dropout, Flatten, Dense\n",
    "from keras import backend as K\n",
    "from keras.preprocessing.image import load_img\n",
    "from keras.models import load_model\n",
    "from keras.preprocessing import image"
   ]
  },
  {
   "cell_type": "code",
   "execution_count": 47,
   "metadata": {},
   "outputs": [
    {
     "name": "stdout",
     "output_type": "stream",
     "text": [
      "Found 100 images belonging to 2 classes.\n",
      "1/1 [==============================] - 8s 8s/step\n"
     ]
    }
   ],
   "source": [
    "import pandas as pd\n",
    "\n",
    "image_augmentation = ImageDataGenerator(rescale=1 / 255.0)\n",
    "image_generator = image_augmentation.flow_from_directory(validation_directory,\n",
    "                                                                   class_mode=\"categorical\",\n",
    "                                                                   target_size=(img_height, img_width),\n",
    "                                                                   color_mode=\"rgb\",\n",
    "                                                                   shuffle=False,\n",
    "                                                                   batch_size=batch_size)\n",
    "pred_val=model.predict_generator(image_generator,steps=1,verbose=1)\n",
    "\n",
    "labels = {y:x for x,y in image_generator.class_indices.items()}\n",
    "\n",
    "cases,controls=[],[]\n",
    "for i,j in pred_val:\n",
    "    cases.append(i)\n",
    "    controls.append(j)\n",
    "    \n",
    "column_names=['index','filepath','filename','label','prediction']\n",
    "df=pd.DataFrame([image_generator.index_array,image_generator.filepaths,image_generator.filenames,image_generator.labels,pred_val.flatten()])\n",
    "df=df.transpose()\n",
    "df.columns=column_names\n",
    "df['label']=df['label'].map(labels)"
   ]
  },
  {
   "cell_type": "markdown",
   "metadata": {},
   "source": [
    "*Take 10 random samples of the data*"
   ]
  },
  {
   "cell_type": "code",
   "execution_count": 48,
   "metadata": {},
   "outputs": [
    {
     "data": {
      "text/html": [
       "<div>\n",
       "<style scoped>\n",
       "    .dataframe tbody tr th:only-of-type {\n",
       "        vertical-align: middle;\n",
       "    }\n",
       "\n",
       "    .dataframe tbody tr th {\n",
       "        vertical-align: top;\n",
       "    }\n",
       "\n",
       "    .dataframe thead th {\n",
       "        text-align: right;\n",
       "    }\n",
       "</style>\n",
       "<table border=\"1\" class=\"dataframe\">\n",
       "  <thead>\n",
       "    <tr style=\"text-align: right;\">\n",
       "      <th></th>\n",
       "      <th>index</th>\n",
       "      <th>filepath</th>\n",
       "      <th>filename</th>\n",
       "      <th>label</th>\n",
       "      <th>prediction</th>\n",
       "    </tr>\n",
       "  </thead>\n",
       "  <tbody>\n",
       "    <tr>\n",
       "      <th>66</th>\n",
       "      <td>66</td>\n",
       "      <td>./local_test/test_dir/input/data/training/vali...</td>\n",
       "      <td>controls/389.png</td>\n",
       "      <td>controls</td>\n",
       "      <td>0.998623</td>\n",
       "    </tr>\n",
       "    <tr>\n",
       "      <th>35</th>\n",
       "      <td>35</td>\n",
       "      <td>./local_test/test_dir/input/data/training/vali...</td>\n",
       "      <td>cases/441.png</td>\n",
       "      <td>cases</td>\n",
       "      <td>3.81688e-05</td>\n",
       "    </tr>\n",
       "    <tr>\n",
       "      <th>50</th>\n",
       "      <td>50</td>\n",
       "      <td>./local_test/test_dir/input/data/training/vali...</td>\n",
       "      <td>controls/191.png</td>\n",
       "      <td>controls</td>\n",
       "      <td>0.650788</td>\n",
       "    </tr>\n",
       "    <tr>\n",
       "      <th>37</th>\n",
       "      <td>37</td>\n",
       "      <td>./local_test/test_dir/input/data/training/vali...</td>\n",
       "      <td>cases/459.png</td>\n",
       "      <td>cases</td>\n",
       "      <td>0.000199789</td>\n",
       "    </tr>\n",
       "    <tr>\n",
       "      <th>53</th>\n",
       "      <td>53</td>\n",
       "      <td>./local_test/test_dir/input/data/training/vali...</td>\n",
       "      <td>controls/290.png</td>\n",
       "      <td>controls</td>\n",
       "      <td>0.992626</td>\n",
       "    </tr>\n",
       "    <tr>\n",
       "      <th>98</th>\n",
       "      <td>98</td>\n",
       "      <td>./local_test/test_dir/input/data/training/vali...</td>\n",
       "      <td>controls/787.png</td>\n",
       "      <td>controls</td>\n",
       "      <td>3.23614e-05</td>\n",
       "    </tr>\n",
       "    <tr>\n",
       "      <th>38</th>\n",
       "      <td>38</td>\n",
       "      <td>./local_test/test_dir/input/data/training/vali...</td>\n",
       "      <td>cases/461.png</td>\n",
       "      <td>cases</td>\n",
       "      <td>0.994669</td>\n",
       "    </tr>\n",
       "    <tr>\n",
       "      <th>62</th>\n",
       "      <td>62</td>\n",
       "      <td>./local_test/test_dir/input/data/training/vali...</td>\n",
       "      <td>controls/359.png</td>\n",
       "      <td>controls</td>\n",
       "      <td>0.997941</td>\n",
       "    </tr>\n",
       "    <tr>\n",
       "      <th>16</th>\n",
       "      <td>16</td>\n",
       "      <td>./local_test/test_dir/input/data/training/vali...</td>\n",
       "      <td>cases/217.png</td>\n",
       "      <td>cases</td>\n",
       "      <td>0.838873</td>\n",
       "    </tr>\n",
       "    <tr>\n",
       "      <th>48</th>\n",
       "      <td>48</td>\n",
       "      <td>./local_test/test_dir/input/data/training/vali...</td>\n",
       "      <td>controls/181.png</td>\n",
       "      <td>controls</td>\n",
       "      <td>0.997004</td>\n",
       "    </tr>\n",
       "  </tbody>\n",
       "</table>\n",
       "</div>"
      ],
      "text/plain": [
       "   index                                           filepath          filename  \\\n",
       "66    66  ./local_test/test_dir/input/data/training/vali...  controls/389.png   \n",
       "35    35  ./local_test/test_dir/input/data/training/vali...     cases/441.png   \n",
       "50    50  ./local_test/test_dir/input/data/training/vali...  controls/191.png   \n",
       "37    37  ./local_test/test_dir/input/data/training/vali...     cases/459.png   \n",
       "53    53  ./local_test/test_dir/input/data/training/vali...  controls/290.png   \n",
       "98    98  ./local_test/test_dir/input/data/training/vali...  controls/787.png   \n",
       "38    38  ./local_test/test_dir/input/data/training/vali...     cases/461.png   \n",
       "62    62  ./local_test/test_dir/input/data/training/vali...  controls/359.png   \n",
       "16    16  ./local_test/test_dir/input/data/training/vali...     cases/217.png   \n",
       "48    48  ./local_test/test_dir/input/data/training/vali...  controls/181.png   \n",
       "\n",
       "       label   prediction  \n",
       "66  controls     0.998623  \n",
       "35     cases  3.81688e-05  \n",
       "50  controls     0.650788  \n",
       "37     cases  0.000199789  \n",
       "53  controls     0.992626  \n",
       "98  controls  3.23614e-05  \n",
       "38     cases     0.994669  \n",
       "62  controls     0.997941  \n",
       "16     cases     0.838873  \n",
       "48  controls     0.997004  "
      ]
     },
     "execution_count": 48,
     "metadata": {},
     "output_type": "execute_result"
    }
   ],
   "source": [
    "df.sample(10)"
   ]
  },
  {
   "cell_type": "markdown",
   "metadata": {},
   "source": [
    "Cases\n",
    "----"
   ]
  },
  {
   "cell_type": "markdown",
   "metadata": {},
   "source": [
    "**Best Outcome**"
   ]
  },
  {
   "cell_type": "code",
   "execution_count": 39,
   "metadata": {},
   "outputs": [
    {
     "name": "stdout",
     "output_type": "stream",
     "text": [
      "Prediction:  0.8172176 \n",
      " Label:  cases\n"
     ]
    },
    {
     "data": {
      "image/png": "[encoded data removed]",
      "text/plain": [
       "<PIL.Image.Image image mode=RGB size=64x64 at 0x7F4583297908>"
      ]
     },
     "execution_count": 39,
     "metadata": {},
     "output_type": "execute_result"
    }
   ],
   "source": [
    "# load an image from file\n",
    "image_row=34\n",
    "image = load_img(df.filepath[image_row], target_size=(img_height, img_width))\n",
    "print('Prediction: ',df.prediction[image_row],'\\n','Label: ',df.label[image_row])\n",
    "image"
   ]
  },
  {
   "cell_type": "markdown",
   "metadata": {},
   "source": [
    "**Worst Outcome**"
   ]
  },
  {
   "cell_type": "code",
   "execution_count": 40,
   "metadata": {},
   "outputs": [
    {
     "name": "stdout",
     "output_type": "stream",
     "text": [
      "Prediction:  0.04256223 \n",
      " Label:  cases\n"
     ]
    },
    {
     "data": {
      "image/png": "[encoded data removed]",
      "text/plain": [
       "<PIL.Image.Image image mode=RGB size=64x64 at 0x7F452DCCFDA0>"
      ]
     },
     "execution_count": 40,
     "metadata": {},
     "output_type": "execute_result"
    }
   ],
   "source": [
    "# load an image from file\n",
    "image_row=29\n",
    "image = load_img(df.filepath[image_row], target_size=(img_height, img_width))\n",
    "print('Prediction: ',df.prediction[image_row],'\\n','Label: ',df.label[image_row])\n",
    "image"
   ]
  },
  {
   "cell_type": "markdown",
   "metadata": {},
   "source": [
    "Controls\n",
    "------"
   ]
  },
  {
   "cell_type": "markdown",
   "metadata": {},
   "source": [
    "**Best Outcome**"
   ]
  },
  {
   "cell_type": "code",
   "execution_count": 41,
   "metadata": {},
   "outputs": [
    {
     "name": "stdout",
     "output_type": "stream",
     "text": [
      "Prediction:  0.9673536 \n",
      " Label:  controls\n"
     ]
    },
    {
     "data": {
      "image/png": "[encoded data removed]",
      "text/plain": [
       "<PIL.Image.Image image mode=RGB size=64x64 at 0x7F4583297D68>"
      ]
     },
     "execution_count": 41,
     "metadata": {},
     "output_type": "execute_result"
    }
   ],
   "source": [
    "# load an image from file\n",
    "image_row=66\n",
    "image = load_img(df.filepath[image_row], target_size=(img_height, img_width))\n",
    "print('Prediction: ',df.prediction[image_row],'\\n','Label: ',df.label[image_row])\n",
    "image"
   ]
  },
  {
   "cell_type": "markdown",
   "metadata": {},
   "source": [
    "**Worst Outcome**"
   ]
  },
  {
   "cell_type": "code",
   "execution_count": 42,
   "metadata": {},
   "outputs": [
    {
     "name": "stdout",
     "output_type": "stream",
     "text": [
      "Prediction:  0.035083584 \n",
      " Label:  controls\n"
     ]
    },
    {
     "data": {
      "image/png": "[encoded data removed]",
      "text/plain": [
       "<PIL.Image.Image image mode=RGB size=64x64 at 0x7F452DCF0CF8>"
      ]
     },
     "execution_count": 42,
     "metadata": {},
     "output_type": "execute_result"
    }
   ],
   "source": [
    "# load an image from file\n",
    "image_row=73\n",
    "image = load_img(df.filepath[image_row], target_size=(img_height, img_width))\n",
    "print('Prediction: ',df.prediction[image_row],'\\n','Label: ',df.label[image_row])\n",
    "image"
   ]
  },
  {
   "cell_type": "code",
   "execution_count": 43,
   "metadata": {},
   "outputs": [],
   "source": [
    "#from keras.models import load_model\n",
    "#from keras.preprocessing import image\n",
    "# returns a compiled model\n",
    "# identical to the previous one\n",
    "#model = load_model('glaucoma_model_5_1_2019.h5')"
   ]
  },
  {
   "cell_type": "markdown",
   "metadata": {},
   "source": [
    "Model Architecture Validation\n",
    "============="
   ]
  },
  {
   "cell_type": "code",
   "execution_count": 65,
   "metadata": {},
   "outputs": [],
   "source": [
    "from keras.utils.vis_utils import plot_model\n",
    "plot_model(model, to_file='resnet_plot.png')"
   ]
  },
  {
   "cell_type": "markdown",
   "metadata": {},
   "source": [
    "<img src='resnet_plot.png' width=\"500\" height=\"500\" align=\"left\">"
   ]
  }
 ],
 "metadata": {
  "kernelspec": {
   "display_name": "Python 3",
   "language": "python",
   "name": "python3"
  },
  "language_info": {
   "codemirror_mode": {
    "name": "ipython",
    "version": 3
   },
   "file_extension": ".py",
   "mimetype": "text/x-python",
   "name": "python",
   "nbconvert_exporter": "python",
   "pygments_lexer": "ipython3",
   "version": "3.6.5"
  }
 },
 "nbformat": 4,
 "nbformat_minor": 2
}
