{
 "cells": [
  {
   "cell_type": "code",
   "execution_count": 63,
   "metadata": {},
   "outputs": [],
   "source": [
    "from IPython.display import HTML\n",
    "from IPython.display import Image"
   ]
  },
  {
   "cell_type": "markdown",
   "metadata": {},
   "source": [
    "Retinal images\n",
    "----------"
   ]
  },
  {
   "cell_type": "markdown",
   "metadata": {},
   "source": [
    "<img src='glaucomapicture.jpg' width=\"300\" height=\"300\" align=\"left\">"
   ]
  },
  {
   "cell_type": "code",
   "execution_count": 2,
   "metadata": {},
   "outputs": [
    {
     "data": {
      "text/html": [
       "<script>\n",
       "  function code_toggle() {\n",
       "    if (code_shown){\n",
       "      $('div.input').hide('500');\n",
       "      $('#toggleButton').val('Show Code')\n",
       "    } else {\n",
       "      $('div.input').show('500');\n",
       "      $('#toggleButton').val('Hide Code')\n",
       "    }\n",
       "    code_shown = !code_shown\n",
       "  }\n",
       "\n",
       "  $( document ).ready(function(){\n",
       "    code_shown=false;\n",
       "    $('div.input').hide()\n",
       "  });\n",
       "</script>\n",
       "<form action=\"javascript:code_toggle()\"><input type=\"submit\" id=\"toggleButton\" value=\"Show Code\"></form>"
      ],
      "text/plain": [
       "<IPython.core.display.HTML object>"
      ]
     },
     "execution_count": 2,
     "metadata": {},
     "output_type": "execute_result"
    }
   ],
   "source": [
    "HTML('''<script>\n",
    "  function code_toggle() {\n",
    "    if (code_shown){\n",
    "      $('div.input').hide('500');\n",
    "      $('#toggleButton').val('Show Code')\n",
    "    } else {\n",
    "      $('div.input').show('500');\n",
    "      $('#toggleButton').val('Hide Code')\n",
    "    }\n",
    "    code_shown = !code_shown\n",
    "  }\n",
    "\n",
    "  $( document ).ready(function(){\n",
    "    code_shown=false;\n",
    "    $('div.input').hide()\n",
    "  });\n",
    "</script>\n",
    "<form action=\"javascript:code_toggle()\"><input type=\"submit\" id=\"toggleButton\" value=\"Show Code\"></form>''')"
   ]
  },
  {
   "cell_type": "markdown",
   "metadata": {},
   "source": [
    "Project: Glaucoma Detection\n",
    "======="
   ]
  },
  {
   "cell_type": "markdown",
   "metadata": {},
   "source": [
    "**By: Pieter Leffers**"
   ]
  },
  {
   "cell_type": "markdown",
   "metadata": {},
   "source": [
    "*Starting Date: March 1, 2019*\n",
    "\n",
    "*Completion Date: -, 2019*\n",
    "\n",
    "*Last Updated: March 18, 2019*"
   ]
  },
  {
   "cell_type": "markdown",
   "metadata": {},
   "source": [
    "**Project Description**\n",
    "--------"
   ]
  },
  {
   "cell_type": "markdown",
   "metadata": {},
   "source": [
    "According to the  American Optometric Association, Glaucoma is a general term for a number of eye conditions that progressively damage the optic nerve,consequently causing vision loss. Diagnosis of glaucoma is complex, but is often associated with elevated intraocular pressure, optic nerve damage, and reduction in visual acuity and visual field. Vision loss from glaucoma is permanent, but progression may be slowed or halted through early diagnosis and treatment.\n",
    "\n",
    " \n",
    " \n",
    " \n",
    " American Optometric Association. Glossary of Common Eye & Vision Conditions website.\n",
    "https://www.aoa.org/patients-and-public/eye-and-vision-problems/glossary-of-eye-and-vision-conditions. Accessed June 7, 2018."
   ]
  },
  {
   "cell_type": "markdown",
   "metadata": {},
   "source": [
    "**Data Source: **\n"
   ]
  },
  {
   "cell_type": "markdown",
   "metadata": {},
   "source": [
    "For this project I will use data gathered from the Harvard Dataverse collected and uploaded by Ungsoo Kim. The retinal image dataset consists of 788 ‘normal control’ images, 289 ‘early stage’ images, and 467 ‘advanced stage’ images.The images are already preprocessed, (scaled to 800 pixels and cropped so the nerve endings are of 240 pixels) thus ready to be used for machine learning tasks. However, this dataset will present itself particularly challenging as the number of retinal images needed for this task are less than desirable; thus representing a real-world problem of its own.\n",
    "\n",
    "The data was originally collected from Kim's Eye Hospital. The images have already been pre-processed and fixed to a size of 800 pixels, centered on the optic nerve, and cropped to a size of 240 pixels.\n",
    "\n",
    "The data is hosted on the Harvard Dataverse and can be downloaded at:\n",
    "*Kim, Ungsoo, 2018, \"Machine learn for glaucoma\", https://doi.org/10.7910/DVN/1YRRAC, Harvard Dataverse, V1 *\n"
   ]
  },
  {
   "cell_type": "markdown",
   "metadata": {},
   "source": [
    "**Note:** I will need to keep in mind folder structure in the future since I will be porting to sagemaker with a Dockerfile and the folder structure for Sagemaker is particularly important."
   ]
  },
  {
   "cell_type": "markdown",
   "metadata": {},
   "source": [
    "*Setup Folder Tree*"
   ]
  },
  {
   "cell_type": "markdown",
   "metadata": {},
   "source": [
    "    sage\n",
    "    ├── Dockerfile\n",
    "    ├── local_test\n",
    "    │  ├── predict.sh\n",
    "    │  ├── train.sh\n",
    "    │  ├── serve.sh\n",
    "    │  └── test_dir => /opt/ml in container\n",
    "    │      ├── input\n",
    "    │      │   ├── config\n",
    "    │      │   └── data\n",
    "    │      │       └── training\n",
    "    │      ├── model\n",
    "    │      └── output\n",
    "    └── program\n",
    "        ├── (some scripts...)\n",
    "        ├── train\n",
    "        └── serve"
   ]
  },
  {
   "cell_type": "markdown",
   "metadata": {},
   "source": [
    "**Import Packages**"
   ]
  },
  {
   "cell_type": "code",
   "execution_count": 1,
   "metadata": {},
   "outputs": [
    {
     "name": "stdout",
     "output_type": "stream",
     "text": [
      "Matplotlib Version: 2.2.2\n",
      "OpenCV Version: 4.0.0\n"
     ]
    }
   ],
   "source": [
    "import random\n",
    "import shutil\n",
    "import numpy as np\n",
    "import os\n",
    "import imgaug\n",
    "import cv2\n",
    "import os\n",
    "import matplotlib\n",
    "import matplotlib.pyplot as plt\n",
    "import random\n",
    "from imgaug import augmenters as iaa\n",
    "import imageio\n",
    "import imgaug as ia\n",
    "\n",
    "%matplotlib inline\n",
    "\n",
    "ver=cv2.__version__\n",
    "print('Matplotlib Version: {}'.format(matplotlib.__version__))\n",
    "if float(ver[0])==3 and float(ver[-3:])<4.2:\n",
    "    print('Please update OpenCV. This requires a minimum of OpenCV 3.4.2')\n",
    "    print('Your current version is: ',cv2.__version__)\n",
    "elif float(ver[0])>3:\n",
    "    print('OpenCV Version:',cv2.__version__) \n",
    "else:\n",
    "    print('OpenCV Version:',cv2.__version__)"
   ]
  },
  {
   "cell_type": "markdown",
   "metadata": {},
   "source": [
    "*Make folders*"
   ]
  },
  {
   "cell_type": "code",
   "execution_count": 2,
   "metadata": {},
   "outputs": [
    {
     "name": "stdout",
     "output_type": "stream",
     "text": [
      "Directory  ./local_test  Created \n",
      "Directory  ./program  Created \n",
      "Directory  ./local_test/test_dir  Created \n",
      "Directory  ./local_test/test_dir/input  Created \n",
      "Directory  ./local_test/test_dir/input/config  Created \n",
      "Directory  ./local_test/test_dir/input/data  Created \n",
      "Directory  ./local_test/test_dir/input/data/training  Created \n",
      "Directory  ./local_test/test_dir/input/data/training/augmentation  Created \n",
      "Directory  ./local_test/test_dir/model  Created \n",
      "Directory  ./local_test/test_dir/output  Created \n",
      "Directory  ./local_test/program  Created \n",
      "Directory  ./local_test/program/train  Created \n",
      "Directory  ./local_test/program/serve  Created \n",
      "Directory  ./local_test/test_dir/input/data/images  Created \n"
     ]
    }
   ],
   "source": [
    "DirList=['./local_test','./program',\\\n",
    "         './local_test/test_dir',\\\n",
    "         './local_test/test_dir/input',\\\n",
    "         './local_test/test_dir/input/config',\\\n",
    "         './local_test/test_dir/input/data',\\\n",
    "         './local_test/test_dir/input/data/training',\\\n",
    "         './local_test/test_dir/input/data/training/augmentation',\\\n",
    "         './local_test/test_dir/model',\\\n",
    "         './local_test/test_dir/output',\\\n",
    "         './local_test/program',\n",
    "         './local_test/program/train',\n",
    "         './local_test/program/serve',\\\n",
    "         './local_test/test_dir/input/data/images']#can add more folders I want to create in this process\n",
    "for i in DirList:\n",
    "    try:\n",
    "        # Create target Directory\n",
    "        os.mkdir(i)\n",
    "        print(\"Directory \" ,i,  \" Created \") \n",
    "    except:\n",
    "        print(\"Directory \" ,i,  \" already exists\")"
   ]
  },
  {
   "cell_type": "markdown",
   "metadata": {},
   "source": [
    "*Pull Data*"
   ]
  },
  {
   "cell_type": "code",
   "execution_count": 3,
   "metadata": {
    "scrolled": true
   },
   "outputs": [],
   "source": [
    "#Takes a couple of hours to download\n",
    "#!wget https://dataverse.harvard.edu/api/access/datafile/:persistentId?persistentId=doi:10.7910/DVN/1YRRAC/OGRSQO"
   ]
  },
  {
   "cell_type": "markdown",
   "metadata": {},
   "source": [
    "*Extract Data*"
   ]
  },
  {
   "cell_type": "markdown",
   "metadata": {},
   "source": [
    "*I am supressing the output in order to conserve space. I have printed the first 5 lines of the output to give you an idea of what is happening.*"
   ]
  },
  {
   "cell_type": "code",
   "execution_count": 4,
   "metadata": {},
   "outputs": [],
   "source": [
    "%%capture captured\n",
    "!unzip processed_data.zip -d ./local_test/test_dir/input/data/images"
   ]
  },
  {
   "cell_type": "code",
   "execution_count": 5,
   "metadata": {},
   "outputs": [],
   "source": [
    "file_out=captured.stdout"
   ]
  },
  {
   "cell_type": "code",
   "execution_count": 6,
   "metadata": {},
   "outputs": [
    {
     "name": "stdout",
     "output_type": "stream",
     "text": [
      "Archive:  processed_data.zip\r\n",
      "  inflating: ./local_test/test_dir/input/data/images/data_description.txt  \r\n",
      "   creating: ./local_test/test_dir/input/data/images/advanced_glaucoma/\r\n",
      "  inflating: ./local_test/test_dir/input/data/images/advanced_glaucoma/1.png  \r\n",
      "  inflating: ./local_test/test_dir/input/data/images/advanced_glaucoma/10.png  \r\n",
      "  inflating: ./local_test/test_dir/input/data/images/advanced_glaucoma/100.png \n"
     ]
    }
   ],
   "source": [
    "print(file_out[:420])"
   ]
  },
  {
   "cell_type": "markdown",
   "metadata": {},
   "source": [
    "*Setup Training, Testing, and Validation Folders*"
   ]
  },
  {
   "cell_type": "code",
   "execution_count": 7,
   "metadata": {},
   "outputs": [],
   "source": [
    "!mv ./local_test/test_dir/input/data/images/advanced_glaucoma/* ./local_test/test_dir/input/data/images/early_glaucoma\n",
    "!mv ./local_test/test_dir/input/data/images/early_glaucoma ./local_test/test_dir/input/data/images/cases\n",
    "!mv ./local_test/test_dir/input/data/images/normal_control ./local_test/test_dir/input/data/images/controls\n",
    "!rm -r ./local_test/test_dir/input/data/images/advanced_glaucoma/"
   ]
  },
  {
   "cell_type": "markdown",
   "metadata": {},
   "source": [
    "Setup Data Structure\n",
    "--------"
   ]
  },
  {
   "cell_type": "code",
   "execution_count": 8,
   "metadata": {},
   "outputs": [],
   "source": [
    "#Create training, testing, validation function, as well as a percentage for data augmentation of each\n",
    "\n",
    "# the path to the original images\n",
    "input_data_folder = \"local_test/test_dir/input/data/images\"\n",
    "# new directory that will contain our images after computing the training and testing split\n",
    "data_folder_name = \"local_test/test_dir/input/data/training\"\n",
    "\n",
    "# define the percentage of the data that will be used training\n",
    "training_percent = 0.8\n",
    "\n",
    "# the amount of validation data will be a percentage of the *training* data\n",
    "validation_percent = 0.1\n",
    "\n",
    "#the amount of augmentation needed for images\n",
    "augment_percent = 0.2"
   ]
  },
  {
   "cell_type": "markdown",
   "metadata": {},
   "source": [
    "The two functions below were pulled from imgauge github page because I couldn't import them from the library."
   ]
  },
  {
   "cell_type": "code",
   "execution_count": 9,
   "metadata": {},
   "outputs": [],
   "source": [
    "def do_assert(condition, message=\"Assertion failed.\"):\n",
    "    \"\"\"\n",
    "    Function that behaves equally to an `assert` statement, but raises an\n",
    "    Exception.\n",
    "    This is added because `assert` statements are removed in optimized code.\n",
    "    It replaces `assert` statements throughout the library that should be\n",
    "    kept even in optimized code.\n",
    "    Parameters\n",
    "    ----------\n",
    "    condition : bool\n",
    "        If False, an exception is raised.\n",
    "    message : str, optional\n",
    "        Error message.\n",
    "    \"\"\"\n",
    "    if not condition:\n",
    "        raise AssertionError(str(message))\n",
    "\n",
    "IMSHOW_BACKEND_DEFAULT = \"matplotlib\"\n",
    "def imshow(image, backend=IMSHOW_BACKEND_DEFAULT):\n",
    "    \"\"\"\n",
    "    Shows an image in a window.\n",
    "    dtype support::\n",
    "        * ``uint8``: yes; not tested\n",
    "        * ``uint16``: ?\n",
    "        * ``uint32``: ?\n",
    "        * ``uint64``: ?\n",
    "        * ``int8``: ?\n",
    "        * ``int16``: ?\n",
    "        * ``int32``: ?\n",
    "        * ``int64``: ?\n",
    "        * ``float16``: ?\n",
    "        * ``float32``: ?\n",
    "        * ``float64``: ?\n",
    "        * ``float128``: ?\n",
    "        * ``bool``: ?\n",
    "    Parameters\n",
    "    ----------\n",
    "    image : (H,W,3) ndarray\n",
    "        Image to show.\n",
    "    backend : {'matplotlib', 'cv2'}, optional\n",
    "        Library to use to show the image. May be either matplotlib or OpenCV ('cv2').\n",
    "        OpenCV tends to be faster, but apparently causes more technical issues.\n",
    "    \"\"\"\n",
    "    do_assert(backend in [\"matplotlib\", \"cv2\"], \"Expected backend 'matplotlib' or 'cv2', got %s.\" % (backend,))\n",
    "\n",
    "    if backend == \"cv2\":\n",
    "        image_bgr = image\n",
    "        if image.ndim == 3 and image.shape[2] in [3, 4]:\n",
    "            image_bgr = image[..., 0:3][..., ::-1]\n",
    "\n",
    "        win_name = \"imgaug-default-window\"\n",
    "        cv2.namedWindow(win_name, cv2.WINDOW_NORMAL)\n",
    "        cv2.imshow(win_name, image_bgr)\n",
    "        cv2.waitKey(0)\n",
    "        cv2.destroyWindow(win_name)\n",
    "    else:\n",
    "        # import only when necessary (faster startup; optional dependency; less fragile -- see issue #225)\n",
    "        import matplotlib.pyplot as plt\n",
    "\n",
    "        dpi = 96\n",
    "        h, w = image.shape[0] / dpi, image.shape[1] / dpi\n",
    "        w = max(w, 6)  # if the figure is too narrow, the footer may appear and make the fig suddenly wider (ugly)\n",
    "        fig, ax = plt.subplots(figsize=(w, h), dpi=dpi)\n",
    "        fig.canvas.set_window_title(\"imgaug.imshow(%s)\" % (image.shape,))\n",
    "        ax.imshow(image, cmap=\"gray\")  # cmap is only activate for grayscale images\n",
    "plt.show()"
   ]
  },
  {
   "cell_type": "markdown",
   "metadata": {},
   "source": [
    "Build Training, Testing, and Validation Datasets\n",
    "---------"
   ]
  },
  {
   "cell_type": "markdown",
   "metadata": {},
   "source": [
    "Here I have created a class object so that I may consider creating a library for my needs. For the time being it is convenient to be able to simply execute the functions below with a single command. Since I was already planning on going through the trouble of supplementing images in the training set with image augmentation I decided to fold it into the same procedure as creating the training, testing, and validation sets. "
   ]
  },
  {
   "cell_type": "code",
   "execution_count": 10,
   "metadata": {},
   "outputs": [],
   "source": [
    "class preprocess_data(object):\n",
    "\n",
    "    def create_train_test_val(data_folder_name):\n",
    "        '''\n",
    "        Points to the folders specified. \n",
    "        '''\n",
    "        # setup the training, validation, and testing directories\n",
    "        training_folder = os.path.sep.join([data_folder_name, \"training\"])\n",
    "        validation_folder = os.path.sep.join([data_folder_name, \"validation\"])\n",
    "        testing_folder  = os.path.sep.join([data_folder_name, \"testing\"])\n",
    "        return training_folder,validation_folder,testing_folder\n",
    "\n",
    "    def list_images(data_folder, contains=None):\n",
    "        # import the necessary packages\n",
    "        image_types = (\".jpg\", \".jpeg\", \".png\", \".bmp\", \".tif\", \".tiff\")\n",
    "        # return the set of files that are valid\n",
    "        return preprocess_data.list_files(data_folder, valid_extensions=image_types, contains=contains)\n",
    "\n",
    "    def list_files(data_folder, valid_extensions=None, contains=None):\n",
    "        # loop over the directory structure\n",
    "        for (root_directory, directory_names, filenames) in os.walk(data_folder):\n",
    "            # loop over the filenames in the current directory\n",
    "            for filename in filenames:\n",
    "                # if the contains string is not none and the filename does not contain\n",
    "                # the supplied string, then ignore the file\n",
    "                if contains is not None and filename.find(contains) == -1:\n",
    "                    continue\n",
    "\n",
    "                # determine the file extension of the current file\n",
    "                extension = filename[filename.rfind(\".\"):].lower()\n",
    "\n",
    "                # check to see if the file is an image and should be processed\n",
    "                if valid_extensions is None or extension.endswith(valid_extensions):\n",
    "                    # construct the path to the image and yield it\n",
    "                    image_paths = os.path.join(root_directory, filename)\n",
    "                    yield image_paths\n",
    "\n",
    "    def images_augment(augment_percent,training_paths):\n",
    "        aug_num=int(len(training_paths) * augment_percent)\n",
    "        for image_iter in training_paths[:aug_num]:\n",
    "            #filename,extension = (os.path.splitext(os.path.basename(image_iter)))\n",
    "            #path,fullname=os.path.split(image_iter) \n",
    "            path='./local_test/test_dir/input/data/training/augmentation'\n",
    "            imread_image = imageio.imread(image_iter)\n",
    "            random_num=random.randint(0,360)\n",
    "            rotate = iaa.Affine(rotate=(-random_num, random_num))\n",
    "            image_aug = rotate.augment_image(imread_image)\n",
    "            #imshow(image_aug)\n",
    "            imageio.imwrite(path+'/aug_image_iter_'+str(random_num)+'.png',image_aug)\n",
    "        return aug_num\n",
    "\n",
    "    def setup_folders(training_percent,validation_percent,augment_percent):\n",
    "        training_folder,validation_folder,testing_folder=preprocess_data.create_train_test_val(data_folder_name)\n",
    "        # grab the paths to all input images in the original input directory and shuffle them\n",
    "        image_paths = list(preprocess_data.list_images(input_data_folder))\n",
    "        random.shuffle(image_paths)\n",
    "\n",
    "        # training and testing split\n",
    "        comparison = int(len(image_paths) * training_percent)\n",
    "        training_paths = image_paths[:comparison]\n",
    "        testing_paths = image_paths[comparison:]\n",
    "\n",
    "        # using part of the training data for validation\n",
    "        comparison = int(len(training_paths) * validation_percent)\n",
    "        validation_paths = training_paths[:comparison]\n",
    "        training_paths = training_paths[comparison:]  \n",
    "\n",
    "        print('Images selected for training folder: ',len(training_paths))\n",
    "        print('Images selected for testing folder: ',len(testing_paths))\n",
    "        print('Images selected for validation folder: ',len(validation_paths))\n",
    "\n",
    "        # define the datasets that we'll be building\n",
    "        datasets = [(\"training\", training_paths, training_folder),\n",
    "                    (\"validation\", validation_paths, validation_folder),\n",
    "                    (\"testing\", testing_paths, testing_folder)]\n",
    "        \n",
    "        # loop over the datasets\n",
    "        for (data_type, image_paths, output_folder) in datasets:\n",
    "            # show which data split we are creating\n",
    "            print(\"\\nbuilding \"+data_type+\" collection . . .\\n\")\n",
    "\n",
    "            # if the output base output directory does not exist, create it\n",
    "            if not os.path.exists(output_folder):\n",
    "                print(\"creating \"+data_type+\" directory . . .\")\n",
    "                os.makedirs(output_folder)\n",
    "\n",
    "            # loop over the input image paths\n",
    "            for path in image_paths:\n",
    "                # extract the filename of the input image along with its corresponding class label\n",
    "                filename = path.split(os.path.sep)[-1]\n",
    "                label = path.split(os.path.sep)[-2]\n",
    "                # build the path to the label directory\n",
    "                label_paths = os.path.sep.join([output_folder, label])\n",
    "\n",
    "                # if the label output directory does not exist, create it\n",
    "                if not os.path.exists(label_paths):\n",
    "                    print(\"creating \"+data_type+\" directory . . .\")\n",
    "                    os.makedirs(label_paths)\n",
    "\n",
    "                # construct the path to the destination image and then copy the image itself\n",
    "                p = os.path.sep.join([label_paths, filename])\n",
    "                shutil.copy2(path, p) #Identical to copy() except that copy2() also attempts to preserve file metadata.\n",
    "                \n",
    "        aug_num=preprocess_data.images_augment(augment_percent,training_paths)\n",
    "        # return the total number of image paths in training, validation, and testing directories\n",
    "        training_total = len(list(preprocess_data.list_images(training_folder)))\n",
    "        validation_total = len(list(preprocess_data.list_images(validation_folder)))\n",
    "        testing_total = len(list(preprocess_data.list_images(testing_folder)))\n",
    "        total_images=training_total+validation_total+testing_total\n",
    "        print('\\nTraining Images: ',training_total,'\\nValidation Images: ',\n",
    "              validation_total,'\\nTesting Images: ',testing_total,\n",
    "              '\\nTotal Images Selected: ',total_images,'\\nAugmented Images Added: ',aug_num)\n",
    "        \n",
    "        return training_paths"
   ]
  },
  {
   "cell_type": "code",
   "execution_count": 11,
   "metadata": {},
   "outputs": [
    {
     "name": "stdout",
     "output_type": "stream",
     "text": [
      "Images selected for training folder:  904\n",
      "Images selected for testing folder:  251\n",
      "Images selected for validation folder:  100\n",
      "\n",
      "building training collection . . .\n",
      "\n",
      "creating training directory . . .\n",
      "creating training directory . . .\n",
      "creating training directory . . .\n",
      "\n",
      "building validation collection . . .\n",
      "\n",
      "creating validation directory . . .\n",
      "creating validation directory . . .\n",
      "creating validation directory . . .\n",
      "\n",
      "building testing collection . . .\n",
      "\n",
      "creating testing directory . . .\n",
      "creating testing directory . . .\n",
      "creating testing directory . . .\n",
      "\n",
      "Training Images:  904 \n",
      "Validation Images:  100 \n",
      "Testing Images:  251 \n",
      "Total Images Selected:  1255 \n",
      "Augmented Images Added:  180\n"
     ]
    }
   ],
   "source": [
    "training_path=preprocess_data.setup_folders(training_percent,validation_percent,augment_percent)"
   ]
  },
  {
   "cell_type": "markdown",
   "metadata": {},
   "source": [
    "I have created 180 images to help supplement my lack of images in the training folder. The reason it is merely 180 images and not more images is to avoid the augmented images being too statistically representative within the image dataset and thereby biasing the results. Below is a simple representation of the function I'm using within the class object above. "
   ]
  },
  {
   "cell_type": "code",
   "execution_count": 12,
   "metadata": {},
   "outputs": [
    {
     "name": "stdout",
     "output_type": "stream",
     "text": [
      "Augmented batch:\n"
     ]
    },
    {
     "data": {
      "image/png": "[encoded data removed]",
      "text/plain": [
       "<Figure size 960x240 with 1 Axes>"
      ]
     },
     "metadata": {},
     "output_type": "display_data"
    }
   ],
   "source": [
    "image = imageio.imread(\"local_test/test_dir/input/data/images/cases/6.png\")\n",
    "random_num=random.randint(0,360)\n",
    "rotate = iaa.Affine(rotate=(-random_num, random_num))\n",
    "images = [image, image, image, image]\n",
    "images_aug = rotate.augment_images(images)\n",
    "\n",
    "print(\"Augmented batch:\")\n",
    "imshow(np.hstack(images_aug))"
   ]
  },
  {
   "cell_type": "markdown",
   "metadata": {},
   "source": [
    "Define Model Structure\n",
    "====="
   ]
  },
  {
   "cell_type": "markdown",
   "metadata": {},
   "source": [
    "For classification of retinal images I have chosen to use a ResNet model as described by Kaiming He, Xiangyu Zhang, Shaoqing Ren, Jian Sun in <a href=\"https://arxiv.org/pdf/1512.03385.pdf\" target=\"_blank\">***Deep Residual Learning for Image Recognition (2015)***</a> and Adrian Rosebrock in <a href=\"http://www.i-element.org/PDF/C12-3.pdf\" target=\"_blank\">***Deep Learning for Computer Vision with Python (2017)***</a>. \n",
    "\n",
    "For an excellent explanation of the ResNet model, checkout Gracelyn Shi's Medium blog post:\n",
    "https://towardsdatascience.com/implementing-a-resnet-model-from-scratch-971be7193718\n",
    "\n",
    "**Why use a Residual Network (ResNet) model?**\n",
    "\n",
    "In traditional Deep Neural Networks during training you typically run into problems during backpropagation while using gradient descent optimization; where the data is fed from the final layers back into the first initial activation layers. As the loss function (error) with respect to the weights becomes updated certain activation functions such as the sigmoid function, constrain the input space between 0 and 1. Since the gradient in a Neural Network is a product of the gradients preceeding it, multiplying two smaller numbers returns an even smaller number. The small change in the gradient causes training times to be painfully slow, prone to error, and adding a large number of layers to become too costly and prohibitive.\n",
    "\n",
    "\n",
    "\n",
    "*Backpropagation: moving from later stages and fed back into the Neural Network to the initial  layers* "
   ]
  },
  {
   "cell_type": "markdown",
   "metadata": {},
   "source": [
    "Residual Networks provide a convenient solution to the 'vanishing gradient' problem. By skipping the training of one or more layers and creating a **residual block**."
   ]
  },
  {
   "cell_type": "markdown",
   "metadata": {},
   "source": [
    "<img src='relu.png' width=\"300\" height=\"300\" align=\"left\">"
   ]
  },
  {
   "cell_type": "markdown",
   "metadata": {},
   "source": [
    "Model Architecture Map\n",
    "-----"
   ]
  },
  {
   "cell_type": "code",
   "execution_count": null,
   "metadata": {},
   "outputs": [],
   "source": []
  },
  {
   "cell_type": "code",
   "execution_count": 14,
   "metadata": {},
   "outputs": [],
   "source": [
    "def residual_module(input_data, kernel, stride, axis, reduce=False, reg_lambda=0.0001, epsilon=0.00002, momentum=0.9):\n",
    "    shortcut = input_data\n",
    "    bn1 = BatchNormalization(axis=axis, epsilon=epsilon, momentum=momentum)(input_data)\n",
    "    act1 = Activation(\"relu\")(bn1)\n",
    "    conv1 = Conv2D(int(kernel * 0.25), (1, 1), use_bias=False,kernel_regularizer=l2(reg_lambda))(act1)\n",
    "\n",
    "    bn2 = BatchNormalization(axis=axis, epsilon=epsilon,momentum=momentum)(conv1)\n",
    "    act2 = Activation(\"relu\")(bn2)\n",
    "    conv2 = Conv2D(int(kernel * 0.25), (3, 3), strides=stride, padding=\"same\", use_bias=False, kernel_regularizer=l2(reg_lambda))(act2)\n",
    "\n",
    "    bn3 = BatchNormalization(axis=axis, epsilon=epsilon, momentum=momentum)(conv2)\n",
    "    act3 = Activation(\"relu\")(bn3)\n",
    "    conv3 = Conv2D(kernel, (1, 1), use_bias=False, kernel_regularizer=l2(reg_lambda))(act3)\n",
    "\n",
    "    if reduce:\n",
    "        shortcut = Conv2D(kernel, (1, 1), strides=stride, use_bias=False, kernel_regularizer=l2(reg_lambda))(act1)\n",
    "\n",
    "    x = add([conv3, shortcut])\n",
    "    return x"
   ]
  },
  {
   "cell_type": "markdown",
   "metadata": {},
   "source": [
    "Build Model Structure\n",
    "====="
   ]
  },
  {
   "cell_type": "code",
   "execution_count": 15,
   "metadata": {},
   "outputs": [],
   "source": [
    "def build(width, height, depth, classes, stages, filters, reg_lambda=0.0001, epsilon=0.00002, momentum=0.9):\n",
    "    input_shape = (height, width, depth)\n",
    "    axis = -1\n",
    "\n",
    "    if K.image_data_format() == \"channels_first\":\n",
    "        input_shape = (depth, height, width)\n",
    "        channel_dimension = 1\n",
    "\n",
    "    inputs = Input(shape=input_shape)\n",
    "    x = BatchNormalization(axis=axis, epsilon=epsilon,momentum=momentum)(inputs)\n",
    "    x = Conv2D(filters[0], (5, 5), use_bias=False,padding=\"same\", kernel_regularizer=l2(reg_lambda))(x)\n",
    "    x = BatchNormalization(axis=axis, epsilon=epsilon,momentum=momentum)(x)\n",
    "    x = Activation(\"relu\")(x)\n",
    "    x = ZeroPadding2D((1, 1))(x)\n",
    "    x = MaxPooling2D((3, 3), strides=(2, 2))(x)\n",
    "\n",
    "    for i in range(0, len(stages)):\n",
    "        stride = (1, 1) if i == 0 else (2, 2)\n",
    "        x = residual_module(x, filters[i + 1], stride,axis, reduce=True, epsilon=epsilon, momentum=momentum)\n",
    "\n",
    "        for j in range(0, stages[i] - 1):\n",
    "            x = residual_module(x, filters[i + 1],(1, 1), axis, epsilon=epsilon, momentum=momentum)\n",
    "\n",
    "    x = BatchNormalization(axis=axis, epsilon=epsilon,momentum=momentum)(x)\n",
    "    x = Activation(\"relu\")(x)\n",
    "    x = AveragePooling2D((8, 8))(x)\n",
    "    x = Flatten()(x)\n",
    "    x = Dense(classes, kernel_regularizer=l2(reg_lambda))(x)\n",
    "    x = Activation(\"softmax\")(x)\n",
    "\n",
    "    model = Model(inputs, x, name=\"resnet\")\n",
    "    return model\n"
   ]
  },
  {
   "cell_type": "markdown",
   "metadata": {},
   "source": [
    "________________________"
   ]
  },
  {
   "cell_type": "markdown",
   "metadata": {},
   "source": [
    "**Define Structure:** *Tried to provide some explanation in cell below*"
   ]
  },
  {
   "cell_type": "code",
   "execution_count": 19,
   "metadata": {},
   "outputs": [
    {
     "data": {
      "text/html": [
       "<script>\n",
       "code_show=true; \n",
       "function code_toggle() {\n",
       "    if (code_show){\n",
       "        $('div.cell.code_cell.rendered.selected div.input').hide();\n",
       "    } else {\n",
       "        $('div.cell.code_cell.rendered.selected div.input').show();\n",
       "    }\n",
       "    code_show = !code_show\n",
       "} \n",
       "$( document ).ready(code_toggle);\n",
       "</script>\n",
       "To show/hide this cell's raw code input, click <a href=\"javascript:code_toggle()\">here</a>."
      ],
      "text/plain": [
       "<IPython.core.display.HTML object>"
      ]
     },
     "metadata": {},
     "output_type": "display_data"
    }
   ],
   "source": [
    "tag = HTML('''<script>\n",
    "code_show=true; \n",
    "function code_toggle() {\n",
    "    if (code_show){\n",
    "        $('div.cell.code_cell.rendered.selected div.input').hide();\n",
    "    } else {\n",
    "        $('div.cell.code_cell.rendered.selected div.input').show();\n",
    "    }\n",
    "    code_show = !code_show\n",
    "} \n",
    "$( document ).ready(code_toggle);\n",
    "</script>\n",
    "To show/hide this cell's raw code input, click <a href=\"javascript:code_toggle()\">here</a>.''')\n",
    "display(tag)\n",
    "\n",
    "############### Explanation ##################\n",
    "#https://www.coursera.org/lecture/convolutional-neural-networks/why-resnets-work-XAKNO\n",
    "#https://www.coursera.org/lecture/convolutional-neural-networks/resnets-HAhz9      \n",
    "\n",
    "#Jargon:\n",
    "    #'Relu': Rectified Linear Unit (algorithmic threshold for activation layer)\n",
    "    #Stride: Amount of shift of the filter moving from one part of the image to another\n",
    "\n",
    "#input for function: \n",
    "    #data=the data to be pass in the model\n",
    "    #kernel: number of filters that will be learned by the final CONV layer\n",
    "    #stride: An integer or tuple/list of a single integer, specifying the stride length of the convolution. \n",
    "    #axis: Integer, the axis that should be normalized (typically the features axis)\n",
    "    #reduce: red is boolean check to skip some processing\n",
    "    #reg_lambda: apply (0.0001) penalties on layer parameters\n",
    "    #epsilon: Small float added to variance to avoid dividing by zero.\n",
    "    #momentum: Momentum for the moving mean and the moving variance.\n",
    "    \n",
    "def residual_module(input_data, kernel, stride, axis, reduce=False,reg_lambda=0.0001, epsilon=0.00002, momentum=0.9):\n",
    "    # the shortcut branch of the resnet module should be initialize as the input (identity) data\n",
    "    shortcut = input_data\n",
    "    # the first block of the ResNet module are the 1x1 Convolution:\n",
    "            #epsilon: Small float added to variance to avoid dividing by zero.\n",
    "            #axis: Integer, the axis that should be normalized (typically the features axis).\n",
    "                #-For instance, after a Conv2D layer with data_format=\"channels_first\", set axis=1 in BatchNormalization.\n",
    "            #momentum: Momentum for the moving mean and the moving variance.\n",
    "    bn1 = BatchNormalization(axis=axis, epsilon=epsilon, momentum=momentum)(input_data) #https://keras.io/layers/normalization/\n",
    "    #Rectified Linear Unit for activation. https://keras.io/activations/\n",
    "    act1 = Activation(\"relu\")(bn1)\n",
    "    #2D convolution layer (e.g. spatial convolution over images). https://keras.io/layers/convolutional/\n",
    "        #kernel size (tuple):\n",
    "\n",
    "            #An integer or tuple/list of 2 integers, specifying the height and width of the 2D convolution window. \n",
    "            #Can be a single integer to specify the same value for all spatial dimensions.\n",
    "            \n",
    "        #use_bias: Boolean, whether the layer uses a bias vector.\n",
    "        #kernel_regularizer (Ridge Regression): \n",
    "            #https://medium.com/datadriveninvestor/l1-l2-regularization-7f1b4fe948f2\n",
    "    conv1 = Conv2D(int(kernel * 0.25), (1, 1), use_bias=False,kernel_regularizer=l2(reg_lambda))(act1)\n",
    "\n",
    "    # the second block of the ResNet module are the 3x3 CONVs passing in results of previous convolutional layer\n",
    "    bn2 = BatchNormalization(axis=axis, epsilon=epsilon,momentum=momentum)(conv1)#\n",
    "    act2 = Activation(\"relu\")(bn2)\n",
    "    #padding:  one of \"valid\" or \"same\" (case-insensitive). \n",
    "    #Note that \"same\" is slightly inconsistent across backends with strides != 1, as described-\n",
    "        #https://github.com/keras-team/keras/pull/9473#issuecomment-372166860\n",
    "    conv2 = Conv2D(int(kernel * 0.25), (3, 3), strides=stride, padding=\"same\", use_bias=False, kernel_regularizer=l2(reg_lambda))(act2)\n",
    "\n",
    "    # the third block of the ResNet module is another set of 1x1 Convolution\n",
    "    bn3 = BatchNormalization(axis=axis, epsilon=epsilon, momentum=momentum)(conv2)\n",
    "    act3 = Activation(\"relu\")(bn3)\n",
    "    conv3 = Conv2D(kernel, (1, 1), use_bias=False, kernel_regularizer=l2(reg_lambda))(act3)\n",
    "\n",
    "    # if we are to reduce the spatial size, apply a convolution layer to the shortcut\n",
    "    if reduce:\n",
    "        shortcut = Conv2D(kernel, (1, 1), strides=stride, use_bias=False, kernel_regularizer=l2(reg_lambda))(act1)\n",
    "\n",
    "    # add together the shortcut and the final convolution\n",
    "    x = add([conv3, shortcut])\n",
    "\n",
    "    return x"
   ]
  },
  {
   "cell_type": "markdown",
   "metadata": {},
   "source": [
    "__________"
   ]
  },
  {
   "cell_type": "markdown",
   "metadata": {},
   "source": [
    "**Build Model Structure:** *Tried to provide some explanation in cell below*"
   ]
  },
  {
   "cell_type": "code",
   "execution_count": 20,
   "metadata": {},
   "outputs": [
    {
     "data": {
      "text/html": [
       "<script>\n",
       "code_show=true; \n",
       "function code_toggle() {\n",
       "    if (code_show){\n",
       "        $('div.cell.code_cell.rendered.selected div.input').hide();\n",
       "    } else {\n",
       "        $('div.cell.code_cell.rendered.selected div.input').show();\n",
       "    }\n",
       "    code_show = !code_show\n",
       "} \n",
       "$( document ).ready(code_toggle);\n",
       "</script>\n",
       "To show/hide this cell's raw code input, click <a href=\"javascript:code_toggle()\">here</a>."
      ],
      "text/plain": [
       "<IPython.core.display.HTML object>"
      ]
     },
     "metadata": {},
     "output_type": "display_data"
    }
   ],
   "source": [
    "tag = HTML('''<script>\n",
    "code_show=true; \n",
    "function code_toggle() {\n",
    "    if (code_show){\n",
    "        $('div.cell.code_cell.rendered.selected div.input').hide();\n",
    "    } else {\n",
    "        $('div.cell.code_cell.rendered.selected div.input').show();\n",
    "    }\n",
    "    code_show = !code_show\n",
    "} \n",
    "$( document ).ready(code_toggle);\n",
    "</script>\n",
    "To show/hide this cell's raw code input, click <a href=\"javascript:code_toggle()\">here</a>.''')\n",
    "display(tag)\n",
    "\n",
    "############### Explanation ##################\n",
    "\n",
    "#Already defined:\n",
    "    #data=the data to be pass in the model\n",
    "    #kernel: number of filters that will be learned by the final CONV layer\n",
    "    #stride: An integer or tuple/list of a single integer, specifying the stride length of the convolution. \n",
    "    #axis: Integer, the axis that should be normalized (typically the features axis)\n",
    "    #reduce: will control whether or not to reduce spatial dimensions \n",
    "    #reg_lambda: apply (0.0001) penalties on layer parameters\n",
    "    #epsilon: Small float added to variance to avoid dividing by zero.\n",
    "    #momentum: Momentum for the moving mean and the moving variance.\n",
    "\n",
    "#Function inputs:\n",
    "    #width,height: height and width of image\n",
    "    #depth: the number of channels in image (rgb)\n",
    "    \n",
    "def build(width, height, depth, classes, stages, filters, reg_lambda=0.0001, epsilon=0.00002, momentum=0.9):\n",
    "    # initialize the input shape to be \"channels last\" and the channels dimension itself\n",
    "    input_shape = (height, width, depth) \n",
    "    channel_dimension = -1# <-1 just a handy shortcut meaning 'last'\n",
    "\n",
    "    # if we are using \"channels first\", update the input shape and channels dimension\n",
    "    if K.image_data_format() == \"channels_first\":#<--K is imported from Keras\n",
    "        input_shape = (depth, height, width)\n",
    "        channel_dimension = 1\n",
    "\n",
    "    # set the input and apply batch normalization\n",
    "    inputs = Input(shape=input_shape)\n",
    "    x = BatchNormalization(axis=axis, epsilon=epsilon, momentum=momentum)(inputs)\n",
    "\n",
    "    # apply convolution => batch normalization => activation => pooling layer to reduce spatial size\n",
    "    x = Conv2D(filters[0], (5, 5), use_bias=False, padding=\"same\", kernel_regularizer=l2(reg_lambda))(x)\n",
    "    x = BatchNormalization(axis=axis, epsilon=epsilon, momentum=momentum)(x)\n",
    "    x = Activation(\"relu\")(x) #activation layer is using 'Rectified Linear Unit'\n",
    "    x = ZeroPadding2D((1, 1))(x)\n",
    "    x = MaxPooling2D((3, 3), strides=(2, 2))(x)\n",
    "\n",
    "    # loop over the number of stages\n",
    "    for i in range(0, len(stages)):\n",
    "        # initialize the stride, then apply a residual module\n",
    "        # used to reduce the spatial size of the input volume\n",
    "        stride = (1, 1) if i == 0 else (2, 2)\n",
    "        x = residual_module(x, filters[i + 1], stride, axis, red=True, epsilon=epsilon, momentum=momentum)\n",
    "\n",
    "        # loop over the number of layers in the stage\n",
    "        for j in range(0, stages[i] - 1): #would like to make this boolean to increase efficiency\n",
    "            x = residual_module(x, filters[i + 1],(1, 1), axis, epsilon=epsilon, momentum=momentum)\n",
    "\n",
    "    # apply Batch normalization => activation => pooling layer\n",
    "    x = BatchNormalization(axis=axis, epsilon=epsilon,momentum=momentum)(x)\n",
    "    x = Activation(\"relu\")(x)\n",
    "    x = AveragePooling2D((8, 8))(x)\n",
    "\n",
    "    # softmax classifier\n",
    "    x = Flatten()(x)\n",
    "    x = Dense(classes, kernel_regularizer=l2(reg_lambda))(x)\n",
    "    x = Activation(\"softmax\")(x)\n",
    "\n",
    "    # create the model\n",
    "    model = Model(inputs, x, name=\"resnet\")\n",
    "\n",
    "    # return the constructed network architecture\n",
    "    return model"
   ]
  },
  {
   "cell_type": "markdown",
   "metadata": {},
   "source": [
    "_____________________"
   ]
  },
  {
   "cell_type": "markdown",
   "metadata": {},
   "source": [
    "**Config**"
   ]
  },
  {
   "cell_type": "code",
   "execution_count": 16,
   "metadata": {},
   "outputs": [],
   "source": [
    "training_directory='./local_test/test_dir/input/data/training/training'\n",
    "testing_directory='./local_test/test_dir/input/data/training/testing'\n",
    "validation_directory='./local_test/test_dir/input/data/training/validation'"
   ]
  },
  {
   "cell_type": "markdown",
   "metadata": {},
   "source": [
    "Train Model\n",
    "===="
   ]
  },
  {
   "cell_type": "markdown",
   "metadata": {},
   "source": [
    "**Import Packages**"
   ]
  },
  {
   "cell_type": "code",
   "execution_count": 18,
   "metadata": {},
   "outputs": [
    {
     "name": "stderr",
     "output_type": "stream",
     "text": [
      "/home/matt/anaconda3/lib/python3.6/site-packages/h5py/__init__.py:36: FutureWarning: Conversion of the second argument of issubdtype from `float` to `np.floating` is deprecated. In future, it will be treated as `np.float64 == np.dtype(float).type`.\n",
      "  from ._conv import register_converters as _register_converters\n",
      "Using TensorFlow backend.\n"
     ]
    }
   ],
   "source": [
    "from keras.preprocessing.image import ImageDataGenerator\n",
    "from keras.callbacks import LearningRateScheduler\n",
    "from keras.optimizers import SGD\n",
    "from sklearn.metrics import classification_report\n",
    "\n",
    "# import the necessary packages\n",
    "from keras.layers.normalization import BatchNormalization\n",
    "from keras.layers.convolutional import Conv2D\n",
    "from keras.layers.convolutional import AveragePooling2D\n",
    "from keras.layers.convolutional import MaxPooling2D\n",
    "from keras.layers.convolutional import ZeroPadding2D\n",
    "from keras.layers.core import Activation\n",
    "from keras.layers.core import Dense\n",
    "from keras.layers import Flatten\n",
    "from keras.layers import Input\n",
    "from keras.models import Model\n",
    "from keras.layers import add\n",
    "from keras.regularizers import l2\n",
    "from keras import backend as K\n",
    "import matplotlib.pyplot as plt\n",
    "\n",
    "import numpy as np\n",
    "import random\n",
    "import shutil\n",
    "import os\n"
   ]
  },
  {
   "cell_type": "code",
   "execution_count": 25,
   "metadata": {},
   "outputs": [],
   "source": [
    "# define the total number of epochs to train for along with the initial learning rate and batch size\n",
    "epochs_num = 50\n",
    "initial_learning_rate = 0.01\n",
    "batch_size = 50\n",
    "\n",
    "def poly_decay(epoch):\n",
    "    # initialize the maximum number of epochs, base learning rate, and power of the polynomial\n",
    "    max_epochs = epochs_num\n",
    "    base_learning_rate = initial_learning_rate\n",
    "    power = 1.0\n",
    "\n",
    "    # compute the new learning rate based on polynomial decay\n",
    "    alpha = base_learning_rate*(1 - (epoch / float(max_epochs)))**power\n",
    "\n",
    "    # return the new learning rate\n",
    "    return alpha"
   ]
  },
  {
   "cell_type": "code",
   "execution_count": 26,
   "metadata": {},
   "outputs": [],
   "source": [
    "# determine the total number of image paths in training, validation, and testing directories\n",
    "train_images = len(list(preprocess_data.list_images(training_directory)))\n",
    "\n",
    "validation_images = len(list(preprocess_data.list_images(validation_directory)))\n",
    "\n",
    "test_images = len(list(preprocess_data.list_images(testing_directory)))"
   ]
  },
  {
   "cell_type": "code",
   "execution_count": 27,
   "metadata": {},
   "outputs": [],
   "source": [
    "# initialize the training data augmentation object\n",
    "training_augmentation = ImageDataGenerator(rescale=1 / 255.0, rotation_range=20, \n",
    "    zoom_range=0.05, width_shift_range=0.05,height_shift_range=0.05,\n",
    "    shear_range=0.05,horizontal_flip=True,fill_mode=\"nearest\")"
   ]
  },
  {
   "cell_type": "code",
   "execution_count": 28,
   "metadata": {},
   "outputs": [],
   "source": [
    "# initialize the validation (and testing) data augmentation object\n",
    "validation_augmentation = ImageDataGenerator(rescale=1 / 255.0)"
   ]
  },
  {
   "cell_type": "code",
   "execution_count": 29,
   "metadata": {},
   "outputs": [
    {
     "name": "stdout",
     "output_type": "stream",
     "text": [
      "Found 1047 images belonging to 2 classes.\n"
     ]
    }
   ],
   "source": [
    "# initialize the training generator\n",
    "training_generator = training_augmentation.flow_from_directory(\n",
    "    training_directory,class_mode=\"categorical\",target_size=(64, 64),\n",
    "    color_mode=\"rgb\",shuffle=True,batch_size=batch_size)"
   ]
  },
  {
   "cell_type": "code",
   "execution_count": 30,
   "metadata": {},
   "outputs": [
    {
     "name": "stdout",
     "output_type": "stream",
     "text": [
      "Found 100 images belonging to 2 classes.\n"
     ]
    }
   ],
   "source": [
    "# initialize the validation generator\n",
    "validation_generator = validation_augmentation.flow_from_directory(\n",
    "validation_directory,class_mode=\"categorical\",\n",
    "    target_size=(64, 64),color_mode=\"rgb\",shuffle=False,batch_size=batch_size)"
   ]
  },
  {
   "cell_type": "code",
   "execution_count": 31,
   "metadata": {},
   "outputs": [
    {
     "name": "stdout",
     "output_type": "stream",
     "text": [
      "Found 251 images belonging to 2 classes.\n"
     ]
    }
   ],
   "source": [
    "# initialize the testing generator\n",
    "testing_generator = validation_augmentation.flow_from_directory(testing_directory,\n",
    "    class_mode=\"categorical\",target_size=(64, 64),color_mode=\"rgb\",\n",
    "    shuffle=False,batch_size=batch_size)"
   ]
  },
  {
   "cell_type": "code",
   "execution_count": 33,
   "metadata": {},
   "outputs": [],
   "source": [
    "# initialize the resnet model and compile it\n",
    "# 1st:64, 2nd:64, 3rd:3, 4th:2 \n",
    "\n",
    "# 34 Layer Residual\n",
    "# 3-(3x3 conv 64) \n",
    "# 4-(3x3 conv 128) \n",
    "# 6-(3x3 conv 256) \n",
    "# 3-(3x3 conv 512)\n",
    "#                             Stages         Filters  \n",
    "model = build(64, 64, 3, 2, (3, 4, 6), (64, 128, 256, 512), reg_lambda=0.0005)\n",
    "opt = SGD(lr=initial_learning_rate, momentum=0.9)\n",
    "model.compile(loss=\"binary_crossentropy\", optimizer=opt,metrics=[\"accuracy\"])"
   ]
  },
  {
   "cell_type": "code",
   "execution_count": 34,
   "metadata": {},
   "outputs": [
    {
     "name": "stdout",
     "output_type": "stream",
     "text": [
      "WARNING:tensorflow:From /home/matt/anaconda3/lib/python3.6/site-packages/tensorflow/python/ops/math_ops.py:3066: to_int32 (from tensorflow.python.ops.math_ops) is deprecated and will be removed in a future version.\n",
      "Instructions for updating:\n",
      "Use tf.cast instead.\n"
     ]
    }
   ],
   "source": [
    "%%capture captured\n",
    "# define our set of callbacks and fit the model\n",
    "callbacks = [LearningRateScheduler(poly_decay)]\n",
    "H = model.fit_generator(training_generator, steps_per_epoch=train_images // batch_size,\n",
    "    validation_data=validation_generator, validation_steps=validation_images // batch_size, epochs=epochs_num, callbacks=callbacks)"
   ]
  },
  {
   "cell_type": "markdown",
   "metadata": {},
   "source": [
    "*Once again I have suppressed the output in order to conserve space on the jupyter notebook. I have provided a sample just to give you an idea of what the output looks like, results are shown below*"
   ]
  },
  {
   "cell_type": "code",
   "execution_count": 35,
   "metadata": {},
   "outputs": [],
   "source": [
    "file_out=captured.stdout"
   ]
  },
  {
   "cell_type": "code",
   "execution_count": 57,
   "metadata": {},
   "outputs": [
    {
     "name": "stdout",
     "output_type": "stream",
     "text": [
      "Epoch 1/50\n",
      "\r",
      " 1/20 [>.............................] - ETA: 11:06 - loss: 1.4857 - acc: 0.4400\b\b\b\b\b\b\b\b\b\b\b\b\b\b\b\b\b\b\b\b\b\b\b\b\b\b\b\b\b\b\b\b\b\b\b\b\b\b\b\b\b\b\b\b\b\b\b\b\b\b\b\b\b\b\b\b\b\b\b\b\b\b\b\b\b\b\b\b\b\b\b\b\b\b\b\b\b\b\b\b\r",
      " 2/20 [==>...........................] - ETA: 7:09 - loss: 1.3907 - acc: 0.4600 \b\b\b\b\b\b\b\b\b\b\b\b\b\b\b\b\b\b\b\b\b\b\b\b\b\b\b\b\b\b\b\b\b\b\b\b\b\b\b\b\b\b\b\b\b\b\b\b\b\b\b\b\b\b\b\b\b\b\b\b\b\b\b\b\b\b\b\b\b\b\b\b\b\b\b\b\b\b\b\r",
      " 3/20 [===>..........................] - ETA: 5:37 - loss: 1.3012 - acc: 0.5000\b\b\b\b\b\b\b\b\b\b\b\b\b\b\b\b\b\b\b\b\b\b\b\b\b\b\b\b\b\b\b\b\b\b\b\b\b\b\b\b\b\b\b\b\b\b\b\b\b\b\b\b\b\b\b\b\b\b\b\b\b\b\b\b\b\b\b\b\b\b\b\b\b\b\b\b\b\b\b\r",
      " 4/20 [=====>........................] - ETA: 4:43 - loss: 1.2265 - acc: 0.5700\b\b\b\b\b\b\b\b\b\b\b\b\b\b\b\b\b\b\b\b\b\b\b\b\b\b\b\b\b\b\b\b\b\b\b\b\b\b\b\b\b\b\b\b\b\b\b\b\b\b\b\b\b\b\b\b\b\b\b\b\b\b\b\b\b\b\b\b\b\b\b\b\b\b\b\b\b\b\b\r",
      " 5/20 [======>.......................] - ETA: 4:04 - loss: 1.1702 - acc: 0.6080\b\b\b\b\b\b\b\b\b\b\b\b\b\b\b\b\b\b\b\b\b\b\b\b\b\b\b\b\b\b\b\b\b\b\b\b\b\b\b\b\b\b\b\b\b\b\b\b\b\b\b\b\b\b\b\b\b\b\b\b\b\b\b\b\b\b\b\b\b\b\b\b\b\b\b\b\b\b\b\r",
      " 6/20 [========>.....................] - ETA: 3:42 - loss: 1.1613 - acc: 0.6133\b\b\b\b\b\b\b\b\b\b\b\b\b\b\b\b\b\b\b\b\b\b\b\b\b\b\b\b\b\b\b\b\b\b\b\b\b\b\b\b\b\b\b\b\b\b\b\b\b\b\b\b\b\b\b\b\b\b\b\b\b\b\b\b\b\b\b\b\b\b\b\b\b\b\b\b\b\b\b\r",
      " 7/20 [=========>....................] - ETA: 3:19 - loss: 1.1930 - acc: 0.6029\b\b\b\b\b\b\b\b\b\b\b\b\b\b\b\b\b\b\b\b\b\b\b\b\b\b\b\b\b\b\b\b\b\b\b\b\b\b\b\b\b\b\b\b\b\b\b\b\b\b\b\b\b\b\b\b\b\b\b\b\b\b\b\b\b\b\b\b\b\b\b\b\b\b\b\b\b\b\b\r",
      " 8/20 [===========>..................] - ETA: 2:56 - loss: 1.1605 - acc: 0.6300\b\b\b\b\b\b\b\b\b\b\b\b\b\b\b\b\b\b\b\b\b\b\b\b\b\b\b\b\b\b\b\b\b\b\b\b\b\b\b\b\b\b\b\b\b\b\b\b\b\b\b\b\b\b\b\b\b\b\b\b\b\b\b\b\b\b\b\b\b\b\b\b\b\b\b\b\b\b\b\r",
      " 9/20 [============>.................] - ETA: 2:36 - loss: 1.1274 - acc: 0.6556\b\b\b\b\b\b\b\b\b\b\b\b\b\b\b\b\b\b\b\b\b\b\b\b\b\b\b\b\b\b\b\b\b\b\b\b\b\b\b\b\b\b\b\b\b\b\b\b\b\b\b\b\b\b\b\b\b\b\b\b\b\b\b\b\b\b\b\b\b\b\b\b\b\b\b\b\b\b\b\r",
      "10/20 [==============>...............] - ETA: 2:18 - loss: 1.1177 - acc: 0.6680\b\b\b\b\b\b\b\b\b\b\b\b\b\b\b\b\b\b\b\b\b\b\b\b\b\b\b\b\b\b\b\b\b\b\b\b\b\b\b\b\b\b\b\b\b\b\b\b\b\b\b\b\b\b\b\b\b\b\b\b\b\b\b\b\b\b\b\b\b\b\b\b\b\b\b\b\b\b\b\r",
      "11/20 [===============>..............] - ETA: 2:04 - loss: 1.1028 - acc: 0.6855\b\b\b\b\b\b\b\b\b\b\b\b\b\b\b\b\b\b\b\b\b\b\b\b\b\b\b\b\b\b\b\b\b\b\b\b\b\b\b\b\b\b\b\b\b\b\b\b\b\b\b\b\b\b\b\b\b\b\b\b\b\b\b\b\b\b\b\b\b\b\b\b\b\b\b\b\b\b\b\r",
      "12/20 [=================>............] - ETA: 1:48 - loss: 1.0854 - acc: 0.6983\b\b\b\b\b\b\b\b\b\b\b\b\b\b\b\b\b\b\b\b\b\b\b\b\b\b\b\b\b\b\b\b\b\b\b\b\b\b\b\b\b\b\b\b\b\b\b\b\b\b\b\b\b\b\b\b\b\b\b\b\b\b\b\b\b\b\b\b\b\b\b\b\b\b\b\b\b\b\b\r",
      "13/20 [==================>...........] - ETA: 1:33 - loss: 1.0789 - acc: 0.7077\b\b\b\b\b\b\b\b\b\b\b\b\b\b\b\b\b\b\b\b\b\b\b\b\b\b\b\b\b\b\b\b\b\b\b\b\b\b\b\b\b\b\b\b\b\b\b\b\b\b\b\b\b\b\b\b\b\b\b\b\b\b\b\b\b\b\b\b\b\b\b\b\b\b\b\b\b\b\b\r",
      "14/20 [====================>.........] - ETA: 1:18 - loss: 1.0781 - acc: 0.7171\b\b\b\b\b\b\b\b\b\b\b\b\b\b\b\b\b\b\b\b\b\b\b\b\b\b\b\b\b\b\b\b\b\b\b\b\b\b\b\b\b\b\b\b\b\b\b\b\b\b\b\b\b\b\b\b\b\b\b\b\b\b\b\b\b\b\b\b\b\b\b\b\b\b\b\b\b\b\b\r",
      "15/20 [=====================>........] - ETA: 1:04 - loss: 1.0606 - acc: 0.7280\b\b\b\b\b\b\b\b\b\b\b\b\b\b\b\b\b\b\b\b\b\b\b\b\b\b\b\b\b\b\b\b\b\b\b\b\b\b\b\b\b\b\b\b\b\b\b\b\b\b\b\b\b\b\b\b\b\b\b\b\b\b\b\b\b\b\b\b\b\b\b\b\b\b\b\b\b\b\b\r",
      "16/20 [=======================>......] - ETA: 51s - loss: 1.0666 - acc: 0.7262 \b\b\b\b\b\b\b\b\b\b\b\b\b\b\b\b\b\b\b\b\b\b\b\b\b\b\b\b\b\b\b\b\b\b\b\b\b\b\b\b\b\b\b\b\b\b\b\b\b\b\b\b\b\b\b\b\b\b\b\b\b\b\b\b\b\b\b\b\b\b\b\b\b\b\b\b\b\b\r",
      "17/20 [========================>.....] - ETA: 38s - loss: 1.0458 - acc: 0.7400\b\b\b\b\b\b\b\b\b\b\b\b\b\b\b\b\b\b\b\b\b\b\b\b\b\b\b\b\b\b\b\b\b\b\b\b\b\b\b\b\b\b\b\b\b\b\b\b\b\b\b\b\b\b\b\b\b\b\b\b\b\b\b\b\b\b\b\b\b\b\b\b\b\b\b\b\b\b\r",
      "18/20 [==========================>...] - ETA: 25s - loss: 1.0395 - acc: 0.7467\b\b\b\b\b\b\b\b\b\b\b\b\b\b\b\b\b\b\b\b\b\b\b\b\b\b\b\b\b\b\b\b\b\b\b\b\b\b\b\b\b\b\b\b\b\b\b\b\b\b\b\b\b\b\b\b\b\b\b\b\b\b\b\b\b\b\b\b\b\b\b\b\b\b\b\b\b\b\r",
      "19/20 [===========================>..] - ETA: 12s - loss: 1.0354 - acc: 0.7484\b\b\b\b\b\b\b\b\b\b\b\b\b\b\b\b\b\b\b\b\b\b\b\b\b\b\b\b\b\b\b\b\b\b\b\b\b\b\b\b\b\b\b\b\b\b\b\b\b\b\b\b\b\b\b\b\b\b\b\b\b\b\b\b\b\b\b\b\b\b\b\b\b\b\b\b\b\b\r",
      "20/20 [==============================] - 263s 13s/step - loss: 1.0276 - acc: 0.7540 - val_loss: 1.7220 - val_acc: 0.7200\n",
      "Epoch 2/50\n",
      "\r",
      " 1/20 [>.............................] - ETA: 5:28 - loss: 0.8827 - acc: 0.8511\b\b\b\b\b\b\b\b\b\b\b\b\b\b\b\b\b\b\b\b\b\b\b\b\b\b\b\b\b\b\b\b\b\b\b\b\b\b\b\b\b\b\b\b\b\b\b\b\b\b\b\b\b\b\b\b\b\b\b\b\b\b\b\b\b\b\b\b\b\b\b\b\b\b\b\b\b\b\b\r",
      " 2/20 [==>...........................] - ETA: 4:47 - loss: 0.8286 - acc: 0.8555\b\b\b\b\b\b\b\b\b\b\b\b\b\b\b\b\b\b\b\b\b\b\b\b\b\b\b\b\b\b\b\b\b\b\b\b\b\b\b\b\b\b\b\b\b\b\b\b\b\b\b\b\b\b\b\b\b\b\b\b\b\b\b\b\b\b\b\b\b\b\b\b\b\b\b\b\b\b\b\r",
      " 3/20 [===>..........................] - ETA: 4:04 - loss: 0.8504 - acc: 0.8504\b\b\b\b\b\b\b\b\b\b\b\b\b\b\b\b\b\b\b\b\b\b\b\b\b\b\b\b\b\b\b\b\b\b\b\b\b\b\b\b\b\b\b\b\b\b\b\b\b\b\b\b\b\b\b\b\b\b\b\b\b\b\b\b\b\b\b\b\b\b\b\b\b\b\b\b\b\b\b\r",
      " 4/20 [=====>........................] - ETA: 3:52 - loss: 0.8517 - acc: 0.8578\b\b\b\b\b\b\b\b\b\b\b\b\b\b\b\b\b\b\b\b\b\b\b\b\b\b\b\b\b\b\b\b\b\b\b\b\b\b\b\b\b\b\b\b\b\b\b\b\b\b\b\b\b\b\b\b\b\b\b\b\b\b\b\b\b\b\b\b\b\b\b\b\b\b\b\b\b\b\b\r",
      " 5/20 [======>.......................] - ETA: 3:24 - loss: 0.8367 - acc: 0.8662\b\b\b\b\b\b\b\b\b\b\b\b\b\b\b\b\b\b\b\b\b\b\b\b\b\b\b\b\b\b\b\b\b\b\b\b\b\b\b\b\b\b\b\b\b\b\b\b\b\b\b\b\b\b\b\b\b\b\b\b\b\b\b\b\b\b\b\b\b\b\b\b\b\b\b\b\b\b\b\r",
      " 6/20 [========>.....................] - ETA: 3:05 - loss: 0.8229 - acc: 0.8685\b\b\b\b\b\b\b\b\b\b\b\b\b\b\b\b\b\b\b\b\b\b\b\b\b\b\b\b\b\b\b\b\b\b\b\b\b\b\b\b\b\b\b\b\b\b\b\b\b\b\b\b\b\b\b\b\b\b\b\b\b\b\b\b\b\b\b\b\b\b\b\b\b\b\b\b\b\b\b\r",
      " 7/20 [=========>....................] - ETA: 2:49 - loss: 0.8101 - acc: 0.8759\b\b\b\b\b\b\b\b\b\b\b\b\b\b\b\b\b\b\b\b\b\b\b\b\b\b\b\b\b\b\b\b\b\b\b\b\b\b\b\b\b\b\b\b\b\b\b\b\b\b\b\b\b\b\b\b\b\b\b\b\b\b\b\b\b\b\b\b\b\b\b\b\b\b\b\b\b\b\b\r",
      " 8/20 [===========>..................] - ETA: 2:40 - loss: 0.8267 - acc: 0.8689\b\b\b\b\b\b\b\b\b\b\b\b\b\b\b\b\b\b\b\b\b\b\b\b\b\b\b\b\b\b\b\b\b\b\b\b\b\b\b\b\b\b\b\b\b\b\b\b\b\b\b\b\b\b\b\b\b\b\b\b\b\b\b\b\b\b\b\b\b\b\b\b\b\b\b\b\b\b\b\r",
      " 9/20 [============>.................] - ETA: 2:23 - loss: 0.8262 - acc: 0.8679\b\b\b\b\b\b\b\b\b\b\b\b\b\b\b\b\b\b\b\b\b\b\b\b\b\b\b\b\b\b\b\b\b\b\b\b\b\b\b\b\b\b\b\b\b\b\b\b\b\b\b\b\b\b\b\b\b\b\b\b\b\b\b\b\b\b\b\b\b\b\b\b\b\b\b\b\b\b\b\r",
      "10/20 [==============>...............] - ETA: 2:10 - loss: 0.8333 - acc: 0.8671\b\b\b\b\b\b\b\b\b\b\b\b\b\b\b\b\b\b\b\b\b\b\b\b\b\b\b\b\b\b\b\b\b\b\b\b\b\b\b\b\b\b\b\b\b\b\b\b\b\b\b\b\b\b\b\b\b\b\b\b\b\b\b\b\b\b\b\b\b\b\b\b\b\b\b\b\b\b\b\r",
      "11/20 [===============>..............] - ETA: 1:55 - loss: 0.8528 - acc: 0.8592\b\b\b\b\b\b\b\b\b\b\b\b\b\b\b\b\b\b\b\b\b\b\b\b\b\b\b\b\b\b\b\b\b\b\b\b\b\b\b\b\b\b\b\b\b\b\b\b\b\b\b\b\b\b\b\b\b\b\b\b\b\b\b\b\b\b\b\b\b\b\b\b\b\b\b\b\b\b\b\r",
      "12/20 [=================>............] - ETA: 1:41 - loss: 0.8496 - acc: 0.8609\b\b\b\b\b\b\b\b\b\b\b\b\b\b\b\b\b\b\b\b\b\b\b\b\b\b\b\b\b\b\b\b\b\b\b\b\b\b\b\b\b\b\b\b\b\b\b\b\b\b\b\b\b\b\b\b\b\b\b\b\b\b\b\b\b\b\b\b\b\b\b\b\b\b\b\b\b\b\b\r",
      "13/20 [==================>...........] - ETA: 1:27 - loss: 0.8528 - acc: 0.8609\b\b\b\b\b\b\b\b\b\b\b\b\b\b\b\b\b\b\b\b\b\b\b\b\b\b\b\b\b\b\b\b\b\b\b\b\b\b\b\b\b\b\b\b\b\b\b\b\b\b\b\b\b\b\b\b\b\b\b\b\b\b\b\b\b\b\b\b\b\b\b\b\b\b\b\b\b\b\b\r",
      "14/20 [====================>.........] - ETA: 1:13 - loss: 0.8555 - acc: 0.8608\b\b\b\b\b\b\b\b\b\b\b\b\b\b\b\b\b\b\b\b\b\b\b\b\b\b\b\b\b\b\b\b\b\b\b\b\b\b\b\b\b\b\b\b\b\b\b\b\b\b\b\b\b\b\b\b\b\b\b\b\b\b\b\b\b\b\b\b\b\b\b\b\b\b\b\b\b\b\b\r",
      "15/20 [=====================>........] - ETA: 1:01 - loss: 0.8611 - acc: 0.8567\b\b\b\b\b\b\b\b\b\b\b\b\b\b\b\b\b\b\b\b\b\b\b\b\b\b\b\b\b\b\b\b\b\b\b\b\b\b\b\b\b\b\b\b\b\b\b\b\b\b\b\b\b\b\b\b\b\b\b\b\b\b\b\b\b\b\b\b\b\b\b\b\b\b\b\b\b\b\b\r",
      "16/20 [=======================>......] - ETA: 48s - loss: 0.8651 - acc: 0.8532 \b\b\b\b\b\b\b\b\b\b\b\b\b\b\b\b\b\b\b\b\b\b\b\b\b\b\b\b\b\b\b\b\b\b\b\b\b\b\b\b\b\b\b\b\b\b\b\b\b\b\b\b\b\b\b\b\b\b\b\b\b\b\b\b\b\b\b\b\b\b\b\b\b\b\b\b\b\b\r",
      "17/20 [========================>.....] - ETA: 36s - loss: 0.8734 - acc: 0.8442\b\b\b\b\b\b\b\b\b\b\b\b\b\b\b\b\b\b\b\b\b\b\b\b\b\b\b\b\b\b\b\b\b\b\b\b\b\b\b\b\b\b\b\b\b\b\b\b\b\b\b\b\b\b\b\b\b\b\b\b\b\b\b\b\b\b\b\b\b\b\b\b\b\b\b\b\b\b\r",
      "18/20 [==========================>...] - ETA: 23s - loss: 0.8762 - acc: 0.8406\b\b\b\b\b\b\b\b\b\b\b\b\b\b\b\b\b\b\b\b\b\b\b\b\b\b\b\b\b\b\b\b\b\b\b\b\b\b\b\b\b\b\b\b\b\b\b\b\b\b\b\b\b\b\b\b\b\b\b\b\b\b\b\b\b\b\b\b\b\b\b\b\b\b\b\b\b\b\r",
      "19/20 [===========================>..] - ETA: 11s - loss: 0.8701 - acc: 0.8458\b\b\b\b\b\b\b\b\b\b\b\b\b\b\b\b\b\b\b\b\b\b\b\b\b\b\b\b\b\b\b\b\b\b\b\b\b\b\b\b\b\b\b\b\b\b\b\b\b\b\b\b\b\b\b\b\b\b\b\b\b\b\b\b\b\b\b\b\b\b\b\b\b\b\b\b\b\b\r",
      "20/20 [==============================] - 242s 12s/step - loss: 0.8690 - acc: 0.8456 - val_loss: 0.8825 - val_acc: 0.8400\n",
      "Epoch 3/50\n",
      "\r",
      " 1/20 [>.............................] - ETA: 3:42 - loss: 0.8174 - acc: 0.8800\b\b\b\b\b\b\b\b\b\b\b\b\b\b\b\b\b\b\b\b\b\b\b\b\b\b\b\b\b\b\b\b\b\b\b\b\b\b\b\b\b\b\b\b\b\b\b\b\b\b\b\b\b\b\b\b\b\b\b\b\b\b\b\b\b\b\b\b\b\b\b\b\b\b\b\b\b\b\b\r",
      " 2/20 [==>...........................] - ETA: 3:15 - loss: 0.8231 - acc: 0.8868\b\b\b\b\b\b\b\b\b\b\b\b\b\b\b\b\b\b\b\b\b\b\b\b\b\b\b\b\b\b\b\b\b\b\b\b\b\b\b\b\b\b\b\b\b\b\b\b\b\b\b\b\b\b\b\b\b\b\b\b\b\b\b\b\b\b\b\b\b\b\b\b\b\b\b\b\b\b\b\r",
      " 3/20 [===>..........................] - ETA: 3:06 - loss: 0.8139 - acc: 0.9045\b\b\b\b\b\b\b\b\b\b\b\b\b\b\b\b\b\b\b\b\b\b\b\b\b\b\b\b\b\b\b\b\b\b\b\b\b\b\b\b\b\b\b\b\b\b\b\b\b\b\b\b\b\b\b\b\b\b\b\b\b\b\b\b\b\b\b\b\b\b\b\b\b\b\b\b\b\b\b\r",
      " 4/20 [=====>........................] - ETA: 2:54 - loss: 0.8265 - acc: 0.8834\b\b\b\b\b\b\b\b\b\b\b\b\b\b\b\b\b\b\b\b\b\b\b\b\b\b\b\b\b\b\b\b\b\b\b\b\b\b\b\b\b\b\b\b\b\b\b\b\b\b\b\b\b\b\b\b\b\b\b\b\b\b\b\b\b\b\b\b\b\b\b\b\b\b\b\b\b\b\b\r",
      " 5/20 [======>.......................] - ETA: 2:42 - loss: 0.8209 - acc: 0.8867\b\b\b\b\b\b\b\b\b\b\b\b\b\b\b\b\b\b\b\b\b\b\b\b\b\b\b\b\b\b\b\b\b\b\b\b\b\b\b\b\b\b\b\b\b\b\b\b\b\b\b\b\b\b\b\b\b\b\b\b\b\b\b\b\b\b\b\b\b\b\b\b\b\b\b\b\b\b\b\r",
      " 6/20 [========>.....................] - ETA: 2:30 - loss: 0.8182 - acc: 0.8856\b\b\b\b\b\b\b\b\b\b\b\b\b\b\b\b\b\b\b\b\b\b\b\b\b\b\b\b\b\b\b\b\b\b\b\b\b\b\b\b\b\b\b\b\b\b\b\b\b\b\b\b\b\b\b\b\b\b\b\b\b\b\b\b\b\b\b\b\b\b\b\b\b\b\b\b\b\b\b\r",
      " 7/20 [=========>....................] - ETA: 2:21 - loss: 0.8285 - acc: 0.8762\b\b\b\b\b\b\b\b\b\b\b\b\b\b\b\b\b\b\b\b\b\b\b\b\b\b\b\b\b\b\b\b\b\b\b\b\b\b\b\b\b\b\b\b\b\b\b\b\b\b\b\b\b\b\b\b\b\b\b\b\b\b\b\b\b\b\b\b\b\b\b\b\b\b\b\b\b\b\b\r",
      " 8/20 [===========>..................] - ETA: 2:10 - loss: 0.8257 - acc: 0.8817\b\b\b\b\b\b\b\b\b\b\b\b\b\b\b\b\b\b\b\b\b\b\b\b\b\b\b\b\b\b\b\b\b\b\b\b\b\b\b\b\b\b\b\b\b\b\b\b\b\b\b\b\b\b\b\b\b\b\b\b\b\b\b\b\b\b\b\b\b\b\b\b\b\b\b\b\b\b\b\r",
      " 9/20 [============>.................] - ETA: 1:59 - loss: 0.8458 - acc: 0.8726\b\b\b\b\b\b\b\b\b\b\b\b\b\b\b\b\b\b\b\b\b\b\b\b\b\b\b\b\b\b\b\b\b\b\b\b\b\b\b\b\b\b\b\b\b\b\b\b\b\b\b\b\b\b\b\b\b\b\b\b\b\b\b\b\b\b\b\b\b\b\b\b\b\b\b\b\b\b\b\r",
      "10/20 [==============>...............] - ETA: 1:48 - loss: 0.8410 - acc: 0.8734\b\b\b\b\b\b\b\b\b\b\b\b\b\b\b\b\b\b\b\b\b\b\b\b\b\b\b\b\b\b\b\b\b\b\b\b\b\b\b\b\b\b\b\b\b\b\b\b\b\b\b\b\b\b\b\b\b\b\b\b\b\b\b\b\b\b\b\b\b\b\b\b\b\b\b\b\b\b\b\r",
      "11/20 [===============>..............] - ETA: 1:37 - loss: 0.8343 - acc: 0.8794\b\b\b\b\b\b\b\b\b\b\b\b\b\b\b\b\b\b\b\b\b\b\b\b\b\b\b\b\b\b\b\b\b\b\b\b\b\b\b\b\b\b\b\b\b\b\b\b\b\b\b\b\b\b\b\b\b\b\b\b\b\b\b\b\b\b\b\b\b\b\b\b\b\b\b\b\b\b\b\r",
      "12/20 [=================>............] - ETA: 1:26 - loss: 0.8317 - acc: 0.8778\b\b\b\b\b\b\b\b\b\b\b\b\b\b\b\b\b\b\b\b\b\b\b\b\b\b\b\b\b\b\b\b\b\b\b\b\b\b\b\b\b\b\b\b\b\b\b\b\b\b\b\b\b\b\b\b\b\b\b\b\b\b\b\b\b\b\b\b\b\b\b\b\b\b\b\b\b\b\b\r",
      "13/20 [==================>...........] - ETA: 1:15 - loss: 0.8327 - acc: 0.8764\b\b\b\b\b\b\b\b\b\b\b\b\b\b\b\b\b\b\b\b\b\b\b\b\b\b\b\b\b\b\b\b\b\b\b\b\b\b\b\b\b\b\b\b\b\b\b\b\b\b\b\b\b\b\b\b\b\b\b\b\b\b\b\b\b\b\b\b\b\b\b\b\b\b\b\b\b\b\b\r",
      "14/20 [====================>.........] - ETA: 1:04 - loss: 0.8257 - acc: 0.8810\b\b\b\b\b\b\b\b\b\b\b\b\b\b\b\b\b\b\b\b\b\b\b\b\b\b\b\b\b\b\b\b\b\b\b\b\b\b\b\b\b\b\b\b\b\b\b\b\b\b\b\b\b\b\b\b\b\b\b\b\b\b\b\b\b\b\b\b\b\b\b\b\b\b\b\b\b\b\b\r",
      "15/20 [=====================>........] - ETA: 53s - loss: 0.8244 - acc: 0.8809 \b\b\b\b\b\b\b\b\b\b\b\b\b\b\b\b\b\b\b\b\b\b\b\b\b\b\b\b\b\b\b\b\b\b\b\b\b\b\b\b\b\b\b\b\b\b\b\b\b\b\b\b\b\b\b\b\b\b\b\b\b\b\b\b\b\b\b\b\b\b\b\b\b\b\b\b\b\b\r",
      "16/20 [=======================>......] - ETA: 42s - loss: 0.8264 - acc: 0.8809\b\b\b\b\b\b\b\b\b\b\b\b\b\b\b\b\b\b\b\b\b\b\b\b\b\b\b\b\b\b\b\b\b\b\b\b\b\b\b\b\b\b\b\b\b\b\b\b\b\b\b\b\b\b\b\b\b\b\b\b\b\b\b\b\b\b\b\b\b\b\b\b\b\b\b\b\b\b\r",
      "17/20 [========================>.....] - ETA: 32s - loss: 0.8275 - acc: 0.8808\b\b\b\b\b\b\b\b\b\b\b\b\b\b\b\b\b\b\b\b\b\b\b\b\b\b\b\b\b\b\b\b\b\b\b\b\b\b\b\b\b\b\b\b\b\b\b\b\b\b\b\b\b\b\b\b\b\b\b\b\b\b\b\b\b\b\b\b\b\b\b\b\b\b\b\b\b\b\r",
      "18/20 [==========================>...] - ETA: 21s - loss: 0.8282 - acc: 0.8808\b\b\b\b\b\b\b\b\b\b\b\b\b\b\b\b\b\b\b\b\b\b\b\b\b\b\b\b\b\b\b\b\b\b\b\b\b\b\b\b\b\b\b\b\b\b\b\b\b\b\b\b\b\b\b\b\b\b\b\b\b\b\b\b\b\b\b\b\b\b\b\b\b\b\b\b\b\b\r",
      "19/20 [===========================>..] - ETA: 10s - loss: 0.8270 - acc: 0.8807\b\b\b\b\b\b\b\b\b\b\b\b\b\b\b\b\b\b\b\b\b\b\b\b\b\b\b\b\b\b\b\b\b\b\b\b\b\b\b\b\b\b\b\b\b\b\b\b\b\b\b\b\b\b\b\b\b\b\b\b\b\b\b\b\b\b\b\b\b\b\b\b\b\b\b\b\b\b\r",
      "20/20 [==============================] - 219s 11s/step - loss: 0.8273 - acc: 0.8787 - val_loss: 0.8737 - val_acc: 0.8200\n",
      "Epoch 4/50\n",
      "\r",
      " 1/20 [>.............................] - ETA: 3:20 - loss: 0.8981 - acc: 0.8600\b\b\b\b\b\b\b\b\b\b\b\b\b\b\b\b\b\b\b\b\b\b\b\b\b\b\b\b\b\b\b\b\b\b\b\b\b\b\b\b\b\b\b\b\b\b\b\b\b\b\b\b\b\b\b\b\b\b\b\b\b\b\b\b\b\b\b\b\b\b\b\b\b\b\b\b\b\b\b\r",
      " 2/20 [==>...........................] - ETA: 3:46 - loss: 0.8384 - acc: 0.8600\b\b\b\b\b\b\b\b\b\b\b\b\b\b\b\b\b\b\b\b\b\b\b\b\b\b\b\b\b\b\b\b\b\b\b\b\b\b\b\b\b\b\b\b\b\b\b\b\b\b\b\b\b\b\b\b\b\b\b\b\b\b\b\b\b\b\b\b\b\b\b\b\b\b\b\b\b\b\b\r",
      " 3/20 [===>..........................] - ETA: 3:56 - loss: 0.8015 - acc: 0.8783\b\b\b\b\b\b\b\b\b\b\b\b\b\b\b\b\b\b\b\b\b\b\b\b\b\b\b\b\b\b\b\b\b\b\b\b\b\b\b\b\b\b\b\b\b\b\b\b\b\b\b\b\b\b\b\b\b\b\b\b\b\b\b\b\b\b\b\b\b\b\b\b\b\b\b\b\b\b\b\r",
      " 4/20 [=====>........................] - ETA: 3:31 - loss: 0.7945 - acc: 0.8787\b\b\b\b\b\b\b\b\b\b\b\b\b\b\b\b\b\b\b\b\b\b\b\b\b\b\b\b\b\b\b\b\b\b\b\b\b\b\b\b\b\b\b\b\b\b\b\b\b\b\b\b\b\b\b\b\b\b\b\b\b\b\b\b\b\b\b\b\b\b\b\b\b\b\b\b\b\b\b\r",
      " 5/20 [======>.......................] - ETA: 3:14 - loss: 0.7897 - acc: 0.8790\b\b\b\b\b\b\b\b\b\b\b\b\b\b\b\b\b\b\b\b\b\b\b\b\b\b\b\b\b\b\b\b\b\b\b\b\b\b\b\b\b\b\b\b\b\b\b\b\b\b\b\b\b\b\b\b\b\b\b\b\b\b\b\b\b\b\b\b\b\b\b\b\b\b\b\b\b\b\b\r",
      " 6/20 [========>.....................] - ETA: 2:57 - loss: 0.7953 - acc: 0.8825\b\b\b\b\b\b\b\b\b\b\b\b\b\b\b\b\b\b\b\b\b\b\b\b\b\b\b\b\b\b\b\b\b\b\b\b\b\b\b\b\b\b\b\b\b\b\b\b\b\b\b\b\b\b\b\b\b\b\b\b\b\b\b\b\b\b\b\b\b\b\b\b\b\b\b\b\b\b\b\r",
      " 7/20 [=========>....................] - ETA: 2:41 - loss: 0.8000 - acc: 0.8821\b\b\b\b\b\b\b\b\b\b\b\b\b\b\b\b\b\b\b\b\b\b\b\b\b\b\b\b\b\b\b\b\b\b\b\b\b\b\b\b\b\b\b\b\b\b\b\b\b\b\b\b\b\b\b\b\b\b\b\b\b\b\b\b\b\b\b\b\b\b\b\b\b\b\b\b\b\b\b\r",
      " 8/20 [===========>..................] - ETA: 2:26 - loss: 0.7993 - acc: 0.8844\b\b\b\b\b\b\b\b\b\b\b\b\b\b\b\b\b\b\b\b\b\b\b\b\b\b\b\b\b\b\b\b\b\b\b\b\b\b\b\b\b\b\b\b\b\b\b\b\b\b\b\b\b\b\b\b\b\b\b\b\b\b\b\b\b\b\b\b\b\b\b\b\b\b\b\b\b\b\b\r",
      " 9/20 [============>.................] - ETA: 2:12 - loss: 0.7898 - acc: 0.8905\b\b\b\b\b\b\b\b\b\b\b\b\b\b\b\b\b\b\b\b\b\b\b\b\b\b\b\b\b\b\b\b\b\b\b\b\b\b\b\b\b\b\b\b\b\b\b\b\b\b\b\b\b\b\b\b\b\b\b\b\b\b\b\b\b\b\b\b\b\b\b\b\b\b\b\b\b\b\b\r",
      "10/20 [==============>...............] - ETA: 1:59 - loss: 0.7929 - acc: 0.8895\b\b\b\b\b\b\b\b\b\b\b\b\b\b\b\b\b\b\b\b\b\b\b\b\b\b\b\b\b\b\b\b\b\b\b\b\b\b\b\b\b\b\b\b\b\b\b\b\b\b\b\b\b\b\b\b\b\b\b\b\b\b\b\b\b\b\b\b\b\b\b\b\b\b\b\b\b\b\b\r",
      "11/20 [===============>..............] - ETA: 1:46 - loss: 0.8060 - acc: 0.8832\b\b\b\b\b\b\b\b\b\b\b\b\b\b\b\b\b\b\b\b\b\b\b\b\b\b\b\b\b\b\b\b\b\b\b\b\b\b\b\b\b\b\b\b\b\b\b\b\b\b\b\b\b\b\b\b\b\b\b\b\b\b\b\b\b\b\b\b\b\b\b\b\b\b\b\b\b\b\b\r",
      "12/20 [=================>............] - ETA: 1:33 - loss: 0.7947 - acc: 0.8896\b\b\b\b\b\b\b\b\b\b\b\b\b\b\b\b\b\b\b\b\b\b\b\b\b\b\b\b\b\b\b\b\b\b\b\b\b\b\b\b\b\b\b\b\b\b\b\b\b\b\b\b\b\b\b\b\b\b\b\b\b\b\b\b\b\b\b\b\b\b\b\b\b\b\b\b\b\b\b\r",
      "13/20 [==================>...........] - ETA: 1:21 - loss: 0.8008 - acc: 0.8888\b\b\b\b\b\b\b\b\b\b\b\b\b\b\b\b\b\b\b\b\b\b\b\b\b\b\b\b\b\b\b\b\b\b\b\b\b\b\b\b\b\b\b\b\b\b\b\b\b\b\b\b\b\b\b\b\b\b\b\b\b\b\b\b\b\b\b\b\b\b\b\b\b\b\b\b\b\b\b\r",
      "14/20 [====================>.........] - ETA: 1:09 - loss: 0.8080 - acc: 0.8868\b\b\b\b\b\b\b\b\b\b\b\b\b\b\b\b\b\b\b\b\b\b\b\b\b\b\b\b\b\b\b\b\b\b\b\b\b\b\b\b\b\b\b\b\b\b\b\b\b\b\b\b\b\b\b\b\b\b\b\b\b\b\b\b\b\b\b\b\b\b\b\b\b\b\b\b\b\b\b\r",
      "15/20 [=====================>........] - ETA: 57s - loss: 0.8032 - acc: 0.8890 \b\b\b\b\b\b\b\b\b\b\b\b\b\b\b\b\b\b\b\b\b\b\b\b\b\b\b\b\b\b\b\b\b\b\b\b\b\b\b\b\b\b\b\b\b\b\b\b\b\b\b\b\b\b\b\b\b\b\b\b\b\b\b\b\b\b\b\b\b\b\b\b\b\b\b\b\b\b\r",
      "16/20 [=======================>......] - ETA: 45s - loss: 0.8084 - acc: 0.8872\b\b\b\b\b\b\b\b\b\b\b\b\b\b\b\b\b\b\b\b\b\b\b\b\b\b\b\b\b\b\b\b\b\b\b\b\b\b\b\b\b\b\b\b\b\b\b\b\b\b\b\b\b\b\b\b\b\b\b\b\b\b\b\b\b\b\b\b\b\b\b\b\b\b\b\b\b\b\r",
      "17/20 [========================>.....] - ETA: 33s - loss: 0.8116 - acc: 0.8856\b\b\b\b\b\b\b\b\b\b\b\b\b\b\b\b\b\b\b\b\b\b\b\b\b\b\b\b\b\b\b\b\b\b\b\b\b\b\b\b\b\b\b\b\b\b\b\b\b\b\b\b\b\b\b\b\b\b\b\b\b\b\b\b\b\b\b\b\b\b\b\b\b\b\b\b\b\b\r",
      "18/20 [==========================>...] - ETA: 22s - loss: 0.8223 - acc: 0.8819\b\b\b\b\b\b\b\b\b\b\b\b\b\b\b\b\b\b\b\b\b\b\b\b\b\b\b\b\b\b\b\b\b\b\b\b\b\b\b\b\b\b\b\b\b\b\b\b\b\b\b\b\b\b\b\b\b\b\b\b\b\b\b\b\b\b\b\b\b\b\b\b\b\b\b\b\b\b\r",
      "19/20 [===========================>..] - ETA: 11s - loss: 0.8191 - acc: 0.8860\b\b\b\b\b\b\b\b\b\b\b\b\b\b\b\b\b\b\b\b\b\b\b\b\b\b\b\b\b\b\b\b\b\b\b\b\b\b\b\b\b\b\b\b\b\b\b\b\b\b\b\b\b\b\b\b\b\b\b\b\b\b\b\b\b\b\b\b\b\b\b\b\b\b\b\b\b\b\r",
      "20/20 [==============================] - 235s 12s/step - loss: 0.8163 - acc: 0.8867 - val_loss: 0.8389 - val_acc: 0.8800\n",
      "Epoch 5/50\n",
      "\r",
      " 1/20 [>.............................] - ETA: 3:18 - loss: 0.7246 - acc: 0.9200\b\b\b\b\b\b\b\b\b\b\b\b\b\b\b\b\b\b\b\b\b\b\b\b\b\b\b\b\b\b\b\b\b\b\b\b\b\b\b\b\b\b\b\b\b\b\b\b\b\b\b\b\b\b\b\b\b\b\b\b\b\b\b\b\b\b\b\b\b\b\b\b\b\b\b\b\b\b\b\r",
      " 2/20 [==>...........................] - ETA: 3:21 - loss: 0.7532 - acc: 0.9100\b\b\b\b\b\b\b\b\b\b\b\b\b\b\b\b\b\b\b\b\b\b\b\b\b\b\b\b\b\b\b\b\b\b\b\b\b\b\b\b\b\b\b\b\b\b\b\b\b\b\b\b\b\b\b\b\b\b\b\b\b\b\b\b\b\b\b\b\b\b\b\b\b\b\b\b\b\b\b\r",
      " 3/20 [===>..........................] - ETA: 3:07 - loss: 0.8292 - acc: 0.8667\b\b\b\b\b\b\b\b\b\b\b\b\b\b\b\b\b\b\b\b\b\b\b\b\b\b\b\b\b\b\b\b\b\b\b\b\b\b\b\b\b\b\b\b\b\b\b\b\b\b\b\b\b\b\b\b\b\b\b\b\b\b\b\b\b\b\b\b\b\b\b\b\b\b\b\b\b\b\b\r",
      " 4/20 [=====>........................] - ETA: 2:51 - loss: 0.8203 - acc: 0.8840\b\b\b\b\b\b\b\b\b\b\b\b\b\b\b\b\b\b\b\b\b\b\b\b\b\b\b\b\b\b\b\b\b\b\b\b\b\b\b\b\b\b\b\b\b\b\b\b\b\b\b\b\b\b\b\b\b\b\b\b\b\b\b\b\b\b\b\b\b\b\b\b\b\b\b\b\b\b\b\r",
      " 5/20 [======>.......................] - ETA: 2:39 - loss: 0.8062 - acc: 0.8872\b\b\b\b\b\b\b\b\b\b\b\b\b\b\b\b\b\b\b\b\b\b\b\b\b\b\b\b\b\b\b\b\b\b\b\b\b\b\b\b\b\b\b\b\b\b\b\b\b\b\b\b\b\b\b\b\b\b\b\b\b\b\b\b\b\b\b\b\b\b\b\b\b\b\b\b\b\b\b\r",
      " 6/20 [========>.....................] - ETA: 2:27 - loss: 0.8159 - acc: 0.8860\b\b\b\b\b\b\b\b\b\b\b\b\b\b\b\b\b\b\b\b\b\b\b\b\b\b\b\b\b\b\b\b\b\b\b\b\b\b\b\b\b\b\b\b\b\b\b\b\b\b\b\b\b\b\b\b\b\b\b\b\b\b\b\b\b\b\b\b\b\b\b\b\b\b\b\b\b\b\b\r",
      " 7/20 [=========>....................] - ETA: 2:17 - loss: 0.8475 - acc: 0.8709\b\b\b\b\b\b\b\b\b\b\b\b\b\b\b\b\b\b\b\b\b\b\b\b\b\b\b\b\b\b\b\b\b\b\b\b\b\b\b\b\b\b\b\b\b\b\b\b\b\b\b\b\b\b\b\b\b\b\b\b\b\b\b\b\b\b\b\b\b\b\b\b\b\b\b\b\b\b\b\r",
      " 8/20 [===========>..................] - ETA: 2:08 - loss: 0.8469 - acc: 0.8720\b\b\b\b\b\b\b\b\b\b\b\b\b\b\b\b\b\b\b\b\b\b\b\b\b\b\b\b\b\b\b\b\b\b\b\b\b\b\b\b\b\b\b\b\b\b\b\b\b\b\b\b\b\b\b\b\b\b\b\b\b\b\b\b\b\b\b\b\b\b\b\b\b\b\b\b\b\b\b\r",
      " 9/20 [============>.................] - ETA: 2:01 - loss: 0.8503 - acc: 0.8707\b\b\b\b\b\b\b\b\b\b\b\b\b\b\b\b\b\b\b\b\b\b\b\b\b\b\b\b\b\b\b\b\b\b\b\b\b\b\b\b\b\b\b\b\b\b\b\b\b\b\b\b\b\b\b\b\b\b\b\b\b\b\b\b\b\b\b\b\b\b\b\b\b\b\b\b\b\b\b\r",
      "10/20 [==============>...............] - ETA: 1:51 - loss: 0.8444 - acc: 0.8716\b\b\b\b\b\b\b\b\b\b\b\b\b\b\b\b\b\b\b\b\b\b\b\b\b\b\b\b\b\b\b\b\b\b\b\b\b\b\b\b\b\b\b\b\b\b\b\b\b\b\b\b\b\b\b\b\b\b\b\b\b\b\b\b\b\b\b\b\b\b\b\b\b\b\b\b\b\b\b\r",
      "11/20 [===============>..............] - ETA: 1:40 - loss: 0.8433 - acc: 0.8742\b\b\b\b\b\b\b\b\b\b\b\b\b\b\b\b\b\b\b\b\b\b\b\b\b\b\b\b\b\b\b\b\b\b\b\b\b\b\b\b\b\b\b\b\b\b\b\b\b\b\b\b\b\b\b\b\b\b\b\b\b\b\b\b\b\b\b\b\b\b\b\b\b\b\b\b\b\b\b\r",
      "12/20 [=================>............] - ETA: 1:29 - loss: 0.8499 - acc: 0.8697\b\b\b\b\b\b\b\b\b\b\b\b\b\b\b\b\b\b\b\b\b\b\b\b\b\b\b\b\b\b\b\b\b\b\b\b\b\b\b\b\b\b\b\b\b\b\b\b\b\b\b\b\b\b\b\b\b\b\b\b\b\b\b\b\b\b\b\b\b\b\b\b\b\b\b\b\b\b\b\r",
      "13/20 [==================>...........] - ETA: 1:17 - loss: 0.8430 - acc: 0.8736\b\b\b\b\b\b\b\b\b\b\b\b\b\b\b\b\b\b\b\b\b\b\b\b\b\b\b\b\b\b\b\b\b\b\b\b\b\b\b\b\b\b\b\b\b\b\b\b\b\b\b\b\b\b\b\b\b\b\b\b\b\b\b\b\b\b\b\b\b\b\b\b\b\b\b\b\b\b\b\r",
      "14/20 [====================>.........] - ETA: 1:06 - loss: 0.8391 - acc: 0.8754\b\b\b\b\b\b\b\b\b\b\b\b\b\b\b\b\b\b\b\b\b\b\b\b\b\b\b\b\b\b\b\b\b\b\b\b\b\b\b\b\b\b\b\b\b\b\b\b\b\b\b\b\b\b\b\b\b\b\b\b\b\b\b\b\b\b\b\b\b\b\b\b\b\b\b\b\b\b\b\r",
      "15/20 [=====================>........] - ETA: 54s - loss: 0.8333 - acc: 0.8757 \b\b\b\b\b\b\b\b\b\b\b\b\b\b\b\b\b\b\b\b\b\b\b\b\b\b\b\b\b\b\b\b\b\b\b\b\b\b\b\b\b\b\b\b\b\b\b\b\b\b\b\b\b\b\b\b\b\b\b\b\b\b\b\b\b\b\b\b\b\b\b\b\b\b\b\b\b\b\r",
      "16/20 [=======================>......] - ETA: 43s - loss: 0.8342 - acc: 0.8723\b\b\b\b\b\b\b\b\b\b\b\b\b\b\b\b\b\b\b\b\b\b\b\b\b\b\b\b\b\b\b\b\b\b\b\b\b\b\b\b\b\b\b\b\b\b\b\b\b\b\b\b\b\b\b\b\b\b\b\b\b\b\b\b\b\b\b\b\b\b\b\b\b\b\b\b\b\b\r",
      "17/20 [========================>.....] - ETA: 32s - loss: 0.8300 - acc: 0.8727\b\b\b\b\b\b\b\b\b\b\b\b\b\b\b\b\b\b\b\b\b\b\b\b\b\b\b\b\b\b\b\b\b\b\b\b\b\b\b\b\b\b\b\b\b\b\b\b\b\b\b\b\b\b\b\b\b\b\b\b\b\b\b\b\b\b\b\b\b\b\b\b\b\b\b\b\b\b\r",
      "18/20 [==========================>...] - ETA: 21s - loss: 0.8232 - acc: 0.8742\b\b\b\b\b\b\b\b\b\b\b\b\b\b\b\b\b\b\b\b\b\b\b\b\b\b\b\b\b\b\b\b\b\b\b\b\b\b\b\b\b\b\b\b\b\b\b\b\b\b\b\b\b\b\b\b\b\b\b\b\b\b\b\b\b\b\b\b\b\b\b\b\b\b\b\b\b\b\r",
      "19/20 [===========================>..] - ETA: 10s - loss: 0.8258 - acc: 0.8735\b\b\b\b\b\b\b\b\b\b\b\b\b\b\b\b\b\b\b\b\b\b\b\b\b\b\b\b\b\b\b\b\b\b\b\b\b\b\b\b\b\b\b\b\b\b\b\b\b\b\b\b\b\b\b\b\b\b\b\b\b\b\b\b\b\b\b\b\b\b\b\b\b\b\b\b\b\b\r",
      "20/20 [==============================] - 221s 11s/step - loss: 0.8206 - acc: 0.8768 - val_loss: 0.9195 - val_acc: 0.8500\n",
      "Epoch 6/50\n",
      "\r",
      " 1/20 [>.............................] - ETA: 3:14 - loss: 0.6793 - acc: 0.9200\b\b\b\b\b\b\b\b\b\b\b\b\b\b\b\b\b\b\b\b\b\b\b\b\b\b\b\b\b\b\b\b\b\b\b\b\b\b\b\b\b\b\b\b\b\b\b\b\b\b\b\b\b\b\b\b\b\b\b\b\b\b\b\b\b\b\b\b\b\b\b\b\b\b\b\b\b\b\b\r",
      " 2/20 [==>...........................] - ETA: 3:03 - loss: 0.7507 - acc: 0.9200\b\b\b\b\b\b\b\b\b\b\b\b\b\b\b\b\b\b\b\b\b\b\b\b\b\b\b\b\b\b\b\b\b\b\b\b\b\b\b\b\b\b\b\b\b\b\b\b\b\b\b\b\b\b\b\b\b\b\b\b\b\b\b\b\b\b\b\b\b\b\b\b\b\b\b\b\b\b\b\r",
      " 3/20 [===>..........................] - ETA: 2:53 - loss: 0.7675 - acc: 0.9133\b\b\b\b\b\b\b\b\b\b\b\b\b\b\b\b\b\b\b\b\b\b\b\b\b\b\b\b\b\b\b\b\b\b\b\b\b\b\b\b\b\b\b\b\b\b\b\b\b\b\b\b\b\b\b\b\b\b\b\b\b\b\b\b\b\b\b\b\b\b\b\b\b\b\b\b\b\b\b\r",
      " 4/20 [=====>........................] - ETA: 2:46 - loss: 0.7873 - acc: 0.8950\b\b\b\b\b\b\b\b\b\b\b\b\b\b\b\b\b\b\b\b\b\b\b\b\b\b\b\b\b\b\b\b\b\b\b\b\b\b\b\b\b\b\b\b\b\b\b\b\b\b\b\b\b\b\b\b\b\b\b\b\b\b\b\b\b\b\b\b\b\b\b\b\b\b\b\b\b\b\b\r",
      " 5/20 [======>.......................] - ETA: 2:56 - loss: 0.8022 - acc: 0.8862\b\b\b\b\b\b\b\b\b\b\b\b\b\b\b\b\b\b\b\b\b\b\b\b\b\b\b\b\b\b\b\b\b\b\b\b\b\b\b\b\b\b\b\b\b\b\b\b\b\b\b\b\b\b\b\b\b\b\b\b\b\b\b\b\b\b\b\b\b\b\b\b\b\b\b\b\b\b\b\r",
      " 6/20 [========>.....................] - ETA: 2:58 - loss: 0.8145 - acc: 0.8752\b\b\b\b\b\b\b\b\b\b\b\b\b\b\b\b\b\b\b\b\b\b\b\b\b\b\b\b\b\b\b\b\b\b\b\b\b\b\b\b\b\b\b\b\b\b\b\b\b\b\b\b\b\b\b\b\b\b\b\b\b\b\b\b\b\b\b\b\b\b\b\b\b\b\b\b\b\b\b\r",
      " 7/20 [=========>....................] - ETA: 2:46 - loss: 0.7937 - acc: 0.8873\b\b\b\b\b\b\b\b\b\b\b\b\b\b\b\b\b\b\b\b\b\b\b\b\b\b\b\b\b\b\b\b\b\b\b\b\b\b\b\b\b\b\b\b\b\b\b\b\b\b\b\b\b\b\b\b\b\b\b\b\b\b\b\b\b\b\b\b\b\b\b\b\b\b\b\b\b\b\b\r",
      " 8/20 [===========>..................] - ETA: 2:30 - loss: 0.7817 - acc: 0.8964\b\b\b\b\b\b\b\b\b\b\b\b\b\b\b\b\b\b\b\b\b\b\b\b\b\b\b\b\b\b\b\b\b\b\b\b\b\b\b\b\b\b\b\b\b\b\b\b\b\b\b\b\b\b\b\b\b\b\b\b\b\b\b\b\b\b\b\b\b\b\b\b\b\b\b\b\b\b\b\r",
      " 9/20 [============>.................] - ETA: 2:15 - loss: 0.7905 - acc: 0.8946\b\b\b\b\b\b\b\b\b\b\b\b\b\b\b\b\b\b\b\b\b\b\b\b\b\b\b\b\b\b\b\b\b\b\b\b\b\b\b\b\b\b\b\b\b\b\b\b\b\b\b\b\b\b\b\b\b\b\b\b\b\b\b\b\b\b\b\b\b\b\b\b\b\b\b\b\b\b\b\r",
      "10/20 [==============>...............] - ETA: 2:01 - loss: 0.7930 - acc: 0.8931\b\b\b\b\b\b\b\b\b\b\b\b\b\b\b\b\b\b\b\b\b\b\b\b\b\b\b\b\b\b\b\b\b\b\b\b\b\b\b\b\b\b\b\b\b\b\b\b\b\b\b\b\b\b\b\b\b\b\b\b\b\b\b\b\b\b\b\b\b\b\b\b\b\b\b\b\b\b\b\r",
      "11/20 [===============>..............] - ETA: 1:47 - loss: 0.7941 - acc: 0.8901\b\b\b\b\b\b\b\b\b\b\b\b\b\b\b\b\b\b\b\b\b\b\b\b\b\b\b\b\b\b\b\b\b\b\b\b\b\b\b\b\b\b\b\b\b\b\b\b\b\b\b\b\b\b\b\b\b\b\b\b\b\b\b\b\b\b\b\b\b\b\b\b\b\b\b\b\b\b\b\r",
      "12/20 [=================>............] - ETA: 1:34 - loss: 0.7962 - acc: 0.8909\b\b\b\b\b\b\b\b\b\b\b\b\b\b\b\b\b\b\b\b\b\b\b\b\b\b\b\b\b\b\b\b\b\b\b\b\b\b\b\b\b\b\b\b\b\b\b\b\b\b\b\b\b\b\b\b\b\b\b\b\b\b\b\b\b\b\b\b\b\b\b\b\b\b\b\b\b\b\b\r",
      "13/20 [==================>...........] - ETA: 1:21 - loss: 0.8015 - acc: 0.8932\b\b\b\b\b\b\b\b\b\b\b\b\b\b\b\b\b\b\b\b\b\b\b\b\b\b\b\b\b\b\b\b\b\b\b\b\b\b\b\b\b\b\b\b\b\b\b\b\b\b\b\b\b\b\b\b\b\b\b\b\b\b\b\b\b\b\b\b\b\b\b\b\b\b\b\b\b\b\b\r",
      "14/20 [====================>.........] - ETA: 1:09 - loss: 0.8064 - acc: 0.8894\b\b\b\b\b\b\b\b\b\b\b\b\b\b\b\b\b\b\b\b\b\b\b\b\b\b\b\b\b\b\b\b\b\b\b\b\b\b\b\b\b\b\b\b\b\b\b\b\b\b\b\b\b\b\b\b\b\b\b\b\b\b\b\b\b\b\b\b\b\b\b\b\b\b\b\b\b\b\b\r",
      "15/20 [=====================>........] - ETA: 57s - loss: 0.8042 - acc: 0.8914 \b\b\b\b\b\b\b\b\b\b\b\b\b\b\b\b\b\b\b\b\b\b\b\b\b\b\b\b\b\b\b\b\b\b\b\b\b\b\b\b\b\b\b\b\b\b\b\b\b\b\b\b\b\b\b\b\b\b\b\b\b\b\b\b\b\b\b\b\b\b\b\b\b\b\b\b\b\b\r",
      "16/20 [=======================>......] - ETA: 45s - loss: 0.8131 - acc: 0.8869\b\b\b\b\b\b\b\b\b\b\b\b\b\b\b\b\b\b\b\b\b\b\b\b\b\b\b\b\b\b\b\b\b\b\b\b\b\b\b\b\b\b\b\b\b\b\b\b\b\b\b\b\b\b\b\b\b\b\b\b\b\b\b\b\b\b\b\b\b\b\b\b\b\b\b\b\b\b\r",
      "17/20 [========================>.....] - ETA: 34s - loss: 0.8133 - acc: 0.8830\b\b\b\b\b\b\b\b\b\b\b\b\b\b\b\b\b\b\b\b\b\b\b\b\b\b\b\b\b\b\b\b\b\b\b\b\b\b\b\b\b\b\b\b\b\b\b\b\b\b\b\b\b\b\b\b\b\b\b\b\b\b\b\b\b\b\b\b\b\b\b\b\b\b\b\b\b\b\r",
      "18/20 [==========================>...] - ETA: 22s - loss: 0.8181 - acc: 0.8806\b\b\b\b\b\b\b\b\b\b\b\b\b\b\b\b\b\b\b\b\b\b\b\b\b\b\b\b\b\b\b\b\b\b\b\b\b\b\b\b\b\b\b\b\b\b\b\b\b\b\b\b\b\b\b\b\b\b\b\b\b\b\b\b\b\b\b\b\b\b\b\b\b\b\b\b\b\b\r",
      "19/20 [===========================>..] - ETA: 11s - loss: 0.8193 - acc: 0.8785\b\b\b\b\b\b\b\b\b\b\b\b\b\b\b\b\b\b\b\b\b\b\b\b\b\b\b\b\b\b\b\b\b\b\b\b\b\b\b\b\b\b\b\b\b\b\b\b\b\b\b\b\b\b\b\b\b\b\b\b\b\b\b\b\b\b\b\b\b\b\b\b\b\b\b\b\b\b\r",
      "20/20 [==============================] - 230s 11s/step - loss: 0.8158 - acc: 0.8826 - val_loss: 0.8338 - val_acc: 0.9100\n",
      "Epoch 7/50\n",
      "\r",
      " 1/20 [>.............................] - ETA: 3:17 - loss: 0.9445 - acc: 0.8400\b\b\b\b\b\b\b\b\b\b\b\b\b\b\b\b\b\b\b\b\b\b\b\b\b\b\b\b\b\b\b\b\b\b\b\b\b\b\b\b\b\b\b\b\b\b\b\b\b\b\b\b\b\b\b\b\b\b\b\b\b\b\b\b\b\b\b\b\b\b\b\b\b\b\b\b\b\b\b\r",
      " 2/20 [==>...........................] - ETA: 3:04 - loss: 0.8463 - acc: 0.9000\b\b\b\b\b\b\b\b\b\b\b\b\b\b\b\b\b\b\b\b\b\b\b\b\b\b\b\b\b\b\b\b\b\b\b\b\b\b\b\b\b\b\b\b\b\b\b\b\b\b\b\b\b\b\b\b\b\b\b\b\b\b\b\b\b\b\b\b\b\b\b\b\b\b\b\b\b\b\b\r",
      " 3/20 [===>..........................] - ETA: 2:54 - loss: 0.8176 - acc: 0.9000\b\b\b\b\b\b\b\b\b\b\b\b\b\b\b\b\b\b\b\b\b\b\b\b\b\b\b\b\b\b\b\b\b\b\b\b\b\b\b\b\b\b\b\b\b\b\b\b\b\b\b\b\b\b\b\b\b\b\b\b\b\b\b\b\b\b\b\b\b\b\b\b\b\b\b\b\b\b\b\r",
      " 4/20 [=====>........................] - ETA: 2:44 - loss: 0.7907 - acc: 0.9200\b\b\b\b\b\b\b\b\b\b\b\b\b\b\b\b\b\b\b\b\b\b\b\b\b\b\b\b\b\b\b\b\b\b\b\b\b\b\b\b\b\b\b\b\b\b\b\b\b\b\b\b\b\b\b\b\b\b\b\b\b\b\b\b\b\b\b\b\b\b\b\b\b\b\b\b\b\b\b\r",
      " 5/20 [======>.......................] - ETA: 2:34 - loss: 0.7890 - acc: 0.9240\b\b\b\b\b\b\b\b\b\b\b\b\b\b\b\b\b\b\b\b\b\b\b\b\b\b\b\b\b\b\b\b\b\b\b\b\b\b\b\b\b\b\b\b\b\b\b\b\b\b\b\b\b\b\b\b\b\b\b\b\b\b\b\b\b\b\b\b\b\b\b\b\b\b\b\b\b\b\b\r",
      " 6/20 [========>.....................] - ETA: 2:22 - loss: 0.7957 - acc: 0.9083\b\b\b\b\b\b\b\b\b\b\b\b\b\b\b\b\b\b\b\b\b\b\b\b\b\b\b\b\b\b\b\b\b\b\b\b\b\b\b\b\b\b\b\b\b\b\b\b\b\b\b\b\b\b\b\b\b\b\b\b\b\b\b\b\b\b\b\b\b\b\b\b\b\b\b\b\b\b\b\r",
      " 7/20 [=========>....................] - ETA: 2:13 - loss: 0.7946 - acc: 0.9043\b\b\b\b\b\b\b\b\b\b\b\b\b\b\b\b\b\b\b\b\b\b\b\b\b\b\b\b\b\b\b\b\b\b\b\b\b\b\b\b\b\b\b\b\b\b\b\b\b\b\b\b\b\b\b\b\b\b\b\b\b\b\b\b\b\b\b\b\b\b\b\b\b\b\b\b\b\b\n"
     ]
    }
   ],
   "source": [
    "print(file_out[:20000])"
   ]
  },
  {
   "cell_type": "code",
   "execution_count": 58,
   "metadata": {},
   "outputs": [
    {
     "name": "stdout",
     "output_type": "stream",
     "text": [
      "evaluating network...\n"
     ]
    }
   ],
   "source": [
    "# reset the testing generator and then use our trained model to make predictions on the data\n",
    "print(\"evaluating network...\")\n",
    "testing_generator.reset()\n",
    "predict_X_id = model.predict_generator(testing_generator,steps=(test_images // batch_size) + 1)"
   ]
  },
  {
   "cell_type": "markdown",
   "metadata": {},
   "source": [
    "Results look pretty good, I'm not sure I can get better than this. There is a possibility I could have some overfitting to my data; a common and notorious problem with neural networks."
   ]
  },
  {
   "cell_type": "code",
   "execution_count": 59,
   "metadata": {},
   "outputs": [
    {
     "name": "stdout",
     "output_type": "stream",
     "text": [
      "             precision    recall  f1-score   support\n",
      "\n",
      "      cases       0.92      0.95      0.94       100\n",
      "   controls       0.97      0.95      0.96       151\n",
      "\n",
      "avg / total       0.95      0.95      0.95       251\n",
      "\n"
     ]
    }
   ],
   "source": [
    "# for each image in the testing set we need to find the index of the label with corresponding largest predicted probability\n",
    "predict_X_id = np.argmax(predict_X_id, axis=1)\n",
    "\n",
    "# show a nicely formatted classification report\n",
    "print(classification_report(testing_generator.classes, predict_X_id,target_names=testing_generator.class_indices.keys()))"
   ]
  },
  {
   "cell_type": "code",
   "execution_count": 60,
   "metadata": {},
   "outputs": [
    {
     "data": {
      "text/html": [
       "        <script type=\"text/javascript\">\n",
       "        window.PlotlyConfig = {MathJaxConfig: 'local'};\n",
       "        if (window.MathJax) {MathJax.Hub.Config({SVG: {font: \"STIX-Web\"}});}\n",
       "        if (typeof require !== 'undefined') {\n",
       "        require.undef(\"plotly\");\n",
       "        requirejs.config({\n",
       "            paths: {\n",
       "                'plotly': ['https://cdn.plot.ly/plotly-latest.min']\n",
       "            }\n",
       "        });\n",
       "        require(['plotly'], function(Plotly) {\n",
       "            window._Plotly = Plotly;\n",
       "        });\n",
       "        }\n",
       "        </script>\n",
       "        "
      ]
     },
     "metadata": {},
     "output_type": "display_data"
    }
   ],
   "source": [
    "import plotly.offline as py\n",
    "import plotly.graph_objs as go\n",
    "py.init_notebook_mode(connected=True)\n",
    "%matplotlib inline"
   ]
  },
  {
   "cell_type": "code",
   "execution_count": 61,
   "metadata": {},
   "outputs": [
    {
     "data": {
      "application/vnd.plotly.v1+json": {
       "config": {
        "linkText": "Export to plot.ly",
        "plotlyServerURL": "https://plot.ly",
        "responsive": true,
        "showLink": false
       },
       "data": [
        {
         "line": {
          "color": "#f4a582"
         },
         "name": "Validation Loss",
         "opacity": 0.9,
         "type": "scatter",
         "uid": "9860ad9c-99a9-480c-94f6-f33ec6fc078a",
         "x": [
          0,
          1,
          2,
          3,
          4,
          5,
          6,
          7,
          8,
          9,
          10,
          11,
          12,
          13,
          14,
          15,
          16,
          17,
          18,
          19,
          20,
          21,
          22,
          23,
          24,
          25,
          26,
          27,
          28,
          29,
          30,
          31,
          32,
          33,
          34,
          35,
          36,
          37,
          38,
          39,
          40,
          41,
          42,
          43,
          44,
          45,
          46,
          47,
          48,
          49
         ],
         "y": [
          1.7219736278057098,
          0.882481187582016,
          0.8737146854400635,
          0.8389248549938202,
          0.919467568397522,
          0.8337960839271545,
          0.7590783834457397,
          0.7677766680717468,
          0.7808932065963745,
          0.7634244561195374,
          0.7625648975372314,
          0.7053812742233276,
          0.8612248003482819,
          0.7667357325553894,
          0.6958763301372528,
          0.7206305861473083,
          0.7485826313495636,
          0.7389180064201355,
          0.6860410571098328,
          0.6563488245010376,
          0.790966808795929,
          0.689958930015564,
          0.6234580278396606,
          0.6259550154209137,
          0.6545686423778534,
          0.6394774913787842,
          0.6593663990497589,
          0.7536340355873108,
          0.5954393744468689,
          0.6008201837539673,
          0.6415084898471832,
          0.6054041087627411,
          0.6487099826335907,
          0.6014086604118347,
          0.6197691857814789,
          0.6459885239601135,
          0.5970617830753326,
          0.5947703123092651,
          0.5977584421634674,
          0.6154159903526306,
          0.6041785478591919,
          0.58570596575737,
          0.5851612687110901,
          0.6100286245346069,
          0.5930298268795013,
          0.6118464469909668,
          0.6009540855884552,
          0.6074184775352478,
          0.6077550649642944,
          0.6031391322612762
         ]
        },
        {
         "line": {
          "color": "#ca0020"
         },
         "name": "Validation Accuracy",
         "opacity": 0.9,
         "type": "scatter",
         "uid": "b1329ba2-93a8-4b88-a274-4e08ba0fb9e1",
         "x": [
          0,
          1,
          2,
          3,
          4,
          5,
          6,
          7,
          8,
          9,
          10,
          11,
          12,
          13,
          14,
          15,
          16,
          17,
          18,
          19,
          20,
          21,
          22,
          23,
          24,
          25,
          26,
          27,
          28,
          29,
          30,
          31,
          32,
          33,
          34,
          35,
          36,
          37,
          38,
          39,
          40,
          41,
          42,
          43,
          44,
          45,
          46,
          47,
          48,
          49
         ],
         "y": [
          0.7199999839067459,
          0.8400000035762787,
          0.8199999928474426,
          0.8799999952316284,
          0.8499999940395355,
          0.9099999964237213,
          0.9099999964237213,
          0.9399999976158142,
          0.8700000047683716,
          0.8799999952316284,
          0.9000000059604645,
          0.9399999976158142,
          0.8600000143051147,
          0.9300000071525574,
          0.949999988079071,
          0.8999999761581421,
          0.8599999845027924,
          0.949999988079071,
          0.949999988079071,
          0.949999988079071,
          0.8599999845027924,
          0.9500000178813934,
          0.9699999988079071,
          0.9800000190734863,
          0.9300000071525574,
          0.9599999785423279,
          0.9600000083446503,
          0.8899999856948853,
          0.9799999892711639,
          0.9800000190734863,
          0.9599999785423279,
          0.9800000190734863,
          0.9300000071525574,
          0.9699999988079071,
          0.9699999988079071,
          0.9399999976158142,
          0.9800000190734863,
          0.9800000190734863,
          0.9800000190734863,
          0.9799999892711639,
          0.9699999988079071,
          0.9699999988079071,
          0.9900000095367432,
          0.949999988079071,
          0.9600000083446503,
          0.9699999988079071,
          0.9699999988079071,
          0.9799999892711639,
          0.9699999988079071,
          0.9799999892711639
         ]
        },
        {
         "line": {
          "color": "#92c5de"
         },
         "name": "Predicted Loss",
         "opacity": 0.9,
         "type": "scatter",
         "uid": "bc0f3f76-5500-4c0b-a051-c36050d64cc8",
         "x": [
          0,
          1,
          2,
          3,
          4,
          5,
          6,
          7,
          8,
          9,
          10,
          11,
          12,
          13,
          14,
          15,
          16,
          17,
          18,
          19,
          20,
          21,
          22,
          23,
          24,
          25,
          26,
          27,
          28,
          29,
          30,
          31,
          32,
          33,
          34,
          35,
          36,
          37,
          38,
          39,
          40,
          41,
          42,
          43,
          44,
          45,
          46,
          47,
          48,
          49
         ],
         "y": [
          1.0275802463293076,
          0.8689677818727828,
          0.8273392133751031,
          0.8165576791571997,
          0.8206869131225043,
          0.8156490201577021,
          0.76517849311666,
          0.74697955441451,
          0.7466138278469518,
          0.7439227854476171,
          0.7781079077314111,
          0.7250184148340789,
          0.7399013952362382,
          0.7110904515566773,
          0.74807426970127,
          0.698963498818121,
          0.7153722062153945,
          0.7055197925481538,
          0.7074377869770544,
          0.6858695102192335,
          0.683400164695537,
          0.6792432010173798,
          0.6817680642143296,
          0.6570545257393312,
          0.6370263745935415,
          0.6862031305685206,
          0.6565982668306548,
          0.6304095869317815,
          0.6422126946621458,
          0.6410523236933778,
          0.6252082656235728,
          0.6483179477894437,
          0.640821413565782,
          0.6444691774120541,
          0.6591874064509584,
          0.6150439826990202,
          0.6142914830861145,
          0.6201503373675026,
          0.6325122290771966,
          0.597640537809106,
          0.6008161140779554,
          0.6097706783499378,
          0.5904516160488129,
          0.5912986612367773,
          0.589722251880133,
          0.5939338725572125,
          0.5743225556438641,
          0.5906171369456958,
          0.5750689497563162,
          0.5962044856134604
         ]
        },
        {
         "line": {
          "color": "#0571b0"
         },
         "name": "Predicted Accuracy",
         "opacity": 0.9,
         "type": "scatter",
         "uid": "be715b38-9cab-49c7-9f3c-13d1b058dad0",
         "x": [
          0,
          1,
          2,
          3,
          4,
          5,
          6,
          7,
          8,
          9,
          10,
          11,
          12,
          13,
          14,
          15,
          16,
          17,
          18,
          19,
          20,
          21,
          22,
          23,
          24,
          25,
          26,
          27,
          28,
          29,
          30,
          31,
          32,
          33,
          34,
          35,
          36,
          37,
          38,
          39,
          40,
          41,
          42,
          43,
          44,
          45,
          46,
          47,
          48,
          49
         ],
         "y": [
          0.7539999917149544,
          0.8455366077968326,
          0.8786359056905136,
          0.8866599770701876,
          0.8766298822557914,
          0.8826479362987109,
          0.9077231641279658,
          0.9187562695238273,
          0.908726173872455,
          0.9107321925244575,
          0.9017051100850464,
          0.9227682991754805,
          0.9177532554748903,
          0.9317953877128593,
          0.9117352022689468,
          0.934804414794103,
          0.9307923718704024,
          0.9408224641738708,
          0.934804415272375,
          0.9428284798366734,
          0.9358074199950085,
          0.9429999887943268,
          0.9358074208319844,
          0.9528585750097736,
          0.960882656672295,
          0.9388164462392763,
          0.9538615852325347,
          0.9598796404711342,
          0.9538615784171591,
          0.9608826417262958,
          0.9658976970249815,
          0.9498495401566103,
          0.9548645911508482,
          0.9598796319818066,
          0.9508525601839469,
          0.9709127373776679,
          0.9719157565680286,
          0.966900702106319,
          0.9618856514707851,
          0.9799398202953511,
          0.9739217662524317,
          0.9679037114921042,
          0.9789999991655349,
          0.9749247713337691,
          0.9779338015237806,
          0.9759277935133296,
          0.9859578720664787,
          0.9749247675075933,
          0.9849548639959413,
          0.9709127373776679
         ]
        }
       ],
       "layout": {
        "title": {
         "text": "Training Loss and Accuracy <br> Classifying Retinal Images."
        },
        "xaxis": {
         "tickangle": 0,
         "ticks": "",
         "title": {
          "text": "Number of Epochs"
         }
        },
        "yaxis": {
         "showgrid": true,
         "showticklabels": true,
         "ticks": "",
         "title": {
          "font": {
           "family": "Arial, sans-serif",
           "size": 18
          },
          "text": "Loss/Accuracy</b>"
         }
        }
       }
      },
      "text/html": [
       "<div>\n",
       "        \n",
       "        \n",
       "            <div id=\"a19f2b04-05f0-46ef-8dab-6ce8fe808440\" class=\"plotly-graph-div\" style=\"height:525px; width:100%;\"></div>\n",
       "            <script type=\"text/javascript\">\n",
       "                require([\"plotly\"], function(Plotly) {\n",
       "                    window.PLOTLYENV=window.PLOTLYENV || {};\n",
       "                    window.PLOTLYENV.BASE_URL='https://plot.ly';\n",
       "                    \n",
       "                if (document.getElementById(\"a19f2b04-05f0-46ef-8dab-6ce8fe808440\")) {\n",
       "                    Plotly.newPlot(\n",
       "                        'a19f2b04-05f0-46ef-8dab-6ce8fe808440',\n",
       "                        [{\"line\": {\"color\": \"#f4a582\"}, \"name\": \"Validation Loss\", \"opacity\": 0.9, \"type\": \"scatter\", \"uid\": \"ffdeb013-750e-46d4-8462-5d20607a50bb\", \"x\": [0, 1, 2, 3, 4, 5, 6, 7, 8, 9, 10, 11, 12, 13, 14, 15, 16, 17, 18, 19, 20, 21, 22, 23, 24, 25, 26, 27, 28, 29, 30, 31, 32, 33, 34, 35, 36, 37, 38, 39, 40, 41, 42, 43, 44, 45, 46, 47, 48, 49], \"y\": [1.7219736278057098, 0.882481187582016, 0.8737146854400635, 0.8389248549938202, 0.919467568397522, 0.8337960839271545, 0.7590783834457397, 0.7677766680717468, 0.7808932065963745, 0.7634244561195374, 0.7625648975372314, 0.7053812742233276, 0.8612248003482819, 0.7667357325553894, 0.6958763301372528, 0.7206305861473083, 0.7485826313495636, 0.7389180064201355, 0.6860410571098328, 0.6563488245010376, 0.790966808795929, 0.689958930015564, 0.6234580278396606, 0.6259550154209137, 0.6545686423778534, 0.6394774913787842, 0.6593663990497589, 0.7536340355873108, 0.5954393744468689, 0.6008201837539673, 0.6415084898471832, 0.6054041087627411, 0.6487099826335907, 0.6014086604118347, 0.6197691857814789, 0.6459885239601135, 0.5970617830753326, 0.5947703123092651, 0.5977584421634674, 0.6154159903526306, 0.6041785478591919, 0.58570596575737, 0.5851612687110901, 0.6100286245346069, 0.5930298268795013, 0.6118464469909668, 0.6009540855884552, 0.6074184775352478, 0.6077550649642944, 0.6031391322612762]}, {\"line\": {\"color\": \"#ca0020\"}, \"name\": \"Validation Accuracy\", \"opacity\": 0.9, \"type\": \"scatter\", \"uid\": \"0ea48591-99ba-4665-9c37-292083c2b49a\", \"x\": [0, 1, 2, 3, 4, 5, 6, 7, 8, 9, 10, 11, 12, 13, 14, 15, 16, 17, 18, 19, 20, 21, 22, 23, 24, 25, 26, 27, 28, 29, 30, 31, 32, 33, 34, 35, 36, 37, 38, 39, 40, 41, 42, 43, 44, 45, 46, 47, 48, 49], \"y\": [0.7199999839067459, 0.8400000035762787, 0.8199999928474426, 0.8799999952316284, 0.8499999940395355, 0.9099999964237213, 0.9099999964237213, 0.9399999976158142, 0.8700000047683716, 0.8799999952316284, 0.9000000059604645, 0.9399999976158142, 0.8600000143051147, 0.9300000071525574, 0.949999988079071, 0.8999999761581421, 0.8599999845027924, 0.949999988079071, 0.949999988079071, 0.949999988079071, 0.8599999845027924, 0.9500000178813934, 0.9699999988079071, 0.9800000190734863, 0.9300000071525574, 0.9599999785423279, 0.9600000083446503, 0.8899999856948853, 0.9799999892711639, 0.9800000190734863, 0.9599999785423279, 0.9800000190734863, 0.9300000071525574, 0.9699999988079071, 0.9699999988079071, 0.9399999976158142, 0.9800000190734863, 0.9800000190734863, 0.9800000190734863, 0.9799999892711639, 0.9699999988079071, 0.9699999988079071, 0.9900000095367432, 0.949999988079071, 0.9600000083446503, 0.9699999988079071, 0.9699999988079071, 0.9799999892711639, 0.9699999988079071, 0.9799999892711639]}, {\"line\": {\"color\": \"#92c5de\"}, \"name\": \"Predicted Loss\", \"opacity\": 0.9, \"type\": \"scatter\", \"uid\": \"b7a76b42-5f1b-479b-ba00-baff458bdb31\", \"x\": [0, 1, 2, 3, 4, 5, 6, 7, 8, 9, 10, 11, 12, 13, 14, 15, 16, 17, 18, 19, 20, 21, 22, 23, 24, 25, 26, 27, 28, 29, 30, 31, 32, 33, 34, 35, 36, 37, 38, 39, 40, 41, 42, 43, 44, 45, 46, 47, 48, 49], \"y\": [1.0275802463293076, 0.8689677818727828, 0.8273392133751031, 0.8165576791571997, 0.8206869131225043, 0.8156490201577021, 0.76517849311666, 0.74697955441451, 0.7466138278469518, 0.7439227854476171, 0.7781079077314111, 0.7250184148340789, 0.7399013952362382, 0.7110904515566773, 0.74807426970127, 0.698963498818121, 0.7153722062153945, 0.7055197925481538, 0.7074377869770544, 0.6858695102192335, 0.683400164695537, 0.6792432010173798, 0.6817680642143296, 0.6570545257393312, 0.6370263745935415, 0.6862031305685206, 0.6565982668306548, 0.6304095869317815, 0.6422126946621458, 0.6410523236933778, 0.6252082656235728, 0.6483179477894437, 0.640821413565782, 0.6444691774120541, 0.6591874064509584, 0.6150439826990202, 0.6142914830861145, 0.6201503373675026, 0.6325122290771966, 0.597640537809106, 0.6008161140779554, 0.6097706783499378, 0.5904516160488129, 0.5912986612367773, 0.589722251880133, 0.5939338725572125, 0.5743225556438641, 0.5906171369456958, 0.5750689497563162, 0.5962044856134604]}, {\"line\": {\"color\": \"#0571b0\"}, \"name\": \"Predicted Accuracy\", \"opacity\": 0.9, \"type\": \"scatter\", \"uid\": \"ecfb06c9-8910-44bb-9270-68c10b89114b\", \"x\": [0, 1, 2, 3, 4, 5, 6, 7, 8, 9, 10, 11, 12, 13, 14, 15, 16, 17, 18, 19, 20, 21, 22, 23, 24, 25, 26, 27, 28, 29, 30, 31, 32, 33, 34, 35, 36, 37, 38, 39, 40, 41, 42, 43, 44, 45, 46, 47, 48, 49], \"y\": [0.7539999917149544, 0.8455366077968326, 0.8786359056905136, 0.8866599770701876, 0.8766298822557914, 0.8826479362987109, 0.9077231641279658, 0.9187562695238273, 0.908726173872455, 0.9107321925244575, 0.9017051100850464, 0.9227682991754805, 0.9177532554748903, 0.9317953877128593, 0.9117352022689468, 0.934804414794103, 0.9307923718704024, 0.9408224641738708, 0.934804415272375, 0.9428284798366734, 0.9358074199950085, 0.9429999887943268, 0.9358074208319844, 0.9528585750097736, 0.960882656672295, 0.9388164462392763, 0.9538615852325347, 0.9598796404711342, 0.9538615784171591, 0.9608826417262958, 0.9658976970249815, 0.9498495401566103, 0.9548645911508482, 0.9598796319818066, 0.9508525601839469, 0.9709127373776679, 0.9719157565680286, 0.966900702106319, 0.9618856514707851, 0.9799398202953511, 0.9739217662524317, 0.9679037114921042, 0.9789999991655349, 0.9749247713337691, 0.9779338015237806, 0.9759277935133296, 0.9859578720664787, 0.9749247675075933, 0.9849548639959413, 0.9709127373776679]}],\n",
       "                        {\"title\": {\"text\": \"Training Loss and Accuracy <br> Classifying Retinal Images.\"}, \"xaxis\": {\"tickangle\": 0, \"ticks\": \"\", \"title\": {\"text\": \"Number of Epochs\"}}, \"yaxis\": {\"showgrid\": true, \"showticklabels\": true, \"ticks\": \"\", \"title\": {\"font\": {\"family\": \"Arial, sans-serif\", \"size\": 18}, \"text\": \"Loss/Accuracy</b>\"}}},\n",
       "                        {\"showLink\": false, \"linkText\": \"Export to plot.ly\", \"plotlyServerURL\": \"https://plot.ly\", \"responsive\": true}\n",
       "                    ).then(function(){\n",
       "                            \n",
       "var gd = document.getElementById('a19f2b04-05f0-46ef-8dab-6ce8fe808440');\n",
       "var x = new MutationObserver(function (mutations, observer) {{\n",
       "        var display = window.getComputedStyle(gd).display;\n",
       "        if (!display || display === 'none') {{\n",
       "            console.log([gd, 'removed!']);\n",
       "            Plotly.purge(gd);\n",
       "            observer.disconnect();\n",
       "        }}\n",
       "}});\n",
       "\n",
       "// Listen for the removal of the full notebook cells\n",
       "var notebookContainer = gd.closest('#notebook-container');\n",
       "if (notebookContainer) {{\n",
       "    x.observe(notebookContainer, {childList: true});\n",
       "}}\n",
       "\n",
       "// Listen for the clearing of the current output cell\n",
       "var outputEl = gd.closest('.output');\n",
       "if (outputEl) {{\n",
       "    x.observe(outputEl, {childList: true});\n",
       "}}\n",
       "\n",
       "                        })\n",
       "                };\n",
       "                });\n",
       "            </script>\n",
       "        </div>"
      ]
     },
     "metadata": {},
     "output_type": "display_data"
    }
   ],
   "source": [
    "N = epochs_num #Number of epochs in training\n",
    "\n",
    "val_loss = go.Scatter(x=np.arange(0, N),y=H.history['val_loss'],\n",
    "                name = \"Validation Loss\",line = dict(color = '#f4a582'),opacity = 0.9)\n",
    "\n",
    "val_acc = go.Scatter(x=np.arange(0, N),y=H.history['val_acc'],\n",
    "                name = \"Validation Accuracy\",line = dict(color = '#ca0020'),opacity = 0.9)\n",
    "\n",
    "loss = go.Scatter(x=np.arange(0, N),y=H.history['loss'],\n",
    "                name = \"Predicted Loss\",line = dict(color = '#92c5de'),opacity = 0.9)\n",
    "\n",
    "acc = go.Scatter(x=np.arange(0, N),y=H.history['acc'],name = \"Predicted Accuracy\",\n",
    "                line = dict(color = '#0571b0'),opacity = 0.9)\n",
    "\n",
    "data = [val_loss,val_acc,loss,acc]\n",
    "\n",
    "\n",
    "layout = go.Layout(title='Training Loss and Accuracy <br> Classifying Retinal Images.',\n",
    "                yaxis=dict(title='Loss/Accuracy</b>',ticks='',showticklabels=True,showgrid=True,\n",
    "                titlefont=dict(family='Arial, sans-serif',size=18))\n",
    "                ,xaxis=dict(title='Number of Epochs',ticks='',tickangle=0))\n",
    "\n",
    "fig = dict(data=data, layout=layout)\n",
    "py.iplot(fig, filename = \"Training Loss and Accuracy on Dataset\")"
   ]
  },
  {
   "cell_type": "code",
   "execution_count": null,
   "metadata": {},
   "outputs": [],
   "source": []
  },
  {
   "cell_type": "code",
   "execution_count": null,
   "metadata": {},
   "outputs": [],
   "source": []
  },
  {
   "cell_type": "code",
   "execution_count": null,
   "metadata": {},
   "outputs": [],
   "source": []
  }
 ],
 "metadata": {
  "kernelspec": {
   "display_name": "Python 3",
   "language": "python",
   "name": "python3"
  },
  "language_info": {
   "codemirror_mode": {
    "name": "ipython",
    "version": 3
   },
   "file_extension": ".py",
   "mimetype": "text/x-python",
   "name": "python",
   "nbconvert_exporter": "python",
   "pygments_lexer": "ipython3",
   "version": "3.6.5"
  }
 },
 "nbformat": 4,
 "nbformat_minor": 2
}
